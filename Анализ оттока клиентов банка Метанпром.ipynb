{
 "cells": [
  {
   "cell_type": "markdown",
   "id": "9d6eed51",
   "metadata": {},
   "source": [
    "# <p style=\"text-align: center;\"> Анализ оттока клиентов банка \"Метанпром\"</p>"
   ]
  },
  {
   "cell_type": "markdown",
   "id": "409d84ae",
   "metadata": {},
   "source": [
    "Отдел маркетинга банка \"Метанпром\" обратился с запросом на выявление сегментов клиентов, склонных к уходу из банка, чтобы на основе сегментации применить рекомендации по удержанию клиентов и получить результаты в кракткосрочном периоде."
   ]
  },
  {
   "cell_type": "markdown",
   "id": "067ad0dd",
   "metadata": {},
   "source": [
    "**Цель проекта:**  подготовка рекомендаций для отдела маркетинга на основе анализа оттока клиентов банка."
   ]
  },
  {
   "cell_type": "markdown",
   "id": "25854666",
   "metadata": {},
   "source": [
    "**Задачи проекта:** \n",
    "1. Изучение данных:    \n",
    "    1.1. Найти корреляции;    \n",
    "    1.2. Сформировать портреты клиентов, которые склонны и не склонны уходить из банка;\n",
    "2. Сформулировать и проверить статистические гипотезы;    \n",
    "3. Обобщить признаки отточности, сформулировать сегменты и отобрать из них лучшие;\n",
    "4. Сформулировать рекомендации для отдела маркетинга."
   ]
  },
  {
   "cell_type": "markdown",
   "id": "fe628240",
   "metadata": {},
   "source": [
    "# Описание датасета"
   ]
  },
  {
   "cell_type": "markdown",
   "id": "0281412b",
   "metadata": {},
   "source": [
    "Датасет содержит данные о клиентах банка «Метанпром». Банк располагается в\n",
    "Ярославле и областных городах: Ростов Великий и Рыбинск.\n",
    "Колонки:\n",
    "* `USERID` — идентификатор пользователя,\n",
    "* `score` — баллы кредитного скоринга,\n",
    "* `city` — город,\n",
    "* `gender` — пол,\n",
    "* `age` — возраст,\n",
    "* `equity` — количество баллов собственности\n",
    "* `balance` — баланс на счёте,\n",
    "* `products` — количество продуктов, которыми пользуется клиент,\n",
    "* `credit_card` — есть ли кредитная карта,\n",
    "* `last_activity` — активный клиент,\n",
    "* `EST_SALARY` — оценочный доход клиента,\n",
    "* `сhurn` — признак оттока."
   ]
  },
  {
   "cell_type": "markdown",
   "id": "c2607be0",
   "metadata": {},
   "source": [
    "# Часть 1 - Загрузка и предобработка данных"
   ]
  },
  {
   "cell_type": "code",
   "execution_count": 1,
   "id": "a794f81c",
   "metadata": {},
   "outputs": [],
   "source": [
    "# загружаем необходимые библиотеки\n",
    "\n",
    "import pandas as pd\n",
    "import numpy as np\n",
    "import seaborn as sns\n",
    "import matplotlib.pyplot as plt\n",
    "from scipy import stats as st\n",
    "import itertools\n",
    "from statsmodels.stats.proportion import proportions_ztest"
   ]
  },
  {
   "cell_type": "code",
   "execution_count": 2,
   "id": "9c93d053",
   "metadata": {},
   "outputs": [],
   "source": [
    "try:\n",
    "    df = pd.read_csv('/datasets/bank_scrooge.csv')\n",
    "except:\n",
    "    df = pd.read_csv('https://code.s3.yandex.net/datasets/bank_scrooge.csv')"
   ]
  },
  {
   "cell_type": "code",
   "execution_count": 3,
   "id": "cae1798b",
   "metadata": {},
   "outputs": [
    {
     "data": {
      "text/html": [
       "<div>\n",
       "<style scoped>\n",
       "    .dataframe tbody tr th:only-of-type {\n",
       "        vertical-align: middle;\n",
       "    }\n",
       "\n",
       "    .dataframe tbody tr th {\n",
       "        vertical-align: top;\n",
       "    }\n",
       "\n",
       "    .dataframe thead th {\n",
       "        text-align: right;\n",
       "    }\n",
       "</style>\n",
       "<table border=\"1\" class=\"dataframe\">\n",
       "  <thead>\n",
       "    <tr style=\"text-align: right;\">\n",
       "      <th></th>\n",
       "      <th>USERID</th>\n",
       "      <th>score</th>\n",
       "      <th>city</th>\n",
       "      <th>gender</th>\n",
       "      <th>age</th>\n",
       "      <th>equity</th>\n",
       "      <th>balance</th>\n",
       "      <th>products</th>\n",
       "      <th>credit_card</th>\n",
       "      <th>last_activity</th>\n",
       "      <th>EST_SALARY</th>\n",
       "      <th>churn</th>\n",
       "    </tr>\n",
       "  </thead>\n",
       "  <tbody>\n",
       "    <tr>\n",
       "      <th>0</th>\n",
       "      <td>183012</td>\n",
       "      <td>850.0</td>\n",
       "      <td>Рыбинск</td>\n",
       "      <td>Ж</td>\n",
       "      <td>25.0</td>\n",
       "      <td>1</td>\n",
       "      <td>59214.82</td>\n",
       "      <td>2</td>\n",
       "      <td>0</td>\n",
       "      <td>1</td>\n",
       "      <td>75719.14</td>\n",
       "      <td>1</td>\n",
       "    </tr>\n",
       "    <tr>\n",
       "      <th>1</th>\n",
       "      <td>146556</td>\n",
       "      <td>861.0</td>\n",
       "      <td>Рыбинск</td>\n",
       "      <td>Ж</td>\n",
       "      <td>37.0</td>\n",
       "      <td>5</td>\n",
       "      <td>850594.33</td>\n",
       "      <td>3</td>\n",
       "      <td>1</td>\n",
       "      <td>0</td>\n",
       "      <td>86621.77</td>\n",
       "      <td>0</td>\n",
       "    </tr>\n",
       "    <tr>\n",
       "      <th>2</th>\n",
       "      <td>120722</td>\n",
       "      <td>892.0</td>\n",
       "      <td>Рыбинск</td>\n",
       "      <td>Ж</td>\n",
       "      <td>30.0</td>\n",
       "      <td>0</td>\n",
       "      <td>NaN</td>\n",
       "      <td>1</td>\n",
       "      <td>1</td>\n",
       "      <td>1</td>\n",
       "      <td>107683.34</td>\n",
       "      <td>0</td>\n",
       "    </tr>\n",
       "    <tr>\n",
       "      <th>3</th>\n",
       "      <td>225363</td>\n",
       "      <td>866.0</td>\n",
       "      <td>Ярославль</td>\n",
       "      <td>Ж</td>\n",
       "      <td>51.0</td>\n",
       "      <td>5</td>\n",
       "      <td>1524746.26</td>\n",
       "      <td>2</td>\n",
       "      <td>0</td>\n",
       "      <td>1</td>\n",
       "      <td>174423.53</td>\n",
       "      <td>1</td>\n",
       "    </tr>\n",
       "    <tr>\n",
       "      <th>4</th>\n",
       "      <td>157978</td>\n",
       "      <td>730.0</td>\n",
       "      <td>Ярославль</td>\n",
       "      <td>М</td>\n",
       "      <td>34.0</td>\n",
       "      <td>5</td>\n",
       "      <td>174.00</td>\n",
       "      <td>1</td>\n",
       "      <td>1</td>\n",
       "      <td>0</td>\n",
       "      <td>67353.16</td>\n",
       "      <td>1</td>\n",
       "    </tr>\n",
       "    <tr>\n",
       "      <th>5</th>\n",
       "      <td>202305</td>\n",
       "      <td>856.0</td>\n",
       "      <td>Рыбинск</td>\n",
       "      <td>М</td>\n",
       "      <td>56.0</td>\n",
       "      <td>4</td>\n",
       "      <td>863687.24</td>\n",
       "      <td>3</td>\n",
       "      <td>1</td>\n",
       "      <td>0</td>\n",
       "      <td>156619.80</td>\n",
       "      <td>0</td>\n",
       "    </tr>\n",
       "    <tr>\n",
       "      <th>6</th>\n",
       "      <td>177259</td>\n",
       "      <td>807.0</td>\n",
       "      <td>Ярославль</td>\n",
       "      <td>Ж</td>\n",
       "      <td>39.0</td>\n",
       "      <td>3</td>\n",
       "      <td>405042.44</td>\n",
       "      <td>3</td>\n",
       "      <td>0</td>\n",
       "      <td>1</td>\n",
       "      <td>103838.32</td>\n",
       "      <td>0</td>\n",
       "    </tr>\n",
       "    <tr>\n",
       "      <th>7</th>\n",
       "      <td>218868</td>\n",
       "      <td>825.0</td>\n",
       "      <td>Ярославль</td>\n",
       "      <td>Ж</td>\n",
       "      <td>38.0</td>\n",
       "      <td>4</td>\n",
       "      <td>458145.40</td>\n",
       "      <td>2</td>\n",
       "      <td>1</td>\n",
       "      <td>1</td>\n",
       "      <td>68085.48</td>\n",
       "      <td>0</td>\n",
       "    </tr>\n",
       "    <tr>\n",
       "      <th>8</th>\n",
       "      <td>211686</td>\n",
       "      <td>923.0</td>\n",
       "      <td>Ярославль</td>\n",
       "      <td>М</td>\n",
       "      <td>54.0</td>\n",
       "      <td>5</td>\n",
       "      <td>1206337.87</td>\n",
       "      <td>2</td>\n",
       "      <td>1</td>\n",
       "      <td>0</td>\n",
       "      <td>155371.79</td>\n",
       "      <td>0</td>\n",
       "    </tr>\n",
       "    <tr>\n",
       "      <th>9</th>\n",
       "      <td>133130</td>\n",
       "      <td>906.0</td>\n",
       "      <td>Ярославль</td>\n",
       "      <td>Ж</td>\n",
       "      <td>67.0</td>\n",
       "      <td>0</td>\n",
       "      <td>NaN</td>\n",
       "      <td>1</td>\n",
       "      <td>0</td>\n",
       "      <td>1</td>\n",
       "      <td>238055.53</td>\n",
       "      <td>0</td>\n",
       "    </tr>\n",
       "    <tr>\n",
       "      <th>10</th>\n",
       "      <td>148929</td>\n",
       "      <td>927.0</td>\n",
       "      <td>Ростов</td>\n",
       "      <td>М</td>\n",
       "      <td>52.0</td>\n",
       "      <td>0</td>\n",
       "      <td>NaN</td>\n",
       "      <td>1</td>\n",
       "      <td>1</td>\n",
       "      <td>1</td>\n",
       "      <td>196820.07</td>\n",
       "      <td>0</td>\n",
       "    </tr>\n",
       "    <tr>\n",
       "      <th>11</th>\n",
       "      <td>172184</td>\n",
       "      <td>921.0</td>\n",
       "      <td>Ростов</td>\n",
       "      <td>М</td>\n",
       "      <td>41.0</td>\n",
       "      <td>0</td>\n",
       "      <td>NaN</td>\n",
       "      <td>1</td>\n",
       "      <td>1</td>\n",
       "      <td>1</td>\n",
       "      <td>217469.48</td>\n",
       "      <td>0</td>\n",
       "    </tr>\n",
       "    <tr>\n",
       "      <th>12</th>\n",
       "      <td>132970</td>\n",
       "      <td>845.0</td>\n",
       "      <td>Ярославль</td>\n",
       "      <td>Ж</td>\n",
       "      <td>31.0</td>\n",
       "      <td>3</td>\n",
       "      <td>591928.52</td>\n",
       "      <td>2</td>\n",
       "      <td>1</td>\n",
       "      <td>1</td>\n",
       "      <td>112697.16</td>\n",
       "      <td>1</td>\n",
       "    </tr>\n",
       "    <tr>\n",
       "      <th>13</th>\n",
       "      <td>166357</td>\n",
       "      <td>837.0</td>\n",
       "      <td>Рыбинск</td>\n",
       "      <td>Ж</td>\n",
       "      <td>28.0</td>\n",
       "      <td>4</td>\n",
       "      <td>302249.22</td>\n",
       "      <td>2</td>\n",
       "      <td>0</td>\n",
       "      <td>1</td>\n",
       "      <td>30950.94</td>\n",
       "      <td>0</td>\n",
       "    </tr>\n",
       "    <tr>\n",
       "      <th>14</th>\n",
       "      <td>172138</td>\n",
       "      <td>815.0</td>\n",
       "      <td>Ярославль</td>\n",
       "      <td>М</td>\n",
       "      <td>35.0</td>\n",
       "      <td>5</td>\n",
       "      <td>547499.87</td>\n",
       "      <td>2</td>\n",
       "      <td>1</td>\n",
       "      <td>1</td>\n",
       "      <td>105883.26</td>\n",
       "      <td>0</td>\n",
       "    </tr>\n",
       "  </tbody>\n",
       "</table>\n",
       "</div>"
      ],
      "text/plain": [
       "    USERID  score       city gender   age  equity     balance  products  \\\n",
       "0   183012  850.0    Рыбинск      Ж  25.0       1    59214.82         2   \n",
       "1   146556  861.0    Рыбинск      Ж  37.0       5   850594.33         3   \n",
       "2   120722  892.0    Рыбинск      Ж  30.0       0         NaN         1   \n",
       "3   225363  866.0  Ярославль      Ж  51.0       5  1524746.26         2   \n",
       "4   157978  730.0  Ярославль      М  34.0       5      174.00         1   \n",
       "5   202305  856.0    Рыбинск      М  56.0       4   863687.24         3   \n",
       "6   177259  807.0  Ярославль      Ж  39.0       3   405042.44         3   \n",
       "7   218868  825.0  Ярославль      Ж  38.0       4   458145.40         2   \n",
       "8   211686  923.0  Ярославль      М  54.0       5  1206337.87         2   \n",
       "9   133130  906.0  Ярославль      Ж  67.0       0         NaN         1   \n",
       "10  148929  927.0     Ростов      М  52.0       0         NaN         1   \n",
       "11  172184  921.0     Ростов      М  41.0       0         NaN         1   \n",
       "12  132970  845.0  Ярославль      Ж  31.0       3   591928.52         2   \n",
       "13  166357  837.0    Рыбинск      Ж  28.0       4   302249.22         2   \n",
       "14  172138  815.0  Ярославль      М  35.0       5   547499.87         2   \n",
       "\n",
       "    credit_card  last_activity  EST_SALARY  churn  \n",
       "0             0              1    75719.14      1  \n",
       "1             1              0    86621.77      0  \n",
       "2             1              1   107683.34      0  \n",
       "3             0              1   174423.53      1  \n",
       "4             1              0    67353.16      1  \n",
       "5             1              0   156619.80      0  \n",
       "6             0              1   103838.32      0  \n",
       "7             1              1    68085.48      0  \n",
       "8             1              0   155371.79      0  \n",
       "9             0              1   238055.53      0  \n",
       "10            1              1   196820.07      0  \n",
       "11            1              1   217469.48      0  \n",
       "12            1              1   112697.16      1  \n",
       "13            0              1    30950.94      0  \n",
       "14            1              1   105883.26      0  "
      ]
     },
     "execution_count": 3,
     "metadata": {},
     "output_type": "execute_result"
    }
   ],
   "source": [
    "# посмотрим содержание датасета\n",
    "\n",
    "df.head(15)"
   ]
  },
  {
   "cell_type": "code",
   "execution_count": 4,
   "id": "d30c3714",
   "metadata": {},
   "outputs": [
    {
     "data": {
      "text/html": [
       "<div>\n",
       "<style scoped>\n",
       "    .dataframe tbody tr th:only-of-type {\n",
       "        vertical-align: middle;\n",
       "    }\n",
       "\n",
       "    .dataframe tbody tr th {\n",
       "        vertical-align: top;\n",
       "    }\n",
       "\n",
       "    .dataframe thead th {\n",
       "        text-align: right;\n",
       "    }\n",
       "</style>\n",
       "<table border=\"1\" class=\"dataframe\">\n",
       "  <thead>\n",
       "    <tr style=\"text-align: right;\">\n",
       "      <th></th>\n",
       "      <th>user_id</th>\n",
       "      <th>score</th>\n",
       "      <th>city</th>\n",
       "      <th>gender</th>\n",
       "      <th>age</th>\n",
       "      <th>equity</th>\n",
       "      <th>balance</th>\n",
       "      <th>products</th>\n",
       "      <th>credit_card</th>\n",
       "      <th>last_activity</th>\n",
       "      <th>est_salary</th>\n",
       "      <th>churn</th>\n",
       "    </tr>\n",
       "  </thead>\n",
       "  <tbody>\n",
       "    <tr>\n",
       "      <th>0</th>\n",
       "      <td>183012</td>\n",
       "      <td>850.0</td>\n",
       "      <td>Рыбинск</td>\n",
       "      <td>Ж</td>\n",
       "      <td>25.0</td>\n",
       "      <td>1</td>\n",
       "      <td>59214.82</td>\n",
       "      <td>2</td>\n",
       "      <td>0</td>\n",
       "      <td>1</td>\n",
       "      <td>75719.14</td>\n",
       "      <td>1</td>\n",
       "    </tr>\n",
       "    <tr>\n",
       "      <th>1</th>\n",
       "      <td>146556</td>\n",
       "      <td>861.0</td>\n",
       "      <td>Рыбинск</td>\n",
       "      <td>Ж</td>\n",
       "      <td>37.0</td>\n",
       "      <td>5</td>\n",
       "      <td>850594.33</td>\n",
       "      <td>3</td>\n",
       "      <td>1</td>\n",
       "      <td>0</td>\n",
       "      <td>86621.77</td>\n",
       "      <td>0</td>\n",
       "    </tr>\n",
       "    <tr>\n",
       "      <th>2</th>\n",
       "      <td>120722</td>\n",
       "      <td>892.0</td>\n",
       "      <td>Рыбинск</td>\n",
       "      <td>Ж</td>\n",
       "      <td>30.0</td>\n",
       "      <td>0</td>\n",
       "      <td>NaN</td>\n",
       "      <td>1</td>\n",
       "      <td>1</td>\n",
       "      <td>1</td>\n",
       "      <td>107683.34</td>\n",
       "      <td>0</td>\n",
       "    </tr>\n",
       "    <tr>\n",
       "      <th>3</th>\n",
       "      <td>225363</td>\n",
       "      <td>866.0</td>\n",
       "      <td>Ярославль</td>\n",
       "      <td>Ж</td>\n",
       "      <td>51.0</td>\n",
       "      <td>5</td>\n",
       "      <td>1524746.26</td>\n",
       "      <td>2</td>\n",
       "      <td>0</td>\n",
       "      <td>1</td>\n",
       "      <td>174423.53</td>\n",
       "      <td>1</td>\n",
       "    </tr>\n",
       "    <tr>\n",
       "      <th>4</th>\n",
       "      <td>157978</td>\n",
       "      <td>730.0</td>\n",
       "      <td>Ярославль</td>\n",
       "      <td>М</td>\n",
       "      <td>34.0</td>\n",
       "      <td>5</td>\n",
       "      <td>174.00</td>\n",
       "      <td>1</td>\n",
       "      <td>1</td>\n",
       "      <td>0</td>\n",
       "      <td>67353.16</td>\n",
       "      <td>1</td>\n",
       "    </tr>\n",
       "  </tbody>\n",
       "</table>\n",
       "</div>"
      ],
      "text/plain": [
       "   user_id  score       city gender   age  equity     balance  products  \\\n",
       "0   183012  850.0    Рыбинск      Ж  25.0       1    59214.82         2   \n",
       "1   146556  861.0    Рыбинск      Ж  37.0       5   850594.33         3   \n",
       "2   120722  892.0    Рыбинск      Ж  30.0       0         NaN         1   \n",
       "3   225363  866.0  Ярославль      Ж  51.0       5  1524746.26         2   \n",
       "4   157978  730.0  Ярославль      М  34.0       5      174.00         1   \n",
       "\n",
       "   credit_card  last_activity  est_salary  churn  \n",
       "0            0              1    75719.14      1  \n",
       "1            1              0    86621.77      0  \n",
       "2            1              1   107683.34      0  \n",
       "3            0              1   174423.53      1  \n",
       "4            1              0    67353.16      1  "
      ]
     },
     "execution_count": 4,
     "metadata": {},
     "output_type": "execute_result"
    }
   ],
   "source": [
    "# переименуем столбцы 'USERID' и 'EST_SALARY'\n",
    "\n",
    "df = df.rename (columns = {'USERID':'user_id', 'EST_SALARY':'est_salary'})\n",
    "df.head()"
   ]
  },
  {
   "cell_type": "code",
   "execution_count": 5,
   "id": "e1211534",
   "metadata": {},
   "outputs": [
    {
     "data": {
      "text/plain": [
       "user_id             0\n",
       "score               0\n",
       "city                0\n",
       "gender              0\n",
       "age                26\n",
       "equity              0\n",
       "balance          2295\n",
       "products            0\n",
       "credit_card         0\n",
       "last_activity       0\n",
       "est_salary          0\n",
       "churn               0\n",
       "dtype: int64"
      ]
     },
     "execution_count": 5,
     "metadata": {},
     "output_type": "execute_result"
    }
   ],
   "source": [
    "# выведем на экран количество пропусков для каждого из столбцов\n",
    "\n",
    "df.isnull().sum()"
   ]
  },
  {
   "cell_type": "code",
   "execution_count": 6,
   "id": "72b7ea5c",
   "metadata": {},
   "outputs": [],
   "source": [
    "# пропусков в столбце 'age' всего 26, заменим их медианой\n",
    "\n",
    "df['age'] = df['age']. fillna(df['age'].median())"
   ]
  },
  {
   "cell_type": "code",
   "execution_count": 7,
   "id": "edfb9618",
   "metadata": {},
   "outputs": [
    {
     "data": {
      "text/plain": [
       "22.95"
      ]
     },
     "execution_count": 7,
     "metadata": {},
     "output_type": "execute_result"
    }
   ],
   "source": [
    "# найдём процент пропусков по столюцу 'balance'\n",
    "\n",
    "df['balance'].isna().sum()/len(df)*100"
   ]
  },
  {
   "cell_type": "markdown",
   "id": "0a6697c0",
   "metadata": {},
   "source": [
    "В столбце `balance` пропусков 23%  - значимая доля, чтобы их удалять. Проанализируем эти пропусти позже, чтобы решить что с ними делать."
   ]
  },
  {
   "cell_type": "code",
   "execution_count": 8,
   "id": "bebf1bd5",
   "metadata": {},
   "outputs": [
    {
     "name": "stdout",
     "output_type": "stream",
     "text": [
      "<class 'pandas.core.frame.DataFrame'>\n",
      "RangeIndex: 10000 entries, 0 to 9999\n",
      "Data columns (total 12 columns):\n",
      " #   Column         Non-Null Count  Dtype  \n",
      "---  ------         --------------  -----  \n",
      " 0   user_id        10000 non-null  int64  \n",
      " 1   score          10000 non-null  float64\n",
      " 2   city           10000 non-null  object \n",
      " 3   gender         10000 non-null  object \n",
      " 4   age            10000 non-null  float64\n",
      " 5   equity         10000 non-null  int64  \n",
      " 6   balance        7705 non-null   float64\n",
      " 7   products       10000 non-null  int64  \n",
      " 8   credit_card    10000 non-null  int64  \n",
      " 9   last_activity  10000 non-null  int64  \n",
      " 10  est_salary     10000 non-null  float64\n",
      " 11  churn          10000 non-null  int64  \n",
      "dtypes: float64(4), int64(6), object(2)\n",
      "memory usage: 937.6+ KB\n"
     ]
    }
   ],
   "source": [
    "# исследуем соответствие типов данных\n",
    "\n",
    "df.info()"
   ]
  },
  {
   "cell_type": "code",
   "execution_count": 9,
   "id": "1507aa9c",
   "metadata": {},
   "outputs": [],
   "source": [
    "# изменим тип данных в столбце 'age' на int\n",
    "\n",
    "df['age'] = df['age'].astype('int')"
   ]
  },
  {
   "cell_type": "code",
   "execution_count": 10,
   "id": "07403fc9",
   "metadata": {},
   "outputs": [
    {
     "data": {
      "text/plain": [
       "0"
      ]
     },
     "execution_count": 10,
     "metadata": {},
     "output_type": "execute_result"
    }
   ],
   "source": [
    "# проверим полные дубликаты в датасете\n",
    "\n",
    "df.duplicated().sum()"
   ]
  },
  {
   "cell_type": "code",
   "execution_count": 11,
   "id": "bf55b8d7",
   "metadata": {
    "scrolled": false
   },
   "outputs": [
    {
     "data": {
      "text/plain": [
       "0.73"
      ]
     },
     "execution_count": 11,
     "metadata": {},
     "output_type": "execute_result"
    }
   ],
   "source": [
    "# найдем процент дубликатов в столбце 'user_id'\n",
    "\n",
    "df['user_id'].duplicated().sum()/len(df)*100"
   ]
  },
  {
   "cell_type": "markdown",
   "id": "9ce66b73",
   "metadata": {},
   "source": [
    "Дубликатов по `user_id` ~1%. Можем удалить, а можем попробовать проанализировать их для повышения точности результата.\n",
    "Проверим совпадает ли между дубликатами по `user_id` ещё такие надёжные для идентификации пользователей поля как пол и возраст."
   ]
  },
  {
   "cell_type": "code",
   "execution_count": 12,
   "id": "ab348d6a",
   "metadata": {},
   "outputs": [
    {
     "data": {
      "text/plain": [
       "3"
      ]
     },
     "execution_count": 12,
     "metadata": {},
     "output_type": "execute_result"
    }
   ],
   "source": [
    "df.duplicated(['user_id','gender', 'age']).sum()"
   ]
  },
  {
   "cell_type": "markdown",
   "id": "f9dd8ad1",
   "metadata": {},
   "source": [
    "Таких дубликатов всего 3. Посмотрим на них вручную."
   ]
  },
  {
   "cell_type": "code",
   "execution_count": 13,
   "id": "450cf3f0",
   "metadata": {},
   "outputs": [
    {
     "data": {
      "text/html": [
       "<div>\n",
       "<style scoped>\n",
       "    .dataframe tbody tr th:only-of-type {\n",
       "        vertical-align: middle;\n",
       "    }\n",
       "\n",
       "    .dataframe tbody tr th {\n",
       "        vertical-align: top;\n",
       "    }\n",
       "\n",
       "    .dataframe thead th {\n",
       "        text-align: right;\n",
       "    }\n",
       "</style>\n",
       "<table border=\"1\" class=\"dataframe\">\n",
       "  <thead>\n",
       "    <tr style=\"text-align: right;\">\n",
       "      <th></th>\n",
       "      <th>user_id</th>\n",
       "      <th>score</th>\n",
       "      <th>city</th>\n",
       "      <th>gender</th>\n",
       "      <th>age</th>\n",
       "      <th>equity</th>\n",
       "      <th>balance</th>\n",
       "      <th>products</th>\n",
       "      <th>credit_card</th>\n",
       "      <th>last_activity</th>\n",
       "      <th>est_salary</th>\n",
       "      <th>churn</th>\n",
       "    </tr>\n",
       "  </thead>\n",
       "  <tbody>\n",
       "    <tr>\n",
       "      <th>3274</th>\n",
       "      <td>155765</td>\n",
       "      <td>863.0</td>\n",
       "      <td>Ярославль</td>\n",
       "      <td>М</td>\n",
       "      <td>30</td>\n",
       "      <td>5</td>\n",
       "      <td>1036114.50</td>\n",
       "      <td>5</td>\n",
       "      <td>1</td>\n",
       "      <td>1</td>\n",
       "      <td>150744.50</td>\n",
       "      <td>1</td>\n",
       "    </tr>\n",
       "    <tr>\n",
       "      <th>3668</th>\n",
       "      <td>185829</td>\n",
       "      <td>925.0</td>\n",
       "      <td>Рыбинск</td>\n",
       "      <td>М</td>\n",
       "      <td>40</td>\n",
       "      <td>0</td>\n",
       "      <td>NaN</td>\n",
       "      <td>1</td>\n",
       "      <td>1</td>\n",
       "      <td>0</td>\n",
       "      <td>228305.64</td>\n",
       "      <td>0</td>\n",
       "    </tr>\n",
       "    <tr>\n",
       "      <th>5197</th>\n",
       "      <td>155765</td>\n",
       "      <td>923.0</td>\n",
       "      <td>Рыбинск</td>\n",
       "      <td>М</td>\n",
       "      <td>30</td>\n",
       "      <td>0</td>\n",
       "      <td>NaN</td>\n",
       "      <td>1</td>\n",
       "      <td>1</td>\n",
       "      <td>1</td>\n",
       "      <td>120296.60</td>\n",
       "      <td>0</td>\n",
       "    </tr>\n",
       "    <tr>\n",
       "      <th>8205</th>\n",
       "      <td>227795</td>\n",
       "      <td>840.0</td>\n",
       "      <td>Рыбинск</td>\n",
       "      <td>М</td>\n",
       "      <td>34</td>\n",
       "      <td>2</td>\n",
       "      <td>350768.03</td>\n",
       "      <td>1</td>\n",
       "      <td>1</td>\n",
       "      <td>0</td>\n",
       "      <td>102036.14</td>\n",
       "      <td>1</td>\n",
       "    </tr>\n",
       "    <tr>\n",
       "      <th>8497</th>\n",
       "      <td>227795</td>\n",
       "      <td>839.0</td>\n",
       "      <td>Ярославль</td>\n",
       "      <td>М</td>\n",
       "      <td>34</td>\n",
       "      <td>2</td>\n",
       "      <td>326593.14</td>\n",
       "      <td>2</td>\n",
       "      <td>1</td>\n",
       "      <td>0</td>\n",
       "      <td>103314.92</td>\n",
       "      <td>0</td>\n",
       "    </tr>\n",
       "    <tr>\n",
       "      <th>9632</th>\n",
       "      <td>185829</td>\n",
       "      <td>927.0</td>\n",
       "      <td>Ярославль</td>\n",
       "      <td>М</td>\n",
       "      <td>40</td>\n",
       "      <td>0</td>\n",
       "      <td>NaN</td>\n",
       "      <td>1</td>\n",
       "      <td>1</td>\n",
       "      <td>0</td>\n",
       "      <td>231254.86</td>\n",
       "      <td>0</td>\n",
       "    </tr>\n",
       "  </tbody>\n",
       "</table>\n",
       "</div>"
      ],
      "text/plain": [
       "      user_id  score       city gender  age  equity     balance  products  \\\n",
       "3274   155765  863.0  Ярославль      М   30       5  1036114.50         5   \n",
       "3668   185829  925.0    Рыбинск      М   40       0         NaN         1   \n",
       "5197   155765  923.0    Рыбинск      М   30       0         NaN         1   \n",
       "8205   227795  840.0    Рыбинск      М   34       2   350768.03         1   \n",
       "8497   227795  839.0  Ярославль      М   34       2   326593.14         2   \n",
       "9632   185829  927.0  Ярославль      М   40       0         NaN         1   \n",
       "\n",
       "      credit_card  last_activity  est_salary  churn  \n",
       "3274            1              1   150744.50      1  \n",
       "3668            1              0   228305.64      0  \n",
       "5197            1              1   120296.60      0  \n",
       "8205            1              0   102036.14      1  \n",
       "8497            1              0   103314.92      0  \n",
       "9632            1              0   231254.86      0  "
      ]
     },
     "execution_count": 13,
     "metadata": {},
     "output_type": "execute_result"
    }
   ],
   "source": [
    "df[df.duplicated(['user_id','gender', 'age'], False)]"
   ]
  },
  {
   "cell_type": "markdown",
   "id": "9af6e02d",
   "metadata": {},
   "source": [
    "Нельзя утвержать что это дубликаты пользователей т.к. есть разница по остальным полям.\n",
    "Т.е. во всех дубликатах по `user_id` данные отличаются.\n",
    "Есть гипотеза, что дубликаты `user_id` возникли при выгрузке данных из разных источников."
   ]
  },
  {
   "cell_type": "code",
   "execution_count": 14,
   "id": "5f4d777c",
   "metadata": {},
   "outputs": [
    {
     "data": {
      "text/plain": [
       "0"
      ]
     },
     "execution_count": 14,
     "metadata": {},
     "output_type": "execute_result"
    }
   ],
   "source": [
    "# проверим есть ли дубликаты пользователй из одного города\n",
    "df.duplicated(['user_id','city']).sum()"
   ]
  },
  {
   "cell_type": "markdown",
   "id": "76784c65",
   "metadata": {},
   "source": [
    "Нет дубликатов из одного города, что подтверждает нашу гипотезу.<br>\n",
    "Поле `user_id` содержит противоречивую информацию.<br>\n",
    "Т.к. поле `user_id` нам не требуется, для анализа данных, то его можно оставить как есть."
   ]
  },
  {
   "cell_type": "code",
   "execution_count": 15,
   "id": "a8500bdf",
   "metadata": {},
   "outputs": [
    {
     "data": {
      "text/html": [
       "<div>\n",
       "<style scoped>\n",
       "    .dataframe tbody tr th:only-of-type {\n",
       "        vertical-align: middle;\n",
       "    }\n",
       "\n",
       "    .dataframe tbody tr th {\n",
       "        vertical-align: top;\n",
       "    }\n",
       "\n",
       "    .dataframe thead th {\n",
       "        text-align: right;\n",
       "    }\n",
       "</style>\n",
       "<table border=\"1\" class=\"dataframe\">\n",
       "  <thead>\n",
       "    <tr style=\"text-align: right;\">\n",
       "      <th></th>\n",
       "      <th>score</th>\n",
       "      <th>age</th>\n",
       "      <th>equity</th>\n",
       "      <th>balance</th>\n",
       "      <th>products</th>\n",
       "      <th>est_salary</th>\n",
       "    </tr>\n",
       "  </thead>\n",
       "  <tbody>\n",
       "    <tr>\n",
       "      <th>count</th>\n",
       "      <td>10,000.00</td>\n",
       "      <td>10,000.00</td>\n",
       "      <td>10,000.00</td>\n",
       "      <td>7,705.00</td>\n",
       "      <td>10,000.00</td>\n",
       "      <td>10,000.00</td>\n",
       "    </tr>\n",
       "    <tr>\n",
       "      <th>mean</th>\n",
       "      <td>848.70</td>\n",
       "      <td>42.73</td>\n",
       "      <td>2.63</td>\n",
       "      <td>827,794.31</td>\n",
       "      <td>1.87</td>\n",
       "      <td>147,866.89</td>\n",
       "    </tr>\n",
       "    <tr>\n",
       "      <th>std</th>\n",
       "      <td>65.45</td>\n",
       "      <td>12.16</td>\n",
       "      <td>1.98</td>\n",
       "      <td>1,980,614.15</td>\n",
       "      <td>0.79</td>\n",
       "      <td>139,388.51</td>\n",
       "    </tr>\n",
       "    <tr>\n",
       "      <th>min</th>\n",
       "      <td>642.00</td>\n",
       "      <td>18.00</td>\n",
       "      <td>0.00</td>\n",
       "      <td>0.00</td>\n",
       "      <td>0.00</td>\n",
       "      <td>2,546.30</td>\n",
       "    </tr>\n",
       "    <tr>\n",
       "      <th>25%</th>\n",
       "      <td>802.00</td>\n",
       "      <td>33.00</td>\n",
       "      <td>0.00</td>\n",
       "      <td>295,554.16</td>\n",
       "      <td>1.00</td>\n",
       "      <td>75,251.90</td>\n",
       "    </tr>\n",
       "    <tr>\n",
       "      <th>50%</th>\n",
       "      <td>853.00</td>\n",
       "      <td>40.00</td>\n",
       "      <td>3.00</td>\n",
       "      <td>524,272.20</td>\n",
       "      <td>2.00</td>\n",
       "      <td>119,658.10</td>\n",
       "    </tr>\n",
       "    <tr>\n",
       "      <th>75%</th>\n",
       "      <td>900.00</td>\n",
       "      <td>51.00</td>\n",
       "      <td>4.00</td>\n",
       "      <td>980,705.85</td>\n",
       "      <td>2.00</td>\n",
       "      <td>174,500.54</td>\n",
       "    </tr>\n",
       "    <tr>\n",
       "      <th>max</th>\n",
       "      <td>1,000.00</td>\n",
       "      <td>86.00</td>\n",
       "      <td>9.00</td>\n",
       "      <td>119,113,552.01</td>\n",
       "      <td>5.00</td>\n",
       "      <td>1,395,064.45</td>\n",
       "    </tr>\n",
       "  </tbody>\n",
       "</table>\n",
       "</div>"
      ],
      "text/plain": [
       "           score        age     equity         balance   products  \\\n",
       "count  10,000.00  10,000.00  10,000.00        7,705.00  10,000.00   \n",
       "mean      848.70      42.73       2.63      827,794.31       1.87   \n",
       "std        65.45      12.16       1.98    1,980,614.15       0.79   \n",
       "min       642.00      18.00       0.00            0.00       0.00   \n",
       "25%       802.00      33.00       0.00      295,554.16       1.00   \n",
       "50%       853.00      40.00       3.00      524,272.20       2.00   \n",
       "75%       900.00      51.00       4.00      980,705.85       2.00   \n",
       "max     1,000.00      86.00       9.00  119,113,552.01       5.00   \n",
       "\n",
       "         est_salary  \n",
       "count     10,000.00  \n",
       "mean     147,866.89  \n",
       "std      139,388.51  \n",
       "min        2,546.30  \n",
       "25%       75,251.90  \n",
       "50%      119,658.10  \n",
       "75%      174,500.54  \n",
       "max    1,395,064.45  "
      ]
     },
     "execution_count": 15,
     "metadata": {},
     "output_type": "execute_result"
    }
   ],
   "source": [
    "# проверим корректность данных в столбцах с количественными характеристиками\n",
    "\n",
    "df[['score','age','equity','balance','products','est_salary']].describe().applymap('{:,.2f}'.format)"
   ]
  },
  {
   "cell_type": "markdown",
   "id": "3db06d45",
   "metadata": {},
   "source": [
    "Есть данные с аномальными значениями. В столбце `products` есть нулевые значения, клиенты без продуктов."
   ]
  },
  {
   "cell_type": "code",
   "execution_count": 16,
   "id": "0064652d",
   "metadata": {},
   "outputs": [
    {
     "data": {
      "text/plain": [
       "1"
      ]
     },
     "execution_count": 16,
     "metadata": {},
     "output_type": "execute_result"
    }
   ],
   "source": [
    "# количство записей с нулевым значением products\n",
    "\n",
    "df[df['products'] == 0]['user_id'].count()"
   ]
  },
  {
   "cell_type": "code",
   "execution_count": 17,
   "id": "79afbde7",
   "metadata": {},
   "outputs": [],
   "source": [
    "# одна уникальная запись. тогда скорее всего это человеческая ошибка. заменим на минимальное значение - 1.\n",
    "\n",
    "df.loc[df['products'] == 0, 'products'] = 1"
   ]
  },
  {
   "cell_type": "code",
   "execution_count": 18,
   "id": "1820c18e",
   "metadata": {},
   "outputs": [
    {
     "data": {
      "text/plain": [
       "array(['Рыбинск', 'Ярославль', 'Ростов'], dtype=object)"
      ]
     },
     "execution_count": 18,
     "metadata": {},
     "output_type": "execute_result"
    }
   ],
   "source": [
    "# проверим уникальные значения в столбце 'city'\n",
    "\n",
    "df['city'].unique()"
   ]
  },
  {
   "cell_type": "code",
   "execution_count": 19,
   "id": "7d219cc1",
   "metadata": {},
   "outputs": [
    {
     "data": {
      "text/plain": [
       "array(['Ж', 'М'], dtype=object)"
      ]
     },
     "execution_count": 19,
     "metadata": {},
     "output_type": "execute_result"
    }
   ],
   "source": [
    "# проверим уникальные значения в столбце 'gender'\n",
    "\n",
    "df['gender'].unique()"
   ]
  },
  {
   "cell_type": "markdown",
   "id": "2865009c",
   "metadata": {},
   "source": [
    "В столбцах с категориальными переменными набор значений верный: 3 города и 2 пола."
   ]
  },
  {
   "cell_type": "code",
   "execution_count": 20,
   "id": "3d457a1d",
   "metadata": {},
   "outputs": [
    {
     "data": {
      "text/plain": [
       "array([0, 1])"
      ]
     },
     "execution_count": 20,
     "metadata": {},
     "output_type": "execute_result"
    }
   ],
   "source": [
    "# проверим уникальные значения в столбце 'credit_card'\n",
    "\n",
    "df['credit_card'].unique()"
   ]
  },
  {
   "cell_type": "code",
   "execution_count": 21,
   "id": "90e44cdf",
   "metadata": {},
   "outputs": [
    {
     "data": {
      "text/plain": [
       "array([1, 0])"
      ]
     },
     "execution_count": 21,
     "metadata": {},
     "output_type": "execute_result"
    }
   ],
   "source": [
    "# проверим уникальные значения в столбце 'last_activity'\n",
    "\n",
    "df['last_activity'].unique()"
   ]
  },
  {
   "cell_type": "code",
   "execution_count": 22,
   "id": "187fdbb2",
   "metadata": {},
   "outputs": [
    {
     "data": {
      "text/plain": [
       "array([1, 0])"
      ]
     },
     "execution_count": 22,
     "metadata": {},
     "output_type": "execute_result"
    }
   ],
   "source": [
    "# проверим уникальные значения в столбце 'churn'\n",
    "\n",
    "df['churn'].unique()"
   ]
  },
  {
   "cell_type": "markdown",
   "id": "d46c59f8",
   "metadata": {},
   "source": [
    "В столбцах `credit_card`, `last_activity`, `churn` набор значений верный."
   ]
  },
  {
   "cell_type": "markdown",
   "id": "b6ddc9f7",
   "metadata": {},
   "source": [
    "Теперь типы данных приведены корректно, но столбцы `city` и `gender` имеют тип object, что будет создавать неудобства при дальнейших расчетах. Необходимо их закодировать. Для этого создадим копии этих столбцов."
   ]
  },
  {
   "cell_type": "code",
   "execution_count": 23,
   "id": "49f0bda2",
   "metadata": {},
   "outputs": [
    {
     "data": {
      "text/html": [
       "<div>\n",
       "<style scoped>\n",
       "    .dataframe tbody tr th:only-of-type {\n",
       "        vertical-align: middle;\n",
       "    }\n",
       "\n",
       "    .dataframe tbody tr th {\n",
       "        vertical-align: top;\n",
       "    }\n",
       "\n",
       "    .dataframe thead th {\n",
       "        text-align: right;\n",
       "    }\n",
       "</style>\n",
       "<table border=\"1\" class=\"dataframe\">\n",
       "  <thead>\n",
       "    <tr style=\"text-align: right;\">\n",
       "      <th></th>\n",
       "      <th>user_id</th>\n",
       "      <th>score</th>\n",
       "      <th>city</th>\n",
       "      <th>gender</th>\n",
       "      <th>age</th>\n",
       "      <th>equity</th>\n",
       "      <th>balance</th>\n",
       "      <th>products</th>\n",
       "      <th>credit_card</th>\n",
       "      <th>last_activity</th>\n",
       "      <th>est_salary</th>\n",
       "      <th>churn</th>\n",
       "      <th>city_2</th>\n",
       "      <th>gender_2</th>\n",
       "    </tr>\n",
       "  </thead>\n",
       "  <tbody>\n",
       "    <tr>\n",
       "      <th>0</th>\n",
       "      <td>183012</td>\n",
       "      <td>850.0</td>\n",
       "      <td>Рыбинск</td>\n",
       "      <td>Ж</td>\n",
       "      <td>25</td>\n",
       "      <td>1</td>\n",
       "      <td>59214.82</td>\n",
       "      <td>2</td>\n",
       "      <td>0</td>\n",
       "      <td>1</td>\n",
       "      <td>75719.14</td>\n",
       "      <td>1</td>\n",
       "      <td>Рыбинск</td>\n",
       "      <td>Ж</td>\n",
       "    </tr>\n",
       "    <tr>\n",
       "      <th>1</th>\n",
       "      <td>146556</td>\n",
       "      <td>861.0</td>\n",
       "      <td>Рыбинск</td>\n",
       "      <td>Ж</td>\n",
       "      <td>37</td>\n",
       "      <td>5</td>\n",
       "      <td>850594.33</td>\n",
       "      <td>3</td>\n",
       "      <td>1</td>\n",
       "      <td>0</td>\n",
       "      <td>86621.77</td>\n",
       "      <td>0</td>\n",
       "      <td>Рыбинск</td>\n",
       "      <td>Ж</td>\n",
       "    </tr>\n",
       "    <tr>\n",
       "      <th>2</th>\n",
       "      <td>120722</td>\n",
       "      <td>892.0</td>\n",
       "      <td>Рыбинск</td>\n",
       "      <td>Ж</td>\n",
       "      <td>30</td>\n",
       "      <td>0</td>\n",
       "      <td>NaN</td>\n",
       "      <td>1</td>\n",
       "      <td>1</td>\n",
       "      <td>1</td>\n",
       "      <td>107683.34</td>\n",
       "      <td>0</td>\n",
       "      <td>Рыбинск</td>\n",
       "      <td>Ж</td>\n",
       "    </tr>\n",
       "    <tr>\n",
       "      <th>3</th>\n",
       "      <td>225363</td>\n",
       "      <td>866.0</td>\n",
       "      <td>Ярославль</td>\n",
       "      <td>Ж</td>\n",
       "      <td>51</td>\n",
       "      <td>5</td>\n",
       "      <td>1524746.26</td>\n",
       "      <td>2</td>\n",
       "      <td>0</td>\n",
       "      <td>1</td>\n",
       "      <td>174423.53</td>\n",
       "      <td>1</td>\n",
       "      <td>Ярославль</td>\n",
       "      <td>Ж</td>\n",
       "    </tr>\n",
       "    <tr>\n",
       "      <th>4</th>\n",
       "      <td>157978</td>\n",
       "      <td>730.0</td>\n",
       "      <td>Ярославль</td>\n",
       "      <td>М</td>\n",
       "      <td>34</td>\n",
       "      <td>5</td>\n",
       "      <td>174.00</td>\n",
       "      <td>1</td>\n",
       "      <td>1</td>\n",
       "      <td>0</td>\n",
       "      <td>67353.16</td>\n",
       "      <td>1</td>\n",
       "      <td>Ярославль</td>\n",
       "      <td>М</td>\n",
       "    </tr>\n",
       "  </tbody>\n",
       "</table>\n",
       "</div>"
      ],
      "text/plain": [
       "   user_id  score       city gender  age  equity     balance  products  \\\n",
       "0   183012  850.0    Рыбинск      Ж   25       1    59214.82         2   \n",
       "1   146556  861.0    Рыбинск      Ж   37       5   850594.33         3   \n",
       "2   120722  892.0    Рыбинск      Ж   30       0         NaN         1   \n",
       "3   225363  866.0  Ярославль      Ж   51       5  1524746.26         2   \n",
       "4   157978  730.0  Ярославль      М   34       5      174.00         1   \n",
       "\n",
       "   credit_card  last_activity  est_salary  churn     city_2 gender_2  \n",
       "0            0              1    75719.14      1    Рыбинск        Ж  \n",
       "1            1              0    86621.77      0    Рыбинск        Ж  \n",
       "2            1              1   107683.34      0    Рыбинск        Ж  \n",
       "3            0              1   174423.53      1  Ярославль        Ж  \n",
       "4            1              0    67353.16      1  Ярославль        М  "
      ]
     },
     "execution_count": 23,
     "metadata": {},
     "output_type": "execute_result"
    }
   ],
   "source": [
    "# создадим копии столбцов 'city' и 'gender'\n",
    "\n",
    "df['city_2']=df['city']\n",
    "df['gender_2']=df['gender']\n",
    "df.head()"
   ]
  },
  {
   "cell_type": "code",
   "execution_count": 24,
   "id": "2c436da1",
   "metadata": {
    "scrolled": true
   },
   "outputs": [
    {
     "data": {
      "text/html": [
       "<div>\n",
       "<style scoped>\n",
       "    .dataframe tbody tr th:only-of-type {\n",
       "        vertical-align: middle;\n",
       "    }\n",
       "\n",
       "    .dataframe tbody tr th {\n",
       "        vertical-align: top;\n",
       "    }\n",
       "\n",
       "    .dataframe thead th {\n",
       "        text-align: right;\n",
       "    }\n",
       "</style>\n",
       "<table border=\"1\" class=\"dataframe\">\n",
       "  <thead>\n",
       "    <tr style=\"text-align: right;\">\n",
       "      <th></th>\n",
       "      <th>user_id</th>\n",
       "      <th>score</th>\n",
       "      <th>city</th>\n",
       "      <th>gender</th>\n",
       "      <th>age</th>\n",
       "      <th>equity</th>\n",
       "      <th>balance</th>\n",
       "      <th>products</th>\n",
       "      <th>credit_card</th>\n",
       "      <th>last_activity</th>\n",
       "      <th>est_salary</th>\n",
       "      <th>churn</th>\n",
       "      <th>Ростов</th>\n",
       "      <th>Рыбинск</th>\n",
       "      <th>Ярославль</th>\n",
       "      <th>female</th>\n",
       "      <th>male</th>\n",
       "    </tr>\n",
       "  </thead>\n",
       "  <tbody>\n",
       "    <tr>\n",
       "      <th>0</th>\n",
       "      <td>183012</td>\n",
       "      <td>850.0</td>\n",
       "      <td>Рыбинск</td>\n",
       "      <td>Ж</td>\n",
       "      <td>25</td>\n",
       "      <td>1</td>\n",
       "      <td>59214.82</td>\n",
       "      <td>2</td>\n",
       "      <td>0</td>\n",
       "      <td>1</td>\n",
       "      <td>75719.14</td>\n",
       "      <td>1</td>\n",
       "      <td>0</td>\n",
       "      <td>1</td>\n",
       "      <td>0</td>\n",
       "      <td>1</td>\n",
       "      <td>0</td>\n",
       "    </tr>\n",
       "    <tr>\n",
       "      <th>1</th>\n",
       "      <td>146556</td>\n",
       "      <td>861.0</td>\n",
       "      <td>Рыбинск</td>\n",
       "      <td>Ж</td>\n",
       "      <td>37</td>\n",
       "      <td>5</td>\n",
       "      <td>850594.33</td>\n",
       "      <td>3</td>\n",
       "      <td>1</td>\n",
       "      <td>0</td>\n",
       "      <td>86621.77</td>\n",
       "      <td>0</td>\n",
       "      <td>0</td>\n",
       "      <td>1</td>\n",
       "      <td>0</td>\n",
       "      <td>1</td>\n",
       "      <td>0</td>\n",
       "    </tr>\n",
       "    <tr>\n",
       "      <th>2</th>\n",
       "      <td>120722</td>\n",
       "      <td>892.0</td>\n",
       "      <td>Рыбинск</td>\n",
       "      <td>Ж</td>\n",
       "      <td>30</td>\n",
       "      <td>0</td>\n",
       "      <td>NaN</td>\n",
       "      <td>1</td>\n",
       "      <td>1</td>\n",
       "      <td>1</td>\n",
       "      <td>107683.34</td>\n",
       "      <td>0</td>\n",
       "      <td>0</td>\n",
       "      <td>1</td>\n",
       "      <td>0</td>\n",
       "      <td>1</td>\n",
       "      <td>0</td>\n",
       "    </tr>\n",
       "    <tr>\n",
       "      <th>3</th>\n",
       "      <td>225363</td>\n",
       "      <td>866.0</td>\n",
       "      <td>Ярославль</td>\n",
       "      <td>Ж</td>\n",
       "      <td>51</td>\n",
       "      <td>5</td>\n",
       "      <td>1524746.26</td>\n",
       "      <td>2</td>\n",
       "      <td>0</td>\n",
       "      <td>1</td>\n",
       "      <td>174423.53</td>\n",
       "      <td>1</td>\n",
       "      <td>0</td>\n",
       "      <td>0</td>\n",
       "      <td>1</td>\n",
       "      <td>1</td>\n",
       "      <td>0</td>\n",
       "    </tr>\n",
       "    <tr>\n",
       "      <th>4</th>\n",
       "      <td>157978</td>\n",
       "      <td>730.0</td>\n",
       "      <td>Ярославль</td>\n",
       "      <td>М</td>\n",
       "      <td>34</td>\n",
       "      <td>5</td>\n",
       "      <td>174.00</td>\n",
       "      <td>1</td>\n",
       "      <td>1</td>\n",
       "      <td>0</td>\n",
       "      <td>67353.16</td>\n",
       "      <td>1</td>\n",
       "      <td>0</td>\n",
       "      <td>0</td>\n",
       "      <td>1</td>\n",
       "      <td>0</td>\n",
       "      <td>1</td>\n",
       "    </tr>\n",
       "  </tbody>\n",
       "</table>\n",
       "</div>"
      ],
      "text/plain": [
       "   user_id  score       city gender  age  equity     balance  products  \\\n",
       "0   183012  850.0    Рыбинск      Ж   25       1    59214.82         2   \n",
       "1   146556  861.0    Рыбинск      Ж   37       5   850594.33         3   \n",
       "2   120722  892.0    Рыбинск      Ж   30       0         NaN         1   \n",
       "3   225363  866.0  Ярославль      Ж   51       5  1524746.26         2   \n",
       "4   157978  730.0  Ярославль      М   34       5      174.00         1   \n",
       "\n",
       "   credit_card  last_activity  est_salary  churn  Ростов  Рыбинск  Ярославль  \\\n",
       "0            0              1    75719.14      1       0        1          0   \n",
       "1            1              0    86621.77      0       0        1          0   \n",
       "2            1              1   107683.34      0       0        1          0   \n",
       "3            0              1   174423.53      1       0        0          1   \n",
       "4            1              0    67353.16      1       0        0          1   \n",
       "\n",
       "   female  male  \n",
       "0       1     0  \n",
       "1       1     0  \n",
       "2       1     0  \n",
       "3       1     0  \n",
       "4       0     1  "
      ]
     },
     "metadata": {},
     "output_type": "display_data"
    }
   ],
   "source": [
    "# закодируем данные в столбцах city_2 и gender_2:\n",
    "\n",
    "df = pd.get_dummies(df, columns = ['city_2', 'gender_2'])\n",
    "df = df.rename (\n",
    "    columns = ({\n",
    "        'city_2_Ростов':'Ростов', 'city_2_Рыбинск':'Рыбинск','city_2_Ярославль':'Ярославль', \n",
    "        'gender_2_Ж':'female', 'gender_2_М':'male'}))\n",
    "display(df.head())"
   ]
  },
  {
   "cell_type": "markdown",
   "id": "3ad08e69",
   "metadata": {},
   "source": [
    "Попробуем выяснить с чем могут быть связаны пропуски в столбце `balance`.<br />"
   ]
  },
  {
   "cell_type": "code",
   "execution_count": 25,
   "id": "a3a36f38",
   "metadata": {
    "scrolled": false
   },
   "outputs": [
    {
     "data": {
      "text/html": [
       "<div>\n",
       "<style scoped>\n",
       "    .dataframe tbody tr th:only-of-type {\n",
       "        vertical-align: middle;\n",
       "    }\n",
       "\n",
       "    .dataframe tbody tr th {\n",
       "        vertical-align: top;\n",
       "    }\n",
       "\n",
       "    .dataframe thead th {\n",
       "        text-align: right;\n",
       "    }\n",
       "</style>\n",
       "<table border=\"1\" class=\"dataframe\">\n",
       "  <thead>\n",
       "    <tr style=\"text-align: right;\">\n",
       "      <th></th>\n",
       "      <th>balance_notna_mean</th>\n",
       "      <th>balance_isna_mean</th>\n",
       "      <th>Разница %</th>\n",
       "    </tr>\n",
       "  </thead>\n",
       "  <tbody>\n",
       "    <tr>\n",
       "      <th>user_id</th>\n",
       "      <td>171738.837508</td>\n",
       "      <td>172069.447930</td>\n",
       "      <td>0.192508</td>\n",
       "    </tr>\n",
       "    <tr>\n",
       "      <th>score</th>\n",
       "      <td>843.739260</td>\n",
       "      <td>865.352070</td>\n",
       "      <td>2.561551</td>\n",
       "    </tr>\n",
       "    <tr>\n",
       "      <th>age</th>\n",
       "      <td>42.920571</td>\n",
       "      <td>42.078431</td>\n",
       "      <td>-1.962089</td>\n",
       "    </tr>\n",
       "    <tr>\n",
       "      <th>equity</th>\n",
       "      <td>3.395068</td>\n",
       "      <td>0.050980</td>\n",
       "      <td>-98.498399</td>\n",
       "    </tr>\n",
       "    <tr>\n",
       "      <th>balance</th>\n",
       "      <td>827794.306510</td>\n",
       "      <td>NaN</td>\n",
       "      <td>NaN</td>\n",
       "    </tr>\n",
       "    <tr>\n",
       "      <th>products</th>\n",
       "      <td>2.080986</td>\n",
       "      <td>1.162527</td>\n",
       "      <td>-44.135759</td>\n",
       "    </tr>\n",
       "    <tr>\n",
       "      <th>credit_card</th>\n",
       "      <td>0.640104</td>\n",
       "      <td>0.815686</td>\n",
       "      <td>27.430307</td>\n",
       "    </tr>\n",
       "    <tr>\n",
       "      <th>last_activity</th>\n",
       "      <td>0.515769</td>\n",
       "      <td>0.549455</td>\n",
       "      <td>6.531288</td>\n",
       "    </tr>\n",
       "    <tr>\n",
       "      <th>est_salary</th>\n",
       "      <td>124501.872366</td>\n",
       "      <td>226310.208654</td>\n",
       "      <td>81.772534</td>\n",
       "    </tr>\n",
       "    <tr>\n",
       "      <th>churn</th>\n",
       "      <td>0.234523</td>\n",
       "      <td>0.005664</td>\n",
       "      <td>-97.584677</td>\n",
       "    </tr>\n",
       "    <tr>\n",
       "      <th>Ростов</th>\n",
       "      <td>0.153407</td>\n",
       "      <td>0.102397</td>\n",
       "      <td>-33.251680</td>\n",
       "    </tr>\n",
       "    <tr>\n",
       "      <th>Рыбинск</th>\n",
       "      <td>0.272810</td>\n",
       "      <td>0.258388</td>\n",
       "      <td>-5.286489</td>\n",
       "    </tr>\n",
       "    <tr>\n",
       "      <th>Ярославль</th>\n",
       "      <td>0.573783</td>\n",
       "      <td>0.639216</td>\n",
       "      <td>11.403684</td>\n",
       "    </tr>\n",
       "    <tr>\n",
       "      <th>female</th>\n",
       "      <td>0.516807</td>\n",
       "      <td>0.441394</td>\n",
       "      <td>-14.592080</td>\n",
       "    </tr>\n",
       "    <tr>\n",
       "      <th>male</th>\n",
       "      <td>0.483193</td>\n",
       "      <td>0.558606</td>\n",
       "      <td>15.607216</td>\n",
       "    </tr>\n",
       "  </tbody>\n",
       "</table>\n",
       "</div>"
      ],
      "text/plain": [
       "               balance_notna_mean  balance_isna_mean  Разница %\n",
       "user_id             171738.837508      172069.447930   0.192508\n",
       "score                  843.739260         865.352070   2.561551\n",
       "age                     42.920571          42.078431  -1.962089\n",
       "equity                   3.395068           0.050980 -98.498399\n",
       "balance             827794.306510                NaN        NaN\n",
       "products                 2.080986           1.162527 -44.135759\n",
       "credit_card              0.640104           0.815686  27.430307\n",
       "last_activity            0.515769           0.549455   6.531288\n",
       "est_salary          124501.872366      226310.208654  81.772534\n",
       "churn                    0.234523           0.005664 -97.584677\n",
       "Ростов                   0.153407           0.102397 -33.251680\n",
       "Рыбинск                  0.272810           0.258388  -5.286489\n",
       "Ярославль                0.573783           0.639216  11.403684\n",
       "female                   0.516807           0.441394 -14.592080\n",
       "male                     0.483193           0.558606  15.607216"
      ]
     },
     "execution_count": 25,
     "metadata": {},
     "output_type": "execute_result"
    }
   ],
   "source": [
    "# посмотрим средние значения столбцов в датасете с пропусками 'balance' и без\n",
    "\n",
    "group_blalance_1 = df[df['balance'].notna()].mean(numeric_only=True)\n",
    "group_blalance_0 = df[df['balance'].isna()].mean(numeric_only=True)\n",
    "\n",
    "pd.concat({'balance_notna_mean': group_blalance_1,\n",
    "           'balance_isna_mean': group_blalance_0,\n",
    "           \"Разница %\": (group_blalance_0/group_blalance_1-1)*100},axis=1)"
   ]
  },
  {
   "cell_type": "markdown",
   "id": "f4d28fd8",
   "metadata": {},
   "source": [
    " Средние значения по столбцам `equity`, `products`, `churn`, `est_salary` значительно отличаются. Значит эти пропуски нельзя обьяснить случайным техническим сбоем."
   ]
  },
  {
   "cell_type": "markdown",
   "id": "29417a9a",
   "metadata": {},
   "source": [
    "Создадим новую характеристику клиента `balance_na` - отсутствие баланса, чтобы можно было проанализировать характер её связи с другими данными."
   ]
  },
  {
   "cell_type": "code",
   "execution_count": 26,
   "id": "fb44e7d1",
   "metadata": {},
   "outputs": [],
   "source": [
    "df['balance_na']=df['balance']\n",
    "df['balance_na'] = df['balance_na'].apply(lambda x: 1 if pd.isna(x) else 0)"
   ]
  },
  {
   "cell_type": "code",
   "execution_count": 27,
   "id": "f412a6ca",
   "metadata": {},
   "outputs": [
    {
     "data": {
      "text/plain": [
       "user_id           0.00\n",
       "Рыбинск          -0.01\n",
       "last_activity     0.03\n",
       "age              -0.03\n",
       "Ярославль         0.06\n",
       "Ростов           -0.06\n",
       "female           -0.06\n",
       "male              0.06\n",
       "score             0.14\n",
       "credit_card       0.16\n",
       "churn            -0.25\n",
       "est_salary        0.31\n",
       "products         -0.49\n",
       "equity           -0.71\n",
       "balance_na        1.00\n",
       "balance            nan\n",
       "dtype: object"
      ]
     },
     "execution_count": 27,
     "metadata": {},
     "output_type": "execute_result"
    }
   ],
   "source": [
    "# посчитаем корреляцию 'balance_na' с остальными характеристиками\n",
    "\n",
    "df.corrwith(df['balance_na']).sort_values(key=abs).apply('{:.2f}'.format)"
   ]
  },
  {
   "cell_type": "markdown",
   "id": "1d7a3330",
   "metadata": {},
   "source": [
    "Видим множественные корреляции, значит нет возможности выделить какую-либо одну зависимость пропусков от остальных данных, поэтому мы не сможем выделить какой-либо один сегмент с линейной зависимостью и заполнить по ней пропуски.<br />\n",
    "Опираясь на значениям корреляции можно выдвинуть несколько предположений:<br/>\n",
    "- Сильная обратная корреляция с отточностью `churn`, количеством продуктов `products` и залоговой собственностью `equity` - это могут быть новые пользователи и поэтому у них ещё нет продуктов, счёта, и оценки собственности.<br/>\n",
    "- Сильная корреляция с наличием кредитной карты - это могут быть клиенты у которых из продуктов только кредитка и поэтому нет дебетового счёта.<br/>"
   ]
  },
  {
   "cell_type": "markdown",
   "id": "162e9a76",
   "metadata": {},
   "source": [
    "**Вывод:**<br>\n",
    "Проведена предобработка данных:\n",
    "1. переименованы столбцы `USERID` и `EST_SALARY`;\n",
    "2. изменен тип данных в столбце `age` с float на int;\n",
    "3. полных дубликатов не обнаружено;\n",
    "4. проанализированы дубликаты дубликаты в столбце `user_id`;\n",
    "5. столбцах `gender` и `city` применена кодировка данных для удобства дальнейший расчетов;\n",
    "6. пропуски в столбце `age` заменены медианой, пропуски в столбце `balance` оставлены без изменений."
   ]
  },
  {
   "cell_type": "markdown",
   "id": "226104d4",
   "metadata": {},
   "source": [
    "# Часть 2 - Исследовательский анализ данных"
   ]
  },
  {
   "cell_type": "markdown",
   "id": "5b9f3051",
   "metadata": {},
   "source": [
    "Рассмотрим центральные тенденции характеристик в разрезе оттока.<br />\n",
    "для категориальных и бинарных типов характеристик - среднее.<br />\n",
    "для непрерывных типов характеристик - медианы. <br />"
   ]
  },
  {
   "cell_type": "code",
   "execution_count": 30,
   "id": "df9ee142",
   "metadata": {},
   "outputs": [
    {
     "data": {
      "text/html": [
       "<div>\n",
       "<style scoped>\n",
       "    .dataframe tbody tr th:only-of-type {\n",
       "        vertical-align: middle;\n",
       "    }\n",
       "\n",
       "    .dataframe tbody tr th {\n",
       "        vertical-align: top;\n",
       "    }\n",
       "\n",
       "    .dataframe thead th {\n",
       "        text-align: right;\n",
       "    }\n",
       "</style>\n",
       "<table border=\"1\" class=\"dataframe\">\n",
       "  <thead>\n",
       "    <tr style=\"text-align: right;\">\n",
       "      <th></th>\n",
       "      <th>count</th>\n",
       "      <th>equity</th>\n",
       "      <th>products</th>\n",
       "      <th>credit_card</th>\n",
       "      <th>last_activity</th>\n",
       "      <th>Ростов</th>\n",
       "      <th>Рыбинск</th>\n",
       "      <th>Ярославль</th>\n",
       "      <th>female</th>\n",
       "      <th>male</th>\n",
       "      <th>score</th>\n",
       "      <th>age</th>\n",
       "      <th>balance</th>\n",
       "      <th>balance_na</th>\n",
       "      <th>est_salary</th>\n",
       "    </tr>\n",
       "    <tr>\n",
       "      <th>churn</th>\n",
       "      <th></th>\n",
       "      <th></th>\n",
       "      <th></th>\n",
       "      <th></th>\n",
       "      <th></th>\n",
       "      <th></th>\n",
       "      <th></th>\n",
       "      <th></th>\n",
       "      <th></th>\n",
       "      <th></th>\n",
       "      <th></th>\n",
       "      <th></th>\n",
       "      <th></th>\n",
       "      <th></th>\n",
       "      <th></th>\n",
       "    </tr>\n",
       "  </thead>\n",
       "  <tbody>\n",
       "    <tr>\n",
       "      <th>0</th>\n",
       "      <td>8180</td>\n",
       "      <td>2.374817</td>\n",
       "      <td>1.757579</td>\n",
       "      <td>0.709169</td>\n",
       "      <td>0.483741</td>\n",
       "      <td>0.140709</td>\n",
       "      <td>0.276039</td>\n",
       "      <td>0.583252</td>\n",
       "      <td>0.532763</td>\n",
       "      <td>0.467237</td>\n",
       "      <td>848.0</td>\n",
       "      <td>40</td>\n",
       "      <td>475382.445</td>\n",
       "      <td>0.278973</td>\n",
       "      <td>118257.715</td>\n",
       "    </tr>\n",
       "    <tr>\n",
       "      <th>1</th>\n",
       "      <td>1820</td>\n",
       "      <td>3.763736</td>\n",
       "      <td>2.376374</td>\n",
       "      <td>0.551099</td>\n",
       "      <td>0.702198</td>\n",
       "      <td>0.146154</td>\n",
       "      <td>0.240110</td>\n",
       "      <td>0.613736</td>\n",
       "      <td>0.350000</td>\n",
       "      <td>0.650000</td>\n",
       "      <td>866.0</td>\n",
       "      <td>39</td>\n",
       "      <td>782410.470</td>\n",
       "      <td>0.007143</td>\n",
       "      <td>125390.620</td>\n",
       "    </tr>\n",
       "  </tbody>\n",
       "</table>\n",
       "</div>"
      ],
      "text/plain": [
       "       count    equity  products  credit_card  last_activity    Ростов  \\\n",
       "churn                                                                    \n",
       "0       8180  2.374817  1.757579     0.709169       0.483741  0.140709   \n",
       "1       1820  3.763736  2.376374     0.551099       0.702198  0.146154   \n",
       "\n",
       "        Рыбинск  Ярославль    female      male  score  age     balance  \\\n",
       "churn                                                                    \n",
       "0      0.276039   0.583252  0.532763  0.467237  848.0   40  475382.445   \n",
       "1      0.240110   0.613736  0.350000  0.650000  866.0   39  782410.470   \n",
       "\n",
       "       balance_na  est_salary  \n",
       "churn                          \n",
       "0        0.278973  118257.715  \n",
       "1        0.007143  125390.620  "
      ]
     },
     "metadata": {},
     "output_type": "display_data"
    }
   ],
   "source": [
    "# рассмотрим центральные тенденции характеристик в разрезе оттока\n",
    "\n",
    "df_churn = df.groupby('churn').agg({\n",
    "                         'churn': 'count',\n",
    "                         'equity': 'mean',\n",
    "                         'products': 'mean', \n",
    "                         'credit_card': 'mean', \n",
    "                         'last_activity': 'mean', \n",
    "                         'Ростов': 'mean', \n",
    "                         'Рыбинск': 'mean', \n",
    "                         'Ярославль': 'mean', \n",
    "                         'female': 'mean', \n",
    "                         'male': 'mean', \n",
    "                         'score' : 'median', \n",
    "                         'age': 'median', \n",
    "                         'balance': 'median', \n",
    "                         'balance_na': 'mean', \n",
    "                         'est_salary': 'median'}).rename(columns = {'churn':'count'})\n",
    "display(df_churn)"
   ]
  },
  {
   "cell_type": "code",
   "execution_count": 31,
   "id": "ad86c9d8",
   "metadata": {},
   "outputs": [
    {
     "data": {
      "text/html": [
       "<div>\n",
       "<style scoped>\n",
       "    .dataframe tbody tr th:only-of-type {\n",
       "        vertical-align: middle;\n",
       "    }\n",
       "\n",
       "    .dataframe tbody tr th {\n",
       "        vertical-align: top;\n",
       "    }\n",
       "\n",
       "    .dataframe thead th {\n",
       "        text-align: right;\n",
       "    }\n",
       "</style>\n",
       "<table border=\"1\" class=\"dataframe\">\n",
       "  <thead>\n",
       "    <tr style=\"text-align: right;\">\n",
       "      <th></th>\n",
       "      <th>Не отточные</th>\n",
       "      <th>Отточные</th>\n",
       "      <th>Разница %</th>\n",
       "    </tr>\n",
       "  </thead>\n",
       "  <tbody>\n",
       "    <tr>\n",
       "      <th>balance_na</th>\n",
       "      <td>0.278973</td>\n",
       "      <td>0.007143</td>\n",
       "      <td>-97.439589</td>\n",
       "    </tr>\n",
       "    <tr>\n",
       "      <th>count</th>\n",
       "      <td>8180.000000</td>\n",
       "      <td>1820.000000</td>\n",
       "      <td>-77.750611</td>\n",
       "    </tr>\n",
       "    <tr>\n",
       "      <th>female</th>\n",
       "      <td>0.532763</td>\n",
       "      <td>0.350000</td>\n",
       "      <td>-34.304727</td>\n",
       "    </tr>\n",
       "    <tr>\n",
       "      <th>credit_card</th>\n",
       "      <td>0.709169</td>\n",
       "      <td>0.551099</td>\n",
       "      <td>-22.289450</td>\n",
       "    </tr>\n",
       "    <tr>\n",
       "      <th>Рыбинск</th>\n",
       "      <td>0.276039</td>\n",
       "      <td>0.240110</td>\n",
       "      <td>-13.015992</td>\n",
       "    </tr>\n",
       "    <tr>\n",
       "      <th>age</th>\n",
       "      <td>40.000000</td>\n",
       "      <td>39.000000</td>\n",
       "      <td>-2.500000</td>\n",
       "    </tr>\n",
       "    <tr>\n",
       "      <th>score</th>\n",
       "      <td>848.000000</td>\n",
       "      <td>866.000000</td>\n",
       "      <td>2.122642</td>\n",
       "    </tr>\n",
       "    <tr>\n",
       "      <th>Ростов</th>\n",
       "      <td>0.140709</td>\n",
       "      <td>0.146154</td>\n",
       "      <td>3.869545</td>\n",
       "    </tr>\n",
       "    <tr>\n",
       "      <th>Ярославль</th>\n",
       "      <td>0.583252</td>\n",
       "      <td>0.613736</td>\n",
       "      <td>5.226633</td>\n",
       "    </tr>\n",
       "    <tr>\n",
       "      <th>est_salary</th>\n",
       "      <td>118257.715000</td>\n",
       "      <td>125390.620000</td>\n",
       "      <td>6.031661</td>\n",
       "    </tr>\n",
       "    <tr>\n",
       "      <th>products</th>\n",
       "      <td>1.757579</td>\n",
       "      <td>2.376374</td>\n",
       "      <td>35.207180</td>\n",
       "    </tr>\n",
       "    <tr>\n",
       "      <th>male</th>\n",
       "      <td>0.467237</td>\n",
       "      <td>0.650000</td>\n",
       "      <td>39.115646</td>\n",
       "    </tr>\n",
       "    <tr>\n",
       "      <th>last_activity</th>\n",
       "      <td>0.483741</td>\n",
       "      <td>0.702198</td>\n",
       "      <td>45.159920</td>\n",
       "    </tr>\n",
       "    <tr>\n",
       "      <th>equity</th>\n",
       "      <td>2.374817</td>\n",
       "      <td>3.763736</td>\n",
       "      <td>58.485343</td>\n",
       "    </tr>\n",
       "    <tr>\n",
       "      <th>balance</th>\n",
       "      <td>475382.445000</td>\n",
       "      <td>782410.470000</td>\n",
       "      <td>64.585478</td>\n",
       "    </tr>\n",
       "  </tbody>\n",
       "</table>\n",
       "</div>"
      ],
      "text/plain": [
       "                 Не отточные       Отточные  Разница %\n",
       "balance_na          0.278973       0.007143 -97.439589\n",
       "count            8180.000000    1820.000000 -77.750611\n",
       "female              0.532763       0.350000 -34.304727\n",
       "credit_card         0.709169       0.551099 -22.289450\n",
       "Рыбинск             0.276039       0.240110 -13.015992\n",
       "age                40.000000      39.000000  -2.500000\n",
       "score             848.000000     866.000000   2.122642\n",
       "Ростов              0.140709       0.146154   3.869545\n",
       "Ярославль           0.583252       0.613736   5.226633\n",
       "est_salary     118257.715000  125390.620000   6.031661\n",
       "products            1.757579       2.376374  35.207180\n",
       "male                0.467237       0.650000  39.115646\n",
       "last_activity       0.483741       0.702198  45.159920\n",
       "equity              2.374817       3.763736  58.485343\n",
       "balance        475382.445000  782410.470000  64.585478"
      ]
     },
     "execution_count": 31,
     "metadata": {},
     "output_type": "execute_result"
    }
   ],
   "source": [
    "# сравним центральные тенденции характеристик отточных и неотточных клиентов\n",
    "\n",
    "pd.concat({\n",
    "    'Не отточные': df_churn.iloc[0],\n",
    "    'Отточные': df_churn.iloc[1],\n",
    "    'Разница %': (df_churn.iloc[1]/df_churn.iloc[0]-1)*100},\n",
    "    axis=1).sort_values('Разница %')\n"
   ]
  },
  {
   "cell_type": "markdown",
   "id": "ed1f1e2e",
   "metadata": {},
   "source": [
    "Получившиеся группы достаточного размера, чтобы можно было воспользоваться стат. методами для их сравнения.\n",
    "\n",
    "Между средними отточными и неотточными клиентами есть сильная (>10%) разница по следующим характеристикам:<br />\n",
    "balance, equity, last_activity, male, products, credit_card\n",
    "\n",
    "Характеристики по которым разница в отточности проявляется слабо:<br />\n",
    "est_salary, Ярославль, Ростов, score, age<br />\n",
    "По ним нужно провести анализ более детально:<br />"
   ]
  },
  {
   "cell_type": "markdown",
   "id": "8cf70c2b",
   "metadata": {},
   "source": [
    "Для количественных непрерывных характеристик построим график плотности распределение в разрезе оттока."
   ]
  },
  {
   "cell_type": "code",
   "execution_count": 32,
   "id": "05133011",
   "metadata": {},
   "outputs": [],
   "source": [
    "sns.set_style(\"whitegrid\", {\"grid.color\": \".6\", \"grid.linestyle\": \":\"})"
   ]
  },
  {
   "cell_type": "code",
   "execution_count": 33,
   "id": "5f71cd6d",
   "metadata": {},
   "outputs": [
    {
     "data": {
      "image/png": "[encoded data removed]",
      "text/plain": [
       "<Figure size 720x216 with 1 Axes>"
      ]
     },
     "metadata": {},
     "output_type": "display_data"
    }
   ],
   "source": [
    "# визуализируем взаимосвязь 'churn' - 'score'\n",
    "\n",
    "plt.figure(figsize=(10,3))\n",
    "plt.legend(['Не отточные', 'Отточные'])\n",
    "sns.kdeplot(df[df['churn'] == 0]['score'], clip=(0.0, 2000000.0), common_norm=False, color='green')\n",
    "sns.kdeplot(df[df['churn'] == 1]['score'], clip=(0.0, 2000000.0), common_norm=False, color='red')\n",
    "plt.show()"
   ]
  },
  {
   "cell_type": "code",
   "execution_count": 34,
   "id": "f9189b28",
   "metadata": {},
   "outputs": [
    {
     "data": {
      "image/png": "[encoded data removed]",
      "text/plain": [
       "<Figure size 720x216 with 1 Axes>"
      ]
     },
     "metadata": {},
     "output_type": "display_data"
    }
   ],
   "source": [
    "# визуализируем взаимосвязь 'churn' - 'balance'\n",
    "\n",
    "plt.figure(figsize=(10,3))\n",
    "sns.kdeplot(df[df['churn'] == 0]['balance'], clip=(0.0, 2000000.0), common_norm=False, color='green')\n",
    "sns.kdeplot(df[df['churn'] == 1]['balance'], clip=(0.0, 2000000.0), common_norm=False, color='red')\n",
    "plt.legend(['Не отточные', 'Отточные'])\n",
    "plt.show()"
   ]
  },
  {
   "cell_type": "code",
   "execution_count": 35,
   "id": "5ce5c733",
   "metadata": {},
   "outputs": [
    {
     "data": {
      "image/png": "[encoded data removed]",
      "text/plain": [
       "<Figure size 720x216 with 1 Axes>"
      ]
     },
     "metadata": {},
     "output_type": "display_data"
    }
   ],
   "source": [
    "# визуализируем взаимосвязь 'churn' - 'est_salary'\n",
    "\n",
    "plt.figure(figsize=(10,3))\n",
    "sns.kdeplot(df[df['churn'] == 0]['est_salary'], clip=(0.0, 300000.0), common_norm=False, color='green')\n",
    "sns.kdeplot(df[df['churn'] == 1]['est_salary'], clip=(0.0, 300000.0), common_norm=False, color='red')\n",
    "plt.legend(['Не отточные', 'Отточные'])\n",
    "plt.show()"
   ]
  },
  {
   "cell_type": "markdown",
   "id": "586c5e42",
   "metadata": {},
   "source": [
    "Для дискретных характеристик построим гистограмму распределение в разрезе оттока"
   ]
  },
  {
   "cell_type": "code",
   "execution_count": 36,
   "id": "7d5a0820",
   "metadata": {
    "scrolled": false
   },
   "outputs": [
    {
     "data": {
      "image/png": "[encoded data removed]",
      "text/plain": [
       "<Figure size 648x216 with 1 Axes>"
      ]
     },
     "metadata": {},
     "output_type": "display_data"
    }
   ],
   "source": [
    "plt.figure(figsize=(9,3))\n",
    "plt.legend(['Не отточные', 'Отточные'])\n",
    "sns.histplot(df[df['churn'] == 0]['age'], discrete=True, stat='density', common_norm=False, color='Green');\n",
    "sns.histplot(df[df['churn'] == 1]['age'], discrete=True, stat='density', common_norm=False, color='Red');\n",
    "plt.show()"
   ]
  },
  {
   "cell_type": "markdown",
   "id": "149aab37",
   "metadata": {},
   "source": [
    "Распределения по возрасту в разрезе оттока перекрывают друг друга на разных интервалах. \n",
    "Разделим отточных клиентов по возрастным группам: <br>\n",
    "18-24 <br>\n",
    "25-35 <br>\n",
    "36-50 <br>\n",
    "51-60 <br>\n",
    "60+"
   ]
  },
  {
   "cell_type": "code",
   "execution_count": 37,
   "id": "23823281",
   "metadata": {},
   "outputs": [],
   "source": [
    "# создадим функцию age_cat для распределения клиентов по возрастным группам\n",
    "\n",
    "def age_cat(age):\n",
    "    if 18 <= age <= 24:\n",
    "        return '18-24'\n",
    "    if 25 <= age <= 35:\n",
    "        return '25-35'\n",
    "    if 36 <= age <= 50:\n",
    "        return '36-50'\n",
    "    if 51 <= age <= 60:\n",
    "        return '51-60'\n",
    "    if 61 <= age:\n",
    "        return '60+'\n",
    "    \n",
    "df['age_cat'] = df['age'].apply (age_cat)"
   ]
  },
  {
   "cell_type": "code",
   "execution_count": 38,
   "id": "5b16cdff",
   "metadata": {},
   "outputs": [
    {
     "data": {
      "image/png": "[encoded data removed]",
      "text/plain": [
       "<Figure size 432x288 with 1 Axes>"
      ]
     },
     "metadata": {},
     "output_type": "display_data"
    }
   ],
   "source": [
    "df.groupby(['age_cat']).agg({'churn': 'sum'}).plot(\n",
    "    kind='pie',\n",
    "    y='churn',\n",
    "    autopct='%1.0f%%',\n",
    "    title='Распределение отточных клиентов по возрастным группам'); "
   ]
  },
  {
   "cell_type": "markdown",
   "id": "c65e9a7e",
   "metadata": {},
   "source": [
    "Для категориальных характеристик построим столбчатую диаграмму уровня оттока"
   ]
  },
  {
   "cell_type": "code",
   "execution_count": 40,
   "id": "8494e2c3",
   "metadata": {
    "scrolled": false
   },
   "outputs": [
    {
     "data": {
      "image/png": "[encoded data removed]",
      "text/plain": [
       "<Figure size 1080x864 with 9 Axes>"
      ]
     },
     "metadata": {},
     "output_type": "display_data"
    }
   ],
   "source": [
    "churn_mean=df['churn'].mean()\n",
    "fig, axes = plt.subplots(3,3, figsize=(15, 12))\n",
    "n=0\n",
    "for categorical in ['city', 'equity', 'products']:\n",
    "    # выводим количество отточных клиентов в категории\n",
    "    sns.countplot(data=df[df['churn'] == 1], x=categorical, palette=\"coolwarm\", ax=axes[n][1])\n",
    "    axes[n][1].set_ylabel(\"Количество отточных\")\n",
    "\n",
    "    # выводим количество всех клиентов в категории\n",
    "    sns.countplot(data=df, x=categorical, palette=\"coolwarm\", ax=axes[n][2])\n",
    "    axes[n][2].set_ylabel(\"Общее количество\")\n",
    "\n",
    "    # выводим уровень отточности клиентов в категории\n",
    "    levels=df.groupby(categorical).agg({'churn': 'mean'}).reset_index()\n",
    "    sns.barplot(data=levels, x=categorical, y='churn', ax=axes[n][0])\n",
    "    axes[n][0].axhline(y=churn_mean, color='red', alpha=0.2)\n",
    "    axes[n][0].set_ylabel(\"Уровень отточных (%)\")\n",
    "    # выводим метки на barplot\n",
    "    #axes[n][0].bar_label(axes[n][0].containers[0], fmt='%.2f%%', label_type='center')\n",
    "    labels=levels['churn'].values.round(2)\n",
    "    rects=axes[n][0].containers[0].patches\n",
    "    for rect, label in zip(rects, labels):\n",
    "        axes[n][0].text(rect.get_x() + rect.get_width()/2, rect.get_height(), label, ha=\"center\", va=\"bottom\")\n",
    "\n",
    "    n+=1\n",
    "fig.suptitle(\"Уровень и число отточных клиентов в разрезе категориальных характеристик\");\n",
    "plt.show()"
   ]
  },
  {
   "cell_type": "code",
   "execution_count": 42,
   "id": "4994bfbf",
   "metadata": {},
   "outputs": [
    {
     "name": "stdout",
     "output_type": "stream",
     "text": [
      "pandas                            1.2.4\n",
      "pandocfilters                     1.4.2\n"
     ]
    }
   ],
   "source": [
    "### КОД РЕВЬЮЕРА 2\n",
    "libs = !pip list\n",
    "\n",
    "for lib in libs:\n",
    "    if lib.startswith('pand'):\n",
    "        print(lib)"
   ]
  },
  {
   "cell_type": "markdown",
   "id": "433ee132",
   "metadata": {},
   "source": [
    "Построим пироговые диаграммы для категориальных характеристик"
   ]
  },
  {
   "cell_type": "code",
   "execution_count": 43,
   "id": "0c4d3ed8",
   "metadata": {},
   "outputs": [
    {
     "data": {
      "image/png": "[encoded data removed]",
      "text/plain": [
       "<Figure size 720x216 with 3 Axes>"
      ]
     },
     "metadata": {},
     "output_type": "display_data"
    }
   ],
   "source": [
    "figure, axis = plt.subplots(1,3, figsize=(10, 3))\n",
    "figure.suptitle(\"Уровень отточных клиентов в разных городах\");\n",
    "\n",
    "df.groupby('churn').agg({'Ростов': 'sum'}).plot(ax=axis[0],kind='pie',y='Ростов',autopct='%0.1f%%',legend=False,labeldistance=None);\n",
    "df.groupby('churn').agg({'Рыбинск': 'sum'}).plot(ax=axis[1],kind='pie',y='Рыбинск',autopct='%0.1f%%',legend=False,labeldistance=None);\n",
    "df.groupby('churn').agg({'Ярославль': 'sum'}).plot(ax=axis[2],kind='pie',y='Ярославль',autopct='%0.1f%%',legend=False,labeldistance=None);\n",
    "axis[2].legend(['Неотточных','Отточных'], bbox_to_anchor=(1, 1.02), loc='upper left')\n",
    "plt.show()"
   ]
  },
  {
   "cell_type": "code",
   "execution_count": 44,
   "id": "d91560fd",
   "metadata": {},
   "outputs": [
    {
     "data": {
      "image/png": "[encoded data removed]",
      "text/plain": [
       "<Figure size 720x216 with 2 Axes>"
      ]
     },
     "metadata": {},
     "output_type": "display_data"
    }
   ],
   "source": [
    "figure, axis = plt.subplots(1,2, figsize=(10, 3))\n",
    "figure.suptitle(\"Уровень отточных клиентов среди мужчин и женщин\");\n",
    "\n",
    "df.groupby('churn').agg({'male': 'sum'}).plot(ax=axis[0],kind='pie',y='male',autopct='%0.1f%%',legend=False,labeldistance=None);\n",
    "df.groupby('churn').agg({'female': 'sum'}).plot(ax=axis[1],kind='pie',y='female',autopct='%0.1f%%',legend=False,labeldistance=None);\n",
    "axis[1].legend(['Неотточных','Отточных'], bbox_to_anchor=(1, 1.02), loc='upper left')\n",
    "axis[0].set(ylabel='Мужчины')\n",
    "axis[1].set(ylabel='Женщины')\n",
    "plt.show()"
   ]
  },
  {
   "cell_type": "code",
   "execution_count": 45,
   "id": "d241ed68",
   "metadata": {},
   "outputs": [
    {
     "data": {
      "image/png": "[encoded data removed]",
      "text/plain": [
       "<Figure size 720x216 with 2 Axes>"
      ]
     },
     "metadata": {},
     "output_type": "display_data"
    }
   ],
   "source": [
    "figure, axis = plt.subplots(1,2, figsize=(10, 3))\n",
    "figure.suptitle(\"Уровень отточных клиентов в разрезе использования кредитки\");\n",
    "\n",
    "churn_level=df.groupby(['credit_card']).agg({'churn':'mean'})['churn']\n",
    "axis[1].pie(x=[1 - churn_level.loc[0],churn_level.loc[0]],autopct='%.0f%%')\n",
    "axis[0].pie(x=[1 - churn_level.loc[1],churn_level.loc[1]],autopct='%.0f%%')\n",
    "axis[1].legend(['Неотточных','Отточных'], bbox_to_anchor=(1, 1.02), loc='upper left')\n",
    "axis[0].set(ylabel='С кредиткой')\n",
    "axis[1].set(ylabel='Без кредитки')\n",
    "plt.show()"
   ]
  },
  {
   "cell_type": "code",
   "execution_count": 46,
   "id": "80d49376",
   "metadata": {},
   "outputs": [
    {
     "data": {
      "image/png": "[encoded data removed]",
      "text/plain": [
       "<Figure size 720x216 with 2 Axes>"
      ]
     },
     "metadata": {},
     "output_type": "display_data"
    }
   ],
   "source": [
    "figure, axis = plt.subplots(1,2, figsize=(10, 3))\n",
    "figure.suptitle(\"Уровень отточных клиентов по в разрезе активности\");\n",
    "\n",
    "churn_level=df.groupby(['last_activity']).agg({'churn':'mean'})['churn']\n",
    "axis[1].pie(x=[1 - churn_level.loc[0],churn_level.loc[0]],autopct='%.0f%%')\n",
    "axis[0].pie(x=[1 - churn_level.loc[1],churn_level.loc[1]],autopct='%.0f%%')\n",
    "axis[1].legend(['Неотточных','Отточных'], bbox_to_anchor=(1, 1.02), loc='upper left')\n",
    "axis[0].set(ylabel='Активные')\n",
    "axis[1].set(ylabel='Не активные')\n",
    "plt.show()"
   ]
  },
  {
   "cell_type": "markdown",
   "id": "5cf986fa",
   "metadata": {},
   "source": [
    "**Вывод:**\n",
    "Выделим, на основе получившихся графиков, признаки оказывающие наибольшее влияние на отток клиентов:\n",
    "- баллы кредитного рейтинга `score` от 820 до 910\n",
    "- баланс `balance` от 950K\n",
    "- оценочный доход клиента `est_salary` от 100K до 230K\n",
    "- возраст `age` о 25 до 35 либо от 50 до 60\n",
    "- баллов собственности `equity` больше или равно 3\n",
    "- продуктов `products` больше или равно 3\n",
    "- пол `gender` мужчина\n",
    "- кредитной карты `credit_card` нет \n",
    "- активен `last_activity` да\n",
    "<br />\n",
    "\n",
    "Разница уровня оттока по городам очень мала, проверим её ниже с помощью метода гипотиз."
   ]
  },
  {
   "cell_type": "markdown",
   "id": "bb046dad",
   "metadata": {},
   "source": [
    "# Часть 3 - Проверка статистических гипотез"
   ]
  },
  {
   "cell_type": "markdown",
   "id": "4668c97d",
   "metadata": {},
   "source": [
    "Гипотеза №1: о различии дохода между клиентами, которые ушли и которые остались<br>\n",
    "\n",
    "H_0: доходы оставшихся и отточных клиентов равны;<br>\n",
    "H_1: доходы оставшихся и отточных клиентов не равны.<br>\n",
    "\n",
    "Для проверки гипотезы проведем t-test и u-test<br>\n",
    "alpha = 0.05 # критический уровень статистической значимости"
   ]
  },
  {
   "cell_type": "markdown",
   "id": "1667ea6c",
   "metadata": {},
   "source": [
    "Чтобы понять, можно ли применять t-тест, нужно проверить три условия:\n",
    "1. Генеральные совокупности не зависят друг от друга. \n",
    "2. Выборочные средние нормально распределены. \n",
    "3. Дисперсии рассматриваемых генеральных совокупностей равны."
   ]
  },
  {
   "cell_type": "markdown",
   "id": "dc7bc186",
   "metadata": {},
   "source": [
    "Проверим наши генеральные совокупности на соответствие критериям для проведения t-testa"
   ]
  },
  {
   "cell_type": "code",
   "execution_count": 47,
   "id": "1a0d3ae7",
   "metadata": {},
   "outputs": [],
   "source": [
    "a = df[df['churn'] == 1]['est_salary']\n",
    "b = df[df['churn'] == 0]['est_salary']"
   ]
  },
  {
   "cell_type": "code",
   "execution_count": 48,
   "id": "314f2e0f",
   "metadata": {},
   "outputs": [
    {
     "data": {
      "text/plain": [
       "<AxesSubplot:xlabel='est_salary', ylabel='Count'>"
      ]
     },
     "execution_count": 48,
     "metadata": {},
     "output_type": "execute_result"
    },
    {
     "data": {
      "image/png": "[encoded data removed]",
      "text/plain": [
       "<Figure size 432x288 with 1 Axes>"
      ]
     },
     "metadata": {},
     "output_type": "display_data"
    }
   ],
   "source": [
    "sns.histplot(df[df['churn'] == 0]['est_salary'])\n",
    "sns.histplot(df[df['churn'] == 1]['est_salary'])"
   ]
  },
  {
   "cell_type": "code",
   "execution_count": 49,
   "id": "38d8b927",
   "metadata": {},
   "outputs": [
    {
     "name": "stdout",
     "output_type": "stream",
     "text": [
      "p-значение:  0.0\n",
      "Распределение не нормально\n"
     ]
    }
   ],
   "source": [
    "# проведём тест на соотвествие данных о доходах отточных клиентов нормальному распределеню\n",
    "\n",
    "alpha = 0.05  # критический уровень статистической значимости\n",
    "\n",
    "shapiro_test_stat, p_value = st.shapiro(a)\n",
    "\n",
    "print('p-значение: ', p_value)\n",
    "if p_value < alpha:\n",
    "    print('Распределение не нормально')\n",
    "else:\n",
    "    print('Нормальное распределение')  "
   ]
  },
  {
   "cell_type": "code",
   "execution_count": 50,
   "id": "6bc4c20b",
   "metadata": {},
   "outputs": [
    {
     "name": "stdout",
     "output_type": "stream",
     "text": [
      "p-значение:  0.0\n",
      "Распределение не нормально\n"
     ]
    },
    {
     "name": "stderr",
     "output_type": "stream",
     "text": [
      "/opt/conda/lib/python3.9/site-packages/scipy/stats/_morestats.py:1800: UserWarning: p-value may not be accurate for N > 5000.\n",
      "  warnings.warn(\"p-value may not be accurate for N > 5000.\")\n"
     ]
    }
   ],
   "source": [
    "# проведём тест на соотвествие данных о доходах неотточных клиентов нормальному распределеню\n",
    "\n",
    "alpha = 0.05  # критический уровень статистической значимости\n",
    "\n",
    "shapiro_test_stat, p_value = st.shapiro(b)\n",
    "\n",
    "print('p-значение: ', p_value)\n",
    "if p_value < alpha:\n",
    "    print('Распределение не нормально')\n",
    "else:\n",
    "    print('Нормальное распределение') "
   ]
  },
  {
   "cell_type": "code",
   "execution_count": 51,
   "id": "97ad5220",
   "metadata": {},
   "outputs": [
    {
     "name": "stdout",
     "output_type": "stream",
     "text": [
      "20392519451.455894\n",
      "15107976364.850912\n"
     ]
    }
   ],
   "source": [
    "# оценим дисперсии\n",
    "\n",
    "print(df[df['churn'] == 0]['est_salary'].var())\n",
    "print(df[df['churn'] == 1]['est_salary'].var())"
   ]
  },
  {
   "cell_type": "markdown",
   "id": "4ada0934",
   "metadata": {},
   "source": [
    "**Вывод:**\n",
    "1. Генеральные совокупности не зависят друг от друга;\n",
    "2. Распределение значений не является нормальным;\n",
    "3. Дисперсии не равны.<br>\n",
    "При отсутствии нормального распределения сравниваемых выборок вместо t-критерия Стьюдента используются аналогичные методы непараметрической статистики, среди которых наиболее известными является U-критерий Манна — Уитни.<br>\n",
    "**Таким образом, выборки не подходят для проведения t-testa**"
   ]
  },
  {
   "cell_type": "code",
   "execution_count": 52,
   "id": "2a2d20b2",
   "metadata": {},
   "outputs": [
    {
     "name": "stdout",
     "output_type": "stream",
     "text": [
      "p-значение: 0.8987254468291451\n",
      "Не получилось отвергнуть нулевую гипотезу\n"
     ]
    }
   ],
   "source": [
    "# проведем t-test\n",
    "\n",
    "alpha = 0.05\n",
    "\n",
    "results = st.ttest_ind(a, b)\n",
    "\n",
    "print('p-значение:', results.pvalue)\n",
    "\n",
    "if results.pvalue < alpha:\n",
    "    print('Отвергаем нулевую гипотезу')\n",
    "else:\n",
    "    print('Не получилось отвергнуть нулевую гипотезу') "
   ]
  },
  {
   "cell_type": "code",
   "execution_count": 53,
   "id": "f1dc6d7d",
   "metadata": {},
   "outputs": [
    {
     "name": "stdout",
     "output_type": "stream",
     "text": [
      "p-значение:  0.000243559272811695\n",
      "Отвергаем нулевую гипотезу\n"
     ]
    }
   ],
   "source": [
    "# проведем u-test\n",
    "\n",
    "alpha = 0.05  \n",
    "\n",
    "results = st.mannwhitneyu(a, b)\n",
    "\n",
    "print('p-значение: ', results.pvalue)\n",
    "\n",
    "if results.pvalue < alpha:\n",
    "    print('Отвергаем нулевую гипотезу')\n",
    "else:\n",
    "    print(\n",
    "        'Не получилось отвергнуть нулевую гипотезу'\n",
    "    ) "
   ]
  },
  {
   "cell_type": "markdown",
   "id": "f5fcb82c",
   "metadata": {},
   "source": [
    "**Вывод:** В данном случае, распределение не является нормальным, поэтому был выбран непараметрический тест U-критерий Манна — Уитни.<br>\n",
    "\n",
    "Таким образом, отвергаем нулевую гипотезу, доходы оставшихся и отточных клиентов не равны"
   ]
  },
  {
   "cell_type": "markdown",
   "id": "b8ddf56a",
   "metadata": {},
   "source": [
    "Гипотеза №2: о влиянии георгафии на отток<br>\n",
    "\n",
    "H_0: отток зависит от города клиента;<br>\n",
    "H_1: отток не зависит от города клиента.<br>\n",
    "\n",
    "Для проверки гипотезы проведем t-test и u-test<br>\n",
    "alpha = 0.05"
   ]
  },
  {
   "cell_type": "markdown",
   "id": "9b97aa5f",
   "metadata": {},
   "source": [
    "Чтобы понять, можно ли применять t-тест, нужно проверить три условия:\n",
    "1. Генеральные совокупности не зависят друг от друга. \n",
    "2. Выборочные средние нормально распределены. \n",
    "3. Дисперсии рассматриваемых генеральных совокупностей равны.<br>\n",
    "**Проверим наши генеральные совокупности на соответствие критериям для проведения t-testa**"
   ]
  },
  {
   "cell_type": "code",
   "execution_count": 54,
   "id": "66602087",
   "metadata": {},
   "outputs": [
    {
     "name": "stdout",
     "output_type": "stream",
     "text": [
      "[0 1]\n",
      "[1 0]\n",
      "[1 0]\n"
     ]
    }
   ],
   "source": [
    "# выведем набор значений в выборках\n",
    "print(df[df['city'] == 'Ростов']['churn'].unique())\n",
    "print(df[df['city'] == 'Рыбинск']['churn'].unique())\n",
    "print(df[df['city'] == 'Ярославль']['churn'].unique())"
   ]
  },
  {
   "cell_type": "markdown",
   "id": "08af8e5c",
   "metadata": {},
   "source": [
    "Выборки являются набором бинарных значений, поэтому t-test который предназначен для нормально распределённых данных, применять нельзя. Сравнение средних не даст корректного результата. "
   ]
  },
  {
   "cell_type": "markdown",
   "id": "6c9b089c",
   "metadata": {},
   "source": [
    "Проведём c помощью библиотеки statsmodels z-test для проверки гипотезы."
   ]
  },
  {
   "cell_type": "code",
   "execution_count": 55,
   "id": "1821f3f6",
   "metadata": {},
   "outputs": [
    {
     "name": "stdout",
     "output_type": "stream",
     "text": [
      "p-значение: 0.581\n",
      "Не получилось отвергнуть нулевую гипотез удля города Ростов\n",
      "p-значение: 0.005\n",
      "Отвергаем нулевую гипотезу для города Рыбинск\n",
      "p-значение: 0.131\n",
      "Не получилось отвергнуть нулевую гипотез удля города Ярославль\n"
     ]
    }
   ],
   "source": [
    "# проведем z-test для категории города\n",
    "\n",
    "# критический уровень статистической значимости\n",
    "alpha = 0.05\n",
    "\n",
    "# уровень оттока генеральной совокупности\n",
    "churn_val = df['churn'].mean()\n",
    "\n",
    "for city in ['Ростов', 'Рыбинск', 'Ярославль']:\n",
    "\n",
    "    # количество испытаний\n",
    "    nobs = df[df['city']==city]['churn'].count()\n",
    "\n",
    "    # количество успешных\n",
    "    successes = df[(df['city']==city) & (df['churn']==1)]['churn'].count()\n",
    "\n",
    "    # z-test\n",
    "    z_stat, pval = proportions_ztest(successes, nobs, churn_val)\n",
    "\n",
    "    print('p-значение:', '{0:0.3f}'.format(pval))\n",
    "\n",
    "    if pval < alpha:\n",
    "        print('Отвергаем нулевую гипотезу для города', city)\n",
    "    else:\n",
    "        print('Не получилось отвергнуть нулевую гипотез удля города', city)"
   ]
  },
  {
   "cell_type": "code",
   "execution_count": 57,
   "id": "c00983d2",
   "metadata": {},
   "outputs": [
    {
     "name": "stdout",
     "output_type": "stream",
     "text": [
      "p-значение:  0.6020203980124814\n",
      "Отвергаем нулевую гипотезу для города Ростов\n",
      "p-значение:  0.016767897530501296\n",
      "Отвергаем нулевую гипотезу для города Рыбинск\n",
      "p-значение:  0.22676024447809306\n",
      "Отвергаем нулевую гипотезу для города Ярославль\n"
     ]
    }
   ],
   "source": [
    "# проведем u-test для категории города\n",
    "\n",
    "# критический уровень статистической значимости\n",
    "alpha = 0.05\n",
    "\n",
    "for city in ['Ростов', 'Рыбинск', 'Ярославль']:\n",
    "    utest_stat, pval = st.mannwhitneyu(df['churn'], df[df['city']==city]['churn'])\n",
    "    print('p-значение: ', pval)\n",
    "    if results.pvalue < alpha:\n",
    "        print('Отвергаем нулевую гипотезу для города', city)\n",
    "    else:\n",
    "        print('Не получилось отвергнуть нулевую гипотезу для города', city) "
   ]
  },
  {
   "cell_type": "markdown",
   "id": "a1dd6511",
   "metadata": {},
   "source": [
    "**Вывод по u-тесту:** Таким образом, отток не зависит от города клиента."
   ]
  },
  {
   "cell_type": "markdown",
   "id": "d4ffc2b7",
   "metadata": {},
   "source": [
    "**Вывод:** \n",
    "1. Доходы отточных и неотточных клиентов не равны;\n",
    "2. Отток не зависит от города клиента."
   ]
  },
  {
   "cell_type": "markdown",
   "id": "6e23f0f2",
   "metadata": {},
   "source": [
    "# Часть 4 - Промежуточный итог"
   ]
  },
  {
   "cell_type": "markdown",
   "id": "692358af",
   "metadata": {},
   "source": [
    "Признаки которые получились на основе анализа графиков:\n",
    "- баллы кредитного рейтинга `score` от 820 до 910\n",
    "- баланс `balance` от 950K\n",
    "- оценочный доход клиента `est_salary` от 100K до 230K\n",
    "- возраст `age` о 25 до 35 либо от 50 до 60\n",
    "- баллов собственности `equity` больше или равно 3\n",
    "- продуктов `products` больше или равно 3\n",
    "- пол `gender` мужчина\n",
    "- кредитной карты `credit_card` нет \n",
    "- активен `last_activity` да\n",
    "\n",
    "В ходе проверки гипотез был отброшен признак принадлежности к городу.<br />\n",
    "Был подтверждён признак зависимости оттока от дохода.<br />\n",
    "<br />\n",
    "\n",
    "По графику распределению оттока по возрасту, можно заметить две группы отточных клиентов:<br />\n",
    "25-35 лет<br />\n",
    "50-60 лет<br />\n",
    "очень удобно будет разбить по этому признаку выделить 2 сегмента, а третим сделать сегмент не зависящий от возраста. "
   ]
  },
  {
   "cell_type": "markdown",
   "id": "ab6aa96f",
   "metadata": {},
   "source": [
    "# Часть 5 - Сегментация клиентов и приоретезация"
   ]
  },
  {
   "cell_type": "markdown",
   "id": "25b0b46d",
   "metadata": {},
   "source": [
    "Построим карту корреляции чтобы проанализировать зависимости между категориями и возможно или совсем отбросить излишние характеристики при сильной корреляци, или учесть что ин стоит разнести по разным сегментам в случает наличия умеренной корреляции."
   ]
  },
  {
   "cell_type": "code",
   "execution_count": 58,
   "id": "5d06f790",
   "metadata": {},
   "outputs": [
    {
     "data": {
      "image/png": "[encoded data removed]",
      "text/plain": [
       "<Figure size 1080x1080 with 2 Axes>"
      ]
     },
     "metadata": {},
     "output_type": "display_data"
    }
   ],
   "source": [
    "correlation = df[['churn',\n",
    "                  'age',\n",
    "                  'male',\n",
    "                  'credit_card',\n",
    "                  'last_activity',\n",
    "                  'equity',\n",
    "                  'products',\n",
    "                  'balance_na',\n",
    "                  'balance',\n",
    "                  'est_salary',\n",
    "                  'score'\n",
    "                 ]].corr()\n",
    "plt.figure(figsize=(15,15))\n",
    "sns.heatmap(correlation, center=0, annot=True, fmt=\".1f\", cmap='coolwarm')\n",
    "plt.title('Корреляция между разными характеристиками')\n",
    "plt.show()"
   ]
  },
  {
   "cell_type": "markdown",
   "id": "8fff7ac4",
   "metadata": {},
   "source": [
    "По шкале Чеддока, корреляцию оттока с характеристиками можно оценить как:<br />\n",
    "слабая - age, male, credit_card, last_activity, balance_na, balance, est_salary, score.\n",
    "умеренная - equity, products.<br />"
   ]
  },
  {
   "cell_type": "markdown",
   "id": "611500c1",
   "metadata": {},
   "source": [
    "Можно заметить умеренную корреляцию между balance, est_salary и score. Поэтому лучше стараться выносить эти признаки в разные сегменты, чтобы максимизировать покрытие."
   ]
  },
  {
   "cell_type": "markdown",
   "id": "87fb4385",
   "metadata": {},
   "source": [
    "Довольно сложно вручную сразу уметь подбирать сегменты. Поэтому воспользуемся методом перебора комбинаций сегментов. Но из списка результатов автоматического перебора будем выбирать не первый попавшийся (топовый) набор, а выберём такой чтобы учесть те замечания которые делали в предыдущих разделах."
   ]
  },
  {
   "cell_type": "markdown",
   "id": "79b302be",
   "metadata": {},
   "source": [
    "Перебор сегментов, посчёт их отточности:"
   ]
  },
  {
   "cell_type": "code",
   "execution_count": 59,
   "id": "2dcd272c",
   "metadata": {},
   "outputs": [
    {
     "name": "stdout",
     "output_type": "stream",
     "text": [
      "Средняя отточность по банку: 18.20% \n",
      "\n",
      "+ Найден более отточный набор Churn mean: 0.38 ( 0.42 0.37 0.46 ); Churn count:  970\n",
      "Сегменты:\n",
      " (100000 <= est_salary <= 230000 and balance > 950000)\n",
      " (equity >= 3 and 50 < age <= 60)\n",
      " (last_activity == 1 and credit_card == 0 and 820 <= score <= 910) \n",
      "\n",
      "+ Найден более отточный набор Churn mean: 0.39 ( 0.42 0.37 0.45 ); Churn count:  1015\n",
      "Сегменты:\n",
      " (100000 <= est_salary <= 230000 and balance > 950000)\n",
      " (equity >= 3 and 50 < age <= 60)\n",
      " (last_activity == 1 and 25 <= age <= 35 and 820 <= score <= 910) \n",
      "\n",
      "+ Найден более отточный набор Churn mean: 0.4 ( 0.37 0.44 0.45 ); Churn count:  916\n",
      "Сегменты:\n",
      " (credit_card == 0 and 50 < age <= 60)\n",
      " (equity >= 3 and 100000 <= est_salary <= 230000 and balance > 950000)\n",
      " (last_activity == 1 and 25 <= age <= 35 and 820 <= score <= 910) \n",
      "\n",
      "Завершение за итераций: 1535\n"
     ]
    }
   ],
   "source": [
    "# средняя отточность по датасету\n",
    "gauge_churn = df['churn'].mean()\n",
    "print('Средняя отточность по банку:',\"{:.2%}\".format(gauge_churn),'\\n')\n",
    "\n",
    "# формализованный набор условий на основе признаков отточности \n",
    "c=[ '',\n",
    "    'equity >= 3' ,\n",
    "    'last_activity == 1',\n",
    "    'male == 1',\n",
    "    '100000 <= est_salary <= 230000',\n",
    "    'credit_card == 0',\n",
    "    '25 <= age <= 35',\n",
    "    '50 < age <= 60',\n",
    "    '820 <= score <= 910',\n",
    "    'balance > 950000'\n",
    "]\n",
    "\n",
    "gauge_churn = df['churn'].mean()\n",
    "\n",
    "# вычисление отточности сегмента и проверка размера\n",
    "def query_churn_mean(q):\n",
    "    if q == '':\n",
    "        return 0\n",
    "    cm = df.query(q).agg({\"churn\":['mean','count']}).values\n",
    "    if cm[1] < 500:\n",
    "        #print('too small')\n",
    "        return 0\n",
    "    if cm[1] > 5000:\n",
    "        #print('too big')\n",
    "        return 0\n",
    "    else:\n",
    "        return round(cm[0][0],2)\n",
    "\n",
    "# соединяем признаки в сегмент\n",
    "def query_concat(a,op):\n",
    "    q=''\n",
    "    for i in a:\n",
    "        if i != '':\n",
    "            q = i if q == '' else q + op + i\n",
    "    return q\n",
    "\n",
    "# соединяем сегменты в одну выборку\n",
    "def query_concat_or(a):\n",
    "    q=''\n",
    "    for i in a:\n",
    "        if i != '':\n",
    "            q = '(' + i if q == '' else q + ') or (' + i\n",
    "    return q + ')'\n",
    "\n",
    "\n",
    "best_k=0\n",
    "best_q=''\n",
    "i=0\n",
    "\n",
    "for x in list(itertools.permutations([0,1,2,3], 3)):\n",
    "    for y in list(itertools.permutations([0,4,5,6], 3)):\n",
    "        for z in list(itertools.permutations([0,7,8,9], 3)):\n",
    "            i+=1\n",
    "         \n",
    "            if i > 1000:\n",
    "                break\n",
    "            #print(x[0],y[0],z[0],' | ',x[1],y[1],z[1],' | ',x[2],y[2],z[2])\n",
    "            segment_1=query_concat([c[x[0]],c[y[0]],c[z[0]]],' and ')\n",
    "            segment_2=query_concat([c[x[1]],c[y[1]],c[z[1]]],' and ')\n",
    "            segment_3=query_concat([c[x[2]],c[y[2]],c[z[2]]],' and ')\n",
    "            #print(q1,'|',q2,'|',q3)\n",
    "            q1_k=query_churn_mean(segment_1)\n",
    "            q2_k=query_churn_mean(segment_2)\n",
    "            q3_k=query_churn_mean(segment_3)\n",
    "            # проверяем условие по отточности сегментов\n",
    "            if q1_k > 2*gauge_churn and q2_k > 2*gauge_churn and q3_k > 2*gauge_churn:\n",
    "                q = query_concat_or([segment_1,segment_2,segment_3])\n",
    "                t_k=query_churn_mean(q)\n",
    "                if t_k > best_k:\n",
    "                    best_q = q\n",
    "                    best_k = t_k\n",
    "                    print('+ Найден более отточный набор Churn mean:',best_k,'(',q1_k,q2_k,q3_k,');',\n",
    "                          'Churn count: ',df.query(best_q)['churn'].sum())\n",
    "                    print('Сегменты:\\n', best_q.replace(\" or \", \"\\n \"),'\\n')\n",
    "\n",
    "print('Завершение за итераций:',i)"
   ]
  },
  {
   "cell_type": "markdown",
   "id": "ca1bb544",
   "metadata": {},
   "source": [
    "Как и предпологали, выберем два возрастных сегмента и один по уровню обеспеченности:<br />"
   ]
  },
  {
   "cell_type": "markdown",
   "id": "51b3294b",
   "metadata": {},
   "source": [
    "**Сегмент #1**"
   ]
  },
  {
   "cell_type": "code",
   "execution_count": 62,
   "id": "e5d21b03",
   "metadata": {},
   "outputs": [
    {
     "data": {
      "text/html": [
       "<div>\n",
       "<style scoped>\n",
       "    .dataframe tbody tr th:only-of-type {\n",
       "        vertical-align: middle;\n",
       "    }\n",
       "\n",
       "    .dataframe tbody tr th {\n",
       "        vertical-align: top;\n",
       "    }\n",
       "\n",
       "    .dataframe thead th {\n",
       "        text-align: right;\n",
       "    }\n",
       "</style>\n",
       "<table border=\"1\" class=\"dataframe\">\n",
       "  <thead>\n",
       "    <tr style=\"text-align: right;\">\n",
       "      <th></th>\n",
       "      <th>churn</th>\n",
       "    </tr>\n",
       "  </thead>\n",
       "  <tbody>\n",
       "    <tr>\n",
       "      <th>mean</th>\n",
       "      <td>0.366044</td>\n",
       "    </tr>\n",
       "    <tr>\n",
       "      <th>count</th>\n",
       "      <td>642.000000</td>\n",
       "    </tr>\n",
       "  </tbody>\n",
       "</table>\n",
       "</div>"
      ],
      "text/plain": [
       "            churn\n",
       "mean     0.366044\n",
       "count  642.000000"
      ]
     },
     "metadata": {},
     "output_type": "display_data"
    }
   ],
   "source": [
    "display(df.query('credit_card == 0 and 50 < age <= 60').agg({'churn':['mean','count']}))"
   ]
  },
  {
   "cell_type": "markdown",
   "id": "bf760823",
   "metadata": {},
   "source": [
    "Возраст 50-60 лет<br>\n",
    "Наличие кредитной карты: нет<br>\n",
    "Количество клиентов: 642<br>\n",
    "Уровень отточности: 37%<br>"
   ]
  },
  {
   "cell_type": "markdown",
   "id": "316bdac5",
   "metadata": {},
   "source": [
    "**Сегмент №2**"
   ]
  },
  {
   "cell_type": "code",
   "execution_count": 63,
   "id": "c968ae8f",
   "metadata": {},
   "outputs": [
    {
     "data": {
      "text/html": [
       "<div>\n",
       "<style scoped>\n",
       "    .dataframe tbody tr th:only-of-type {\n",
       "        vertical-align: middle;\n",
       "    }\n",
       "\n",
       "    .dataframe tbody tr th {\n",
       "        vertical-align: top;\n",
       "    }\n",
       "\n",
       "    .dataframe thead th {\n",
       "        text-align: right;\n",
       "    }\n",
       "</style>\n",
       "<table border=\"1\" class=\"dataframe\">\n",
       "  <thead>\n",
       "    <tr style=\"text-align: right;\">\n",
       "      <th></th>\n",
       "      <th>churn</th>\n",
       "    </tr>\n",
       "  </thead>\n",
       "  <tbody>\n",
       "    <tr>\n",
       "      <th>mean</th>\n",
       "      <td>0.435824</td>\n",
       "    </tr>\n",
       "    <tr>\n",
       "      <th>count</th>\n",
       "      <td>1044.000000</td>\n",
       "    </tr>\n",
       "  </tbody>\n",
       "</table>\n",
       "</div>"
      ],
      "text/plain": [
       "             churn\n",
       "mean      0.435824\n",
       "count  1044.000000"
      ]
     },
     "metadata": {},
     "output_type": "display_data"
    }
   ],
   "source": [
    "display(df.query('equity >= 3 and 100000 <= est_salary <= 230000 and balance > 950000').agg({'churn':['mean','count']}))"
   ]
  },
  {
   "cell_type": "markdown",
   "id": "7c2e43bc",
   "metadata": {},
   "source": [
    "Баллы собственности более 3<br>\n",
    "Доход 100,000-230,000<br>\n",
    "Баланс более  950,000 <br>\n",
    "Количество клиентов: 1044<br>\n",
    "Уровень отточности: 44%<br>"
   ]
  },
  {
   "cell_type": "markdown",
   "id": "dce75896",
   "metadata": {},
   "source": [
    "**Сегмент №3**"
   ]
  },
  {
   "cell_type": "code",
   "execution_count": 64,
   "id": "2dd5e0d4",
   "metadata": {},
   "outputs": [
    {
     "data": {
      "text/html": [
       "<div>\n",
       "<style scoped>\n",
       "    .dataframe tbody tr th:only-of-type {\n",
       "        vertical-align: middle;\n",
       "    }\n",
       "\n",
       "    .dataframe tbody tr th {\n",
       "        vertical-align: top;\n",
       "    }\n",
       "\n",
       "    .dataframe thead th {\n",
       "        text-align: right;\n",
       "    }\n",
       "</style>\n",
       "<table border=\"1\" class=\"dataframe\">\n",
       "  <thead>\n",
       "    <tr style=\"text-align: right;\">\n",
       "      <th></th>\n",
       "      <th>churn</th>\n",
       "    </tr>\n",
       "  </thead>\n",
       "  <tbody>\n",
       "    <tr>\n",
       "      <th>mean</th>\n",
       "      <td>0.452899</td>\n",
       "    </tr>\n",
       "    <tr>\n",
       "      <th>count</th>\n",
       "      <td>828.000000</td>\n",
       "    </tr>\n",
       "  </tbody>\n",
       "</table>\n",
       "</div>"
      ],
      "text/plain": [
       "            churn\n",
       "mean     0.452899\n",
       "count  828.000000"
      ]
     },
     "metadata": {},
     "output_type": "display_data"
    }
   ],
   "source": [
    "display(df.query('last_activity == 1 and 25 <= age <= 35 and 820 <= score <= 910').agg({'churn':['mean','count']}))"
   ]
  },
  {
   "cell_type": "markdown",
   "id": "b4adc9a8",
   "metadata": {},
   "source": [
    "Возраст 25-35 лет<br>\n",
    "Кредитный рейтинг 830-910<br>\n",
    "Активность: да<br>\n",
    "Количество клиентов: 828<br>\n",
    "Уровень отточности: 45%<br>"
   ]
  },
  {
   "cell_type": "markdown",
   "id": "4c0174cf",
   "metadata": {},
   "source": [
    "# Часть 6 - Рекомендации"
   ]
  },
  {
   "cell_type": "markdown",
   "id": "8704d62b",
   "metadata": {},
   "source": [
    "**Сегмент №1**<br>\n",
    "Возраст 50-60 лет<br>\n",
    "Наличие кредитной карты: нет<br>\n",
    "Количество клиентов: 642<br>\n",
    "Уровень отточности: 37%<br>\n",
    "**Рекомендации:** <br>\n",
    "Предложить кредитную карту<br>"
   ]
  },
  {
   "cell_type": "markdown",
   "id": "720e5a7f",
   "metadata": {},
   "source": [
    "**Сегмент №2**<br>\n",
    "Баллы собственности более 3<br>\n",
    "Доход 100,000-230,000<br>\n",
    "Баланс более  950,000 <br>\n",
    "Количество клиентов: 1044<br>\n",
    "Уровень отточности: 44%<br>\n",
    "**Рекомендации:** <br>\n",
    "Предложить уникальные условия по накопительным счетам<br>\n",
    "Предложить продукты страхования собственности<br>"
   ]
  },
  {
   "cell_type": "markdown",
   "id": "0f8d89e2",
   "metadata": {},
   "source": [
    "**Сегмент №3**<br>\n",
    "Возраст 25-35 лет<br>\n",
    "Кредитный рейтинг 830-910<br>\n",
    "Активность: да<br>\n",
    "Количество клиентов: 828<br>\n",
    "Уровень отточности: 45%<br>\n",
    "**Рекомендации:** <br>\n",
    "Предложить кредит<br>"
   ]
  },
  {
   "cell_type": "markdown",
   "id": "39264b18",
   "metadata": {},
   "source": [
    "Ссылка на презентацию: https://disk.yandex.ru/i/aaWwzE1YZ9_M-Q"
   ]
  }
 ],
 "metadata": {
  "ExecuteTimeLog": [
   {
    "duration": 116,
    "start_time": "2023-09-20T15:44:53.522Z"
   },
   {
    "duration": 1244,
    "start_time": "2023-09-20T15:50:22.811Z"
   },
   {
    "duration": 84,
    "start_time": "2023-09-20T15:50:24.057Z"
   },
   {
    "duration": 22,
    "start_time": "2023-09-20T15:50:24.144Z"
   },
   {
    "duration": 18,
    "start_time": "2023-09-20T15:50:24.168Z"
   },
   {
    "duration": 11,
    "start_time": "2023-09-20T15:50:24.188Z"
   },
   {
    "duration": 6,
    "start_time": "2023-09-20T15:50:24.200Z"
   },
   {
    "duration": 41,
    "start_time": "2023-09-20T15:50:24.208Z"
   },
   {
    "duration": 15,
    "start_time": "2023-09-20T15:50:24.251Z"
   },
   {
    "duration": 4,
    "start_time": "2023-09-20T15:50:24.268Z"
   },
   {
    "duration": 23,
    "start_time": "2023-09-20T15:50:24.274Z"
   },
   {
    "duration": 19,
    "start_time": "2023-09-20T15:50:24.298Z"
   },
   {
    "duration": 11,
    "start_time": "2023-09-20T15:50:24.318Z"
   },
   {
    "duration": 33,
    "start_time": "2023-09-20T15:50:24.330Z"
   },
   {
    "duration": 6,
    "start_time": "2023-09-20T15:50:24.365Z"
   },
   {
    "duration": 11,
    "start_time": "2023-09-20T15:50:24.372Z"
   },
   {
    "duration": 10,
    "start_time": "2023-09-20T15:50:24.385Z"
   },
   {
    "duration": 20,
    "start_time": "2023-09-20T15:50:24.397Z"
   },
   {
    "duration": 8,
    "start_time": "2023-09-20T15:50:24.419Z"
   },
   {
    "duration": 6,
    "start_time": "2023-09-20T15:50:24.429Z"
   },
   {
    "duration": 15,
    "start_time": "2023-09-20T15:50:24.436Z"
   },
   {
    "duration": 41,
    "start_time": "2023-09-20T15:50:24.452Z"
   },
   {
    "duration": 11,
    "start_time": "2023-09-20T15:50:24.495Z"
   },
   {
    "duration": 35,
    "start_time": "2023-09-20T15:50:24.508Z"
   },
   {
    "duration": 103,
    "start_time": "2023-09-20T15:50:24.545Z"
   },
   {
    "duration": 4,
    "start_time": "2023-09-20T15:50:59.134Z"
   },
   {
    "duration": 4,
    "start_time": "2023-09-20T15:55:03.037Z"
   },
   {
    "duration": 103,
    "start_time": "2023-09-20T16:24:50.837Z"
   },
   {
    "duration": 4,
    "start_time": "2023-09-20T16:36:22.802Z"
   },
   {
    "duration": 23,
    "start_time": "2023-09-20T16:36:22.811Z"
   },
   {
    "duration": 13,
    "start_time": "2023-09-20T16:36:22.836Z"
   },
   {
    "duration": 154,
    "start_time": "2023-09-20T16:36:22.851Z"
   },
   {
    "duration": 186,
    "start_time": "2023-09-20T16:36:23.007Z"
   },
   {
    "duration": 162,
    "start_time": "2023-09-20T16:36:23.194Z"
   },
   {
    "duration": 301,
    "start_time": "2023-09-20T16:36:23.358Z"
   },
   {
    "duration": 7,
    "start_time": "2023-09-20T16:36:23.661Z"
   },
   {
    "duration": 184,
    "start_time": "2023-09-20T16:36:23.670Z"
   },
   {
    "duration": 8,
    "start_time": "2023-09-20T16:36:23.856Z"
   },
   {
    "duration": 491,
    "start_time": "2023-09-20T16:36:23.865Z"
   },
   {
    "duration": 0,
    "start_time": "2023-09-20T16:36:24.358Z"
   },
   {
    "duration": 0,
    "start_time": "2023-09-20T16:36:24.359Z"
   },
   {
    "duration": 0,
    "start_time": "2023-09-20T16:36:24.360Z"
   },
   {
    "duration": 0,
    "start_time": "2023-09-20T16:36:24.361Z"
   },
   {
    "duration": 0,
    "start_time": "2023-09-20T16:36:24.362Z"
   },
   {
    "duration": 0,
    "start_time": "2023-09-20T16:36:24.363Z"
   },
   {
    "duration": 0,
    "start_time": "2023-09-20T16:36:24.364Z"
   },
   {
    "duration": 0,
    "start_time": "2023-09-20T16:36:24.365Z"
   },
   {
    "duration": 0,
    "start_time": "2023-09-20T16:36:24.366Z"
   },
   {
    "duration": 0,
    "start_time": "2023-09-20T16:36:24.366Z"
   },
   {
    "duration": 0,
    "start_time": "2023-09-20T16:36:24.367Z"
   },
   {
    "duration": 0,
    "start_time": "2023-09-20T16:36:24.368Z"
   },
   {
    "duration": 0,
    "start_time": "2023-09-20T16:36:24.369Z"
   },
   {
    "duration": 0,
    "start_time": "2023-09-20T16:36:24.370Z"
   },
   {
    "duration": 0,
    "start_time": "2023-09-20T16:36:24.371Z"
   },
   {
    "duration": 0,
    "start_time": "2023-09-20T16:36:24.372Z"
   },
   {
    "duration": 0,
    "start_time": "2023-09-20T16:36:24.373Z"
   },
   {
    "duration": 0,
    "start_time": "2023-09-20T16:36:24.374Z"
   },
   {
    "duration": 0,
    "start_time": "2023-09-20T16:36:24.375Z"
   },
   {
    "duration": 0,
    "start_time": "2023-09-20T16:36:24.376Z"
   },
   {
    "duration": 0,
    "start_time": "2023-09-20T16:36:24.377Z"
   },
   {
    "duration": 0,
    "start_time": "2023-09-20T16:36:24.378Z"
   },
   {
    "duration": 0,
    "start_time": "2023-09-20T16:36:24.379Z"
   },
   {
    "duration": 4,
    "start_time": "2023-09-20T16:39:20.086Z"
   },
   {
    "duration": 602,
    "start_time": "2023-09-20T16:42:25.621Z"
   },
   {
    "duration": 441,
    "start_time": "2023-09-20T16:42:26.225Z"
   },
   {
    "duration": 7,
    "start_time": "2023-09-20T16:42:26.668Z"
   },
   {
    "duration": 54,
    "start_time": "2023-09-20T16:42:26.677Z"
   },
   {
    "duration": 25,
    "start_time": "2023-09-20T16:42:26.732Z"
   },
   {
    "duration": 19,
    "start_time": "2023-09-20T16:42:26.759Z"
   },
   {
    "duration": 11,
    "start_time": "2023-09-20T16:42:26.780Z"
   },
   {
    "duration": 212,
    "start_time": "2023-09-20T16:42:26.792Z"
   },
   {
    "duration": 5,
    "start_time": "2023-09-20T16:42:27.006Z"
   },
   {
    "duration": 14,
    "start_time": "2023-09-20T16:42:27.014Z"
   },
   {
    "duration": 12,
    "start_time": "2023-09-20T16:42:27.045Z"
   },
   {
    "duration": 11,
    "start_time": "2023-09-20T16:42:27.059Z"
   },
   {
    "duration": 11,
    "start_time": "2023-09-20T16:42:27.072Z"
   },
   {
    "duration": 10,
    "start_time": "2023-09-20T16:42:27.087Z"
   },
   {
    "duration": 14,
    "start_time": "2023-09-20T16:42:27.099Z"
   },
   {
    "duration": 38,
    "start_time": "2023-09-20T16:42:27.115Z"
   },
   {
    "duration": 0,
    "start_time": "2023-09-20T16:42:27.155Z"
   },
   {
    "duration": 0,
    "start_time": "2023-09-20T16:42:27.156Z"
   },
   {
    "duration": 0,
    "start_time": "2023-09-20T16:42:27.162Z"
   },
   {
    "duration": 0,
    "start_time": "2023-09-20T16:42:27.164Z"
   },
   {
    "duration": 0,
    "start_time": "2023-09-20T16:42:27.166Z"
   },
   {
    "duration": 0,
    "start_time": "2023-09-20T16:42:27.167Z"
   },
   {
    "duration": 0,
    "start_time": "2023-09-20T16:42:27.169Z"
   },
   {
    "duration": 6,
    "start_time": "2023-09-20T16:42:55.923Z"
   },
   {
    "duration": 601,
    "start_time": "2023-09-20T16:42:55.931Z"
   },
   {
    "duration": 120,
    "start_time": "2023-09-20T16:42:56.546Z"
   },
   {
    "duration": 7,
    "start_time": "2023-09-20T16:42:56.669Z"
   },
   {
    "duration": 26,
    "start_time": "2023-09-20T16:42:56.677Z"
   },
   {
    "duration": 9,
    "start_time": "2023-09-20T16:42:56.705Z"
   },
   {
    "duration": 12,
    "start_time": "2023-09-20T16:42:56.716Z"
   },
   {
    "duration": 50,
    "start_time": "2023-09-21T03:13:23.754Z"
   },
   {
    "duration": 1423,
    "start_time": "2023-09-21T03:13:32.559Z"
   },
   {
    "duration": 152,
    "start_time": "2023-09-21T03:13:33.984Z"
   },
   {
    "duration": 30,
    "start_time": "2023-09-21T03:13:34.138Z"
   },
   {
    "duration": 46,
    "start_time": "2023-09-21T03:13:34.171Z"
   },
   {
    "duration": 35,
    "start_time": "2023-09-21T03:13:34.219Z"
   },
   {
    "duration": 30,
    "start_time": "2023-09-21T03:13:34.256Z"
   },
   {
    "duration": 12,
    "start_time": "2023-09-21T03:13:34.288Z"
   },
   {
    "duration": 17,
    "start_time": "2023-09-21T03:13:34.302Z"
   },
   {
    "duration": 4,
    "start_time": "2023-09-21T03:13:34.321Z"
   },
   {
    "duration": 74,
    "start_time": "2023-09-21T03:13:34.329Z"
   },
   {
    "duration": 10,
    "start_time": "2023-09-21T03:13:34.404Z"
   },
   {
    "duration": 52,
    "start_time": "2023-09-21T03:13:34.416Z"
   },
   {
    "duration": 67,
    "start_time": "2023-09-21T03:13:34.470Z"
   },
   {
    "duration": 17,
    "start_time": "2023-09-21T03:13:34.540Z"
   },
   {
    "duration": 167,
    "start_time": "2023-09-21T03:13:34.559Z"
   },
   {
    "duration": 5,
    "start_time": "2023-09-21T03:13:34.729Z"
   },
   {
    "duration": 24,
    "start_time": "2023-09-21T03:13:34.736Z"
   },
   {
    "duration": 34,
    "start_time": "2023-09-21T03:13:34.762Z"
   },
   {
    "duration": 26,
    "start_time": "2023-09-21T03:13:34.798Z"
   },
   {
    "duration": 52,
    "start_time": "2023-09-21T03:13:34.825Z"
   },
   {
    "duration": 40,
    "start_time": "2023-09-21T03:13:34.879Z"
   },
   {
    "duration": 16,
    "start_time": "2023-09-21T03:13:34.921Z"
   },
   {
    "duration": 11,
    "start_time": "2023-09-21T03:13:34.939Z"
   },
   {
    "duration": 30,
    "start_time": "2023-09-21T03:13:34.952Z"
   },
   {
    "duration": 19,
    "start_time": "2023-09-21T03:13:34.984Z"
   },
   {
    "duration": 20,
    "start_time": "2023-09-21T03:13:35.004Z"
   },
   {
    "duration": 41,
    "start_time": "2023-09-21T03:13:35.025Z"
   },
   {
    "duration": 17,
    "start_time": "2023-09-21T03:13:35.070Z"
   },
   {
    "duration": 184,
    "start_time": "2023-09-21T03:13:35.089Z"
   },
   {
    "duration": 215,
    "start_time": "2023-09-21T03:13:35.275Z"
   },
   {
    "duration": 193,
    "start_time": "2023-09-21T03:13:35.491Z"
   },
   {
    "duration": 646,
    "start_time": "2023-09-21T03:13:35.686Z"
   },
   {
    "duration": 9,
    "start_time": "2023-09-21T03:13:36.334Z"
   },
   {
    "duration": 228,
    "start_time": "2023-09-21T03:13:36.345Z"
   },
   {
    "duration": 11,
    "start_time": "2023-09-21T03:13:36.575Z"
   },
   {
    "duration": 599,
    "start_time": "2023-09-21T03:13:36.588Z"
   },
   {
    "duration": 0,
    "start_time": "2023-09-21T03:13:37.189Z"
   },
   {
    "duration": 0,
    "start_time": "2023-09-21T03:13:37.190Z"
   },
   {
    "duration": 0,
    "start_time": "2023-09-21T03:13:37.192Z"
   },
   {
    "duration": 0,
    "start_time": "2023-09-21T03:13:37.202Z"
   },
   {
    "duration": 0,
    "start_time": "2023-09-21T03:13:37.203Z"
   },
   {
    "duration": 0,
    "start_time": "2023-09-21T03:13:37.204Z"
   },
   {
    "duration": 0,
    "start_time": "2023-09-21T03:13:37.205Z"
   },
   {
    "duration": 0,
    "start_time": "2023-09-21T03:13:37.206Z"
   },
   {
    "duration": 0,
    "start_time": "2023-09-21T03:13:37.207Z"
   },
   {
    "duration": 0,
    "start_time": "2023-09-21T03:13:37.208Z"
   },
   {
    "duration": 0,
    "start_time": "2023-09-21T03:13:37.209Z"
   },
   {
    "duration": 0,
    "start_time": "2023-09-21T03:13:37.211Z"
   },
   {
    "duration": 0,
    "start_time": "2023-09-21T03:13:37.212Z"
   },
   {
    "duration": 0,
    "start_time": "2023-09-21T03:13:37.213Z"
   },
   {
    "duration": 0,
    "start_time": "2023-09-21T03:13:37.215Z"
   },
   {
    "duration": 0,
    "start_time": "2023-09-21T03:13:37.216Z"
   },
   {
    "duration": 0,
    "start_time": "2023-09-21T03:13:37.217Z"
   },
   {
    "duration": 0,
    "start_time": "2023-09-21T03:13:37.219Z"
   },
   {
    "duration": 0,
    "start_time": "2023-09-21T03:13:37.220Z"
   },
   {
    "duration": 0,
    "start_time": "2023-09-21T03:13:37.222Z"
   },
   {
    "duration": 0,
    "start_time": "2023-09-21T03:13:37.223Z"
   },
   {
    "duration": 0,
    "start_time": "2023-09-21T03:13:37.224Z"
   },
   {
    "duration": 0,
    "start_time": "2023-09-21T03:13:37.226Z"
   },
   {
    "duration": 0,
    "start_time": "2023-09-21T03:13:37.227Z"
   },
   {
    "duration": 10,
    "start_time": "2023-09-21T03:18:21.362Z"
   },
   {
    "duration": 20,
    "start_time": "2023-09-21T03:18:31.490Z"
   },
   {
    "duration": 6,
    "start_time": "2023-09-21T03:21:29.894Z"
   },
   {
    "duration": 4,
    "start_time": "2023-09-21T03:24:49.448Z"
   },
   {
    "duration": 17,
    "start_time": "2023-09-21T03:26:28.139Z"
   },
   {
    "duration": 19,
    "start_time": "2023-09-21T03:26:35.385Z"
   },
   {
    "duration": 548,
    "start_time": "2023-09-21T03:38:12.446Z"
   },
   {
    "duration": 622,
    "start_time": "2023-09-21T03:38:39.269Z"
   },
   {
    "duration": 1002,
    "start_time": "2023-09-21T03:53:14.202Z"
   },
   {
    "duration": 137,
    "start_time": "2023-09-21T04:02:07.656Z"
   },
   {
    "duration": 748,
    "start_time": "2023-09-21T04:16:14.174Z"
   },
   {
    "duration": 92,
    "start_time": "2023-09-21T04:25:46.458Z"
   },
   {
    "duration": 675,
    "start_time": "2023-09-21T04:56:22.262Z"
   },
   {
    "duration": 609,
    "start_time": "2023-09-21T04:57:38.624Z"
   },
   {
    "duration": 1032,
    "start_time": "2023-09-21T04:58:19.985Z"
   },
   {
    "duration": 1117,
    "start_time": "2023-09-21T05:00:17.163Z"
   },
   {
    "duration": 1341,
    "start_time": "2023-09-21T05:05:13.449Z"
   },
   {
    "duration": 1083,
    "start_time": "2023-09-21T05:05:55.079Z"
   },
   {
    "duration": 449,
    "start_time": "2023-09-21T05:07:16.047Z"
   },
   {
    "duration": 2399,
    "start_time": "2023-09-21T05:07:31.604Z"
   },
   {
    "duration": 744,
    "start_time": "2023-09-21T05:12:05.401Z"
   },
   {
    "duration": 1223,
    "start_time": "2023-09-21T05:12:35.149Z"
   },
   {
    "duration": 1069,
    "start_time": "2023-09-21T05:13:42.778Z"
   },
   {
    "duration": 1179,
    "start_time": "2023-09-21T05:15:01.404Z"
   },
   {
    "duration": 1168,
    "start_time": "2023-09-21T05:20:05.969Z"
   },
   {
    "duration": 3,
    "start_time": "2023-09-21T05:20:09.384Z"
   },
   {
    "duration": 654,
    "start_time": "2023-09-21T05:20:14.158Z"
   },
   {
    "duration": 493,
    "start_time": "2023-09-21T05:21:19.257Z"
   },
   {
    "duration": 488,
    "start_time": "2023-09-21T05:21:47.713Z"
   },
   {
    "duration": 469,
    "start_time": "2023-09-21T05:23:35.179Z"
   },
   {
    "duration": 173,
    "start_time": "2023-09-21T05:26:50.310Z"
   },
   {
    "duration": 303,
    "start_time": "2023-09-21T05:26:57.166Z"
   },
   {
    "duration": 189,
    "start_time": "2023-09-21T05:27:19.086Z"
   },
   {
    "duration": 220,
    "start_time": "2023-09-21T05:27:21.382Z"
   },
   {
    "duration": 168,
    "start_time": "2023-09-21T05:27:25.134Z"
   },
   {
    "duration": 168,
    "start_time": "2023-09-21T05:27:58.927Z"
   },
   {
    "duration": 209,
    "start_time": "2023-09-21T05:28:01.838Z"
   },
   {
    "duration": 207,
    "start_time": "2023-09-21T05:28:14.847Z"
   },
   {
    "duration": 199,
    "start_time": "2023-09-21T05:28:26.528Z"
   },
   {
    "duration": 230,
    "start_time": "2023-09-21T05:28:48.632Z"
   },
   {
    "duration": 256,
    "start_time": "2023-09-21T05:29:44.587Z"
   },
   {
    "duration": 184,
    "start_time": "2023-09-21T05:29:51.691Z"
   },
   {
    "duration": 199,
    "start_time": "2023-09-21T05:30:46.252Z"
   },
   {
    "duration": 206,
    "start_time": "2023-09-21T05:30:54.819Z"
   },
   {
    "duration": 316,
    "start_time": "2023-09-21T05:34:35.619Z"
   },
   {
    "duration": 193,
    "start_time": "2023-09-21T05:34:50.072Z"
   },
   {
    "duration": 198,
    "start_time": "2023-09-21T05:35:00.561Z"
   },
   {
    "duration": 228,
    "start_time": "2023-09-21T05:36:34.738Z"
   },
   {
    "duration": 219,
    "start_time": "2023-09-21T05:36:55.604Z"
   },
   {
    "duration": 199,
    "start_time": "2023-09-21T05:37:29.428Z"
   },
   {
    "duration": 254,
    "start_time": "2023-09-21T05:37:31.578Z"
   },
   {
    "duration": 239,
    "start_time": "2023-09-21T05:37:35.962Z"
   },
   {
    "duration": 247,
    "start_time": "2023-09-21T05:37:46.716Z"
   },
   {
    "duration": 387,
    "start_time": "2023-09-21T05:37:50.884Z"
   },
   {
    "duration": 16,
    "start_time": "2023-09-21T05:37:56.989Z"
   },
   {
    "duration": 10,
    "start_time": "2023-09-21T05:38:01.028Z"
   },
   {
    "duration": 330,
    "start_time": "2023-09-21T05:38:03.044Z"
   },
   {
    "duration": 1278,
    "start_time": "2023-09-21T05:38:13.870Z"
   },
   {
    "duration": 42,
    "start_time": "2023-09-21T05:38:15.152Z"
   },
   {
    "duration": 802,
    "start_time": "2023-09-21T05:38:15.196Z"
   },
   {
    "duration": 57,
    "start_time": "2023-09-21T05:38:16.000Z"
   },
   {
    "duration": 131,
    "start_time": "2023-09-21T05:38:16.059Z"
   },
   {
    "duration": 66,
    "start_time": "2023-09-21T05:38:16.192Z"
   },
   {
    "duration": 23,
    "start_time": "2023-09-21T05:38:16.259Z"
   },
   {
    "duration": 80,
    "start_time": "2023-09-21T05:38:16.284Z"
   },
   {
    "duration": 53,
    "start_time": "2023-09-21T05:38:16.368Z"
   },
   {
    "duration": 21,
    "start_time": "2023-09-21T05:38:16.423Z"
   },
   {
    "duration": 22,
    "start_time": "2023-09-21T05:38:16.446Z"
   },
   {
    "duration": 32,
    "start_time": "2023-09-21T05:38:16.470Z"
   },
   {
    "duration": 20,
    "start_time": "2023-09-21T05:38:16.504Z"
   },
   {
    "duration": 7,
    "start_time": "2023-09-21T05:38:16.525Z"
   },
   {
    "duration": 44,
    "start_time": "2023-09-21T05:38:16.534Z"
   },
   {
    "duration": 22,
    "start_time": "2023-09-21T05:38:16.579Z"
   },
   {
    "duration": 5,
    "start_time": "2023-09-21T05:38:16.603Z"
   },
   {
    "duration": 19,
    "start_time": "2023-09-21T05:38:16.610Z"
   },
   {
    "duration": 15,
    "start_time": "2023-09-21T05:38:16.631Z"
   },
   {
    "duration": 49,
    "start_time": "2023-09-21T05:38:16.648Z"
   },
   {
    "duration": 52,
    "start_time": "2023-09-21T05:38:16.699Z"
   },
   {
    "duration": 12,
    "start_time": "2023-09-21T05:38:16.753Z"
   },
   {
    "duration": 37,
    "start_time": "2023-09-21T05:38:16.767Z"
   },
   {
    "duration": 29,
    "start_time": "2023-09-21T05:38:16.806Z"
   },
   {
    "duration": 25,
    "start_time": "2023-09-21T05:38:16.837Z"
   },
   {
    "duration": 11,
    "start_time": "2023-09-21T05:38:16.863Z"
   },
   {
    "duration": 24,
    "start_time": "2023-09-21T05:38:16.877Z"
   },
   {
    "duration": 5,
    "start_time": "2023-09-21T05:38:16.903Z"
   },
   {
    "duration": 32,
    "start_time": "2023-09-21T05:38:16.909Z"
   },
   {
    "duration": 39,
    "start_time": "2023-09-21T05:38:16.943Z"
   },
   {
    "duration": 13,
    "start_time": "2023-09-21T05:38:16.984Z"
   },
   {
    "duration": 224,
    "start_time": "2023-09-21T05:38:16.999Z"
   },
   {
    "duration": 276,
    "start_time": "2023-09-21T05:38:17.225Z"
   },
   {
    "duration": 238,
    "start_time": "2023-09-21T05:38:17.503Z"
   },
   {
    "duration": 415,
    "start_time": "2023-09-21T05:38:17.743Z"
   },
   {
    "duration": 9,
    "start_time": "2023-09-21T05:38:18.160Z"
   },
   {
    "duration": 233,
    "start_time": "2023-09-21T05:38:18.171Z"
   },
   {
    "duration": 2,
    "start_time": "2023-09-21T05:38:18.406Z"
   },
   {
    "duration": 1245,
    "start_time": "2023-09-21T05:38:18.410Z"
   },
   {
    "duration": 5,
    "start_time": "2023-09-21T05:38:19.657Z"
   },
   {
    "duration": 563,
    "start_time": "2023-09-21T05:38:19.664Z"
   },
   {
    "duration": 497,
    "start_time": "2023-09-21T05:38:20.228Z"
   },
   {
    "duration": 8,
    "start_time": "2023-09-21T05:38:20.726Z"
   },
   {
    "duration": 28,
    "start_time": "2023-09-21T05:38:20.735Z"
   },
   {
    "duration": 42,
    "start_time": "2023-09-21T05:38:20.765Z"
   },
   {
    "duration": 39,
    "start_time": "2023-09-21T05:38:20.808Z"
   },
   {
    "duration": 27,
    "start_time": "2023-09-21T05:38:20.849Z"
   },
   {
    "duration": 262,
    "start_time": "2023-09-21T05:38:20.878Z"
   },
   {
    "duration": 5,
    "start_time": "2023-09-21T05:38:21.142Z"
   },
   {
    "duration": 50,
    "start_time": "2023-09-21T05:38:21.149Z"
   },
   {
    "duration": 35,
    "start_time": "2023-09-21T05:38:21.201Z"
   },
   {
    "duration": 45,
    "start_time": "2023-09-21T05:38:21.238Z"
   },
   {
    "duration": 44,
    "start_time": "2023-09-21T05:38:21.284Z"
   },
   {
    "duration": 45,
    "start_time": "2023-09-21T05:38:21.330Z"
   },
   {
    "duration": 52,
    "start_time": "2023-09-21T05:38:21.377Z"
   },
   {
    "duration": 127,
    "start_time": "2023-09-21T05:38:21.432Z"
   },
   {
    "duration": 0,
    "start_time": "2023-09-21T05:38:21.561Z"
   },
   {
    "duration": 0,
    "start_time": "2023-09-21T05:38:21.563Z"
   },
   {
    "duration": 0,
    "start_time": "2023-09-21T05:38:21.564Z"
   },
   {
    "duration": 0,
    "start_time": "2023-09-21T05:38:21.566Z"
   },
   {
    "duration": 0,
    "start_time": "2023-09-21T05:38:21.567Z"
   },
   {
    "duration": 0,
    "start_time": "2023-09-21T05:38:21.569Z"
   },
   {
    "duration": 0,
    "start_time": "2023-09-21T05:38:21.570Z"
   },
   {
    "duration": 1246,
    "start_time": "2023-09-21T05:38:45.367Z"
   },
   {
    "duration": 43,
    "start_time": "2023-09-21T05:38:46.615Z"
   },
   {
    "duration": 22,
    "start_time": "2023-09-21T05:38:46.659Z"
   },
   {
    "duration": 22,
    "start_time": "2023-09-21T05:38:46.683Z"
   },
   {
    "duration": 32,
    "start_time": "2023-09-21T05:38:46.707Z"
   },
   {
    "duration": 25,
    "start_time": "2023-09-21T05:38:46.741Z"
   },
   {
    "duration": 38,
    "start_time": "2023-09-21T05:38:46.768Z"
   },
   {
    "duration": 21,
    "start_time": "2023-09-21T05:38:46.807Z"
   },
   {
    "duration": 8,
    "start_time": "2023-09-21T05:38:46.830Z"
   },
   {
    "duration": 26,
    "start_time": "2023-09-21T05:38:46.840Z"
   },
   {
    "duration": 6,
    "start_time": "2023-09-21T05:38:46.868Z"
   },
   {
    "duration": 31,
    "start_time": "2023-09-21T05:38:46.876Z"
   },
   {
    "duration": 26,
    "start_time": "2023-09-21T05:38:46.909Z"
   },
   {
    "duration": 7,
    "start_time": "2023-09-21T05:38:46.936Z"
   },
   {
    "duration": 36,
    "start_time": "2023-09-21T05:38:46.945Z"
   },
   {
    "duration": 23,
    "start_time": "2023-09-21T05:38:46.982Z"
   },
   {
    "duration": 4,
    "start_time": "2023-09-21T05:38:47.006Z"
   },
   {
    "duration": 17,
    "start_time": "2023-09-21T05:38:47.011Z"
   },
   {
    "duration": 5,
    "start_time": "2023-09-21T05:38:47.030Z"
   },
   {
    "duration": 12,
    "start_time": "2023-09-21T05:38:47.037Z"
   },
   {
    "duration": 21,
    "start_time": "2023-09-21T05:38:47.051Z"
   },
   {
    "duration": 25,
    "start_time": "2023-09-21T05:38:47.074Z"
   },
   {
    "duration": 35,
    "start_time": "2023-09-21T05:38:47.100Z"
   },
   {
    "duration": 33,
    "start_time": "2023-09-21T05:38:47.137Z"
   },
   {
    "duration": 15,
    "start_time": "2023-09-21T05:38:47.172Z"
   },
   {
    "duration": 17,
    "start_time": "2023-09-21T05:38:47.189Z"
   },
   {
    "duration": 20,
    "start_time": "2023-09-21T05:38:47.208Z"
   },
   {
    "duration": 15,
    "start_time": "2023-09-21T05:38:47.232Z"
   },
   {
    "duration": 23,
    "start_time": "2023-09-21T05:38:47.248Z"
   },
   {
    "duration": 163,
    "start_time": "2023-09-21T05:38:47.272Z"
   },
   {
    "duration": 69,
    "start_time": "2023-09-21T05:38:47.437Z"
   },
   {
    "duration": 218,
    "start_time": "2023-09-21T05:38:47.508Z"
   },
   {
    "duration": 258,
    "start_time": "2023-09-21T05:38:47.728Z"
   },
   {
    "duration": 252,
    "start_time": "2023-09-21T05:38:47.988Z"
   },
   {
    "duration": 426,
    "start_time": "2023-09-21T05:38:48.243Z"
   },
   {
    "duration": 9,
    "start_time": "2023-09-21T05:38:48.671Z"
   },
   {
    "duration": 230,
    "start_time": "2023-09-21T05:38:48.683Z"
   },
   {
    "duration": 3,
    "start_time": "2023-09-21T05:38:48.914Z"
   },
   {
    "duration": 1259,
    "start_time": "2023-09-21T05:38:48.919Z"
   },
   {
    "duration": 4,
    "start_time": "2023-09-21T05:38:50.180Z"
   },
   {
    "duration": 569,
    "start_time": "2023-09-21T05:38:50.185Z"
   },
   {
    "duration": 504,
    "start_time": "2023-09-21T05:38:50.756Z"
   },
   {
    "duration": 8,
    "start_time": "2023-09-21T05:38:51.263Z"
   },
   {
    "duration": 30,
    "start_time": "2023-09-21T05:38:51.272Z"
   },
   {
    "duration": 13,
    "start_time": "2023-09-21T05:38:51.304Z"
   },
   {
    "duration": 24,
    "start_time": "2023-09-21T05:38:51.319Z"
   },
   {
    "duration": 22,
    "start_time": "2023-09-21T05:38:51.345Z"
   },
   {
    "duration": 252,
    "start_time": "2023-09-21T05:38:51.369Z"
   },
   {
    "duration": 6,
    "start_time": "2023-09-21T05:38:51.622Z"
   },
   {
    "duration": 184,
    "start_time": "2023-09-21T05:38:51.629Z"
   },
   {
    "duration": 83,
    "start_time": "2023-09-21T05:38:51.815Z"
   },
   {
    "duration": 23,
    "start_time": "2023-09-21T05:38:51.900Z"
   },
   {
    "duration": 31,
    "start_time": "2023-09-21T05:38:51.925Z"
   },
   {
    "duration": 46,
    "start_time": "2023-09-21T05:38:51.958Z"
   },
   {
    "duration": 50,
    "start_time": "2023-09-21T05:38:52.006Z"
   },
   {
    "duration": 123,
    "start_time": "2023-09-21T05:38:52.058Z"
   },
   {
    "duration": 0,
    "start_time": "2023-09-21T05:38:52.183Z"
   },
   {
    "duration": 0,
    "start_time": "2023-09-21T05:38:52.185Z"
   },
   {
    "duration": 0,
    "start_time": "2023-09-21T05:38:52.186Z"
   },
   {
    "duration": 0,
    "start_time": "2023-09-21T05:38:52.187Z"
   },
   {
    "duration": 0,
    "start_time": "2023-09-21T05:38:52.188Z"
   },
   {
    "duration": 0,
    "start_time": "2023-09-21T05:38:52.201Z"
   },
   {
    "duration": 0,
    "start_time": "2023-09-21T05:38:52.202Z"
   },
   {
    "duration": 1223,
    "start_time": "2023-09-21T05:39:16.182Z"
   },
   {
    "duration": 1207,
    "start_time": "2023-09-21T05:39:26.650Z"
   },
   {
    "duration": 42,
    "start_time": "2023-09-21T05:39:27.859Z"
   },
   {
    "duration": 21,
    "start_time": "2023-09-21T05:39:27.903Z"
   },
   {
    "duration": 13,
    "start_time": "2023-09-21T05:39:27.927Z"
   },
   {
    "duration": 12,
    "start_time": "2023-09-21T05:39:27.942Z"
   },
   {
    "duration": 5,
    "start_time": "2023-09-21T05:39:27.956Z"
   },
   {
    "duration": 5,
    "start_time": "2023-09-21T05:39:27.962Z"
   },
   {
    "duration": 14,
    "start_time": "2023-09-21T05:39:28.000Z"
   },
   {
    "duration": 8,
    "start_time": "2023-09-21T05:39:28.016Z"
   },
   {
    "duration": 17,
    "start_time": "2023-09-21T05:39:28.026Z"
   },
   {
    "duration": 5,
    "start_time": "2023-09-21T05:39:28.045Z"
   },
   {
    "duration": 13,
    "start_time": "2023-09-21T05:39:28.051Z"
   },
   {
    "duration": 16,
    "start_time": "2023-09-21T05:39:28.066Z"
   },
   {
    "duration": 23,
    "start_time": "2023-09-21T05:39:28.083Z"
   },
   {
    "duration": 35,
    "start_time": "2023-09-21T05:39:28.108Z"
   },
   {
    "duration": 6,
    "start_time": "2023-09-21T05:39:28.145Z"
   },
   {
    "duration": 7,
    "start_time": "2023-09-21T05:39:28.152Z"
   },
   {
    "duration": 7,
    "start_time": "2023-09-21T05:39:28.161Z"
   },
   {
    "duration": 37,
    "start_time": "2023-09-21T05:39:28.170Z"
   },
   {
    "duration": 6,
    "start_time": "2023-09-21T05:39:28.209Z"
   },
   {
    "duration": 7,
    "start_time": "2023-09-21T05:39:28.217Z"
   },
   {
    "duration": 13,
    "start_time": "2023-09-21T05:39:28.226Z"
   },
   {
    "duration": 21,
    "start_time": "2023-09-21T05:39:28.241Z"
   },
   {
    "duration": 54,
    "start_time": "2023-09-21T05:39:28.264Z"
   },
   {
    "duration": 16,
    "start_time": "2023-09-21T05:39:28.319Z"
   },
   {
    "duration": 15,
    "start_time": "2023-09-21T05:39:28.337Z"
   },
   {
    "duration": 25,
    "start_time": "2023-09-21T05:39:28.354Z"
   },
   {
    "duration": 4,
    "start_time": "2023-09-21T05:39:28.383Z"
   },
   {
    "duration": 29,
    "start_time": "2023-09-21T05:39:28.389Z"
   },
   {
    "duration": 52,
    "start_time": "2023-09-21T05:39:28.420Z"
   },
   {
    "duration": 13,
    "start_time": "2023-09-21T05:39:28.473Z"
   },
   {
    "duration": 258,
    "start_time": "2023-09-21T05:39:28.488Z"
   },
   {
    "duration": 267,
    "start_time": "2023-09-21T05:39:28.747Z"
   },
   {
    "duration": 231,
    "start_time": "2023-09-21T05:39:29.015Z"
   },
   {
    "duration": 405,
    "start_time": "2023-09-21T05:39:29.248Z"
   },
   {
    "duration": 8,
    "start_time": "2023-09-21T05:39:29.655Z"
   },
   {
    "duration": 206,
    "start_time": "2023-09-21T05:39:29.665Z"
   },
   {
    "duration": 2,
    "start_time": "2023-09-21T05:39:29.874Z"
   },
   {
    "duration": 1273,
    "start_time": "2023-09-21T05:39:29.878Z"
   },
   {
    "duration": 4,
    "start_time": "2023-09-21T05:39:31.153Z"
   },
   {
    "duration": 584,
    "start_time": "2023-09-21T05:39:31.159Z"
   },
   {
    "duration": 488,
    "start_time": "2023-09-21T05:39:31.745Z"
   },
   {
    "duration": 8,
    "start_time": "2023-09-21T05:39:32.235Z"
   },
   {
    "duration": 1169,
    "start_time": "2023-09-21T05:39:32.244Z"
   },
   {
    "duration": 572,
    "start_time": "2023-09-21T05:39:33.415Z"
   },
   {
    "duration": 146,
    "start_time": "2023-09-21T05:39:33.989Z"
   },
   {
    "duration": 19,
    "start_time": "2023-09-21T05:39:34.137Z"
   },
   {
    "duration": 271,
    "start_time": "2023-09-21T05:39:34.158Z"
   },
   {
    "duration": 5,
    "start_time": "2023-09-21T05:39:34.431Z"
   },
   {
    "duration": 16,
    "start_time": "2023-09-21T05:39:34.438Z"
   },
   {
    "duration": 15,
    "start_time": "2023-09-21T05:39:34.455Z"
   },
   {
    "duration": 23,
    "start_time": "2023-09-21T05:39:34.472Z"
   },
   {
    "duration": 22,
    "start_time": "2023-09-21T05:39:34.497Z"
   },
   {
    "duration": 26,
    "start_time": "2023-09-21T05:39:34.521Z"
   },
   {
    "duration": 19,
    "start_time": "2023-09-21T05:39:34.551Z"
   },
   {
    "duration": 1292,
    "start_time": "2023-09-21T05:39:34.572Z"
   },
   {
    "duration": 7,
    "start_time": "2023-09-21T05:39:35.866Z"
   },
   {
    "duration": 576,
    "start_time": "2023-09-21T05:39:35.875Z"
   },
   {
    "duration": 104,
    "start_time": "2023-09-21T05:39:36.454Z"
   },
   {
    "duration": 6,
    "start_time": "2023-09-21T05:39:36.560Z"
   },
   {
    "duration": 42,
    "start_time": "2023-09-21T05:39:36.568Z"
   },
   {
    "duration": 53,
    "start_time": "2023-09-21T05:39:36.613Z"
   },
   {
    "duration": 40,
    "start_time": "2023-09-21T05:39:36.668Z"
   },
   {
    "duration": 2467,
    "start_time": "2023-09-21T05:48:47.762Z"
   },
   {
    "duration": 1792,
    "start_time": "2023-09-21T05:49:10.688Z"
   },
   {
    "duration": 451,
    "start_time": "2023-09-21T05:50:13.762Z"
   },
   {
    "duration": 470,
    "start_time": "2023-09-21T05:50:33.714Z"
   },
   {
    "duration": 458,
    "start_time": "2023-09-21T05:51:03.651Z"
   },
   {
    "duration": 10,
    "start_time": "2023-09-21T05:51:17.812Z"
   },
   {
    "duration": 11,
    "start_time": "2023-09-21T05:51:58.052Z"
   },
   {
    "duration": 16,
    "start_time": "2023-09-21T05:54:56.456Z"
   },
   {
    "duration": 15,
    "start_time": "2023-09-21T05:55:15.464Z"
   },
   {
    "duration": 16,
    "start_time": "2023-09-21T05:55:43.585Z"
   },
   {
    "duration": 12,
    "start_time": "2023-09-21T05:55:50.319Z"
   },
   {
    "duration": 12,
    "start_time": "2023-09-21T05:56:17.576Z"
   },
   {
    "duration": 19,
    "start_time": "2023-09-21T05:56:47.481Z"
   },
   {
    "duration": 510,
    "start_time": "2023-09-21T05:57:11.146Z"
   },
   {
    "duration": 680,
    "start_time": "2023-09-21T05:58:13.572Z"
   },
   {
    "duration": 383,
    "start_time": "2023-09-21T05:59:57.589Z"
   },
   {
    "duration": 291,
    "start_time": "2023-09-21T06:00:15.286Z"
   },
   {
    "duration": 353,
    "start_time": "2023-09-21T06:00:23.413Z"
   },
   {
    "duration": 965,
    "start_time": "2023-09-21T06:01:07.317Z"
   },
   {
    "duration": 684,
    "start_time": "2023-09-21T06:01:20.613Z"
   },
   {
    "duration": 528,
    "start_time": "2023-09-21T06:01:32.046Z"
   },
   {
    "duration": 751,
    "start_time": "2023-09-21T06:01:44.422Z"
   },
   {
    "duration": 402,
    "start_time": "2023-09-21T06:01:59.735Z"
   },
   {
    "duration": 2862,
    "start_time": "2023-09-21T06:02:22.174Z"
   },
   {
    "duration": 432,
    "start_time": "2023-09-21T06:03:02.246Z"
   },
   {
    "duration": 418,
    "start_time": "2023-09-21T06:03:25.086Z"
   },
   {
    "duration": 408,
    "start_time": "2023-09-21T06:05:17.184Z"
   },
   {
    "duration": 556,
    "start_time": "2023-09-21T06:05:37.805Z"
   },
   {
    "duration": 107,
    "start_time": "2023-09-21T06:06:26.183Z"
   },
   {
    "duration": 404,
    "start_time": "2023-09-21T06:06:29.838Z"
   },
   {
    "duration": 437,
    "start_time": "2023-09-21T06:08:13.678Z"
   },
   {
    "duration": 452,
    "start_time": "2023-09-21T06:08:32.198Z"
   },
   {
    "duration": 416,
    "start_time": "2023-09-21T06:08:39.806Z"
   },
   {
    "duration": 421,
    "start_time": "2023-09-21T06:08:46.310Z"
   },
   {
    "duration": 414,
    "start_time": "2023-09-21T06:08:51.870Z"
   },
   {
    "duration": 14,
    "start_time": "2023-09-21T06:13:26.757Z"
   },
   {
    "duration": 10,
    "start_time": "2023-09-21T06:14:58.515Z"
   },
   {
    "duration": 11,
    "start_time": "2023-09-21T06:15:05.273Z"
   },
   {
    "duration": 506,
    "start_time": "2023-09-21T06:15:07.426Z"
   },
   {
    "duration": 10,
    "start_time": "2023-09-21T06:15:12.073Z"
   },
   {
    "duration": 12,
    "start_time": "2023-09-21T06:15:36.563Z"
   },
   {
    "duration": 11,
    "start_time": "2023-09-21T06:15:46.777Z"
   },
   {
    "duration": 395,
    "start_time": "2023-09-21T06:17:08.619Z"
   },
   {
    "duration": 372,
    "start_time": "2023-09-21T06:18:48.740Z"
   },
   {
    "duration": 456,
    "start_time": "2023-09-21T06:19:32.012Z"
   },
   {
    "duration": 441,
    "start_time": "2023-09-21T06:19:47.132Z"
   },
   {
    "duration": 397,
    "start_time": "2023-09-21T06:21:28.063Z"
   },
   {
    "duration": 360,
    "start_time": "2023-09-21T06:21:35.757Z"
   },
   {
    "duration": 330,
    "start_time": "2023-09-21T06:24:35.215Z"
   },
   {
    "duration": 358,
    "start_time": "2023-09-21T06:24:48.263Z"
   },
   {
    "duration": 473,
    "start_time": "2023-09-21T06:25:11.712Z"
   },
   {
    "duration": 334,
    "start_time": "2023-09-21T06:25:26.695Z"
   },
   {
    "duration": 342,
    "start_time": "2023-09-21T06:25:37.472Z"
   },
   {
    "duration": 266,
    "start_time": "2023-09-21T06:26:04.488Z"
   },
   {
    "duration": 280,
    "start_time": "2023-09-21T06:26:24.881Z"
   },
   {
    "duration": 281,
    "start_time": "2023-09-21T06:26:48.784Z"
   },
   {
    "duration": 271,
    "start_time": "2023-09-21T06:27:05.000Z"
   },
   {
    "duration": 291,
    "start_time": "2023-09-21T06:27:13.976Z"
   },
   {
    "duration": 273,
    "start_time": "2023-09-21T06:27:29.177Z"
   },
   {
    "duration": 302,
    "start_time": "2023-09-21T06:28:13.947Z"
   },
   {
    "duration": 262,
    "start_time": "2023-09-21T06:28:22.210Z"
   },
   {
    "duration": 235,
    "start_time": "2023-09-21T06:28:27.050Z"
   },
   {
    "duration": 106,
    "start_time": "2023-09-21T06:28:41.290Z"
   },
   {
    "duration": 540,
    "start_time": "2023-09-21T06:29:22.667Z"
   },
   {
    "duration": 338,
    "start_time": "2023-09-21T06:29:41.445Z"
   },
   {
    "duration": 468,
    "start_time": "2023-09-21T06:30:56.428Z"
   },
   {
    "duration": 113,
    "start_time": "2023-09-21T06:31:50.733Z"
   },
   {
    "duration": 297,
    "start_time": "2023-09-21T06:32:06.861Z"
   },
   {
    "duration": 308,
    "start_time": "2023-09-21T06:32:17.996Z"
   },
   {
    "duration": 378,
    "start_time": "2023-09-21T06:32:38.206Z"
   },
   {
    "duration": 229,
    "start_time": "2023-09-21T06:32:57.781Z"
   },
   {
    "duration": 250,
    "start_time": "2023-09-21T06:33:19.229Z"
   },
   {
    "duration": 248,
    "start_time": "2023-09-21T06:34:23.422Z"
   },
   {
    "duration": 357,
    "start_time": "2023-09-21T06:34:34.503Z"
   },
   {
    "duration": 241,
    "start_time": "2023-09-21T06:34:50.769Z"
   },
   {
    "duration": 182,
    "start_time": "2023-09-21T06:37:32.801Z"
   },
   {
    "duration": 1305,
    "start_time": "2023-09-21T06:39:22.148Z"
   },
   {
    "duration": 1429,
    "start_time": "2023-09-21T06:39:32.572Z"
   },
   {
    "duration": 1218,
    "start_time": "2023-09-21T06:40:06.988Z"
   },
   {
    "duration": 236,
    "start_time": "2023-09-21T06:42:51.535Z"
   },
   {
    "duration": 241,
    "start_time": "2023-09-21T06:45:09.425Z"
   },
   {
    "duration": 1304,
    "start_time": "2023-09-21T06:46:27.642Z"
   },
   {
    "duration": 1437,
    "start_time": "2023-09-21T06:46:43.922Z"
   },
   {
    "duration": 1260,
    "start_time": "2023-09-21T06:46:56.698Z"
   },
   {
    "duration": 1254,
    "start_time": "2023-09-21T06:47:08.490Z"
   },
   {
    "duration": 245,
    "start_time": "2023-09-21T06:49:20.085Z"
   },
   {
    "duration": 253,
    "start_time": "2023-09-21T06:49:50.029Z"
   },
   {
    "duration": 1854,
    "start_time": "2023-09-21T06:51:13.752Z"
   },
   {
    "duration": 1763,
    "start_time": "2023-09-21T06:51:22.798Z"
   },
   {
    "duration": 1249,
    "start_time": "2023-09-21T06:52:22.221Z"
   },
   {
    "duration": 43,
    "start_time": "2023-09-21T06:52:23.472Z"
   },
   {
    "duration": 23,
    "start_time": "2023-09-21T06:52:23.517Z"
   },
   {
    "duration": 47,
    "start_time": "2023-09-21T06:52:23.542Z"
   },
   {
    "duration": 42,
    "start_time": "2023-09-21T06:52:23.590Z"
   },
   {
    "duration": 46,
    "start_time": "2023-09-21T06:52:23.634Z"
   },
   {
    "duration": 20,
    "start_time": "2023-09-21T06:52:23.682Z"
   },
   {
    "duration": 30,
    "start_time": "2023-09-21T06:52:23.703Z"
   },
   {
    "duration": 31,
    "start_time": "2023-09-21T06:52:23.734Z"
   },
   {
    "duration": 45,
    "start_time": "2023-09-21T06:52:23.768Z"
   },
   {
    "duration": 39,
    "start_time": "2023-09-21T06:52:23.815Z"
   },
   {
    "duration": 171,
    "start_time": "2023-09-21T06:52:23.855Z"
   },
   {
    "duration": 56,
    "start_time": "2023-09-21T06:52:24.027Z"
   },
   {
    "duration": 8,
    "start_time": "2023-09-21T06:52:24.085Z"
   },
   {
    "duration": 67,
    "start_time": "2023-09-21T06:52:24.095Z"
   },
   {
    "duration": 6,
    "start_time": "2023-09-21T06:52:24.164Z"
   },
   {
    "duration": 34,
    "start_time": "2023-09-21T06:52:24.172Z"
   },
   {
    "duration": 45,
    "start_time": "2023-09-21T06:52:24.208Z"
   },
   {
    "duration": 22,
    "start_time": "2023-09-21T06:52:24.255Z"
   },
   {
    "duration": 50,
    "start_time": "2023-09-21T06:52:24.279Z"
   },
   {
    "duration": 40,
    "start_time": "2023-09-21T06:52:24.331Z"
   },
   {
    "duration": 31,
    "start_time": "2023-09-21T06:52:24.374Z"
   },
   {
    "duration": 44,
    "start_time": "2023-09-21T06:52:24.407Z"
   },
   {
    "duration": 75,
    "start_time": "2023-09-21T06:52:24.452Z"
   },
   {
    "duration": 26,
    "start_time": "2023-09-21T06:52:24.529Z"
   },
   {
    "duration": 18,
    "start_time": "2023-09-21T06:52:24.557Z"
   },
   {
    "duration": 69,
    "start_time": "2023-09-21T06:52:24.577Z"
   },
   {
    "duration": 9,
    "start_time": "2023-09-21T06:52:24.651Z"
   },
   {
    "duration": 38,
    "start_time": "2023-09-21T06:52:24.662Z"
   },
   {
    "duration": 43,
    "start_time": "2023-09-21T06:52:24.703Z"
   },
   {
    "duration": 32,
    "start_time": "2023-09-21T06:52:24.748Z"
   },
   {
    "duration": 278,
    "start_time": "2023-09-21T06:52:24.782Z"
   },
   {
    "duration": 253,
    "start_time": "2023-09-21T06:52:25.062Z"
   },
   {
    "duration": 240,
    "start_time": "2023-09-21T06:52:25.317Z"
   },
   {
    "duration": 395,
    "start_time": "2023-09-21T06:52:25.558Z"
   },
   {
    "duration": 8,
    "start_time": "2023-09-21T06:52:25.955Z"
   },
   {
    "duration": 217,
    "start_time": "2023-09-21T06:52:25.964Z"
   },
   {
    "duration": 3,
    "start_time": "2023-09-21T06:52:26.183Z"
   },
   {
    "duration": 1943,
    "start_time": "2023-09-21T06:52:26.187Z"
   },
   {
    "duration": 4,
    "start_time": "2023-09-21T06:52:28.132Z"
   },
   {
    "duration": 274,
    "start_time": "2023-09-21T06:52:28.138Z"
   },
   {
    "duration": 180,
    "start_time": "2023-09-21T06:52:28.414Z"
   },
   {
    "duration": 504,
    "start_time": "2023-09-21T06:52:28.596Z"
   },
   {
    "duration": 9,
    "start_time": "2023-09-21T06:52:29.102Z"
   },
   {
    "duration": 12,
    "start_time": "2023-09-21T06:52:29.113Z"
   },
   {
    "duration": 13,
    "start_time": "2023-09-21T06:52:29.127Z"
   },
   {
    "duration": 29,
    "start_time": "2023-09-21T06:52:29.142Z"
   },
   {
    "duration": 26,
    "start_time": "2023-09-21T06:52:29.173Z"
   },
   {
    "duration": 260,
    "start_time": "2023-09-21T06:52:29.200Z"
   },
   {
    "duration": 5,
    "start_time": "2023-09-21T06:52:29.462Z"
   },
   {
    "duration": 6,
    "start_time": "2023-09-21T06:52:29.469Z"
   },
   {
    "duration": 26,
    "start_time": "2023-09-21T06:52:29.477Z"
   },
   {
    "duration": 6,
    "start_time": "2023-09-21T06:52:29.505Z"
   },
   {
    "duration": 15,
    "start_time": "2023-09-21T06:52:29.513Z"
   },
   {
    "duration": 16,
    "start_time": "2023-09-21T06:52:29.530Z"
   },
   {
    "duration": 24,
    "start_time": "2023-09-21T06:52:29.548Z"
   },
   {
    "duration": 1201,
    "start_time": "2023-09-21T06:52:29.574Z"
   },
   {
    "duration": 6,
    "start_time": "2023-09-21T06:52:30.778Z"
   },
   {
    "duration": 673,
    "start_time": "2023-09-21T06:52:30.786Z"
   },
   {
    "duration": 99,
    "start_time": "2023-09-21T06:52:31.461Z"
   },
   {
    "duration": 7,
    "start_time": "2023-09-21T06:52:31.562Z"
   },
   {
    "duration": 62,
    "start_time": "2023-09-21T06:52:31.570Z"
   },
   {
    "duration": 47,
    "start_time": "2023-09-21T06:52:31.634Z"
   },
   {
    "duration": 53,
    "start_time": "2023-09-21T06:52:31.682Z"
   },
   {
    "duration": 1747,
    "start_time": "2023-09-21T06:55:05.177Z"
   },
   {
    "duration": 1608,
    "start_time": "2023-09-21T06:55:17.477Z"
   },
   {
    "duration": 1866,
    "start_time": "2023-09-21T06:55:25.659Z"
   },
   {
    "duration": 8,
    "start_time": "2023-09-21T07:03:26.468Z"
   },
   {
    "duration": 11,
    "start_time": "2023-09-21T07:03:34.376Z"
   },
   {
    "duration": 10,
    "start_time": "2023-09-21T07:04:03.482Z"
   },
   {
    "duration": 10,
    "start_time": "2023-09-21T07:10:16.023Z"
   },
   {
    "duration": 10,
    "start_time": "2023-09-21T07:10:29.630Z"
   },
   {
    "duration": 11,
    "start_time": "2023-09-21T07:10:53.175Z"
   },
   {
    "duration": 5,
    "start_time": "2023-09-21T07:13:04.370Z"
   },
   {
    "duration": 111,
    "start_time": "2023-09-21T07:13:16.921Z"
   },
   {
    "duration": 5,
    "start_time": "2023-09-21T07:13:26.586Z"
   },
   {
    "duration": 12,
    "start_time": "2023-09-21T07:14:00.027Z"
   },
   {
    "duration": 10,
    "start_time": "2023-09-21T07:14:04.491Z"
   },
   {
    "duration": 10,
    "start_time": "2023-09-21T07:14:10.411Z"
   },
   {
    "duration": 166,
    "start_time": "2023-09-21T07:15:03.380Z"
   },
   {
    "duration": 9,
    "start_time": "2023-09-21T07:15:19.766Z"
   },
   {
    "duration": 11,
    "start_time": "2023-09-21T07:15:32.028Z"
   },
   {
    "duration": 11,
    "start_time": "2023-09-21T07:16:07.836Z"
   },
   {
    "duration": 16,
    "start_time": "2023-09-21T07:17:15.718Z"
   },
   {
    "duration": 12,
    "start_time": "2023-09-21T07:17:29.702Z"
   },
   {
    "duration": 5,
    "start_time": "2023-09-21T07:17:43.046Z"
   },
   {
    "duration": 14,
    "start_time": "2023-09-21T07:18:00.398Z"
   },
   {
    "duration": 11,
    "start_time": "2023-09-21T07:18:13.761Z"
   },
   {
    "duration": 13,
    "start_time": "2023-09-21T07:18:35.871Z"
   },
   {
    "duration": 11,
    "start_time": "2023-09-21T07:18:58.081Z"
   },
   {
    "duration": 10,
    "start_time": "2023-09-21T07:19:20.423Z"
   },
   {
    "duration": 17,
    "start_time": "2023-09-21T07:19:49.840Z"
   },
   {
    "duration": 10,
    "start_time": "2023-09-21T07:20:03.209Z"
   },
   {
    "duration": 10,
    "start_time": "2023-09-21T07:20:20.890Z"
   },
   {
    "duration": 16,
    "start_time": "2023-09-21T07:20:32.944Z"
   },
   {
    "duration": 18,
    "start_time": "2023-09-21T07:20:43.632Z"
   },
   {
    "duration": 10,
    "start_time": "2023-09-21T07:20:47.624Z"
   },
   {
    "duration": 1136,
    "start_time": "2023-09-21T07:22:27.175Z"
   },
   {
    "duration": 1455,
    "start_time": "2023-09-21T07:22:35.463Z"
   },
   {
    "duration": 2302,
    "start_time": "2023-09-21T07:23:31.463Z"
   },
   {
    "duration": 2751,
    "start_time": "2023-09-21T07:23:49.196Z"
   },
   {
    "duration": 2194,
    "start_time": "2023-09-21T07:24:01.693Z"
   },
   {
    "duration": 11,
    "start_time": "2023-09-21T07:24:13.892Z"
   },
   {
    "duration": 10,
    "start_time": "2023-09-21T07:24:25.874Z"
   },
   {
    "duration": 9,
    "start_time": "2023-09-21T07:24:31.292Z"
   },
   {
    "duration": 2153,
    "start_time": "2023-09-21T07:24:39.795Z"
   },
   {
    "duration": 13,
    "start_time": "2023-09-21T07:24:48.636Z"
   },
   {
    "duration": 23,
    "start_time": "2023-09-21T07:25:04.682Z"
   },
   {
    "duration": 199,
    "start_time": "2023-09-21T07:25:16.682Z"
   },
   {
    "duration": 10,
    "start_time": "2023-09-21T07:26:11.879Z"
   },
   {
    "duration": 10,
    "start_time": "2023-09-21T07:26:32.096Z"
   },
   {
    "duration": 217,
    "start_time": "2023-09-21T07:26:38.527Z"
   },
   {
    "duration": 200,
    "start_time": "2023-09-21T07:26:45.676Z"
   },
   {
    "duration": 131,
    "start_time": "2023-09-21T07:27:40.015Z"
   },
   {
    "duration": 8,
    "start_time": "2023-09-21T07:27:47.702Z"
   },
   {
    "duration": 10,
    "start_time": "2023-09-21T07:28:00.461Z"
   },
   {
    "duration": 11,
    "start_time": "2023-09-21T07:28:11.815Z"
   },
   {
    "duration": 224,
    "start_time": "2023-09-21T07:29:24.424Z"
   },
   {
    "duration": 393,
    "start_time": "2023-09-21T07:31:16.226Z"
   },
   {
    "duration": 251,
    "start_time": "2023-09-21T07:31:35.786Z"
   },
   {
    "duration": 250,
    "start_time": "2023-09-21T07:31:51.186Z"
   },
   {
    "duration": 264,
    "start_time": "2023-09-21T07:32:01.746Z"
   },
   {
    "duration": 269,
    "start_time": "2023-09-21T07:32:54.684Z"
   },
   {
    "duration": 268,
    "start_time": "2023-09-21T07:33:20.388Z"
   },
   {
    "duration": 256,
    "start_time": "2023-09-21T07:33:28.916Z"
   },
   {
    "duration": 243,
    "start_time": "2023-09-21T07:34:11.790Z"
   },
   {
    "duration": 257,
    "start_time": "2023-09-21T07:34:43.421Z"
   },
   {
    "duration": 249,
    "start_time": "2023-09-21T07:34:58.475Z"
   },
   {
    "duration": 282,
    "start_time": "2023-09-21T07:35:37.422Z"
   },
   {
    "duration": 280,
    "start_time": "2023-09-21T07:38:32.906Z"
   },
   {
    "duration": 470,
    "start_time": "2023-09-21T07:39:34.369Z"
   },
   {
    "duration": 278,
    "start_time": "2023-09-21T07:39:48.290Z"
   },
   {
    "duration": 204,
    "start_time": "2023-09-21T07:40:10.931Z"
   },
   {
    "duration": 189,
    "start_time": "2023-09-21T07:40:28.346Z"
   },
   {
    "duration": 252,
    "start_time": "2023-09-21T07:40:57.979Z"
   },
   {
    "duration": 265,
    "start_time": "2023-09-21T07:41:04.995Z"
   },
   {
    "duration": 203,
    "start_time": "2023-09-21T07:44:16.126Z"
   },
   {
    "duration": 217,
    "start_time": "2023-09-21T07:44:37.302Z"
   },
   {
    "duration": 200,
    "start_time": "2023-09-21T07:44:59.246Z"
   },
   {
    "duration": 216,
    "start_time": "2023-09-21T07:45:46.137Z"
   },
   {
    "duration": 133,
    "start_time": "2023-09-21T07:45:55.974Z"
   },
   {
    "duration": 154,
    "start_time": "2023-09-21T07:46:08.807Z"
   },
   {
    "duration": 400,
    "start_time": "2023-09-21T07:46:58.904Z"
   },
   {
    "duration": 359,
    "start_time": "2023-09-21T07:47:44.517Z"
   },
   {
    "duration": 274,
    "start_time": "2023-09-21T07:48:30.169Z"
   },
   {
    "duration": 277,
    "start_time": "2023-09-21T07:48:59.433Z"
   },
   {
    "duration": 154,
    "start_time": "2023-09-21T07:49:29.515Z"
   },
   {
    "duration": 163,
    "start_time": "2023-09-21T07:50:00.107Z"
   },
   {
    "duration": 165,
    "start_time": "2023-09-21T07:50:23.514Z"
   },
   {
    "duration": 196,
    "start_time": "2023-09-21T07:51:03.269Z"
   },
   {
    "duration": 172,
    "start_time": "2023-09-21T07:51:30.076Z"
   },
   {
    "duration": 204,
    "start_time": "2023-09-21T07:51:52.683Z"
   },
   {
    "duration": 187,
    "start_time": "2023-09-21T07:52:10.366Z"
   },
   {
    "duration": 173,
    "start_time": "2023-09-21T07:53:56.481Z"
   },
   {
    "duration": 176,
    "start_time": "2023-09-21T07:54:41.438Z"
   },
   {
    "duration": 237,
    "start_time": "2023-09-21T07:54:51.622Z"
   },
   {
    "duration": 1244,
    "start_time": "2023-09-21T07:55:04.541Z"
   },
   {
    "duration": 42,
    "start_time": "2023-09-21T07:55:05.787Z"
   },
   {
    "duration": 19,
    "start_time": "2023-09-21T07:55:05.831Z"
   },
   {
    "duration": 23,
    "start_time": "2023-09-21T07:55:05.852Z"
   },
   {
    "duration": 16,
    "start_time": "2023-09-21T07:55:05.877Z"
   },
   {
    "duration": 22,
    "start_time": "2023-09-21T07:55:05.895Z"
   },
   {
    "duration": 29,
    "start_time": "2023-09-21T07:55:05.919Z"
   },
   {
    "duration": 36,
    "start_time": "2023-09-21T07:55:05.950Z"
   },
   {
    "duration": 18,
    "start_time": "2023-09-21T07:55:05.988Z"
   },
   {
    "duration": 16,
    "start_time": "2023-09-21T07:55:06.009Z"
   },
   {
    "duration": 16,
    "start_time": "2023-09-21T07:55:06.027Z"
   },
   {
    "duration": 37,
    "start_time": "2023-09-21T07:55:06.045Z"
   },
   {
    "duration": 30,
    "start_time": "2023-09-21T07:55:06.083Z"
   },
   {
    "duration": 26,
    "start_time": "2023-09-21T07:55:06.115Z"
   },
   {
    "duration": 47,
    "start_time": "2023-09-21T07:55:06.143Z"
   },
   {
    "duration": 13,
    "start_time": "2023-09-21T07:55:06.192Z"
   },
   {
    "duration": 57,
    "start_time": "2023-09-21T07:55:06.207Z"
   },
   {
    "duration": 35,
    "start_time": "2023-09-21T07:55:06.266Z"
   },
   {
    "duration": 15,
    "start_time": "2023-09-21T07:55:06.302Z"
   },
   {
    "duration": 22,
    "start_time": "2023-09-21T07:55:06.319Z"
   },
   {
    "duration": 24,
    "start_time": "2023-09-21T07:55:06.343Z"
   },
   {
    "duration": 33,
    "start_time": "2023-09-21T07:55:06.368Z"
   },
   {
    "duration": 36,
    "start_time": "2023-09-21T07:55:06.403Z"
   },
   {
    "duration": 41,
    "start_time": "2023-09-21T07:55:06.440Z"
   },
   {
    "duration": 32,
    "start_time": "2023-09-21T07:55:06.483Z"
   },
   {
    "duration": 13,
    "start_time": "2023-09-21T07:55:06.517Z"
   },
   {
    "duration": 38,
    "start_time": "2023-09-21T07:55:06.531Z"
   },
   {
    "duration": 17,
    "start_time": "2023-09-21T07:55:06.573Z"
   },
   {
    "duration": 17,
    "start_time": "2023-09-21T07:55:06.592Z"
   },
   {
    "duration": 64,
    "start_time": "2023-09-21T07:55:06.611Z"
   },
   {
    "duration": 34,
    "start_time": "2023-09-21T07:55:06.678Z"
   },
   {
    "duration": 225,
    "start_time": "2023-09-21T07:55:06.715Z"
   },
   {
    "duration": 264,
    "start_time": "2023-09-21T07:55:06.942Z"
   },
   {
    "duration": 242,
    "start_time": "2023-09-21T07:55:07.208Z"
   },
   {
    "duration": 402,
    "start_time": "2023-09-21T07:55:07.452Z"
   },
   {
    "duration": 7,
    "start_time": "2023-09-21T07:55:07.856Z"
   },
   {
    "duration": 243,
    "start_time": "2023-09-21T07:55:07.865Z"
   },
   {
    "duration": 3,
    "start_time": "2023-09-21T07:55:08.109Z"
   },
   {
    "duration": 1920,
    "start_time": "2023-09-21T07:55:08.114Z"
   },
   {
    "duration": 4,
    "start_time": "2023-09-21T07:55:10.036Z"
   },
   {
    "duration": 267,
    "start_time": "2023-09-21T07:55:10.041Z"
   },
   {
    "duration": 197,
    "start_time": "2023-09-21T07:55:10.310Z"
   },
   {
    "duration": 189,
    "start_time": "2023-09-21T07:55:10.508Z"
   },
   {
    "duration": 170,
    "start_time": "2023-09-21T07:55:10.701Z"
   },
   {
    "duration": 508,
    "start_time": "2023-09-21T07:55:10.873Z"
   },
   {
    "duration": 18,
    "start_time": "2023-09-21T07:55:11.383Z"
   },
   {
    "duration": 17,
    "start_time": "2023-09-21T07:55:11.403Z"
   },
   {
    "duration": 15,
    "start_time": "2023-09-21T07:55:11.422Z"
   },
   {
    "duration": 31,
    "start_time": "2023-09-21T07:55:11.439Z"
   },
   {
    "duration": 24,
    "start_time": "2023-09-21T07:55:11.471Z"
   },
   {
    "duration": 274,
    "start_time": "2023-09-21T07:55:11.497Z"
   },
   {
    "duration": 5,
    "start_time": "2023-09-21T07:55:11.772Z"
   },
   {
    "duration": 43,
    "start_time": "2023-09-21T07:55:11.778Z"
   },
   {
    "duration": 95,
    "start_time": "2023-09-21T07:55:11.822Z"
   },
   {
    "duration": 50,
    "start_time": "2023-09-21T07:55:11.918Z"
   },
   {
    "duration": 45,
    "start_time": "2023-09-21T07:55:11.970Z"
   },
   {
    "duration": 26,
    "start_time": "2023-09-21T07:55:12.017Z"
   },
   {
    "duration": 24,
    "start_time": "2023-09-21T07:55:12.045Z"
   },
   {
    "duration": 1330,
    "start_time": "2023-09-21T07:55:12.071Z"
   },
   {
    "duration": 6,
    "start_time": "2023-09-21T07:55:13.403Z"
   },
   {
    "duration": 563,
    "start_time": "2023-09-21T07:55:13.410Z"
   },
   {
    "duration": 101,
    "start_time": "2023-09-21T07:55:13.974Z"
   },
   {
    "duration": 6,
    "start_time": "2023-09-21T07:55:14.077Z"
   },
   {
    "duration": 42,
    "start_time": "2023-09-21T07:55:14.085Z"
   },
   {
    "duration": 37,
    "start_time": "2023-09-21T07:55:14.129Z"
   },
   {
    "duration": 37,
    "start_time": "2023-09-21T07:55:14.168Z"
   },
   {
    "duration": 257,
    "start_time": "2023-09-21T08:00:30.004Z"
   },
   {
    "duration": 177,
    "start_time": "2023-09-21T08:00:33.218Z"
   },
   {
    "duration": 154,
    "start_time": "2023-09-21T08:00:35.643Z"
   },
   {
    "duration": 167,
    "start_time": "2023-09-21T08:00:37.802Z"
   },
   {
    "duration": 1384,
    "start_time": "2023-09-21T08:01:05.883Z"
   },
   {
    "duration": 239,
    "start_time": "2023-09-21T08:05:26.431Z"
   },
   {
    "duration": 341,
    "start_time": "2023-09-21T08:05:58.687Z"
   },
   {
    "duration": 256,
    "start_time": "2023-09-21T08:06:08.560Z"
   },
   {
    "duration": 248,
    "start_time": "2023-09-21T08:06:16.879Z"
   },
   {
    "duration": 248,
    "start_time": "2023-09-21T08:06:31.432Z"
   },
   {
    "duration": 261,
    "start_time": "2023-09-21T08:06:51.616Z"
   },
   {
    "duration": 223,
    "start_time": "2023-09-21T08:07:37.522Z"
   },
   {
    "duration": 263,
    "start_time": "2023-09-21T08:07:41.947Z"
   },
   {
    "duration": 261,
    "start_time": "2023-09-21T08:07:45.576Z"
   },
   {
    "duration": 234,
    "start_time": "2023-09-21T08:08:15.714Z"
   },
   {
    "duration": 255,
    "start_time": "2023-09-21T08:08:30.137Z"
   },
   {
    "duration": 278,
    "start_time": "2023-09-21T08:08:38.890Z"
   },
   {
    "duration": 2210,
    "start_time": "2023-09-21T08:21:32.941Z"
   },
   {
    "duration": 2083,
    "start_time": "2023-09-21T08:21:43.933Z"
   },
   {
    "duration": 2324,
    "start_time": "2023-09-21T08:22:06.919Z"
   },
   {
    "duration": 1966,
    "start_time": "2023-09-21T08:22:56.798Z"
   },
   {
    "duration": 2071,
    "start_time": "2023-09-21T08:23:31.038Z"
   },
   {
    "duration": 2001,
    "start_time": "2023-09-21T08:28:24.947Z"
   },
   {
    "duration": 2110,
    "start_time": "2023-09-21T08:28:46.574Z"
   },
   {
    "duration": 2171,
    "start_time": "2023-09-21T08:29:01.045Z"
   },
   {
    "duration": 1843,
    "start_time": "2023-09-21T08:29:12.628Z"
   },
   {
    "duration": 2069,
    "start_time": "2023-09-21T08:29:26.995Z"
   },
   {
    "duration": 1917,
    "start_time": "2023-09-21T08:29:44.667Z"
   },
   {
    "duration": 2043,
    "start_time": "2023-09-21T08:30:10.733Z"
   },
   {
    "duration": 1728,
    "start_time": "2023-09-21T08:30:22.317Z"
   },
   {
    "duration": 1751,
    "start_time": "2023-09-21T08:30:51.844Z"
   },
   {
    "duration": 361,
    "start_time": "2023-09-21T08:43:39.600Z"
   },
   {
    "duration": 253,
    "start_time": "2023-09-21T08:43:49.185Z"
   },
   {
    "duration": 244,
    "start_time": "2023-09-21T08:43:58.433Z"
   },
   {
    "duration": 239,
    "start_time": "2023-09-21T08:44:20.864Z"
   },
   {
    "duration": 269,
    "start_time": "2023-09-21T08:46:05.562Z"
   },
   {
    "duration": 256,
    "start_time": "2023-09-21T08:46:36.306Z"
   },
   {
    "duration": 246,
    "start_time": "2023-09-21T08:46:44.218Z"
   },
   {
    "duration": 242,
    "start_time": "2023-09-21T08:47:28.531Z"
   },
   {
    "duration": 235,
    "start_time": "2023-09-21T08:47:44.892Z"
   },
   {
    "duration": 416,
    "start_time": "2023-09-21T08:52:09.144Z"
   },
   {
    "duration": 533,
    "start_time": "2023-09-21T08:52:16.871Z"
   },
   {
    "duration": 425,
    "start_time": "2023-09-21T08:52:32.703Z"
   },
   {
    "duration": 419,
    "start_time": "2023-09-21T08:52:38.054Z"
   },
   {
    "duration": 449,
    "start_time": "2023-09-21T08:52:44.649Z"
   },
   {
    "duration": 236,
    "start_time": "2023-09-21T08:56:15.914Z"
   },
   {
    "duration": 246,
    "start_time": "2023-09-21T08:56:25.443Z"
   },
   {
    "duration": 231,
    "start_time": "2023-09-21T08:56:42.554Z"
   },
   {
    "duration": 255,
    "start_time": "2023-09-21T08:56:53.378Z"
   },
   {
    "duration": 402,
    "start_time": "2023-09-21T08:57:11.322Z"
   },
   {
    "duration": 342,
    "start_time": "2023-09-21T09:04:44.724Z"
   },
   {
    "duration": 1228,
    "start_time": "2023-09-21T09:06:57.347Z"
   },
   {
    "duration": 43,
    "start_time": "2023-09-21T09:06:58.577Z"
   },
   {
    "duration": 23,
    "start_time": "2023-09-21T09:06:58.621Z"
   },
   {
    "duration": 62,
    "start_time": "2023-09-21T09:06:58.646Z"
   },
   {
    "duration": 65,
    "start_time": "2023-09-21T09:06:58.711Z"
   },
   {
    "duration": 15,
    "start_time": "2023-09-21T09:06:58.778Z"
   },
   {
    "duration": 22,
    "start_time": "2023-09-21T09:06:58.795Z"
   },
   {
    "duration": 22,
    "start_time": "2023-09-21T09:06:58.819Z"
   },
   {
    "duration": 9,
    "start_time": "2023-09-21T09:06:58.842Z"
   },
   {
    "duration": 27,
    "start_time": "2023-09-21T09:06:58.853Z"
   },
   {
    "duration": 15,
    "start_time": "2023-09-21T09:06:58.881Z"
   },
   {
    "duration": 23,
    "start_time": "2023-09-21T09:06:58.898Z"
   },
   {
    "duration": 83,
    "start_time": "2023-09-21T09:06:58.923Z"
   },
   {
    "duration": 19,
    "start_time": "2023-09-21T09:06:59.007Z"
   },
   {
    "duration": 57,
    "start_time": "2023-09-21T09:06:59.028Z"
   },
   {
    "duration": 6,
    "start_time": "2023-09-21T09:06:59.086Z"
   },
   {
    "duration": 11,
    "start_time": "2023-09-21T09:06:59.094Z"
   },
   {
    "duration": 40,
    "start_time": "2023-09-21T09:06:59.106Z"
   },
   {
    "duration": 27,
    "start_time": "2023-09-21T09:06:59.148Z"
   },
   {
    "duration": 43,
    "start_time": "2023-09-21T09:06:59.177Z"
   },
   {
    "duration": 172,
    "start_time": "2023-09-21T09:06:59.222Z"
   },
   {
    "duration": 31,
    "start_time": "2023-09-21T09:06:59.396Z"
   },
   {
    "duration": 38,
    "start_time": "2023-09-21T09:06:59.429Z"
   },
   {
    "duration": 40,
    "start_time": "2023-09-21T09:06:59.469Z"
   },
   {
    "duration": 15,
    "start_time": "2023-09-21T09:06:59.511Z"
   },
   {
    "duration": 11,
    "start_time": "2023-09-21T09:06:59.528Z"
   },
   {
    "duration": 30,
    "start_time": "2023-09-21T09:06:59.541Z"
   },
   {
    "duration": 6,
    "start_time": "2023-09-21T09:06:59.575Z"
   },
   {
    "duration": 22,
    "start_time": "2023-09-21T09:06:59.583Z"
   },
   {
    "duration": 31,
    "start_time": "2023-09-21T09:06:59.607Z"
   },
   {
    "duration": 12,
    "start_time": "2023-09-21T09:06:59.640Z"
   },
   {
    "duration": 234,
    "start_time": "2023-09-21T09:06:59.654Z"
   },
   {
    "duration": 248,
    "start_time": "2023-09-21T09:06:59.890Z"
   },
   {
    "duration": 240,
    "start_time": "2023-09-21T09:07:00.139Z"
   },
   {
    "duration": 413,
    "start_time": "2023-09-21T09:07:00.381Z"
   },
   {
    "duration": 13,
    "start_time": "2023-09-21T09:07:00.795Z"
   },
   {
    "duration": 321,
    "start_time": "2023-09-21T09:07:00.810Z"
   },
   {
    "duration": 3,
    "start_time": "2023-09-21T09:07:01.134Z"
   },
   {
    "duration": 1907,
    "start_time": "2023-09-21T09:07:01.139Z"
   },
   {
    "duration": 4,
    "start_time": "2023-09-21T09:07:03.048Z"
   },
   {
    "duration": 805,
    "start_time": "2023-09-21T09:07:03.054Z"
   },
   {
    "duration": 1156,
    "start_time": "2023-09-21T09:07:03.861Z"
   },
   {
    "duration": 180,
    "start_time": "2023-09-21T09:07:05.019Z"
   },
   {
    "duration": 165,
    "start_time": "2023-09-21T09:07:05.201Z"
   },
   {
    "duration": 988,
    "start_time": "2023-09-21T09:07:05.368Z"
   },
   {
    "duration": 9,
    "start_time": "2023-09-21T09:07:06.359Z"
   },
   {
    "duration": 35,
    "start_time": "2023-09-21T09:07:06.370Z"
   },
   {
    "duration": 38,
    "start_time": "2023-09-21T09:07:06.407Z"
   },
   {
    "duration": 56,
    "start_time": "2023-09-21T09:07:06.447Z"
   },
   {
    "duration": 69,
    "start_time": "2023-09-21T09:07:06.505Z"
   },
   {
    "duration": 297,
    "start_time": "2023-09-21T09:07:06.576Z"
   },
   {
    "duration": 5,
    "start_time": "2023-09-21T09:07:06.875Z"
   },
   {
    "duration": 26,
    "start_time": "2023-09-21T09:07:06.882Z"
   },
   {
    "duration": 35,
    "start_time": "2023-09-21T09:07:06.909Z"
   },
   {
    "duration": 42,
    "start_time": "2023-09-21T09:07:06.946Z"
   },
   {
    "duration": 39,
    "start_time": "2023-09-21T09:07:06.989Z"
   },
   {
    "duration": 32,
    "start_time": "2023-09-21T09:07:07.030Z"
   },
   {
    "duration": 29,
    "start_time": "2023-09-21T09:07:07.063Z"
   },
   {
    "duration": 1414,
    "start_time": "2023-09-21T09:07:07.094Z"
   },
   {
    "duration": 7,
    "start_time": "2023-09-21T09:07:08.509Z"
   },
   {
    "duration": 624,
    "start_time": "2023-09-21T09:07:08.518Z"
   },
   {
    "duration": 100,
    "start_time": "2023-09-21T09:07:09.144Z"
   },
   {
    "duration": 6,
    "start_time": "2023-09-21T09:07:09.246Z"
   },
   {
    "duration": 1156,
    "start_time": "2023-09-21T09:07:09.254Z"
   },
   {
    "duration": 34,
    "start_time": "2023-09-21T09:07:10.412Z"
   },
   {
    "duration": 22,
    "start_time": "2023-09-21T09:07:10.447Z"
   },
   {
    "duration": 77,
    "start_time": "2023-09-21T09:27:48.558Z"
   },
   {
    "duration": 744,
    "start_time": "2023-09-21T09:28:11.205Z"
   },
   {
    "duration": 711,
    "start_time": "2023-09-21T09:29:00.661Z"
   },
   {
    "duration": 4,
    "start_time": "2023-09-21T09:34:51.345Z"
   },
   {
    "duration": 67,
    "start_time": "2023-09-21T09:37:55.210Z"
   },
   {
    "duration": 58,
    "start_time": "2023-09-21T09:38:37.573Z"
   },
   {
    "duration": 65,
    "start_time": "2023-09-21T09:38:52.500Z"
   },
   {
    "duration": 897,
    "start_time": "2023-09-21T09:41:08.927Z"
   },
   {
    "duration": 1253,
    "start_time": "2023-09-21T09:42:52.433Z"
   },
   {
    "duration": 44,
    "start_time": "2023-09-21T09:42:53.688Z"
   },
   {
    "duration": 48,
    "start_time": "2023-09-21T09:42:53.734Z"
   },
   {
    "duration": 24,
    "start_time": "2023-09-21T09:42:53.784Z"
   },
   {
    "duration": 65,
    "start_time": "2023-09-21T09:42:53.810Z"
   },
   {
    "duration": 20,
    "start_time": "2023-09-21T09:42:53.877Z"
   },
   {
    "duration": 17,
    "start_time": "2023-09-21T09:42:53.898Z"
   },
   {
    "duration": 36,
    "start_time": "2023-09-21T09:42:53.917Z"
   },
   {
    "duration": 22,
    "start_time": "2023-09-21T09:42:53.954Z"
   },
   {
    "duration": 33,
    "start_time": "2023-09-21T09:42:53.979Z"
   },
   {
    "duration": 48,
    "start_time": "2023-09-21T09:42:54.013Z"
   },
   {
    "duration": 30,
    "start_time": "2023-09-21T09:42:54.063Z"
   },
   {
    "duration": 31,
    "start_time": "2023-09-21T09:42:54.095Z"
   },
   {
    "duration": 7,
    "start_time": "2023-09-21T09:42:54.128Z"
   },
   {
    "duration": 82,
    "start_time": "2023-09-21T09:42:54.136Z"
   },
   {
    "duration": 31,
    "start_time": "2023-09-21T09:42:54.220Z"
   },
   {
    "duration": 53,
    "start_time": "2023-09-21T09:42:54.253Z"
   },
   {
    "duration": 31,
    "start_time": "2023-09-21T09:42:54.308Z"
   },
   {
    "duration": 150,
    "start_time": "2023-09-21T09:42:54.341Z"
   },
   {
    "duration": 69,
    "start_time": "2023-09-21T09:42:54.493Z"
   },
   {
    "duration": 29,
    "start_time": "2023-09-21T09:42:54.563Z"
   },
   {
    "duration": 22,
    "start_time": "2023-09-21T09:42:54.594Z"
   },
   {
    "duration": 53,
    "start_time": "2023-09-21T09:42:54.618Z"
   },
   {
    "duration": 63,
    "start_time": "2023-09-21T09:42:54.674Z"
   },
   {
    "duration": 23,
    "start_time": "2023-09-21T09:42:54.739Z"
   },
   {
    "duration": 66,
    "start_time": "2023-09-21T09:42:54.764Z"
   },
   {
    "duration": 62,
    "start_time": "2023-09-21T09:42:54.832Z"
   },
   {
    "duration": 26,
    "start_time": "2023-09-21T09:42:54.900Z"
   },
   {
    "duration": 11,
    "start_time": "2023-09-21T09:42:54.928Z"
   },
   {
    "duration": 68,
    "start_time": "2023-09-21T09:42:54.941Z"
   },
   {
    "duration": 14,
    "start_time": "2023-09-21T09:42:55.011Z"
   },
   {
    "duration": 238,
    "start_time": "2023-09-21T09:42:55.027Z"
   },
   {
    "duration": 243,
    "start_time": "2023-09-21T09:42:55.267Z"
   },
   {
    "duration": 259,
    "start_time": "2023-09-21T09:42:55.512Z"
   },
   {
    "duration": 428,
    "start_time": "2023-09-21T09:42:55.773Z"
   },
   {
    "duration": 9,
    "start_time": "2023-09-21T09:42:56.203Z"
   },
   {
    "duration": 232,
    "start_time": "2023-09-21T09:42:56.214Z"
   },
   {
    "duration": 3,
    "start_time": "2023-09-21T09:42:56.448Z"
   },
   {
    "duration": 1897,
    "start_time": "2023-09-21T09:42:56.453Z"
   },
   {
    "duration": 4,
    "start_time": "2023-09-21T09:42:58.352Z"
   },
   {
    "duration": 247,
    "start_time": "2023-09-21T09:42:58.358Z"
   },
   {
    "duration": 197,
    "start_time": "2023-09-21T09:42:58.607Z"
   },
   {
    "duration": 174,
    "start_time": "2023-09-21T09:42:58.806Z"
   },
   {
    "duration": 187,
    "start_time": "2023-09-21T09:42:58.983Z"
   },
   {
    "duration": 506,
    "start_time": "2023-09-21T09:42:59.172Z"
   },
   {
    "duration": 21,
    "start_time": "2023-09-21T09:42:59.680Z"
   },
   {
    "duration": 33,
    "start_time": "2023-09-21T09:42:59.703Z"
   },
   {
    "duration": 13,
    "start_time": "2023-09-21T09:42:59.738Z"
   },
   {
    "duration": 35,
    "start_time": "2023-09-21T09:42:59.752Z"
   },
   {
    "duration": 34,
    "start_time": "2023-09-21T09:42:59.789Z"
   },
   {
    "duration": 279,
    "start_time": "2023-09-21T09:42:59.825Z"
   },
   {
    "duration": 5,
    "start_time": "2023-09-21T09:43:00.106Z"
   },
   {
    "duration": 170,
    "start_time": "2023-09-21T09:43:00.113Z"
   },
   {
    "duration": 114,
    "start_time": "2023-09-21T09:43:00.285Z"
   },
   {
    "duration": 45,
    "start_time": "2023-09-21T09:43:00.401Z"
   },
   {
    "duration": 38,
    "start_time": "2023-09-21T09:43:00.448Z"
   },
   {
    "duration": 49,
    "start_time": "2023-09-21T09:43:00.488Z"
   },
   {
    "duration": 84,
    "start_time": "2023-09-21T09:43:00.539Z"
   },
   {
    "duration": 1390,
    "start_time": "2023-09-21T09:43:00.625Z"
   },
   {
    "duration": 7,
    "start_time": "2023-09-21T09:43:02.018Z"
   },
   {
    "duration": 1251,
    "start_time": "2023-09-21T09:43:02.028Z"
   },
   {
    "duration": 103,
    "start_time": "2023-09-21T09:43:03.281Z"
   },
   {
    "duration": 19,
    "start_time": "2023-09-21T09:43:03.386Z"
   },
   {
    "duration": 44,
    "start_time": "2023-09-21T09:43:03.407Z"
   },
   {
    "duration": 62,
    "start_time": "2023-09-21T09:43:03.453Z"
   },
   {
    "duration": 46,
    "start_time": "2023-09-21T09:43:03.517Z"
   },
   {
    "duration": 2,
    "start_time": "2023-09-21T11:28:35.934Z"
   },
   {
    "duration": 302,
    "start_time": "2023-09-21T13:15:02.299Z"
   },
   {
    "duration": 320,
    "start_time": "2023-09-21T13:15:12.026Z"
   },
   {
    "duration": 311,
    "start_time": "2023-09-21T13:15:26.652Z"
   },
   {
    "duration": 329,
    "start_time": "2023-09-21T13:15:36.172Z"
   },
   {
    "duration": 951,
    "start_time": "2023-09-21T13:17:36.671Z"
   },
   {
    "duration": 1013,
    "start_time": "2023-09-21T13:18:22.116Z"
   },
   {
    "duration": 10,
    "start_time": "2023-09-21T13:19:35.671Z"
   },
   {
    "duration": 11,
    "start_time": "2023-09-21T13:20:24.687Z"
   },
   {
    "duration": 11,
    "start_time": "2023-09-21T13:20:50.401Z"
   },
   {
    "duration": 769,
    "start_time": "2023-09-21T13:22:46.899Z"
   },
   {
    "duration": 529,
    "start_time": "2023-09-21T13:23:13.026Z"
   },
   {
    "duration": 914,
    "start_time": "2023-09-21T13:23:29.244Z"
   },
   {
    "duration": 53,
    "start_time": "2023-09-21T17:01:37.646Z"
   },
   {
    "duration": 10015,
    "start_time": "2023-09-21T20:53:04.265Z"
   },
   {
    "duration": 7,
    "start_time": "2023-09-21T21:04:56.247Z"
   },
   {
    "duration": 7,
    "start_time": "2023-09-21T21:06:16.400Z"
   },
   {
    "duration": 100,
    "start_time": "2023-09-21T21:06:43.457Z"
   },
   {
    "duration": 7,
    "start_time": "2023-09-21T21:09:08.633Z"
   },
   {
    "duration": 5,
    "start_time": "2023-09-21T21:11:23.251Z"
   },
   {
    "duration": 7,
    "start_time": "2023-09-21T21:17:16.536Z"
   },
   {
    "duration": 5,
    "start_time": "2023-09-21T21:17:19.056Z"
   },
   {
    "duration": 5,
    "start_time": "2023-09-21T21:17:21.072Z"
   },
   {
    "duration": 108,
    "start_time": "2023-09-21T21:18:12.090Z"
   },
   {
    "duration": 1245,
    "start_time": "2023-09-21T22:07:36.571Z"
   },
   {
    "duration": 46,
    "start_time": "2023-09-21T22:07:37.818Z"
   },
   {
    "duration": 28,
    "start_time": "2023-09-21T22:07:37.866Z"
   },
   {
    "duration": 15,
    "start_time": "2023-09-21T22:07:37.896Z"
   },
   {
    "duration": 25,
    "start_time": "2023-09-21T22:07:37.912Z"
   },
   {
    "duration": 8,
    "start_time": "2023-09-21T22:07:37.938Z"
   },
   {
    "duration": 21,
    "start_time": "2023-09-21T22:07:37.947Z"
   },
   {
    "duration": 20,
    "start_time": "2023-09-21T22:07:37.970Z"
   },
   {
    "duration": 4,
    "start_time": "2023-09-21T22:07:37.991Z"
   },
   {
    "duration": 24,
    "start_time": "2023-09-21T22:07:37.997Z"
   },
   {
    "duration": 10,
    "start_time": "2023-09-21T22:07:38.023Z"
   },
   {
    "duration": 16,
    "start_time": "2023-09-21T22:07:38.035Z"
   },
   {
    "duration": 15,
    "start_time": "2023-09-21T22:07:38.053Z"
   },
   {
    "duration": 18,
    "start_time": "2023-09-21T22:07:38.070Z"
   },
   {
    "duration": 35,
    "start_time": "2023-09-21T22:07:38.090Z"
   },
   {
    "duration": 8,
    "start_time": "2023-09-21T22:07:38.127Z"
   },
   {
    "duration": 49,
    "start_time": "2023-09-21T22:07:38.136Z"
   },
   {
    "duration": 14,
    "start_time": "2023-09-21T22:07:38.187Z"
   },
   {
    "duration": 7,
    "start_time": "2023-09-21T22:07:38.202Z"
   },
   {
    "duration": 8,
    "start_time": "2023-09-21T22:07:38.210Z"
   },
   {
    "duration": 11,
    "start_time": "2023-09-21T22:07:38.220Z"
   },
   {
    "duration": 9,
    "start_time": "2023-09-21T22:07:38.233Z"
   },
   {
    "duration": 29,
    "start_time": "2023-09-21T22:07:38.244Z"
   },
   {
    "duration": 36,
    "start_time": "2023-09-21T22:07:38.275Z"
   },
   {
    "duration": 16,
    "start_time": "2023-09-21T22:07:38.313Z"
   },
   {
    "duration": 11,
    "start_time": "2023-09-21T22:07:38.330Z"
   },
   {
    "duration": 19,
    "start_time": "2023-09-21T22:07:38.342Z"
   },
   {
    "duration": 12,
    "start_time": "2023-09-21T22:07:38.365Z"
   },
   {
    "duration": 24,
    "start_time": "2023-09-21T22:07:38.379Z"
   },
   {
    "duration": 34,
    "start_time": "2023-09-21T22:07:38.405Z"
   },
   {
    "duration": 13,
    "start_time": "2023-09-21T22:07:38.440Z"
   },
   {
    "duration": 238,
    "start_time": "2023-09-21T22:07:38.454Z"
   },
   {
    "duration": 260,
    "start_time": "2023-09-21T22:07:38.700Z"
   },
   {
    "duration": 229,
    "start_time": "2023-09-21T22:07:38.962Z"
   },
   {
    "duration": 404,
    "start_time": "2023-09-21T22:07:39.193Z"
   },
   {
    "duration": 9,
    "start_time": "2023-09-21T22:07:39.601Z"
   },
   {
    "duration": 252,
    "start_time": "2023-09-21T22:07:39.612Z"
   },
   {
    "duration": 2,
    "start_time": "2023-09-21T22:07:39.867Z"
   },
   {
    "duration": 1810,
    "start_time": "2023-09-21T22:07:39.872Z"
   },
   {
    "duration": 3,
    "start_time": "2023-09-21T22:07:41.684Z"
   },
   {
    "duration": 268,
    "start_time": "2023-09-21T22:07:41.689Z"
   },
   {
    "duration": 180,
    "start_time": "2023-09-21T22:07:41.959Z"
   },
   {
    "duration": 154,
    "start_time": "2023-09-21T22:07:42.141Z"
   },
   {
    "duration": 156,
    "start_time": "2023-09-21T22:07:42.300Z"
   },
   {
    "duration": 6,
    "start_time": "2023-09-21T22:07:42.458Z"
   },
   {
    "duration": 491,
    "start_time": "2023-09-21T22:07:42.465Z"
   },
   {
    "duration": 5,
    "start_time": "2023-09-21T22:07:42.957Z"
   },
   {
    "duration": 31,
    "start_time": "2023-09-21T22:07:42.965Z"
   },
   {
    "duration": 299,
    "start_time": "2023-09-21T22:07:42.997Z"
   },
   {
    "duration": 48,
    "start_time": "2023-09-21T22:07:43.298Z"
   },
   {
    "duration": 26,
    "start_time": "2023-09-21T22:07:43.348Z"
   },
   {
    "duration": 11,
    "start_time": "2023-09-21T22:07:43.376Z"
   },
   {
    "duration": 252,
    "start_time": "2023-09-21T22:07:43.388Z"
   },
   {
    "duration": 5,
    "start_time": "2023-09-21T22:07:43.642Z"
   },
   {
    "duration": 12,
    "start_time": "2023-09-21T22:07:43.649Z"
   },
   {
    "duration": 5,
    "start_time": "2023-09-21T22:07:43.663Z"
   },
   {
    "duration": 9,
    "start_time": "2023-09-21T22:07:43.669Z"
   },
   {
    "duration": 38,
    "start_time": "2023-09-21T22:07:43.680Z"
   },
   {
    "duration": 11,
    "start_time": "2023-09-21T22:07:43.720Z"
   },
   {
    "duration": 8,
    "start_time": "2023-09-21T22:07:43.732Z"
   },
   {
    "duration": 1405,
    "start_time": "2023-09-21T22:07:43.742Z"
   },
   {
    "duration": 10692,
    "start_time": "2023-09-21T22:07:45.149Z"
   },
   {
    "duration": 7,
    "start_time": "2023-09-21T22:07:55.843Z"
   },
   {
    "duration": 172,
    "start_time": "2023-09-21T22:07:55.851Z"
   },
   {
    "duration": 6,
    "start_time": "2023-09-21T22:07:56.025Z"
   },
   {
    "duration": 30,
    "start_time": "2023-09-21T22:07:56.033Z"
   },
   {
    "duration": 21,
    "start_time": "2023-09-21T22:07:56.065Z"
   },
   {
    "duration": 57,
    "start_time": "2023-09-21T22:07:56.089Z"
   },
   {
    "duration": 5,
    "start_time": "2023-09-21T22:18:10.942Z"
   },
   {
    "duration": 18,
    "start_time": "2023-09-21T22:18:48.040Z"
   },
   {
    "duration": 16,
    "start_time": "2023-09-21T22:19:04.815Z"
   },
   {
    "duration": 102,
    "start_time": "2023-09-21T22:22:54.090Z"
   },
   {
    "duration": 10,
    "start_time": "2023-09-21T22:23:05.362Z"
   },
   {
    "duration": 242,
    "start_time": "2023-09-21T22:23:21.306Z"
   },
   {
    "duration": 7,
    "start_time": "2023-09-21T22:23:47.562Z"
   },
   {
    "duration": 6,
    "start_time": "2023-09-21T22:24:44.187Z"
   },
   {
    "duration": 6,
    "start_time": "2023-09-21T22:25:10.668Z"
   },
   {
    "duration": 6,
    "start_time": "2023-09-21T22:25:19.987Z"
   },
   {
    "duration": 4,
    "start_time": "2023-09-21T22:25:59.006Z"
   },
   {
    "duration": 108,
    "start_time": "2023-09-21T22:28:55.120Z"
   },
   {
    "duration": 43,
    "start_time": "2023-09-22T00:21:20.125Z"
   },
   {
    "duration": 11,
    "start_time": "2023-09-22T00:22:12.198Z"
   },
   {
    "duration": 46,
    "start_time": "2023-09-22T00:22:44.790Z"
   },
   {
    "duration": 46,
    "start_time": "2023-09-22T00:23:04.677Z"
   },
   {
    "duration": 46,
    "start_time": "2023-09-22T00:23:22.006Z"
   },
   {
    "duration": 49,
    "start_time": "2023-09-22T00:27:07.496Z"
   },
   {
    "duration": 44,
    "start_time": "2023-09-22T00:27:31.618Z"
   },
   {
    "duration": 50,
    "start_time": "2023-09-22T00:29:32.347Z"
   },
   {
    "duration": 45,
    "start_time": "2023-09-22T00:29:50.836Z"
   },
   {
    "duration": 43,
    "start_time": "2023-09-22T00:33:09.335Z"
   },
   {
    "duration": 18,
    "start_time": "2023-09-22T00:45:26.201Z"
   },
   {
    "duration": 399,
    "start_time": "2023-09-22T00:46:19.593Z"
   },
   {
    "duration": 21,
    "start_time": "2023-09-22T00:47:34.284Z"
   },
   {
    "duration": 21,
    "start_time": "2023-09-22T00:48:55.940Z"
   },
   {
    "duration": 18,
    "start_time": "2023-09-22T00:49:37.532Z"
   },
   {
    "duration": 10,
    "start_time": "2023-09-22T00:49:49.934Z"
   },
   {
    "duration": 19,
    "start_time": "2023-09-22T00:52:45.255Z"
   },
   {
    "duration": 159,
    "start_time": "2023-09-22T00:54:11.896Z"
   },
   {
    "duration": 20,
    "start_time": "2023-09-22T00:54:49.776Z"
   },
   {
    "duration": 4,
    "start_time": "2023-09-22T00:56:51.060Z"
   },
   {
    "duration": 79,
    "start_time": "2023-09-22T01:03:57.779Z"
   },
   {
    "duration": 11,
    "start_time": "2023-09-22T01:07:48.220Z"
   },
   {
    "duration": 4,
    "start_time": "2023-09-22T01:16:21.470Z"
   },
   {
    "duration": 31,
    "start_time": "2023-09-22T01:16:46.077Z"
   },
   {
    "duration": 37,
    "start_time": "2023-09-22T01:17:10.517Z"
   },
   {
    "duration": 87,
    "start_time": "2023-09-22T01:25:04.996Z"
   },
   {
    "duration": 1159,
    "start_time": "2023-09-22T01:45:31.988Z"
   },
   {
    "duration": 1044,
    "start_time": "2023-09-22T01:46:59.054Z"
   },
   {
    "duration": 105,
    "start_time": "2023-09-22T01:51:47.850Z"
   },
   {
    "duration": 92,
    "start_time": "2023-09-22T01:53:11.203Z"
   },
   {
    "duration": 11,
    "start_time": "2023-09-22T02:06:01.718Z"
   },
   {
    "duration": 51,
    "start_time": "2023-09-22T02:08:40.625Z"
   },
   {
    "duration": 23,
    "start_time": "2023-09-22T02:09:21.291Z"
   },
   {
    "duration": 12,
    "start_time": "2023-09-22T02:10:16.451Z"
   },
   {
    "duration": 17,
    "start_time": "2023-09-22T02:11:07.123Z"
   },
   {
    "duration": 10,
    "start_time": "2023-09-22T02:11:16.386Z"
   },
   {
    "duration": 12,
    "start_time": "2023-09-22T02:11:46.691Z"
   },
   {
    "duration": 11,
    "start_time": "2023-09-22T02:14:42.101Z"
   },
   {
    "duration": 13,
    "start_time": "2023-09-22T02:15:02.926Z"
   },
   {
    "duration": 13,
    "start_time": "2023-09-22T02:17:23.569Z"
   },
   {
    "duration": 14,
    "start_time": "2023-09-22T02:17:57.083Z"
   },
   {
    "duration": 14,
    "start_time": "2023-09-22T02:18:05.962Z"
   },
   {
    "duration": 49,
    "start_time": "2023-09-22T02:18:33.329Z"
   },
   {
    "duration": 13,
    "start_time": "2023-09-22T02:19:56.402Z"
   },
   {
    "duration": 4,
    "start_time": "2023-09-22T02:21:31.742Z"
   },
   {
    "duration": 196,
    "start_time": "2023-09-22T02:21:37.044Z"
   },
   {
    "duration": 23,
    "start_time": "2023-09-22T02:29:21.322Z"
   },
   {
    "duration": 26,
    "start_time": "2023-09-22T02:29:43.066Z"
   },
   {
    "duration": 1280,
    "start_time": "2023-09-22T02:29:52.622Z"
   },
   {
    "duration": 44,
    "start_time": "2023-09-22T02:29:53.904Z"
   },
   {
    "duration": 22,
    "start_time": "2023-09-22T02:29:53.953Z"
   },
   {
    "duration": 39,
    "start_time": "2023-09-22T02:29:53.977Z"
   },
   {
    "duration": 54,
    "start_time": "2023-09-22T02:29:54.018Z"
   },
   {
    "duration": 19,
    "start_time": "2023-09-22T02:29:54.074Z"
   },
   {
    "duration": 38,
    "start_time": "2023-09-22T02:29:54.095Z"
   },
   {
    "duration": 46,
    "start_time": "2023-09-22T02:29:54.136Z"
   },
   {
    "duration": 26,
    "start_time": "2023-09-22T02:29:54.186Z"
   },
   {
    "duration": 51,
    "start_time": "2023-09-22T02:29:54.214Z"
   },
   {
    "duration": 62,
    "start_time": "2023-09-22T02:29:54.267Z"
   },
   {
    "duration": 44,
    "start_time": "2023-09-22T02:29:54.330Z"
   },
   {
    "duration": 30,
    "start_time": "2023-09-22T02:29:54.376Z"
   },
   {
    "duration": 17,
    "start_time": "2023-09-22T02:29:54.408Z"
   },
   {
    "duration": 71,
    "start_time": "2023-09-22T02:29:54.427Z"
   },
   {
    "duration": 28,
    "start_time": "2023-09-22T02:29:54.500Z"
   },
   {
    "duration": 70,
    "start_time": "2023-09-22T02:29:54.533Z"
   },
   {
    "duration": 50,
    "start_time": "2023-09-22T02:29:54.606Z"
   },
   {
    "duration": 54,
    "start_time": "2023-09-22T02:29:54.659Z"
   },
   {
    "duration": 41,
    "start_time": "2023-09-22T02:29:54.715Z"
   },
   {
    "duration": 48,
    "start_time": "2023-09-22T02:29:54.758Z"
   },
   {
    "duration": 38,
    "start_time": "2023-09-22T02:29:54.807Z"
   },
   {
    "duration": 43,
    "start_time": "2023-09-22T02:29:54.847Z"
   },
   {
    "duration": 47,
    "start_time": "2023-09-22T02:29:54.892Z"
   },
   {
    "duration": 44,
    "start_time": "2023-09-22T02:29:54.941Z"
   },
   {
    "duration": 73,
    "start_time": "2023-09-22T02:29:54.987Z"
   },
   {
    "duration": 48,
    "start_time": "2023-09-22T02:29:55.064Z"
   },
   {
    "duration": 23,
    "start_time": "2023-09-22T02:29:55.114Z"
   },
   {
    "duration": 29,
    "start_time": "2023-09-22T02:29:55.139Z"
   },
   {
    "duration": 101,
    "start_time": "2023-09-22T02:29:55.169Z"
   },
   {
    "duration": 40,
    "start_time": "2023-09-22T02:29:55.272Z"
   },
   {
    "duration": 20,
    "start_time": "2023-09-22T02:29:55.314Z"
   },
   {
    "duration": 246,
    "start_time": "2023-09-22T02:29:55.336Z"
   },
   {
    "duration": 269,
    "start_time": "2023-09-22T02:29:55.584Z"
   },
   {
    "duration": 375,
    "start_time": "2023-09-22T02:29:55.855Z"
   },
   {
    "duration": 417,
    "start_time": "2023-09-22T02:29:56.231Z"
   },
   {
    "duration": 9,
    "start_time": "2023-09-22T02:29:56.650Z"
   },
   {
    "duration": 244,
    "start_time": "2023-09-22T02:29:56.661Z"
   },
   {
    "duration": 3,
    "start_time": "2023-09-22T02:29:56.907Z"
   },
   {
    "duration": 1830,
    "start_time": "2023-09-22T02:29:56.911Z"
   },
   {
    "duration": 4,
    "start_time": "2023-09-22T02:29:58.743Z"
   },
   {
    "duration": 244,
    "start_time": "2023-09-22T02:29:58.749Z"
   },
   {
    "duration": 183,
    "start_time": "2023-09-22T02:29:58.994Z"
   },
   {
    "duration": 167,
    "start_time": "2023-09-22T02:29:59.179Z"
   },
   {
    "duration": 164,
    "start_time": "2023-09-22T02:29:59.348Z"
   },
   {
    "duration": 6,
    "start_time": "2023-09-22T02:29:59.513Z"
   },
   {
    "duration": 517,
    "start_time": "2023-09-22T02:29:59.521Z"
   },
   {
    "duration": 6,
    "start_time": "2023-09-22T02:30:00.040Z"
   },
   {
    "duration": 137,
    "start_time": "2023-09-22T02:30:00.048Z"
   },
   {
    "duration": 76,
    "start_time": "2023-09-22T02:30:00.187Z"
   },
   {
    "duration": 169,
    "start_time": "2023-09-22T02:30:00.265Z"
   },
   {
    "duration": 84,
    "start_time": "2023-09-22T02:30:00.436Z"
   },
   {
    "duration": 69,
    "start_time": "2023-09-22T02:30:00.522Z"
   },
   {
    "duration": 40,
    "start_time": "2023-09-22T02:30:00.593Z"
   },
   {
    "duration": 82,
    "start_time": "2023-09-22T02:30:00.635Z"
   },
   {
    "duration": 155,
    "start_time": "2023-09-22T02:30:00.719Z"
   },
   {
    "duration": 0,
    "start_time": "2023-09-22T02:30:00.876Z"
   },
   {
    "duration": 0,
    "start_time": "2023-09-22T02:30:00.878Z"
   },
   {
    "duration": 0,
    "start_time": "2023-09-22T02:30:00.879Z"
   },
   {
    "duration": 0,
    "start_time": "2023-09-22T02:30:00.880Z"
   },
   {
    "duration": 0,
    "start_time": "2023-09-22T02:30:00.882Z"
   },
   {
    "duration": 0,
    "start_time": "2023-09-22T02:30:00.883Z"
   },
   {
    "duration": 0,
    "start_time": "2023-09-22T02:30:00.884Z"
   },
   {
    "duration": 0,
    "start_time": "2023-09-22T02:30:00.885Z"
   },
   {
    "duration": 1375,
    "start_time": "2023-09-22T02:41:52.407Z"
   },
   {
    "duration": 50,
    "start_time": "2023-09-22T02:41:53.785Z"
   },
   {
    "duration": 22,
    "start_time": "2023-09-22T02:41:53.837Z"
   },
   {
    "duration": 57,
    "start_time": "2023-09-22T02:41:53.862Z"
   },
   {
    "duration": 22,
    "start_time": "2023-09-22T02:41:53.924Z"
   },
   {
    "duration": 17,
    "start_time": "2023-09-22T02:41:53.948Z"
   },
   {
    "duration": 16,
    "start_time": "2023-09-22T02:41:53.967Z"
   },
   {
    "duration": 43,
    "start_time": "2023-09-22T02:41:53.986Z"
   },
   {
    "duration": 17,
    "start_time": "2023-09-22T02:41:54.031Z"
   },
   {
    "duration": 27,
    "start_time": "2023-09-22T02:41:54.052Z"
   },
   {
    "duration": 4,
    "start_time": "2023-09-22T02:41:54.081Z"
   },
   {
    "duration": 17,
    "start_time": "2023-09-22T02:41:54.087Z"
   },
   {
    "duration": 34,
    "start_time": "2023-09-22T02:41:54.106Z"
   },
   {
    "duration": 7,
    "start_time": "2023-09-22T02:41:54.142Z"
   },
   {
    "duration": 34,
    "start_time": "2023-09-22T02:41:54.151Z"
   },
   {
    "duration": 23,
    "start_time": "2023-09-22T02:41:54.186Z"
   },
   {
    "duration": 6,
    "start_time": "2023-09-22T02:41:54.212Z"
   },
   {
    "duration": 16,
    "start_time": "2023-09-22T02:41:54.220Z"
   },
   {
    "duration": 20,
    "start_time": "2023-09-22T02:41:54.238Z"
   },
   {
    "duration": 16,
    "start_time": "2023-09-22T02:41:54.260Z"
   },
   {
    "duration": 16,
    "start_time": "2023-09-22T02:41:54.278Z"
   },
   {
    "duration": 17,
    "start_time": "2023-09-22T02:41:54.296Z"
   },
   {
    "duration": 33,
    "start_time": "2023-09-22T02:41:54.315Z"
   },
   {
    "duration": 77,
    "start_time": "2023-09-22T02:41:54.349Z"
   },
   {
    "duration": 25,
    "start_time": "2023-09-22T02:41:54.428Z"
   },
   {
    "duration": 11,
    "start_time": "2023-09-22T02:41:54.455Z"
   },
   {
    "duration": 36,
    "start_time": "2023-09-22T02:41:54.467Z"
   },
   {
    "duration": 42,
    "start_time": "2023-09-22T02:41:54.507Z"
   },
   {
    "duration": 30,
    "start_time": "2023-09-22T02:41:54.551Z"
   },
   {
    "duration": 67,
    "start_time": "2023-09-22T02:41:54.583Z"
   },
   {
    "duration": 14,
    "start_time": "2023-09-22T02:41:54.652Z"
   },
   {
    "duration": 46,
    "start_time": "2023-09-22T02:41:54.667Z"
   },
   {
    "duration": 253,
    "start_time": "2023-09-22T02:41:54.716Z"
   },
   {
    "duration": 310,
    "start_time": "2023-09-22T02:41:54.972Z"
   },
   {
    "duration": 263,
    "start_time": "2023-09-22T02:41:55.284Z"
   },
   {
    "duration": 419,
    "start_time": "2023-09-22T02:41:55.549Z"
   },
   {
    "duration": 9,
    "start_time": "2023-09-22T02:41:55.970Z"
   },
   {
    "duration": 273,
    "start_time": "2023-09-22T02:41:55.980Z"
   },
   {
    "duration": 3,
    "start_time": "2023-09-22T02:41:56.255Z"
   },
   {
    "duration": 1877,
    "start_time": "2023-09-22T02:41:56.259Z"
   },
   {
    "duration": 4,
    "start_time": "2023-09-22T02:41:58.139Z"
   },
   {
    "duration": 305,
    "start_time": "2023-09-22T02:41:58.146Z"
   },
   {
    "duration": 214,
    "start_time": "2023-09-22T02:41:58.453Z"
   },
   {
    "duration": 196,
    "start_time": "2023-09-22T02:41:58.668Z"
   },
   {
    "duration": 191,
    "start_time": "2023-09-22T02:41:58.865Z"
   },
   {
    "duration": 6,
    "start_time": "2023-09-22T02:41:59.058Z"
   },
   {
    "duration": 551,
    "start_time": "2023-09-22T02:41:59.066Z"
   },
   {
    "duration": 9,
    "start_time": "2023-09-22T02:41:59.619Z"
   },
   {
    "duration": 12,
    "start_time": "2023-09-22T02:41:59.630Z"
   },
   {
    "duration": 8,
    "start_time": "2023-09-22T02:41:59.644Z"
   },
   {
    "duration": 5,
    "start_time": "2023-09-22T02:41:59.654Z"
   },
   {
    "duration": 40,
    "start_time": "2023-09-22T02:41:59.661Z"
   },
   {
    "duration": 17,
    "start_time": "2023-09-22T02:41:59.704Z"
   },
   {
    "duration": 26,
    "start_time": "2023-09-22T02:41:59.723Z"
   },
   {
    "duration": 82,
    "start_time": "2023-09-22T02:41:59.751Z"
   },
   {
    "duration": 129,
    "start_time": "2023-09-22T02:41:59.835Z"
   },
   {
    "duration": 0,
    "start_time": "2023-09-22T02:41:59.966Z"
   },
   {
    "duration": 0,
    "start_time": "2023-09-22T02:41:59.967Z"
   },
   {
    "duration": 0,
    "start_time": "2023-09-22T02:41:59.969Z"
   },
   {
    "duration": 0,
    "start_time": "2023-09-22T02:41:59.970Z"
   },
   {
    "duration": 0,
    "start_time": "2023-09-22T02:41:59.971Z"
   },
   {
    "duration": 0,
    "start_time": "2023-09-22T02:41:59.972Z"
   },
   {
    "duration": 0,
    "start_time": "2023-09-22T02:41:59.973Z"
   },
   {
    "duration": 0,
    "start_time": "2023-09-22T02:41:59.974Z"
   },
   {
    "duration": 19,
    "start_time": "2023-09-22T02:46:50.275Z"
   },
   {
    "duration": 1283,
    "start_time": "2023-09-22T02:48:06.564Z"
   },
   {
    "duration": 41,
    "start_time": "2023-09-22T02:48:07.849Z"
   },
   {
    "duration": 20,
    "start_time": "2023-09-22T02:48:07.892Z"
   },
   {
    "duration": 66,
    "start_time": "2023-09-22T02:48:07.914Z"
   },
   {
    "duration": 37,
    "start_time": "2023-09-22T02:48:07.982Z"
   },
   {
    "duration": 71,
    "start_time": "2023-09-22T02:48:08.020Z"
   },
   {
    "duration": 38,
    "start_time": "2023-09-22T02:48:08.093Z"
   },
   {
    "duration": 67,
    "start_time": "2023-09-22T02:48:08.133Z"
   },
   {
    "duration": 12,
    "start_time": "2023-09-22T02:48:08.202Z"
   },
   {
    "duration": 17,
    "start_time": "2023-09-22T02:48:08.217Z"
   },
   {
    "duration": 8,
    "start_time": "2023-09-22T02:48:08.235Z"
   },
   {
    "duration": 30,
    "start_time": "2023-09-22T02:48:08.244Z"
   },
   {
    "duration": 29,
    "start_time": "2023-09-22T02:48:08.275Z"
   },
   {
    "duration": 7,
    "start_time": "2023-09-22T02:48:08.306Z"
   },
   {
    "duration": 31,
    "start_time": "2023-09-22T02:48:08.315Z"
   },
   {
    "duration": 10,
    "start_time": "2023-09-22T02:48:08.348Z"
   },
   {
    "duration": 51,
    "start_time": "2023-09-22T02:48:08.360Z"
   },
   {
    "duration": 14,
    "start_time": "2023-09-22T02:48:08.413Z"
   },
   {
    "duration": 29,
    "start_time": "2023-09-22T02:48:08.429Z"
   },
   {
    "duration": 63,
    "start_time": "2023-09-22T02:48:08.460Z"
   },
   {
    "duration": 40,
    "start_time": "2023-09-22T02:48:08.525Z"
   },
   {
    "duration": 31,
    "start_time": "2023-09-22T02:48:08.567Z"
   },
   {
    "duration": 81,
    "start_time": "2023-09-22T02:48:08.600Z"
   },
   {
    "duration": 60,
    "start_time": "2023-09-22T02:48:08.682Z"
   },
   {
    "duration": 22,
    "start_time": "2023-09-22T02:48:08.744Z"
   },
   {
    "duration": 14,
    "start_time": "2023-09-22T02:48:08.769Z"
   },
   {
    "duration": 70,
    "start_time": "2023-09-22T02:48:08.785Z"
   },
   {
    "duration": 32,
    "start_time": "2023-09-22T02:48:08.860Z"
   },
   {
    "duration": 28,
    "start_time": "2023-09-22T02:48:08.894Z"
   },
   {
    "duration": 48,
    "start_time": "2023-09-22T02:48:08.924Z"
   },
   {
    "duration": 14,
    "start_time": "2023-09-22T02:48:08.974Z"
   },
   {
    "duration": 32,
    "start_time": "2023-09-22T02:48:08.990Z"
   },
   {
    "duration": 211,
    "start_time": "2023-09-22T02:48:09.024Z"
   },
   {
    "duration": 251,
    "start_time": "2023-09-22T02:48:09.236Z"
   },
   {
    "duration": 247,
    "start_time": "2023-09-22T02:48:09.489Z"
   },
   {
    "duration": 397,
    "start_time": "2023-09-22T02:48:09.737Z"
   },
   {
    "duration": 9,
    "start_time": "2023-09-22T02:48:10.135Z"
   },
   {
    "duration": 232,
    "start_time": "2023-09-22T02:48:10.145Z"
   },
   {
    "duration": 3,
    "start_time": "2023-09-22T02:48:10.379Z"
   },
   {
    "duration": 1762,
    "start_time": "2023-09-22T02:48:10.384Z"
   },
   {
    "duration": 4,
    "start_time": "2023-09-22T02:48:12.148Z"
   },
   {
    "duration": 239,
    "start_time": "2023-09-22T02:48:12.153Z"
   },
   {
    "duration": 174,
    "start_time": "2023-09-22T02:48:12.401Z"
   },
   {
    "duration": 164,
    "start_time": "2023-09-22T02:48:12.578Z"
   },
   {
    "duration": 159,
    "start_time": "2023-09-22T02:48:12.744Z"
   },
   {
    "duration": 6,
    "start_time": "2023-09-22T02:48:12.905Z"
   },
   {
    "duration": 499,
    "start_time": "2023-09-22T02:48:12.913Z"
   },
   {
    "duration": 5,
    "start_time": "2023-09-22T02:48:13.414Z"
   },
   {
    "duration": 10,
    "start_time": "2023-09-22T02:48:13.421Z"
   },
   {
    "duration": 16,
    "start_time": "2023-09-22T02:48:13.434Z"
   },
   {
    "duration": 8,
    "start_time": "2023-09-22T02:48:13.452Z"
   },
   {
    "duration": 89,
    "start_time": "2023-09-22T02:48:13.461Z"
   },
   {
    "duration": 68,
    "start_time": "2023-09-22T02:48:13.552Z"
   },
   {
    "duration": 49,
    "start_time": "2023-09-22T02:48:13.622Z"
   },
   {
    "duration": 44,
    "start_time": "2023-09-22T02:48:13.672Z"
   },
   {
    "duration": 110,
    "start_time": "2023-09-22T02:48:13.718Z"
   },
   {
    "duration": 0,
    "start_time": "2023-09-22T02:48:13.829Z"
   },
   {
    "duration": 0,
    "start_time": "2023-09-22T02:48:13.830Z"
   },
   {
    "duration": 0,
    "start_time": "2023-09-22T02:48:13.832Z"
   },
   {
    "duration": 0,
    "start_time": "2023-09-22T02:48:13.833Z"
   },
   {
    "duration": 0,
    "start_time": "2023-09-22T02:48:13.834Z"
   },
   {
    "duration": 0,
    "start_time": "2023-09-22T02:48:13.835Z"
   },
   {
    "duration": 0,
    "start_time": "2023-09-22T02:48:13.836Z"
   },
   {
    "duration": 0,
    "start_time": "2023-09-22T02:48:13.836Z"
   },
   {
    "duration": 10,
    "start_time": "2023-09-22T02:49:49.675Z"
   },
   {
    "duration": 12,
    "start_time": "2023-09-22T02:50:43.867Z"
   },
   {
    "duration": 1279,
    "start_time": "2023-09-22T02:56:04.399Z"
   },
   {
    "duration": 43,
    "start_time": "2023-09-22T02:56:05.680Z"
   },
   {
    "duration": 21,
    "start_time": "2023-09-22T02:56:05.725Z"
   },
   {
    "duration": 46,
    "start_time": "2023-09-22T02:56:05.748Z"
   },
   {
    "duration": 15,
    "start_time": "2023-09-22T02:56:05.796Z"
   },
   {
    "duration": 22,
    "start_time": "2023-09-22T02:56:05.813Z"
   },
   {
    "duration": 33,
    "start_time": "2023-09-22T02:56:05.836Z"
   },
   {
    "duration": 43,
    "start_time": "2023-09-22T02:56:05.871Z"
   },
   {
    "duration": 36,
    "start_time": "2023-09-22T02:56:05.916Z"
   },
   {
    "duration": 19,
    "start_time": "2023-09-22T02:56:05.954Z"
   },
   {
    "duration": 19,
    "start_time": "2023-09-22T02:56:05.975Z"
   },
   {
    "duration": 32,
    "start_time": "2023-09-22T02:56:05.995Z"
   },
   {
    "duration": 47,
    "start_time": "2023-09-22T02:56:06.028Z"
   },
   {
    "duration": 7,
    "start_time": "2023-09-22T02:56:06.077Z"
   },
   {
    "duration": 58,
    "start_time": "2023-09-22T02:56:06.086Z"
   },
   {
    "duration": 6,
    "start_time": "2023-09-22T02:56:06.146Z"
   },
   {
    "duration": 19,
    "start_time": "2023-09-22T02:56:06.154Z"
   },
   {
    "duration": 14,
    "start_time": "2023-09-22T02:56:06.175Z"
   },
   {
    "duration": 27,
    "start_time": "2023-09-22T02:56:06.191Z"
   },
   {
    "duration": 15,
    "start_time": "2023-09-22T02:56:06.220Z"
   },
   {
    "duration": 14,
    "start_time": "2023-09-22T02:56:06.237Z"
   },
   {
    "duration": 22,
    "start_time": "2023-09-22T02:56:06.253Z"
   },
   {
    "duration": 42,
    "start_time": "2023-09-22T02:56:06.277Z"
   },
   {
    "duration": 25,
    "start_time": "2023-09-22T02:56:06.321Z"
   },
   {
    "duration": 22,
    "start_time": "2023-09-22T02:56:06.347Z"
   },
   {
    "duration": 32,
    "start_time": "2023-09-22T02:56:06.370Z"
   },
   {
    "duration": 42,
    "start_time": "2023-09-22T02:56:06.404Z"
   },
   {
    "duration": 15,
    "start_time": "2023-09-22T02:56:06.450Z"
   },
   {
    "duration": 29,
    "start_time": "2023-09-22T02:56:06.467Z"
   },
   {
    "duration": 34,
    "start_time": "2023-09-22T02:56:06.498Z"
   },
   {
    "duration": 15,
    "start_time": "2023-09-22T02:56:06.534Z"
   },
   {
    "duration": 22,
    "start_time": "2023-09-22T02:56:06.550Z"
   },
   {
    "duration": 208,
    "start_time": "2023-09-22T02:56:06.574Z"
   },
   {
    "duration": 261,
    "start_time": "2023-09-22T02:56:06.784Z"
   },
   {
    "duration": 237,
    "start_time": "2023-09-22T02:56:07.046Z"
   },
   {
    "duration": 412,
    "start_time": "2023-09-22T02:56:07.284Z"
   },
   {
    "duration": 7,
    "start_time": "2023-09-22T02:56:07.698Z"
   },
   {
    "duration": 225,
    "start_time": "2023-09-22T02:56:07.707Z"
   },
   {
    "duration": 3,
    "start_time": "2023-09-22T02:56:07.934Z"
   },
   {
    "duration": 1809,
    "start_time": "2023-09-22T02:56:07.938Z"
   },
   {
    "duration": 5,
    "start_time": "2023-09-22T02:56:09.749Z"
   },
   {
    "duration": 243,
    "start_time": "2023-09-22T02:56:09.755Z"
   },
   {
    "duration": 172,
    "start_time": "2023-09-22T02:56:10.001Z"
   },
   {
    "duration": 154,
    "start_time": "2023-09-22T02:56:10.175Z"
   },
   {
    "duration": 163,
    "start_time": "2023-09-22T02:56:10.330Z"
   },
   {
    "duration": 9,
    "start_time": "2023-09-22T02:56:10.495Z"
   },
   {
    "duration": 490,
    "start_time": "2023-09-22T02:56:10.506Z"
   },
   {
    "duration": 5,
    "start_time": "2023-09-22T02:56:10.998Z"
   },
   {
    "duration": 20,
    "start_time": "2023-09-22T02:56:11.005Z"
   },
   {
    "duration": 32,
    "start_time": "2023-09-22T02:56:11.027Z"
   },
   {
    "duration": 29,
    "start_time": "2023-09-22T02:56:11.061Z"
   },
   {
    "duration": 30,
    "start_time": "2023-09-22T02:56:11.092Z"
   },
   {
    "duration": 13,
    "start_time": "2023-09-22T02:56:11.124Z"
   },
   {
    "duration": 25,
    "start_time": "2023-09-22T02:56:11.138Z"
   },
   {
    "duration": 43,
    "start_time": "2023-09-22T02:56:11.164Z"
   },
   {
    "duration": 1056,
    "start_time": "2023-09-22T02:56:11.208Z"
   },
   {
    "duration": 10223,
    "start_time": "2023-09-22T02:56:12.266Z"
   },
   {
    "duration": 67,
    "start_time": "2023-09-22T02:56:22.491Z"
   },
   {
    "duration": 64,
    "start_time": "2023-09-22T02:56:22.559Z"
   },
   {
    "duration": 12,
    "start_time": "2023-09-22T02:56:22.625Z"
   },
   {
    "duration": 29,
    "start_time": "2023-09-22T02:56:22.639Z"
   },
   {
    "duration": 36,
    "start_time": "2023-09-22T02:56:22.670Z"
   },
   {
    "duration": 33578,
    "start_time": "2023-09-22T04:03:38.567Z"
   },
   {
    "duration": 1295,
    "start_time": "2023-09-22T04:04:15.985Z"
   },
   {
    "duration": 42,
    "start_time": "2023-09-22T04:04:17.282Z"
   },
   {
    "duration": 22,
    "start_time": "2023-09-22T04:04:17.326Z"
   },
   {
    "duration": 33,
    "start_time": "2023-09-22T04:04:17.351Z"
   },
   {
    "duration": 37,
    "start_time": "2023-09-22T04:04:17.386Z"
   },
   {
    "duration": 20,
    "start_time": "2023-09-22T04:04:17.425Z"
   },
   {
    "duration": 34,
    "start_time": "2023-09-22T04:04:17.448Z"
   },
   {
    "duration": 23,
    "start_time": "2023-09-22T04:04:17.484Z"
   },
   {
    "duration": 14,
    "start_time": "2023-09-22T04:04:17.509Z"
   },
   {
    "duration": 25,
    "start_time": "2023-09-22T04:04:17.526Z"
   },
   {
    "duration": 5,
    "start_time": "2023-09-22T04:04:17.553Z"
   },
   {
    "duration": 30,
    "start_time": "2023-09-22T04:04:17.560Z"
   },
   {
    "duration": 127,
    "start_time": "2023-09-22T04:04:17.593Z"
   },
   {
    "duration": 124,
    "start_time": "2023-09-22T04:04:17.723Z"
   },
   {
    "duration": 62,
    "start_time": "2023-09-22T04:04:17.849Z"
   },
   {
    "duration": 37,
    "start_time": "2023-09-22T04:04:17.913Z"
   },
   {
    "duration": 58,
    "start_time": "2023-09-22T04:04:17.952Z"
   },
   {
    "duration": 29,
    "start_time": "2023-09-22T04:04:18.012Z"
   },
   {
    "duration": 84,
    "start_time": "2023-09-22T04:04:18.043Z"
   },
   {
    "duration": 252,
    "start_time": "2023-09-22T04:04:18.128Z"
   },
   {
    "duration": 58,
    "start_time": "2023-09-22T04:04:18.383Z"
   },
   {
    "duration": 38,
    "start_time": "2023-09-22T04:04:18.443Z"
   },
   {
    "duration": 94,
    "start_time": "2023-09-22T04:04:18.483Z"
   },
   {
    "duration": 80,
    "start_time": "2023-09-22T04:04:18.579Z"
   },
   {
    "duration": 85,
    "start_time": "2023-09-22T04:04:18.660Z"
   },
   {
    "duration": 57,
    "start_time": "2023-09-22T04:04:18.747Z"
   },
   {
    "duration": 58,
    "start_time": "2023-09-22T04:04:18.806Z"
   },
   {
    "duration": 4,
    "start_time": "2023-09-22T04:04:18.868Z"
   },
   {
    "duration": 24,
    "start_time": "2023-09-22T04:04:18.874Z"
   },
   {
    "duration": 55,
    "start_time": "2023-09-22T04:04:18.900Z"
   },
   {
    "duration": 66,
    "start_time": "2023-09-22T04:04:18.956Z"
   },
   {
    "duration": 31,
    "start_time": "2023-09-22T04:04:19.023Z"
   },
   {
    "duration": 238,
    "start_time": "2023-09-22T04:04:19.056Z"
   },
   {
    "duration": 259,
    "start_time": "2023-09-22T04:04:19.295Z"
   },
   {
    "duration": 240,
    "start_time": "2023-09-22T04:04:19.556Z"
   },
   {
    "duration": 407,
    "start_time": "2023-09-22T04:04:19.797Z"
   },
   {
    "duration": 8,
    "start_time": "2023-09-22T04:04:20.206Z"
   },
   {
    "duration": 222,
    "start_time": "2023-09-22T04:04:20.215Z"
   },
   {
    "duration": 3,
    "start_time": "2023-09-22T04:04:20.439Z"
   },
   {
    "duration": 34691,
    "start_time": "2023-09-22T04:04:20.443Z"
   },
   {
    "duration": 4,
    "start_time": "2023-09-22T04:04:55.136Z"
   },
   {
    "duration": 308,
    "start_time": "2023-09-22T04:04:55.142Z"
   },
   {
    "duration": 188,
    "start_time": "2023-09-22T04:04:55.452Z"
   },
   {
    "duration": 174,
    "start_time": "2023-09-22T04:04:55.642Z"
   },
   {
    "duration": 204,
    "start_time": "2023-09-22T04:04:55.819Z"
   },
   {
    "duration": 7,
    "start_time": "2023-09-22T04:04:56.025Z"
   },
   {
    "duration": 653,
    "start_time": "2023-09-22T04:04:56.033Z"
   },
   {
    "duration": 15,
    "start_time": "2023-09-22T04:04:56.688Z"
   },
   {
    "duration": 82,
    "start_time": "2023-09-22T04:04:56.706Z"
   },
   {
    "duration": 73,
    "start_time": "2023-09-22T04:04:56.790Z"
   },
   {
    "duration": 146,
    "start_time": "2023-09-22T04:04:56.865Z"
   },
   {
    "duration": 112,
    "start_time": "2023-09-22T04:04:57.013Z"
   },
   {
    "duration": 50,
    "start_time": "2023-09-22T04:04:57.127Z"
   },
   {
    "duration": 80,
    "start_time": "2023-09-22T04:04:57.179Z"
   },
   {
    "duration": 230,
    "start_time": "2023-09-22T04:04:57.262Z"
   },
   {
    "duration": 1411,
    "start_time": "2023-09-22T04:04:57.494Z"
   },
   {
    "duration": 10966,
    "start_time": "2023-09-22T04:04:58.906Z"
   },
   {
    "duration": 65,
    "start_time": "2023-09-22T04:05:09.874Z"
   },
   {
    "duration": 62,
    "start_time": "2023-09-22T04:05:09.940Z"
   },
   {
    "duration": 13,
    "start_time": "2023-09-22T04:05:10.004Z"
   },
   {
    "duration": 60,
    "start_time": "2023-09-22T04:05:10.018Z"
   },
   {
    "duration": 33,
    "start_time": "2023-09-22T04:05:10.079Z"
   },
   {
    "duration": 1724,
    "start_time": "2023-09-22T04:05:43.182Z"
   },
   {
    "duration": 1284,
    "start_time": "2023-09-22T04:21:06.870Z"
   },
   {
    "duration": 42,
    "start_time": "2023-09-22T04:21:08.157Z"
   },
   {
    "duration": 23,
    "start_time": "2023-09-22T04:21:08.201Z"
   },
   {
    "duration": 168,
    "start_time": "2023-09-22T04:21:08.226Z"
   },
   {
    "duration": 234,
    "start_time": "2023-09-22T04:21:08.396Z"
   },
   {
    "duration": 54,
    "start_time": "2023-09-22T04:21:08.632Z"
   },
   {
    "duration": 11,
    "start_time": "2023-09-22T04:21:08.688Z"
   },
   {
    "duration": 38,
    "start_time": "2023-09-22T04:21:08.701Z"
   },
   {
    "duration": 75,
    "start_time": "2023-09-22T04:21:08.741Z"
   },
   {
    "duration": 40,
    "start_time": "2023-09-22T04:21:08.819Z"
   },
   {
    "duration": 38,
    "start_time": "2023-09-22T04:21:08.861Z"
   },
   {
    "duration": 38,
    "start_time": "2023-09-22T04:21:08.901Z"
   },
   {
    "duration": 33,
    "start_time": "2023-09-22T04:21:08.942Z"
   },
   {
    "duration": 22,
    "start_time": "2023-09-22T04:21:08.978Z"
   },
   {
    "duration": 55,
    "start_time": "2023-09-22T04:21:09.003Z"
   },
   {
    "duration": 7,
    "start_time": "2023-09-22T04:21:09.060Z"
   },
   {
    "duration": 98,
    "start_time": "2023-09-22T04:21:09.069Z"
   },
   {
    "duration": 40,
    "start_time": "2023-09-22T04:21:09.169Z"
   },
   {
    "duration": 34,
    "start_time": "2023-09-22T04:21:09.211Z"
   },
   {
    "duration": 416,
    "start_time": "2023-09-22T04:21:09.247Z"
   },
   {
    "duration": 327,
    "start_time": "2023-09-22T04:21:09.665Z"
   },
   {
    "duration": 454,
    "start_time": "2023-09-22T04:21:09.994Z"
   },
   {
    "duration": 482,
    "start_time": "2023-09-22T04:21:10.450Z"
   },
   {
    "duration": 83,
    "start_time": "2023-09-22T04:21:10.933Z"
   },
   {
    "duration": 31,
    "start_time": "2023-09-22T04:21:11.019Z"
   },
   {
    "duration": 15,
    "start_time": "2023-09-22T04:21:11.052Z"
   },
   {
    "duration": 41,
    "start_time": "2023-09-22T04:21:11.068Z"
   },
   {
    "duration": 33,
    "start_time": "2023-09-22T04:21:11.113Z"
   },
   {
    "duration": 60,
    "start_time": "2023-09-22T04:21:11.147Z"
   },
   {
    "duration": 42,
    "start_time": "2023-09-22T04:21:11.209Z"
   },
   {
    "duration": 31,
    "start_time": "2023-09-22T04:21:11.252Z"
   },
   {
    "duration": 18,
    "start_time": "2023-09-22T04:21:11.285Z"
   },
   {
    "duration": 263,
    "start_time": "2023-09-22T04:21:11.305Z"
   },
   {
    "duration": 270,
    "start_time": "2023-09-22T04:21:11.570Z"
   },
   {
    "duration": 254,
    "start_time": "2023-09-22T04:21:11.842Z"
   },
   {
    "duration": 422,
    "start_time": "2023-09-22T04:21:12.101Z"
   },
   {
    "duration": 9,
    "start_time": "2023-09-22T04:21:12.525Z"
   },
   {
    "duration": 238,
    "start_time": "2023-09-22T04:21:12.536Z"
   },
   {
    "duration": 2,
    "start_time": "2023-09-22T04:21:12.776Z"
   },
   {
    "duration": 1845,
    "start_time": "2023-09-22T04:21:12.780Z"
   },
   {
    "duration": 4,
    "start_time": "2023-09-22T04:21:14.627Z"
   },
   {
    "duration": 277,
    "start_time": "2023-09-22T04:21:14.633Z"
   },
   {
    "duration": 185,
    "start_time": "2023-09-22T04:21:14.911Z"
   },
   {
    "duration": 171,
    "start_time": "2023-09-22T04:21:15.098Z"
   },
   {
    "duration": 179,
    "start_time": "2023-09-22T04:21:15.270Z"
   },
   {
    "duration": 7,
    "start_time": "2023-09-22T04:21:15.451Z"
   },
   {
    "duration": 512,
    "start_time": "2023-09-22T04:21:15.459Z"
   },
   {
    "duration": 5,
    "start_time": "2023-09-22T04:21:15.973Z"
   },
   {
    "duration": 25,
    "start_time": "2023-09-22T04:21:15.980Z"
   },
   {
    "duration": 15,
    "start_time": "2023-09-22T04:21:16.007Z"
   },
   {
    "duration": 5,
    "start_time": "2023-09-22T04:21:16.024Z"
   },
   {
    "duration": 47,
    "start_time": "2023-09-22T04:21:16.031Z"
   },
   {
    "duration": 29,
    "start_time": "2023-09-22T04:21:16.080Z"
   },
   {
    "duration": 63,
    "start_time": "2023-09-22T04:21:16.111Z"
   },
   {
    "duration": 45,
    "start_time": "2023-09-22T04:21:16.176Z"
   },
   {
    "duration": 1108,
    "start_time": "2023-09-22T04:21:16.223Z"
   },
   {
    "duration": 11166,
    "start_time": "2023-09-22T04:21:17.332Z"
   },
   {
    "duration": 71,
    "start_time": "2023-09-22T04:21:28.500Z"
   },
   {
    "duration": 131,
    "start_time": "2023-09-22T04:21:28.573Z"
   },
   {
    "duration": 16,
    "start_time": "2023-09-22T04:21:28.707Z"
   },
   {
    "duration": 13,
    "start_time": "2023-09-22T04:21:28.726Z"
   },
   {
    "duration": 26,
    "start_time": "2023-09-22T04:21:28.740Z"
   },
   {
    "duration": 365,
    "start_time": "2023-09-22T18:55:40.070Z"
   },
   {
    "duration": 925,
    "start_time": "2023-09-22T18:55:58.107Z"
   },
   {
    "duration": 98,
    "start_time": "2023-09-22T18:59:43.496Z"
   },
   {
    "duration": 1782,
    "start_time": "2023-09-22T19:18:38.184Z"
   },
   {
    "duration": 193,
    "start_time": "2023-09-22T19:18:39.968Z"
   },
   {
    "duration": 27,
    "start_time": "2023-09-22T19:18:40.163Z"
   },
   {
    "duration": 48,
    "start_time": "2023-09-22T19:18:40.194Z"
   },
   {
    "duration": 18,
    "start_time": "2023-09-22T19:18:40.245Z"
   },
   {
    "duration": 27,
    "start_time": "2023-09-22T19:18:40.266Z"
   },
   {
    "duration": 46,
    "start_time": "2023-09-22T19:18:40.295Z"
   },
   {
    "duration": 61,
    "start_time": "2023-09-22T19:18:40.343Z"
   },
   {
    "duration": 42,
    "start_time": "2023-09-22T19:18:40.406Z"
   },
   {
    "duration": 80,
    "start_time": "2023-09-22T19:18:40.453Z"
   },
   {
    "duration": 60,
    "start_time": "2023-09-22T19:18:40.535Z"
   },
   {
    "duration": 26,
    "start_time": "2023-09-22T19:18:40.597Z"
   },
   {
    "duration": 96,
    "start_time": "2023-09-22T19:18:40.625Z"
   },
   {
    "duration": 75,
    "start_time": "2023-09-22T19:18:40.723Z"
   },
   {
    "duration": 63,
    "start_time": "2023-09-22T19:18:40.800Z"
   },
   {
    "duration": 61,
    "start_time": "2023-09-22T19:18:40.866Z"
   },
   {
    "duration": 81,
    "start_time": "2023-09-22T19:18:40.930Z"
   },
   {
    "duration": 26,
    "start_time": "2023-09-22T19:18:41.013Z"
   },
   {
    "duration": 51,
    "start_time": "2023-09-22T19:18:41.041Z"
   },
   {
    "duration": 56,
    "start_time": "2023-09-22T19:18:41.094Z"
   },
   {
    "duration": 27,
    "start_time": "2023-09-22T19:18:41.151Z"
   },
   {
    "duration": 62,
    "start_time": "2023-09-22T19:18:41.180Z"
   },
   {
    "duration": 90,
    "start_time": "2023-09-22T19:18:41.244Z"
   },
   {
    "duration": 56,
    "start_time": "2023-09-22T19:18:41.335Z"
   },
   {
    "duration": 50,
    "start_time": "2023-09-22T19:18:41.393Z"
   },
   {
    "duration": 62,
    "start_time": "2023-09-22T19:18:41.447Z"
   },
   {
    "duration": 42,
    "start_time": "2023-09-22T19:18:41.511Z"
   },
   {
    "duration": 50,
    "start_time": "2023-09-22T19:18:41.558Z"
   },
   {
    "duration": 66,
    "start_time": "2023-09-22T19:18:41.610Z"
   },
   {
    "duration": 61,
    "start_time": "2023-09-22T19:18:41.678Z"
   },
   {
    "duration": 82,
    "start_time": "2023-09-22T19:18:41.742Z"
   },
   {
    "duration": 34,
    "start_time": "2023-09-22T19:18:41.829Z"
   },
   {
    "duration": 276,
    "start_time": "2023-09-22T19:18:41.865Z"
   },
   {
    "duration": 353,
    "start_time": "2023-09-22T19:18:42.143Z"
   },
   {
    "duration": 292,
    "start_time": "2023-09-22T19:18:42.502Z"
   },
   {
    "duration": 519,
    "start_time": "2023-09-22T19:18:42.796Z"
   },
   {
    "duration": 13,
    "start_time": "2023-09-22T19:18:43.317Z"
   },
   {
    "duration": 283,
    "start_time": "2023-09-22T19:18:43.340Z"
   },
   {
    "duration": 9,
    "start_time": "2023-09-22T19:18:43.631Z"
   },
   {
    "duration": 2545,
    "start_time": "2023-09-22T19:18:43.642Z"
   },
   {
    "duration": 33,
    "start_time": "2023-09-22T19:18:46.189Z"
   },
   {
    "duration": 636,
    "start_time": "2023-09-22T19:18:46.230Z"
   },
   {
    "duration": 295,
    "start_time": "2023-09-22T19:18:46.868Z"
   },
   {
    "duration": 217,
    "start_time": "2023-09-22T19:18:47.166Z"
   },
   {
    "duration": 217,
    "start_time": "2023-09-22T19:18:47.385Z"
   },
   {
    "duration": 201,
    "start_time": "2023-09-22T19:18:47.604Z"
   },
   {
    "duration": 6,
    "start_time": "2023-09-22T19:18:47.808Z"
   },
   {
    "duration": 678,
    "start_time": "2023-09-22T19:18:47.816Z"
   },
   {
    "duration": 14,
    "start_time": "2023-09-22T19:18:48.496Z"
   },
   {
    "duration": 36,
    "start_time": "2023-09-22T19:18:48.512Z"
   },
   {
    "duration": 52,
    "start_time": "2023-09-22T19:18:48.551Z"
   },
   {
    "duration": 40,
    "start_time": "2023-09-22T19:18:48.605Z"
   },
   {
    "duration": 76,
    "start_time": "2023-09-22T19:18:48.647Z"
   },
   {
    "duration": 23,
    "start_time": "2023-09-22T19:18:48.728Z"
   },
   {
    "duration": 126,
    "start_time": "2023-09-22T19:18:48.753Z"
   },
   {
    "duration": 128,
    "start_time": "2023-09-22T19:18:48.883Z"
   },
   {
    "duration": 151,
    "start_time": "2023-09-22T19:18:49.018Z"
   },
   {
    "duration": 1319,
    "start_time": "2023-09-22T19:18:49.172Z"
   },
   {
    "duration": 13829,
    "start_time": "2023-09-22T19:18:50.493Z"
   },
   {
    "duration": 87,
    "start_time": "2023-09-22T19:19:04.323Z"
   },
   {
    "duration": 74,
    "start_time": "2023-09-22T19:19:04.413Z"
   },
   {
    "duration": 28,
    "start_time": "2023-09-22T19:19:04.489Z"
   },
   {
    "duration": 101,
    "start_time": "2023-09-22T19:19:04.519Z"
   },
   {
    "duration": 29,
    "start_time": "2023-09-22T19:19:04.622Z"
   }
  ],
  "kernelspec": {
   "display_name": "Python 3 (ipykernel)",
   "language": "python",
   "name": "python3"
  },
  "language_info": {
   "codemirror_mode": {
    "name": "ipython",
    "version": 3
   },
   "file_extension": ".py",
   "mimetype": "text/x-python",
   "name": "python",
   "nbconvert_exporter": "python",
   "pygments_lexer": "ipython3",
   "version": "3.10.9"
  },
  "toc": {
   "base_numbering": 1,
   "nav_menu": {},
   "number_sections": true,
   "sideBar": true,
   "skip_h1_title": true,
   "title_cell": "Table of Contents",
   "title_sidebar": "Contents",
   "toc_cell": false,
   "toc_position": {},
   "toc_section_display": true,
   "toc_window_display": false
  }
 },
 "nbformat": 4,
 "nbformat_minor": 5
}
