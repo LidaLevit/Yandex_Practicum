{
 "cells": [
  {
   "cell_type": "markdown",
   "id": "71cb9ee9",
   "metadata": {},
   "source": [
    "# <p style=\"text-align: center;\"> Задание SQL </p>"
   ]
  },
  {
   "cell_type": "markdown",
   "id": "d96dbf85",
   "metadata": {},
   "source": [
    "**Цель исследования:** провести анализ данных сервиса книг и решить следующие задачи:<br>\n",
    "\n",
    "+ сколько книг вышло после 1 января 2000 года;\n",
    "+ посчитать количество обзоров и среднюю оценку каждой книги;\n",
    "+ определить издательство, которое выпустило наибольшее число книг толще 50 страниц — чтобы исключитеь из анализа брошюры;\n",
    "+ определить автора с самой высокой средней оценкой книг — учитывая только книги с 50 и более оценками;\n",
    "+ посчитать среднее количество обзоров от пользователей, которые поставили больше 48 оценок."
   ]
  },
  {
   "cell_type": "markdown",
   "id": "110b8e98",
   "metadata": {},
   "source": [
    "# Описание данных"
   ]
  },
  {
   "cell_type": "markdown",
   "id": "a2b82a99",
   "metadata": {},
   "source": [
    "**Таблица `books`**<br>\n",
    "Содержит данные о книгах:<br>\n",
    "`book_id` — идентификатор книги;<br>\n",
    "`author_id` — идентификатор автора;<br>\n",
    "`title` — название книги;<br>\n",
    "`num_pages` — количество страниц;<br>\n",
    "`publication_date` — дата публикации книги;<br>\n",
    "`publisher_id` — идентификатор издателя."
   ]
  },
  {
   "cell_type": "markdown",
   "id": "67a02c0b",
   "metadata": {},
   "source": [
    "**Таблица `authors`**<br>\n",
    "Содержит данные об авторах:<br>\n",
    "`author_id` — идентификатор автора;<br>\n",
    "`author` — имя автора."
   ]
  },
  {
   "cell_type": "markdown",
   "id": "0c9235d1",
   "metadata": {},
   "source": [
    "**Таблица `publishers`**<br>\n",
    "Содержит данные об издательствах:<br>\n",
    "`publisher_id` — идентификатор издательства;<br>\n",
    "`publisher` — название издательства;"
   ]
  },
  {
   "cell_type": "markdown",
   "id": "5635784c",
   "metadata": {},
   "source": [
    "**Таблица `ratings`**<br>\n",
    "Содержит данные о пользовательских оценках книг:<br>\n",
    "`rating_id` — идентификатор оценки;<br>\n",
    "`book_id` — идентификатор книги;<br>\n",
    "`username` — имя пользователя, оставившего оценку;<br>\n",
    "`rating` — оценка книги."
   ]
  },
  {
   "cell_type": "markdown",
   "id": "bd25da91",
   "metadata": {},
   "source": [
    "**Таблица `reviews`**<br>\n",
    "Содержит данные о пользовательских обзорах на книги:<br>\n",
    "`review_id` — идентификатор обзора;<br>\n",
    "`book_id` — идентификатор книги;<br>\n",
    "`username` — имя пользователя, написавшего обзор;<br>\n",
    "`text` — текст обзора."
   ]
  },
  {
   "cell_type": "code",
   "execution_count": 1,
   "id": "1ae55dd9",
   "metadata": {},
   "outputs": [],
   "source": [
    "# импортируем библиотеки\n",
    "import pandas as pd\n",
    "import sqlalchemy as sa\n",
    "from sqlalchemy import inspect"
   ]
  },
  {
   "cell_type": "code",
   "execution_count": 2,
   "id": "6948ebd7",
   "metadata": {},
   "outputs": [],
   "source": [
    "# устанавливаем параметры\n",
    "db_config = {\n",
    "'user': 'praktikum_student', # имя пользователя\n",
    "'pwd': 'Sdf4$2;d-d30pp', # пароль\n",
    "'host': 'rc1b-wcoijxj3yxfsf3fs.mdb.yandexcloud.net',\n",
    "'port': 6432, # порт подключения\n",
    "'db': 'data-analyst-final-project-db' # название базы данных\n",
    "}\n",
    "connection_string = 'postgresql://{user}:{pwd}@{host}:{port}/{db}'.format(**db_config)\n",
    "# сохраняем коннектор\n",
    "engine = sa.create_engine(connection_string, connect_args={'sslmode':'require'})"
   ]
  },
  {
   "cell_type": "markdown",
   "id": "c198c776",
   "metadata": {},
   "source": [
    "# Изучение информации о таблицах"
   ]
  },
  {
   "cell_type": "code",
   "execution_count": 3,
   "id": "0769b5f5",
   "metadata": {},
   "outputs": [],
   "source": [
    "def data_head(query:str, engine:sa.engine.base.Engine=engine) -> pd.DataFrame:\n",
    "    '''Функция для вывода первых 5 строк таблицы'''\n",
    "    with engine.connect() as con:\n",
    "        return pd.read_sql(sql=sa.text(query), con = con)"
   ]
  },
  {
   "cell_type": "code",
   "execution_count": 4,
   "id": "98c80924",
   "metadata": {},
   "outputs": [],
   "source": [
    "def data_count(query:str, engine:sa.engine.base.Engine=engine) -> pd.DataFrame:\n",
    "    '''Функция для вывода подсчета количества строк таблицы'''\n",
    "    with engine.connect() as con:\n",
    "        return pd.read_sql(sql=sa.text(query), con = con)"
   ]
  },
  {
   "cell_type": "code",
   "execution_count": 5,
   "id": "3df5e8b7",
   "metadata": {},
   "outputs": [
    {
     "data": {
      "text/html": [
       "<div>\n",
       "<style scoped>\n",
       "    .dataframe tbody tr th:only-of-type {\n",
       "        vertical-align: middle;\n",
       "    }\n",
       "\n",
       "    .dataframe tbody tr th {\n",
       "        vertical-align: top;\n",
       "    }\n",
       "\n",
       "    .dataframe thead th {\n",
       "        text-align: right;\n",
       "    }\n",
       "</style>\n",
       "<table border=\"1\" class=\"dataframe\">\n",
       "  <thead>\n",
       "    <tr style=\"text-align: right;\">\n",
       "      <th></th>\n",
       "      <th>name</th>\n",
       "      <th>type</th>\n",
       "    </tr>\n",
       "  </thead>\n",
       "  <tbody>\n",
       "    <tr>\n",
       "      <th>0</th>\n",
       "      <td>book_id</td>\n",
       "      <td>INTEGER</td>\n",
       "    </tr>\n",
       "    <tr>\n",
       "      <th>1</th>\n",
       "      <td>author_id</td>\n",
       "      <td>INTEGER</td>\n",
       "    </tr>\n",
       "    <tr>\n",
       "      <th>2</th>\n",
       "      <td>title</td>\n",
       "      <td>TEXT</td>\n",
       "    </tr>\n",
       "    <tr>\n",
       "      <th>3</th>\n",
       "      <td>num_pages</td>\n",
       "      <td>INTEGER</td>\n",
       "    </tr>\n",
       "    <tr>\n",
       "      <th>4</th>\n",
       "      <td>publication_date</td>\n",
       "      <td>DATE</td>\n",
       "    </tr>\n",
       "    <tr>\n",
       "      <th>5</th>\n",
       "      <td>publisher_id</td>\n",
       "      <td>INTEGER</td>\n",
       "    </tr>\n",
       "  </tbody>\n",
       "</table>\n",
       "</div>"
      ],
      "text/plain": [
       "               name     type\n",
       "0           book_id  INTEGER\n",
       "1         author_id  INTEGER\n",
       "2             title     TEXT\n",
       "3         num_pages  INTEGER\n",
       "4  publication_date     DATE\n",
       "5      publisher_id  INTEGER"
      ]
     },
     "metadata": {},
     "output_type": "display_data"
    }
   ],
   "source": [
    "insp = inspect(engine)\n",
    "display(pd.DataFrame(insp.get_columns('books'))[['name','type']])"
   ]
  },
  {
   "cell_type": "code",
   "execution_count": 6,
   "id": "736e4de8",
   "metadata": {},
   "outputs": [
    {
     "data": {
      "text/html": [
       "<div>\n",
       "<style scoped>\n",
       "    .dataframe tbody tr th:only-of-type {\n",
       "        vertical-align: middle;\n",
       "    }\n",
       "\n",
       "    .dataframe tbody tr th {\n",
       "        vertical-align: top;\n",
       "    }\n",
       "\n",
       "    .dataframe thead th {\n",
       "        text-align: right;\n",
       "    }\n",
       "</style>\n",
       "<table border=\"1\" class=\"dataframe\">\n",
       "  <thead>\n",
       "    <tr style=\"text-align: right;\">\n",
       "      <th></th>\n",
       "      <th>book_id</th>\n",
       "      <th>author_id</th>\n",
       "      <th>title</th>\n",
       "      <th>num_pages</th>\n",
       "      <th>publication_date</th>\n",
       "      <th>publisher_id</th>\n",
       "    </tr>\n",
       "  </thead>\n",
       "  <tbody>\n",
       "    <tr>\n",
       "      <th>0</th>\n",
       "      <td>1</td>\n",
       "      <td>546</td>\n",
       "      <td>'Salem's Lot</td>\n",
       "      <td>594</td>\n",
       "      <td>2005-11-01</td>\n",
       "      <td>93</td>\n",
       "    </tr>\n",
       "    <tr>\n",
       "      <th>1</th>\n",
       "      <td>2</td>\n",
       "      <td>465</td>\n",
       "      <td>1 000 Places to See Before You Die</td>\n",
       "      <td>992</td>\n",
       "      <td>2003-05-22</td>\n",
       "      <td>336</td>\n",
       "    </tr>\n",
       "    <tr>\n",
       "      <th>2</th>\n",
       "      <td>3</td>\n",
       "      <td>407</td>\n",
       "      <td>13 Little Blue Envelopes (Little Blue Envelope...</td>\n",
       "      <td>322</td>\n",
       "      <td>2010-12-21</td>\n",
       "      <td>135</td>\n",
       "    </tr>\n",
       "    <tr>\n",
       "      <th>3</th>\n",
       "      <td>4</td>\n",
       "      <td>82</td>\n",
       "      <td>1491: New Revelations of the Americas Before C...</td>\n",
       "      <td>541</td>\n",
       "      <td>2006-10-10</td>\n",
       "      <td>309</td>\n",
       "    </tr>\n",
       "    <tr>\n",
       "      <th>4</th>\n",
       "      <td>5</td>\n",
       "      <td>125</td>\n",
       "      <td>1776</td>\n",
       "      <td>386</td>\n",
       "      <td>2006-07-04</td>\n",
       "      <td>268</td>\n",
       "    </tr>\n",
       "  </tbody>\n",
       "</table>\n",
       "</div>"
      ],
      "text/plain": [
       "   book_id  author_id                                              title  \\\n",
       "0        1        546                                       'Salem's Lot   \n",
       "1        2        465                 1 000 Places to See Before You Die   \n",
       "2        3        407  13 Little Blue Envelopes (Little Blue Envelope...   \n",
       "3        4         82  1491: New Revelations of the Americas Before C...   \n",
       "4        5        125                                               1776   \n",
       "\n",
       "   num_pages publication_date  publisher_id  \n",
       "0        594       2005-11-01            93  \n",
       "1        992       2003-05-22           336  \n",
       "2        322       2010-12-21           135  \n",
       "3        541       2006-10-10           309  \n",
       "4        386       2006-07-04           268  "
      ]
     },
     "execution_count": 6,
     "metadata": {},
     "output_type": "execute_result"
    }
   ],
   "source": [
    "data_head('''SELECT * FROM books LIMIT 5''')"
   ]
  },
  {
   "cell_type": "markdown",
   "id": "8893dfaf",
   "metadata": {},
   "source": [
    "**Таблица `books` содержит 1000 строк и следующие столбцы: `book_id`,`author_id`,`title`,`num_pages`,`publication_date`,`publisher_id`.**"
   ]
  },
  {
   "cell_type": "code",
   "execution_count": 7,
   "id": "0e8f73ac",
   "metadata": {},
   "outputs": [
    {
     "data": {
      "text/html": [
       "<div>\n",
       "<style scoped>\n",
       "    .dataframe tbody tr th:only-of-type {\n",
       "        vertical-align: middle;\n",
       "    }\n",
       "\n",
       "    .dataframe tbody tr th {\n",
       "        vertical-align: top;\n",
       "    }\n",
       "\n",
       "    .dataframe thead th {\n",
       "        text-align: right;\n",
       "    }\n",
       "</style>\n",
       "<table border=\"1\" class=\"dataframe\">\n",
       "  <thead>\n",
       "    <tr style=\"text-align: right;\">\n",
       "      <th></th>\n",
       "      <th>name</th>\n",
       "      <th>type</th>\n",
       "    </tr>\n",
       "  </thead>\n",
       "  <tbody>\n",
       "    <tr>\n",
       "      <th>0</th>\n",
       "      <td>author_id</td>\n",
       "      <td>INTEGER</td>\n",
       "    </tr>\n",
       "    <tr>\n",
       "      <th>1</th>\n",
       "      <td>author</td>\n",
       "      <td>TEXT</td>\n",
       "    </tr>\n",
       "  </tbody>\n",
       "</table>\n",
       "</div>"
      ],
      "text/plain": [
       "        name     type\n",
       "0  author_id  INTEGER\n",
       "1     author     TEXT"
      ]
     },
     "metadata": {},
     "output_type": "display_data"
    }
   ],
   "source": [
    "display(pd.DataFrame(insp.get_columns('authors'))[['name','type']])"
   ]
  },
  {
   "cell_type": "code",
   "execution_count": 8,
   "id": "25045957",
   "metadata": {},
   "outputs": [
    {
     "data": {
      "text/html": [
       "<div>\n",
       "<style scoped>\n",
       "    .dataframe tbody tr th:only-of-type {\n",
       "        vertical-align: middle;\n",
       "    }\n",
       "\n",
       "    .dataframe tbody tr th {\n",
       "        vertical-align: top;\n",
       "    }\n",
       "\n",
       "    .dataframe thead th {\n",
       "        text-align: right;\n",
       "    }\n",
       "</style>\n",
       "<table border=\"1\" class=\"dataframe\">\n",
       "  <thead>\n",
       "    <tr style=\"text-align: right;\">\n",
       "      <th></th>\n",
       "      <th>author_id</th>\n",
       "      <th>author</th>\n",
       "    </tr>\n",
       "  </thead>\n",
       "  <tbody>\n",
       "    <tr>\n",
       "      <th>0</th>\n",
       "      <td>1</td>\n",
       "      <td>A.S. Byatt</td>\n",
       "    </tr>\n",
       "    <tr>\n",
       "      <th>1</th>\n",
       "      <td>2</td>\n",
       "      <td>Aesop/Laura Harris/Laura Gibbs</td>\n",
       "    </tr>\n",
       "    <tr>\n",
       "      <th>2</th>\n",
       "      <td>3</td>\n",
       "      <td>Agatha Christie</td>\n",
       "    </tr>\n",
       "    <tr>\n",
       "      <th>3</th>\n",
       "      <td>4</td>\n",
       "      <td>Alan Brennert</td>\n",
       "    </tr>\n",
       "    <tr>\n",
       "      <th>4</th>\n",
       "      <td>5</td>\n",
       "      <td>Alan Moore/David   Lloyd</td>\n",
       "    </tr>\n",
       "  </tbody>\n",
       "</table>\n",
       "</div>"
      ],
      "text/plain": [
       "   author_id                          author\n",
       "0          1                      A.S. Byatt\n",
       "1          2  Aesop/Laura Harris/Laura Gibbs\n",
       "2          3                 Agatha Christie\n",
       "3          4                   Alan Brennert\n",
       "4          5        Alan Moore/David   Lloyd"
      ]
     },
     "execution_count": 8,
     "metadata": {},
     "output_type": "execute_result"
    }
   ],
   "source": [
    "data_head('''SELECT * FROM authors LIMIT 5''')"
   ]
  },
  {
   "cell_type": "code",
   "execution_count": 9,
   "id": "99197e3b",
   "metadata": {},
   "outputs": [
    {
     "data": {
      "text/html": [
       "<div>\n",
       "<style scoped>\n",
       "    .dataframe tbody tr th:only-of-type {\n",
       "        vertical-align: middle;\n",
       "    }\n",
       "\n",
       "    .dataframe tbody tr th {\n",
       "        vertical-align: top;\n",
       "    }\n",
       "\n",
       "    .dataframe thead th {\n",
       "        text-align: right;\n",
       "    }\n",
       "</style>\n",
       "<table border=\"1\" class=\"dataframe\">\n",
       "  <thead>\n",
       "    <tr style=\"text-align: right;\">\n",
       "      <th></th>\n",
       "      <th>count</th>\n",
       "    </tr>\n",
       "  </thead>\n",
       "  <tbody>\n",
       "    <tr>\n",
       "      <th>0</th>\n",
       "      <td>636</td>\n",
       "    </tr>\n",
       "  </tbody>\n",
       "</table>\n",
       "</div>"
      ],
      "text/plain": [
       "   count\n",
       "0    636"
      ]
     },
     "execution_count": 9,
     "metadata": {},
     "output_type": "execute_result"
    }
   ],
   "source": [
    "data_count('''SELECT COUNT (*) FROM authors''')"
   ]
  },
  {
   "cell_type": "markdown",
   "id": "ce54dbac",
   "metadata": {},
   "source": [
    "**Таблица `authors` содержит 636 строк и следующие столбцы: `author_id`, `author`.**"
   ]
  },
  {
   "cell_type": "code",
   "execution_count": 10,
   "id": "9c3796e8",
   "metadata": {},
   "outputs": [
    {
     "data": {
      "text/html": [
       "<div>\n",
       "<style scoped>\n",
       "    .dataframe tbody tr th:only-of-type {\n",
       "        vertical-align: middle;\n",
       "    }\n",
       "\n",
       "    .dataframe tbody tr th {\n",
       "        vertical-align: top;\n",
       "    }\n",
       "\n",
       "    .dataframe thead th {\n",
       "        text-align: right;\n",
       "    }\n",
       "</style>\n",
       "<table border=\"1\" class=\"dataframe\">\n",
       "  <thead>\n",
       "    <tr style=\"text-align: right;\">\n",
       "      <th></th>\n",
       "      <th>name</th>\n",
       "      <th>type</th>\n",
       "    </tr>\n",
       "  </thead>\n",
       "  <tbody>\n",
       "    <tr>\n",
       "      <th>0</th>\n",
       "      <td>publisher_id</td>\n",
       "      <td>INTEGER</td>\n",
       "    </tr>\n",
       "    <tr>\n",
       "      <th>1</th>\n",
       "      <td>publisher</td>\n",
       "      <td>TEXT</td>\n",
       "    </tr>\n",
       "  </tbody>\n",
       "</table>\n",
       "</div>"
      ],
      "text/plain": [
       "           name     type\n",
       "0  publisher_id  INTEGER\n",
       "1     publisher     TEXT"
      ]
     },
     "metadata": {},
     "output_type": "display_data"
    }
   ],
   "source": [
    "display(pd.DataFrame(insp.get_columns('publishers'))[['name','type']])"
   ]
  },
  {
   "cell_type": "code",
   "execution_count": 11,
   "id": "dceb42cc",
   "metadata": {},
   "outputs": [
    {
     "data": {
      "text/html": [
       "<div>\n",
       "<style scoped>\n",
       "    .dataframe tbody tr th:only-of-type {\n",
       "        vertical-align: middle;\n",
       "    }\n",
       "\n",
       "    .dataframe tbody tr th {\n",
       "        vertical-align: top;\n",
       "    }\n",
       "\n",
       "    .dataframe thead th {\n",
       "        text-align: right;\n",
       "    }\n",
       "</style>\n",
       "<table border=\"1\" class=\"dataframe\">\n",
       "  <thead>\n",
       "    <tr style=\"text-align: right;\">\n",
       "      <th></th>\n",
       "      <th>publisher_id</th>\n",
       "      <th>publisher</th>\n",
       "    </tr>\n",
       "  </thead>\n",
       "  <tbody>\n",
       "    <tr>\n",
       "      <th>0</th>\n",
       "      <td>1</td>\n",
       "      <td>Ace</td>\n",
       "    </tr>\n",
       "    <tr>\n",
       "      <th>1</th>\n",
       "      <td>2</td>\n",
       "      <td>Ace Book</td>\n",
       "    </tr>\n",
       "    <tr>\n",
       "      <th>2</th>\n",
       "      <td>3</td>\n",
       "      <td>Ace Books</td>\n",
       "    </tr>\n",
       "    <tr>\n",
       "      <th>3</th>\n",
       "      <td>4</td>\n",
       "      <td>Ace Hardcover</td>\n",
       "    </tr>\n",
       "    <tr>\n",
       "      <th>4</th>\n",
       "      <td>5</td>\n",
       "      <td>Addison Wesley Publishing Company</td>\n",
       "    </tr>\n",
       "  </tbody>\n",
       "</table>\n",
       "</div>"
      ],
      "text/plain": [
       "   publisher_id                          publisher\n",
       "0             1                                Ace\n",
       "1             2                           Ace Book\n",
       "2             3                          Ace Books\n",
       "3             4                      Ace Hardcover\n",
       "4             5  Addison Wesley Publishing Company"
      ]
     },
     "execution_count": 11,
     "metadata": {},
     "output_type": "execute_result"
    }
   ],
   "source": [
    "data_head('''SELECT * FROM publishers LIMIT 5''')"
   ]
  },
  {
   "cell_type": "code",
   "execution_count": 12,
   "id": "5f31d83f",
   "metadata": {},
   "outputs": [
    {
     "data": {
      "text/html": [
       "<div>\n",
       "<style scoped>\n",
       "    .dataframe tbody tr th:only-of-type {\n",
       "        vertical-align: middle;\n",
       "    }\n",
       "\n",
       "    .dataframe tbody tr th {\n",
       "        vertical-align: top;\n",
       "    }\n",
       "\n",
       "    .dataframe thead th {\n",
       "        text-align: right;\n",
       "    }\n",
       "</style>\n",
       "<table border=\"1\" class=\"dataframe\">\n",
       "  <thead>\n",
       "    <tr style=\"text-align: right;\">\n",
       "      <th></th>\n",
       "      <th>count</th>\n",
       "    </tr>\n",
       "  </thead>\n",
       "  <tbody>\n",
       "    <tr>\n",
       "      <th>0</th>\n",
       "      <td>340</td>\n",
       "    </tr>\n",
       "  </tbody>\n",
       "</table>\n",
       "</div>"
      ],
      "text/plain": [
       "   count\n",
       "0    340"
      ]
     },
     "execution_count": 12,
     "metadata": {},
     "output_type": "execute_result"
    }
   ],
   "source": [
    "data_count('''SELECT COUNT (*) FROM publishers''')"
   ]
  },
  {
   "cell_type": "code",
   "execution_count": 13,
   "id": "5805e203",
   "metadata": {},
   "outputs": [
    {
     "data": {
      "text/html": [
       "<div>\n",
       "<style scoped>\n",
       "    .dataframe tbody tr th:only-of-type {\n",
       "        vertical-align: middle;\n",
       "    }\n",
       "\n",
       "    .dataframe tbody tr th {\n",
       "        vertical-align: top;\n",
       "    }\n",
       "\n",
       "    .dataframe thead th {\n",
       "        text-align: right;\n",
       "    }\n",
       "</style>\n",
       "<table border=\"1\" class=\"dataframe\">\n",
       "  <thead>\n",
       "    <tr style=\"text-align: right;\">\n",
       "      <th></th>\n",
       "      <th>name</th>\n",
       "      <th>type</th>\n",
       "    </tr>\n",
       "  </thead>\n",
       "  <tbody>\n",
       "    <tr>\n",
       "      <th>0</th>\n",
       "      <td>rating_id</td>\n",
       "      <td>INTEGER</td>\n",
       "    </tr>\n",
       "    <tr>\n",
       "      <th>1</th>\n",
       "      <td>book_id</td>\n",
       "      <td>INTEGER</td>\n",
       "    </tr>\n",
       "    <tr>\n",
       "      <th>2</th>\n",
       "      <td>username</td>\n",
       "      <td>TEXT</td>\n",
       "    </tr>\n",
       "    <tr>\n",
       "      <th>3</th>\n",
       "      <td>rating</td>\n",
       "      <td>INTEGER</td>\n",
       "    </tr>\n",
       "  </tbody>\n",
       "</table>\n",
       "</div>"
      ],
      "text/plain": [
       "        name     type\n",
       "0  rating_id  INTEGER\n",
       "1    book_id  INTEGER\n",
       "2   username     TEXT\n",
       "3     rating  INTEGER"
      ]
     },
     "metadata": {},
     "output_type": "display_data"
    }
   ],
   "source": [
    "display(pd.DataFrame(insp.get_columns('ratings'))[['name','type']])"
   ]
  },
  {
   "cell_type": "markdown",
   "id": "1ae6da78",
   "metadata": {},
   "source": [
    "**Таблица `publishers` содержит 340 строк и следующие столбцы: `publisher_id`, `publisher`.**"
   ]
  },
  {
   "cell_type": "code",
   "execution_count": 14,
   "id": "7a7b0815",
   "metadata": {},
   "outputs": [
    {
     "data": {
      "text/html": [
       "<div>\n",
       "<style scoped>\n",
       "    .dataframe tbody tr th:only-of-type {\n",
       "        vertical-align: middle;\n",
       "    }\n",
       "\n",
       "    .dataframe tbody tr th {\n",
       "        vertical-align: top;\n",
       "    }\n",
       "\n",
       "    .dataframe thead th {\n",
       "        text-align: right;\n",
       "    }\n",
       "</style>\n",
       "<table border=\"1\" class=\"dataframe\">\n",
       "  <thead>\n",
       "    <tr style=\"text-align: right;\">\n",
       "      <th></th>\n",
       "      <th>rating_id</th>\n",
       "      <th>book_id</th>\n",
       "      <th>username</th>\n",
       "      <th>rating</th>\n",
       "    </tr>\n",
       "  </thead>\n",
       "  <tbody>\n",
       "    <tr>\n",
       "      <th>0</th>\n",
       "      <td>1</td>\n",
       "      <td>1</td>\n",
       "      <td>ryanfranco</td>\n",
       "      <td>4</td>\n",
       "    </tr>\n",
       "    <tr>\n",
       "      <th>1</th>\n",
       "      <td>2</td>\n",
       "      <td>1</td>\n",
       "      <td>grantpatricia</td>\n",
       "      <td>2</td>\n",
       "    </tr>\n",
       "    <tr>\n",
       "      <th>2</th>\n",
       "      <td>3</td>\n",
       "      <td>1</td>\n",
       "      <td>brandtandrea</td>\n",
       "      <td>5</td>\n",
       "    </tr>\n",
       "    <tr>\n",
       "      <th>3</th>\n",
       "      <td>4</td>\n",
       "      <td>2</td>\n",
       "      <td>lorichen</td>\n",
       "      <td>3</td>\n",
       "    </tr>\n",
       "    <tr>\n",
       "      <th>4</th>\n",
       "      <td>5</td>\n",
       "      <td>2</td>\n",
       "      <td>mariokeller</td>\n",
       "      <td>2</td>\n",
       "    </tr>\n",
       "  </tbody>\n",
       "</table>\n",
       "</div>"
      ],
      "text/plain": [
       "   rating_id  book_id       username  rating\n",
       "0          1        1     ryanfranco       4\n",
       "1          2        1  grantpatricia       2\n",
       "2          3        1   brandtandrea       5\n",
       "3          4        2       lorichen       3\n",
       "4          5        2    mariokeller       2"
      ]
     },
     "execution_count": 14,
     "metadata": {},
     "output_type": "execute_result"
    }
   ],
   "source": [
    "data_head('''SELECT * FROM ratings LIMIT 5''')"
   ]
  },
  {
   "cell_type": "code",
   "execution_count": 15,
   "id": "ae2e6d5f",
   "metadata": {},
   "outputs": [
    {
     "data": {
      "text/html": [
       "<div>\n",
       "<style scoped>\n",
       "    .dataframe tbody tr th:only-of-type {\n",
       "        vertical-align: middle;\n",
       "    }\n",
       "\n",
       "    .dataframe tbody tr th {\n",
       "        vertical-align: top;\n",
       "    }\n",
       "\n",
       "    .dataframe thead th {\n",
       "        text-align: right;\n",
       "    }\n",
       "</style>\n",
       "<table border=\"1\" class=\"dataframe\">\n",
       "  <thead>\n",
       "    <tr style=\"text-align: right;\">\n",
       "      <th></th>\n",
       "      <th>count</th>\n",
       "    </tr>\n",
       "  </thead>\n",
       "  <tbody>\n",
       "    <tr>\n",
       "      <th>0</th>\n",
       "      <td>6456</td>\n",
       "    </tr>\n",
       "  </tbody>\n",
       "</table>\n",
       "</div>"
      ],
      "text/plain": [
       "   count\n",
       "0   6456"
      ]
     },
     "execution_count": 15,
     "metadata": {},
     "output_type": "execute_result"
    }
   ],
   "source": [
    "data_count('''SELECT COUNT (*) FROM ratings''')"
   ]
  },
  {
   "cell_type": "markdown",
   "id": "4921cfa1",
   "metadata": {},
   "source": [
    "**Таблица `ratings` содержит 6456 строк и следующие столбцы: `rating_id`, `book_id`, `username`, `rating`.**"
   ]
  },
  {
   "cell_type": "code",
   "execution_count": 16,
   "id": "5a468374",
   "metadata": {},
   "outputs": [
    {
     "data": {
      "text/html": [
       "<div>\n",
       "<style scoped>\n",
       "    .dataframe tbody tr th:only-of-type {\n",
       "        vertical-align: middle;\n",
       "    }\n",
       "\n",
       "    .dataframe tbody tr th {\n",
       "        vertical-align: top;\n",
       "    }\n",
       "\n",
       "    .dataframe thead th {\n",
       "        text-align: right;\n",
       "    }\n",
       "</style>\n",
       "<table border=\"1\" class=\"dataframe\">\n",
       "  <thead>\n",
       "    <tr style=\"text-align: right;\">\n",
       "      <th></th>\n",
       "      <th>name</th>\n",
       "      <th>type</th>\n",
       "    </tr>\n",
       "  </thead>\n",
       "  <tbody>\n",
       "    <tr>\n",
       "      <th>0</th>\n",
       "      <td>review_id</td>\n",
       "      <td>INTEGER</td>\n",
       "    </tr>\n",
       "    <tr>\n",
       "      <th>1</th>\n",
       "      <td>book_id</td>\n",
       "      <td>INTEGER</td>\n",
       "    </tr>\n",
       "    <tr>\n",
       "      <th>2</th>\n",
       "      <td>username</td>\n",
       "      <td>TEXT</td>\n",
       "    </tr>\n",
       "    <tr>\n",
       "      <th>3</th>\n",
       "      <td>text</td>\n",
       "      <td>TEXT</td>\n",
       "    </tr>\n",
       "  </tbody>\n",
       "</table>\n",
       "</div>"
      ],
      "text/plain": [
       "        name     type\n",
       "0  review_id  INTEGER\n",
       "1    book_id  INTEGER\n",
       "2   username     TEXT\n",
       "3       text     TEXT"
      ]
     },
     "metadata": {},
     "output_type": "display_data"
    }
   ],
   "source": [
    "display(pd.DataFrame(insp.get_columns('reviews'))[['name','type']])"
   ]
  },
  {
   "cell_type": "code",
   "execution_count": 17,
   "id": "601a9a0a",
   "metadata": {},
   "outputs": [
    {
     "data": {
      "text/html": [
       "<div>\n",
       "<style scoped>\n",
       "    .dataframe tbody tr th:only-of-type {\n",
       "        vertical-align: middle;\n",
       "    }\n",
       "\n",
       "    .dataframe tbody tr th {\n",
       "        vertical-align: top;\n",
       "    }\n",
       "\n",
       "    .dataframe thead th {\n",
       "        text-align: right;\n",
       "    }\n",
       "</style>\n",
       "<table border=\"1\" class=\"dataframe\">\n",
       "  <thead>\n",
       "    <tr style=\"text-align: right;\">\n",
       "      <th></th>\n",
       "      <th>review_id</th>\n",
       "      <th>book_id</th>\n",
       "      <th>username</th>\n",
       "      <th>text</th>\n",
       "    </tr>\n",
       "  </thead>\n",
       "  <tbody>\n",
       "    <tr>\n",
       "      <th>0</th>\n",
       "      <td>1</td>\n",
       "      <td>1</td>\n",
       "      <td>brandtandrea</td>\n",
       "      <td>Mention society tell send professor analysis. ...</td>\n",
       "    </tr>\n",
       "    <tr>\n",
       "      <th>1</th>\n",
       "      <td>2</td>\n",
       "      <td>1</td>\n",
       "      <td>ryanfranco</td>\n",
       "      <td>Foot glass pretty audience hit themselves. Amo...</td>\n",
       "    </tr>\n",
       "    <tr>\n",
       "      <th>2</th>\n",
       "      <td>3</td>\n",
       "      <td>2</td>\n",
       "      <td>lorichen</td>\n",
       "      <td>Listen treat keep worry. Miss husband tax but ...</td>\n",
       "    </tr>\n",
       "    <tr>\n",
       "      <th>3</th>\n",
       "      <td>4</td>\n",
       "      <td>3</td>\n",
       "      <td>johnsonamanda</td>\n",
       "      <td>Finally month interesting blue could nature cu...</td>\n",
       "    </tr>\n",
       "    <tr>\n",
       "      <th>4</th>\n",
       "      <td>5</td>\n",
       "      <td>3</td>\n",
       "      <td>scotttamara</td>\n",
       "      <td>Nation purpose heavy give wait song will. List...</td>\n",
       "    </tr>\n",
       "  </tbody>\n",
       "</table>\n",
       "</div>"
      ],
      "text/plain": [
       "   review_id  book_id       username  \\\n",
       "0          1        1   brandtandrea   \n",
       "1          2        1     ryanfranco   \n",
       "2          3        2       lorichen   \n",
       "3          4        3  johnsonamanda   \n",
       "4          5        3    scotttamara   \n",
       "\n",
       "                                                text  \n",
       "0  Mention society tell send professor analysis. ...  \n",
       "1  Foot glass pretty audience hit themselves. Amo...  \n",
       "2  Listen treat keep worry. Miss husband tax but ...  \n",
       "3  Finally month interesting blue could nature cu...  \n",
       "4  Nation purpose heavy give wait song will. List...  "
      ]
     },
     "execution_count": 17,
     "metadata": {},
     "output_type": "execute_result"
    }
   ],
   "source": [
    "data_head('''SELECT * FROM reviews LIMIT 5''')"
   ]
  },
  {
   "cell_type": "code",
   "execution_count": 18,
   "id": "b63d2b79",
   "metadata": {},
   "outputs": [
    {
     "data": {
      "text/html": [
       "<div>\n",
       "<style scoped>\n",
       "    .dataframe tbody tr th:only-of-type {\n",
       "        vertical-align: middle;\n",
       "    }\n",
       "\n",
       "    .dataframe tbody tr th {\n",
       "        vertical-align: top;\n",
       "    }\n",
       "\n",
       "    .dataframe thead th {\n",
       "        text-align: right;\n",
       "    }\n",
       "</style>\n",
       "<table border=\"1\" class=\"dataframe\">\n",
       "  <thead>\n",
       "    <tr style=\"text-align: right;\">\n",
       "      <th></th>\n",
       "      <th>count</th>\n",
       "    </tr>\n",
       "  </thead>\n",
       "  <tbody>\n",
       "    <tr>\n",
       "      <th>0</th>\n",
       "      <td>2793</td>\n",
       "    </tr>\n",
       "  </tbody>\n",
       "</table>\n",
       "</div>"
      ],
      "text/plain": [
       "   count\n",
       "0   2793"
      ]
     },
     "execution_count": 18,
     "metadata": {},
     "output_type": "execute_result"
    }
   ],
   "source": [
    "data_head('''SELECT COUNT (*) FROM reviews''')"
   ]
  },
  {
   "cell_type": "markdown",
   "id": "ec373553",
   "metadata": {},
   "source": [
    "**Таблица `reviews` содержит 2793 строки и следующие столбцы: `review_id`, `book_id`, `username`, `text`.**"
   ]
  },
  {
   "cell_type": "markdown",
   "id": "e552a8d4",
   "metadata": {},
   "source": [
    "* сколько книг вышло после 1 января 2000 года;\n",
    "* посчитать количество обзоров и среднюю оценку каждой книги;\n",
    "* определить издательство, которое выпустило наибольшее число книг толще 50 страниц — чтобы исключитеь из анализа брошюры;\n",
    "* рпределить автора с самой высокой средней оценкой книг — учитывая только книги с 50 и более оценками;\n",
    "* посчитать среднее количество обзоров от пользователей, которые поставили больше 48 оценок.\n",
    "\n",
    "+ Сделайте по одному SQL-запросу для решения каждого задания;\n",
    "+ Выведите результат каждого запроса в тетрадке;\n",
    "+ Опишите выводы по каждой из решённых задач."
   ]
  },
  {
   "cell_type": "markdown",
   "id": "8e226baa",
   "metadata": {},
   "source": [
    "# Задача 1. Сколько книг вышло после 1 января 2000 года"
   ]
  },
  {
   "cell_type": "code",
   "execution_count": 19,
   "id": "35dbaf52",
   "metadata": {},
   "outputs": [
    {
     "name": "stdout",
     "output_type": "stream",
     "text": [
      "После 01 января 2020 года вышла 821 книга \n"
     ]
    }
   ],
   "source": [
    "books_2000 = '''SELECT COUNT(*)\n",
    "                FROM books\n",
    "                WHERE publication_date >= '2000-01-01'\n",
    "                '''\n",
    "\n",
    "data_books_2000 = pd.io.sql.read_sql(books_2000, con = engine)\n",
    "print('После 01 января 2020 года вышла {} книга '.format(data_books_2000.loc[0, 'count']))"
   ]
  },
  {
   "cell_type": "markdown",
   "id": "5cf7bf4f",
   "metadata": {},
   "source": [
    "<div class=\"alert alert-warning\">\n",
    "<b>Комментарий ревьюера v.1</b>\n",
    "    \n",
    "📝 Если подходить строго к этому запросу, то в нем мы должны были вывести значения после 1 января 2000, т.е. не включая эту дату, поэтому оператор сравнения должен быть `>`.\n",
    "\n",
    "</div>"
   ]
  },
  {
   "cell_type": "markdown",
   "id": "242311ac",
   "metadata": {},
   "source": [
    "# Задача 2. Для каждой книги посчитайте количество обзоров и среднюю оценку"
   ]
  },
  {
   "cell_type": "code",
   "execution_count": 20,
   "id": "a413cf2b",
   "metadata": {},
   "outputs": [
    {
     "data": {
      "text/html": [
       "<div>\n",
       "<style scoped>\n",
       "    .dataframe tbody tr th:only-of-type {\n",
       "        vertical-align: middle;\n",
       "    }\n",
       "\n",
       "    .dataframe tbody tr th {\n",
       "        vertical-align: top;\n",
       "    }\n",
       "\n",
       "    .dataframe thead th {\n",
       "        text-align: right;\n",
       "    }\n",
       "</style>\n",
       "<table border=\"1\" class=\"dataframe\">\n",
       "  <thead>\n",
       "    <tr style=\"text-align: right;\">\n",
       "      <th></th>\n",
       "      <th>Название</th>\n",
       "      <th>Количество обзоров</th>\n",
       "      <th>Средний рейтинг</th>\n",
       "    </tr>\n",
       "  </thead>\n",
       "  <tbody>\n",
       "    <tr>\n",
       "      <th>0</th>\n",
       "      <td>Arrows of the Queen (Heralds of Valdemar  #1)</td>\n",
       "      <td>2</td>\n",
       "      <td>5.00</td>\n",
       "    </tr>\n",
       "    <tr>\n",
       "      <th>1</th>\n",
       "      <td>The Walking Dead  Book One (The Walking Dead #...</td>\n",
       "      <td>2</td>\n",
       "      <td>5.00</td>\n",
       "    </tr>\n",
       "    <tr>\n",
       "      <th>2</th>\n",
       "      <td>Light in August</td>\n",
       "      <td>2</td>\n",
       "      <td>5.00</td>\n",
       "    </tr>\n",
       "    <tr>\n",
       "      <th>3</th>\n",
       "      <td>Wherever You Go  There You Are: Mindfulness Me...</td>\n",
       "      <td>2</td>\n",
       "      <td>5.00</td>\n",
       "    </tr>\n",
       "    <tr>\n",
       "      <th>4</th>\n",
       "      <td>Captivating: Unveiling the Mystery of a Woman'...</td>\n",
       "      <td>2</td>\n",
       "      <td>5.00</td>\n",
       "    </tr>\n",
       "    <tr>\n",
       "      <th>...</th>\n",
       "      <td>...</td>\n",
       "      <td>...</td>\n",
       "      <td>...</td>\n",
       "    </tr>\n",
       "    <tr>\n",
       "      <th>995</th>\n",
       "      <td>The World Is Flat: A Brief History of the Twen...</td>\n",
       "      <td>3</td>\n",
       "      <td>2.25</td>\n",
       "    </tr>\n",
       "    <tr>\n",
       "      <th>996</th>\n",
       "      <td>His Excellency: George Washington</td>\n",
       "      <td>2</td>\n",
       "      <td>2.00</td>\n",
       "    </tr>\n",
       "    <tr>\n",
       "      <th>997</th>\n",
       "      <td>Drowning Ruth</td>\n",
       "      <td>3</td>\n",
       "      <td>2.00</td>\n",
       "    </tr>\n",
       "    <tr>\n",
       "      <th>998</th>\n",
       "      <td>Junky</td>\n",
       "      <td>2</td>\n",
       "      <td>2.00</td>\n",
       "    </tr>\n",
       "    <tr>\n",
       "      <th>999</th>\n",
       "      <td>Harvesting the Heart</td>\n",
       "      <td>2</td>\n",
       "      <td>1.50</td>\n",
       "    </tr>\n",
       "  </tbody>\n",
       "</table>\n",
       "<p>1000 rows × 3 columns</p>\n",
       "</div>"
      ],
      "text/plain": [
       "                                              Название  Количество обзоров  \\\n",
       "0        Arrows of the Queen (Heralds of Valdemar  #1)                   2   \n",
       "1    The Walking Dead  Book One (The Walking Dead #...                   2   \n",
       "2                                      Light in August                   2   \n",
       "3    Wherever You Go  There You Are: Mindfulness Me...                   2   \n",
       "4    Captivating: Unveiling the Mystery of a Woman'...                   2   \n",
       "..                                                 ...                 ...   \n",
       "995  The World Is Flat: A Brief History of the Twen...                   3   \n",
       "996                  His Excellency: George Washington                   2   \n",
       "997                                      Drowning Ruth                   3   \n",
       "998                                              Junky                   2   \n",
       "999                               Harvesting the Heart                   2   \n",
       "\n",
       "     Средний рейтинг  \n",
       "0               5.00  \n",
       "1               5.00  \n",
       "2               5.00  \n",
       "3               5.00  \n",
       "4               5.00  \n",
       "..               ...  \n",
       "995             2.25  \n",
       "996             2.00  \n",
       "997             2.00  \n",
       "998             2.00  \n",
       "999             1.50  \n",
       "\n",
       "[1000 rows x 3 columns]"
      ]
     },
     "execution_count": 20,
     "metadata": {},
     "output_type": "execute_result"
    }
   ],
   "source": [
    "rating = '''SELECT b.title,\n",
    "            COUNT (DISTINCT rw.review_id), ROUND (avg(r.rating), 2) as R\n",
    "            FROM REVIEWS AS rw\n",
    "            RIGHT OUTER JOIN BOOKS AS b ON rw.book_id=b.book_id\n",
    "            LEFT OUTER JOIN RATINGS AS r ON b.book_id = r.book_id\n",
    "            GROUP BY b.book_id\n",
    "            ORDER BY R DESC'''\n",
    "\n",
    "book_rating = pd.io.sql.read_sql(rating, con = engine)\n",
    "book_rating.columns = ['Название', 'Количество обзоров', 'Средний рейтинг']\n",
    "book_rating"
   ]
  },
  {
   "cell_type": "markdown",
   "id": "8227986c",
   "metadata": {},
   "source": [
    "# Задача 3. Определите издательство, которое выпустило наибольшее число книг толще 50 страниц"
   ]
  },
  {
   "cell_type": "code",
   "execution_count": 21,
   "id": "553a7e10",
   "metadata": {},
   "outputs": [
    {
     "data": {
      "text/html": [
       "<div>\n",
       "<style scoped>\n",
       "    .dataframe tbody tr th:only-of-type {\n",
       "        vertical-align: middle;\n",
       "    }\n",
       "\n",
       "    .dataframe tbody tr th {\n",
       "        vertical-align: top;\n",
       "    }\n",
       "\n",
       "    .dataframe thead th {\n",
       "        text-align: right;\n",
       "    }\n",
       "</style>\n",
       "<table border=\"1\" class=\"dataframe\">\n",
       "  <thead>\n",
       "    <tr style=\"text-align: right;\">\n",
       "      <th></th>\n",
       "      <th>Название издательства</th>\n",
       "      <th>Количество книг</th>\n",
       "    </tr>\n",
       "  </thead>\n",
       "  <tbody>\n",
       "    <tr>\n",
       "      <th>0</th>\n",
       "      <td>Penguin Books</td>\n",
       "      <td>42</td>\n",
       "    </tr>\n",
       "  </tbody>\n",
       "</table>\n",
       "</div>"
      ],
      "text/plain": [
       "  Название издательства  Количество книг\n",
       "0         Penguin Books               42"
      ]
     },
     "execution_count": 21,
     "metadata": {},
     "output_type": "execute_result"
    }
   ],
   "source": [
    "books_max = '''SELECT p.publisher,\n",
    "               COUNT(b.book_id)\n",
    "               FROM publishers AS p\n",
    "               JOIN BOOKS AS b ON p.publisher_id=b.publisher_id\n",
    "               WHERE b.num_pages > 50\n",
    "               GROUP BY p.publisher_id\n",
    "               ORDER BY count(b.book_id) DESC\n",
    "               LIMIT 1'''\n",
    "\n",
    "max_books = pd.io.sql.read_sql(books_max, con = engine)\n",
    "max_books.columns = ['Название издательства', 'Количество книг']\n",
    "max_books"
   ]
  },
  {
   "cell_type": "markdown",
   "id": "b88268f5",
   "metadata": {},
   "source": [
    "# Задача 4. Определите автора с самой высокой средней оценкой книг — учитывайте только книги с 50 и более оценками"
   ]
  },
  {
   "cell_type": "code",
   "execution_count": 24,
   "id": "ebacd99c",
   "metadata": {},
   "outputs": [
    {
     "name": "stdout",
     "output_type": "stream",
     "text": [
      "Автор с самой высокой средней оценкой книг это \u001b[1mJ.K. Rowling/Mary GrandPré \n"
     ]
    },
    {
     "data": {
      "text/html": [
       "<div>\n",
       "<style scoped>\n",
       "    .dataframe tbody tr th:only-of-type {\n",
       "        vertical-align: middle;\n",
       "    }\n",
       "\n",
       "    .dataframe tbody tr th {\n",
       "        vertical-align: top;\n",
       "    }\n",
       "\n",
       "    .dataframe thead th {\n",
       "        text-align: right;\n",
       "    }\n",
       "</style>\n",
       "<table border=\"1\" class=\"dataframe\">\n",
       "  <thead>\n",
       "    <tr style=\"text-align: right;\">\n",
       "      <th></th>\n",
       "      <th>Автор</th>\n",
       "      <th>Средний рейтинг</th>\n",
       "    </tr>\n",
       "  </thead>\n",
       "  <tbody>\n",
       "    <tr>\n",
       "      <th>0</th>\n",
       "      <td>J.K. Rowling/Mary GrandPré</td>\n",
       "      <td>4.287097</td>\n",
       "    </tr>\n",
       "    <tr>\n",
       "      <th>1</th>\n",
       "      <td>Markus Zusak/Cao Xuân Việt Khương</td>\n",
       "      <td>4.264151</td>\n",
       "    </tr>\n",
       "    <tr>\n",
       "      <th>2</th>\n",
       "      <td>J.R.R. Tolkien</td>\n",
       "      <td>4.246914</td>\n",
       "    </tr>\n",
       "    <tr>\n",
       "      <th>3</th>\n",
       "      <td>Louisa May Alcott</td>\n",
       "      <td>4.192308</td>\n",
       "    </tr>\n",
       "    <tr>\n",
       "      <th>4</th>\n",
       "      <td>Rick Riordan</td>\n",
       "      <td>4.080645</td>\n",
       "    </tr>\n",
       "    <tr>\n",
       "      <th>5</th>\n",
       "      <td>William Golding</td>\n",
       "      <td>3.901408</td>\n",
       "    </tr>\n",
       "    <tr>\n",
       "      <th>6</th>\n",
       "      <td>J.D. Salinger</td>\n",
       "      <td>3.825581</td>\n",
       "    </tr>\n",
       "    <tr>\n",
       "      <th>7</th>\n",
       "      <td>Paulo Coelho/Alan R. Clarke/Özdemir İnce</td>\n",
       "      <td>3.789474</td>\n",
       "    </tr>\n",
       "    <tr>\n",
       "      <th>8</th>\n",
       "      <td>William Shakespeare/Paul Werstine/Barbara A. M...</td>\n",
       "      <td>3.787879</td>\n",
       "    </tr>\n",
       "    <tr>\n",
       "      <th>9</th>\n",
       "      <td>Lois Lowry</td>\n",
       "      <td>3.750000</td>\n",
       "    </tr>\n",
       "    <tr>\n",
       "      <th>10</th>\n",
       "      <td>Dan Brown</td>\n",
       "      <td>3.741259</td>\n",
       "    </tr>\n",
       "    <tr>\n",
       "      <th>11</th>\n",
       "      <td>George Orwell/Boris Grabnar/Peter Škerl</td>\n",
       "      <td>3.729730</td>\n",
       "    </tr>\n",
       "    <tr>\n",
       "      <th>12</th>\n",
       "      <td>Stephenie Meyer</td>\n",
       "      <td>3.662500</td>\n",
       "    </tr>\n",
       "    <tr>\n",
       "      <th>13</th>\n",
       "      <td>John Steinbeck</td>\n",
       "      <td>3.622951</td>\n",
       "    </tr>\n",
       "  </tbody>\n",
       "</table>\n",
       "</div>"
      ],
      "text/plain": [
       "                                                Автор  Средний рейтинг\n",
       "0                          J.K. Rowling/Mary GrandPré         4.287097\n",
       "1                   Markus Zusak/Cao Xuân Việt Khương         4.264151\n",
       "2                                      J.R.R. Tolkien         4.246914\n",
       "3                                   Louisa May Alcott         4.192308\n",
       "4                                        Rick Riordan         4.080645\n",
       "5                                     William Golding         3.901408\n",
       "6                                       J.D. Salinger         3.825581\n",
       "7            Paulo Coelho/Alan R. Clarke/Özdemir İnce         3.789474\n",
       "8   William Shakespeare/Paul Werstine/Barbara A. M...         3.787879\n",
       "9                                          Lois Lowry         3.750000\n",
       "10                                          Dan Brown         3.741259\n",
       "11            George Orwell/Boris Grabnar/Peter Škerl         3.729730\n",
       "12                                    Stephenie Meyer         3.662500\n",
       "13                                     John Steinbeck         3.622951"
      ]
     },
     "execution_count": 24,
     "metadata": {},
     "output_type": "execute_result"
    }
   ],
   "source": [
    "autor_max = '''SELECT a.author,\n",
    "               AVG(r.rating) avg_rating\n",
    "               FROM authors AS a\n",
    "               JOIN books AS b ON a.author_id=b.author_id\n",
    "               JOIN ratings AS r ON b.book_id=r.book_id\n",
    "               WHERE b.book_id IN\n",
    "                    (SELECT b.book_id\n",
    "                     FROM books AS b\n",
    "                     JOIN ratings AS r ON b.book_id=r.book_id\n",
    "                     GROUP BY b.book_id\n",
    "                     HAVING count(r.rating_id)>=50)\n",
    "               GROUP BY a.author\n",
    "               ORDER BY avg_rating desc\n",
    "               LIMIT 1'''\n",
    "\n",
    "max_autor = pd.io.sql.read_sql(autor_max, con = engine)\n",
    "max_autor.columns = ['Автор', 'Средний рейтинг']\n",
    "max_autor\n",
    "print('Автор с самой высокой средней оценкой книг это {} '.format('\\033[1m' + max_autor.loc[0, 'Автор']) )"
   ]
  },
  {
   "cell_type": "code",
   "execution_count": 29,
   "id": "358e712a",
   "metadata": {},
   "outputs": [
    {
     "data": {
      "text/html": [
       "<div>\n",
       "<style scoped>\n",
       "    .dataframe tbody tr th:only-of-type {\n",
       "        vertical-align: middle;\n",
       "    }\n",
       "\n",
       "    .dataframe tbody tr th {\n",
       "        vertical-align: top;\n",
       "    }\n",
       "\n",
       "    .dataframe thead th {\n",
       "        text-align: right;\n",
       "    }\n",
       "</style>\n",
       "<table border=\"1\" class=\"dataframe\">\n",
       "  <thead>\n",
       "    <tr style=\"text-align: right;\">\n",
       "      <th></th>\n",
       "      <th>author</th>\n",
       "      <th>avg_rating</th>\n",
       "      <th>books_count</th>\n",
       "    </tr>\n",
       "  </thead>\n",
       "  <tbody>\n",
       "    <tr>\n",
       "      <th>0</th>\n",
       "      <td>J.K. Rowling/Mary GrandPré</td>\n",
       "      <td>4.283844</td>\n",
       "      <td>4</td>\n",
       "    </tr>\n",
       "    <tr>\n",
       "      <th>1</th>\n",
       "      <td>Markus Zusak/Cao Xuân Việt Khương</td>\n",
       "      <td>4.264151</td>\n",
       "      <td>1</td>\n",
       "    </tr>\n",
       "    <tr>\n",
       "      <th>2</th>\n",
       "      <td>J.R.R. Tolkien</td>\n",
       "      <td>4.258446</td>\n",
       "      <td>2</td>\n",
       "    </tr>\n",
       "    <tr>\n",
       "      <th>3</th>\n",
       "      <td>Louisa May Alcott</td>\n",
       "      <td>4.192308</td>\n",
       "      <td>1</td>\n",
       "    </tr>\n",
       "    <tr>\n",
       "      <th>4</th>\n",
       "      <td>Rick Riordan</td>\n",
       "      <td>4.080645</td>\n",
       "      <td>1</td>\n",
       "    </tr>\n",
       "    <tr>\n",
       "      <th>5</th>\n",
       "      <td>William Golding</td>\n",
       "      <td>3.901408</td>\n",
       "      <td>1</td>\n",
       "    </tr>\n",
       "    <tr>\n",
       "      <th>6</th>\n",
       "      <td>J.D. Salinger</td>\n",
       "      <td>3.825581</td>\n",
       "      <td>1</td>\n",
       "    </tr>\n",
       "    <tr>\n",
       "      <th>7</th>\n",
       "      <td>Paulo Coelho/Alan R. Clarke/Özdemir İnce</td>\n",
       "      <td>3.789474</td>\n",
       "      <td>1</td>\n",
       "    </tr>\n",
       "    <tr>\n",
       "      <th>8</th>\n",
       "      <td>William Shakespeare/Paul Werstine/Barbara A. M...</td>\n",
       "      <td>3.787879</td>\n",
       "      <td>1</td>\n",
       "    </tr>\n",
       "    <tr>\n",
       "      <th>9</th>\n",
       "      <td>Dan Brown</td>\n",
       "      <td>3.754540</td>\n",
       "      <td>2</td>\n",
       "    </tr>\n",
       "    <tr>\n",
       "      <th>10</th>\n",
       "      <td>Lois Lowry</td>\n",
       "      <td>3.750000</td>\n",
       "      <td>1</td>\n",
       "    </tr>\n",
       "    <tr>\n",
       "      <th>11</th>\n",
       "      <td>George Orwell/Boris Grabnar/Peter Škerl</td>\n",
       "      <td>3.729730</td>\n",
       "      <td>1</td>\n",
       "    </tr>\n",
       "    <tr>\n",
       "      <th>12</th>\n",
       "      <td>Stephenie Meyer</td>\n",
       "      <td>3.662500</td>\n",
       "      <td>1</td>\n",
       "    </tr>\n",
       "    <tr>\n",
       "      <th>13</th>\n",
       "      <td>John Steinbeck</td>\n",
       "      <td>3.622951</td>\n",
       "      <td>1</td>\n",
       "    </tr>\n",
       "  </tbody>\n",
       "</table>\n",
       "</div>"
      ],
      "text/plain": [
       "                                               author  avg_rating  books_count\n",
       "0                          J.K. Rowling/Mary GrandPré    4.283844            4\n",
       "1                   Markus Zusak/Cao Xuân Việt Khương    4.264151            1\n",
       "2                                      J.R.R. Tolkien    4.258446            2\n",
       "3                                   Louisa May Alcott    4.192308            1\n",
       "4                                        Rick Riordan    4.080645            1\n",
       "5                                     William Golding    3.901408            1\n",
       "6                                       J.D. Salinger    3.825581            1\n",
       "7            Paulo Coelho/Alan R. Clarke/Özdemir İnce    3.789474            1\n",
       "8   William Shakespeare/Paul Werstine/Barbara A. M...    3.787879            1\n",
       "9                                           Dan Brown    3.754540            2\n",
       "10                                         Lois Lowry    3.750000            1\n",
       "11            George Orwell/Boris Grabnar/Peter Škerl    3.729730            1\n",
       "12                                    Stephenie Meyer    3.662500            1\n",
       "13                                     John Steinbeck    3.622951            1"
      ]
     },
     "execution_count": 29,
     "metadata": {},
     "output_type": "execute_result"
    }
   ],
   "source": [
    "# ячейка ревьюера:\n",
    "\n",
    "autor_max = '''\n",
    "-- В начале найдем книги и средний рейтинг для каждой из них\n",
    "WITH book_r AS (\n",
    "    SELECT \n",
    "        b.author_id,\n",
    "        b.book_id,\n",
    "        AVG(r.rating) avg_rating\n",
    "    FROM books AS b\n",
    "    JOIN ratings AS r ON b.book_id=r.book_id\n",
    "    GROUP BY b.book_id\n",
    "    HAVING count(r.rating_id)>=50\n",
    ")\n",
    "\n",
    "-- Затем считаем средний рейтинг для каждого автора по среднему рейтингу книг\n",
    "SELECT \n",
    "    a.author,\n",
    "    AVG(br.avg_rating) avg_rating,\n",
    "    COUNT(br.avg_rating) books_count -- и выведем количество книг, по которым прошел подсчет среднего\n",
    "FROM authors AS a\n",
    "JOIN book_r AS br ON a.author_id=br.author_id\n",
    "\n",
    "GROUP BY a.author\n",
    "ORDER BY avg_rating desc\n",
    "\n",
    "'''\n",
    "\n",
    "max_autor = pd.io.sql.read_sql(autor_max, con = engine)\n",
    "max_autor"
   ]
  },
  {
   "cell_type": "markdown",
   "id": "8ff9e458",
   "metadata": {},
   "source": [
    "# Задача 5. Посчитайте среднее количество обзоров от пользователей, которые поставили больше 48 оценок"
   ]
  },
  {
   "cell_type": "code",
   "execution_count": 23,
   "id": "abe5385b",
   "metadata": {},
   "outputs": [
    {
     "name": "stdout",
     "output_type": "stream",
     "text": [
      "Среднее количество обзоров от пользователей, которые поставили больше 48 оценок, составляет  24.0\n"
     ]
    }
   ],
   "source": [
    "mean_users = '''WITH A AS\n",
    "                    (SELECT username,\n",
    "                     COUNT(review_id)\n",
    "                     FROM reviews\n",
    "                     WHERE username in\n",
    "                         (SELECT username\n",
    "                          FROM ratings\n",
    "                          GROUP BY username\n",
    "                          HAVING count(rating_id)>48)\n",
    "                    GROUP BY username)\n",
    "                SELECT round (SUM (COUNT) / COUNT(COUNT), 2) AS AVG\n",
    "                FROM A'''\n",
    "\n",
    "users_mean = pd.io.sql.read_sql(mean_users, con = engine)\n",
    "\n",
    "print ('Среднее количество обзоров от пользователей, которые поставили больше 48 оценок, составляет ', users_mean.loc[0, 'avg'])"
   ]
  },
  {
   "cell_type": "markdown",
   "id": "386ea360",
   "metadata": {},
   "source": [
    "**Вывод:**<br>\n",
    "1. После 01 января 2020 года вышла 821 книга;\n",
    "2. Посчитано количество обзоров и средняя оценка для каждой книги;\n",
    "3. Издательство `Penguin Books`\tвыпустило 42 книги, это максимальное количество;\n",
    "4. Автор с самой высокой средней оценкой книг это J.K. Rowling/Mary GrandPré;\n",
    "5. Среднее количество обзоров от пользователей, которые поставили больше 48 оценок, составляет  24.0"
   ]
  }
 ],
 "metadata": {
  "ExecuteTimeLog": [
   {
    "duration": 48,
    "start_time": "2023-09-27T18:07:42.306Z"
   },
   {
    "duration": 543,
    "start_time": "2023-09-27T18:07:48.018Z"
   },
   {
    "duration": 14728,
    "start_time": "2023-09-27T18:07:48.563Z"
   },
   {
    "duration": 5,
    "start_time": "2023-09-27T18:08:03.293Z"
   },
   {
    "duration": 354,
    "start_time": "2023-09-27T18:08:03.300Z"
   },
   {
    "duration": 367,
    "start_time": "2023-09-27T18:08:03.656Z"
   },
   {
    "duration": 54,
    "start_time": "2023-09-27T18:08:04.025Z"
   },
   {
    "duration": 104,
    "start_time": "2023-09-27T18:08:04.083Z"
   },
   {
    "duration": 68,
    "start_time": "2023-09-27T18:08:04.188Z"
   },
   {
    "duration": 76,
    "start_time": "2023-09-27T18:08:04.258Z"
   },
   {
    "duration": 99,
    "start_time": "2023-09-27T18:08:04.336Z"
   },
   {
    "duration": 74,
    "start_time": "2023-09-27T18:08:04.437Z"
   },
   {
    "duration": 51,
    "start_time": "2023-09-27T18:08:04.514Z"
   },
   {
    "duration": 95,
    "start_time": "2023-09-27T18:08:04.567Z"
   },
   {
    "duration": 72,
    "start_time": "2023-09-27T18:08:04.665Z"
   },
   {
    "duration": 58,
    "start_time": "2023-09-27T18:08:04.739Z"
   },
   {
    "duration": 80,
    "start_time": "2023-09-27T18:08:04.800Z"
   },
   {
    "duration": 70,
    "start_time": "2023-09-27T18:08:04.882Z"
   },
   {
    "duration": 59,
    "start_time": "2023-09-27T18:08:04.954Z"
   },
   {
    "duration": 86,
    "start_time": "2023-09-27T18:08:05.014Z"
   },
   {
    "duration": 141,
    "start_time": "2023-09-27T18:08:05.105Z"
   },
   {
    "duration": 96,
    "start_time": "2023-09-27T18:08:05.248Z"
   },
   {
    "duration": 96,
    "start_time": "2023-09-27T18:08:05.346Z"
   },
   {
    "duration": 92,
    "start_time": "2023-09-27T18:08:05.443Z"
   },
   {
    "duration": 108,
    "start_time": "2023-09-27T18:08:55.870Z"
   },
   {
    "duration": 303,
    "start_time": "2023-09-27T18:13:04.564Z"
   },
   {
    "duration": 639,
    "start_time": "2023-09-27T18:13:12.677Z"
   },
   {
    "duration": 2091,
    "start_time": "2023-09-27T18:13:22.775Z"
   },
   {
    "duration": 110,
    "start_time": "2023-09-27T18:13:27.111Z"
   },
   {
    "duration": 86,
    "start_time": "2023-09-27T18:14:22.402Z"
   }
  ],
  "kernelspec": {
   "display_name": "Python 3 (ipykernel)",
   "language": "python",
   "name": "python3"
  },
  "language_info": {
   "codemirror_mode": {
    "name": "ipython",
    "version": 3
   },
   "file_extension": ".py",
   "mimetype": "text/x-python",
   "name": "python",
   "nbconvert_exporter": "python",
   "pygments_lexer": "ipython3",
   "version": "3.10.9"
  },
  "toc": {
   "base_numbering": 1,
   "nav_menu": {},
   "number_sections": true,
   "sideBar": true,
   "skip_h1_title": true,
   "title_cell": "Table of Contents",
   "title_sidebar": "Contents",
   "toc_cell": false,
   "toc_position": {},
   "toc_section_display": true,
   "toc_window_display": false
  }
 },
 "nbformat": 4,
 "nbformat_minor": 5
}
