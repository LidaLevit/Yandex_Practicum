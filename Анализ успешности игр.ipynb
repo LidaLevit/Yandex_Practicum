{
 "cells": [
  {
   "cell_type": "markdown",
   "metadata": {},
   "source": [
    "# Анализ успешности игр"
   ]
  },
  {
   "cell_type": "markdown",
   "metadata": {},
   "source": [
    "Вы работаете в интернет-магазине «Стримчик», который продаёт по всему миру компьютерные игры. Из открытых источников доступны исторические данные о продажах игр, оценки пользователей и экспертов, жанры и платформы (например, Xbox или PlayStation). Вам нужно выявить определяющие успешность игры закономерности. Это позволит сделать ставку на потенциально популярный продукт и спланировать рекламные кампании.          \n",
    "Перед вами данные до 2016 года. Представим, что сейчас декабрь 2016 г., и вы планируете кампанию на 2017-й. Нужно отработать принцип работы с данными. Неважно, прогнозируете ли вы продажи на 2017 год по данным 2016-го или же 2027-й — по данным 2026 года."
   ]
  },
  {
   "cell_type": "markdown",
   "metadata": {},
   "source": [
    "**Шаг 1. Откройте файл с данными и изучите общую информацию**"
   ]
  },
  {
   "cell_type": "markdown",
   "metadata": {},
   "source": [
    "Начинаем работу с импорта необходимых библиотек"
   ]
  },
  {
   "cell_type": "code",
   "execution_count": 1,
   "metadata": {},
   "outputs": [],
   "source": [
    "import pandas as pd\n",
    "import seaborn as sns\n",
    "import numpy as np\n",
    "from matplotlib import pyplot as plt\n",
    "from scipy import stats as st"
   ]
  },
  {
   "cell_type": "markdown",
   "metadata": {},
   "source": [
    "Теперь откроем датасет"
   ]
  },
  {
   "cell_type": "code",
   "execution_count": 2,
   "metadata": {},
   "outputs": [
    {
     "data": {
      "text/html": [
       "<div>\n",
       "<style scoped>\n",
       "    .dataframe tbody tr th:only-of-type {\n",
       "        vertical-align: middle;\n",
       "    }\n",
       "\n",
       "    .dataframe tbody tr th {\n",
       "        vertical-align: top;\n",
       "    }\n",
       "\n",
       "    .dataframe thead th {\n",
       "        text-align: right;\n",
       "    }\n",
       "</style>\n",
       "<table border=\"1\" class=\"dataframe\">\n",
       "  <thead>\n",
       "    <tr style=\"text-align: right;\">\n",
       "      <th></th>\n",
       "      <th>Name</th>\n",
       "      <th>Platform</th>\n",
       "      <th>Year_of_Release</th>\n",
       "      <th>Genre</th>\n",
       "      <th>NA_sales</th>\n",
       "      <th>EU_sales</th>\n",
       "      <th>JP_sales</th>\n",
       "      <th>Other_sales</th>\n",
       "      <th>Critic_Score</th>\n",
       "      <th>User_Score</th>\n",
       "      <th>Rating</th>\n",
       "    </tr>\n",
       "  </thead>\n",
       "  <tbody>\n",
       "    <tr>\n",
       "      <th>0</th>\n",
       "      <td>Wii Sports</td>\n",
       "      <td>Wii</td>\n",
       "      <td>2006.0</td>\n",
       "      <td>Sports</td>\n",
       "      <td>41.36</td>\n",
       "      <td>28.96</td>\n",
       "      <td>3.77</td>\n",
       "      <td>8.45</td>\n",
       "      <td>76.0</td>\n",
       "      <td>8</td>\n",
       "      <td>E</td>\n",
       "    </tr>\n",
       "    <tr>\n",
       "      <th>1</th>\n",
       "      <td>Super Mario Bros.</td>\n",
       "      <td>NES</td>\n",
       "      <td>1985.0</td>\n",
       "      <td>Platform</td>\n",
       "      <td>29.08</td>\n",
       "      <td>3.58</td>\n",
       "      <td>6.81</td>\n",
       "      <td>0.77</td>\n",
       "      <td>NaN</td>\n",
       "      <td>NaN</td>\n",
       "      <td>NaN</td>\n",
       "    </tr>\n",
       "    <tr>\n",
       "      <th>2</th>\n",
       "      <td>Mario Kart Wii</td>\n",
       "      <td>Wii</td>\n",
       "      <td>2008.0</td>\n",
       "      <td>Racing</td>\n",
       "      <td>15.68</td>\n",
       "      <td>12.76</td>\n",
       "      <td>3.79</td>\n",
       "      <td>3.29</td>\n",
       "      <td>82.0</td>\n",
       "      <td>8.3</td>\n",
       "      <td>E</td>\n",
       "    </tr>\n",
       "    <tr>\n",
       "      <th>3</th>\n",
       "      <td>Wii Sports Resort</td>\n",
       "      <td>Wii</td>\n",
       "      <td>2009.0</td>\n",
       "      <td>Sports</td>\n",
       "      <td>15.61</td>\n",
       "      <td>10.93</td>\n",
       "      <td>3.28</td>\n",
       "      <td>2.95</td>\n",
       "      <td>80.0</td>\n",
       "      <td>8</td>\n",
       "      <td>E</td>\n",
       "    </tr>\n",
       "    <tr>\n",
       "      <th>4</th>\n",
       "      <td>Pokemon Red/Pokemon Blue</td>\n",
       "      <td>GB</td>\n",
       "      <td>1996.0</td>\n",
       "      <td>Role-Playing</td>\n",
       "      <td>11.27</td>\n",
       "      <td>8.89</td>\n",
       "      <td>10.22</td>\n",
       "      <td>1.00</td>\n",
       "      <td>NaN</td>\n",
       "      <td>NaN</td>\n",
       "      <td>NaN</td>\n",
       "    </tr>\n",
       "    <tr>\n",
       "      <th>...</th>\n",
       "      <td>...</td>\n",
       "      <td>...</td>\n",
       "      <td>...</td>\n",
       "      <td>...</td>\n",
       "      <td>...</td>\n",
       "      <td>...</td>\n",
       "      <td>...</td>\n",
       "      <td>...</td>\n",
       "      <td>...</td>\n",
       "      <td>...</td>\n",
       "      <td>...</td>\n",
       "    </tr>\n",
       "    <tr>\n",
       "      <th>16710</th>\n",
       "      <td>Samurai Warriors: Sanada Maru</td>\n",
       "      <td>PS3</td>\n",
       "      <td>2016.0</td>\n",
       "      <td>Action</td>\n",
       "      <td>0.00</td>\n",
       "      <td>0.00</td>\n",
       "      <td>0.01</td>\n",
       "      <td>0.00</td>\n",
       "      <td>NaN</td>\n",
       "      <td>NaN</td>\n",
       "      <td>NaN</td>\n",
       "    </tr>\n",
       "    <tr>\n",
       "      <th>16711</th>\n",
       "      <td>LMA Manager 2007</td>\n",
       "      <td>X360</td>\n",
       "      <td>2006.0</td>\n",
       "      <td>Sports</td>\n",
       "      <td>0.00</td>\n",
       "      <td>0.01</td>\n",
       "      <td>0.00</td>\n",
       "      <td>0.00</td>\n",
       "      <td>NaN</td>\n",
       "      <td>NaN</td>\n",
       "      <td>NaN</td>\n",
       "    </tr>\n",
       "    <tr>\n",
       "      <th>16712</th>\n",
       "      <td>Haitaka no Psychedelica</td>\n",
       "      <td>PSV</td>\n",
       "      <td>2016.0</td>\n",
       "      <td>Adventure</td>\n",
       "      <td>0.00</td>\n",
       "      <td>0.00</td>\n",
       "      <td>0.01</td>\n",
       "      <td>0.00</td>\n",
       "      <td>NaN</td>\n",
       "      <td>NaN</td>\n",
       "      <td>NaN</td>\n",
       "    </tr>\n",
       "    <tr>\n",
       "      <th>16713</th>\n",
       "      <td>Spirits &amp; Spells</td>\n",
       "      <td>GBA</td>\n",
       "      <td>2003.0</td>\n",
       "      <td>Platform</td>\n",
       "      <td>0.01</td>\n",
       "      <td>0.00</td>\n",
       "      <td>0.00</td>\n",
       "      <td>0.00</td>\n",
       "      <td>NaN</td>\n",
       "      <td>NaN</td>\n",
       "      <td>NaN</td>\n",
       "    </tr>\n",
       "    <tr>\n",
       "      <th>16714</th>\n",
       "      <td>Winning Post 8 2016</td>\n",
       "      <td>PSV</td>\n",
       "      <td>2016.0</td>\n",
       "      <td>Simulation</td>\n",
       "      <td>0.00</td>\n",
       "      <td>0.00</td>\n",
       "      <td>0.01</td>\n",
       "      <td>0.00</td>\n",
       "      <td>NaN</td>\n",
       "      <td>NaN</td>\n",
       "      <td>NaN</td>\n",
       "    </tr>\n",
       "  </tbody>\n",
       "</table>\n",
       "<p>16715 rows × 11 columns</p>\n",
       "</div>"
      ],
      "text/plain": [
       "                                Name Platform  Year_of_Release         Genre  \\\n",
       "0                         Wii Sports      Wii           2006.0        Sports   \n",
       "1                  Super Mario Bros.      NES           1985.0      Platform   \n",
       "2                     Mario Kart Wii      Wii           2008.0        Racing   \n",
       "3                  Wii Sports Resort      Wii           2009.0        Sports   \n",
       "4           Pokemon Red/Pokemon Blue       GB           1996.0  Role-Playing   \n",
       "...                              ...      ...              ...           ...   \n",
       "16710  Samurai Warriors: Sanada Maru      PS3           2016.0        Action   \n",
       "16711               LMA Manager 2007     X360           2006.0        Sports   \n",
       "16712        Haitaka no Psychedelica      PSV           2016.0     Adventure   \n",
       "16713               Spirits & Spells      GBA           2003.0      Platform   \n",
       "16714            Winning Post 8 2016      PSV           2016.0    Simulation   \n",
       "\n",
       "       NA_sales  EU_sales  JP_sales  Other_sales  Critic_Score User_Score  \\\n",
       "0         41.36     28.96      3.77         8.45          76.0          8   \n",
       "1         29.08      3.58      6.81         0.77           NaN        NaN   \n",
       "2         15.68     12.76      3.79         3.29          82.0        8.3   \n",
       "3         15.61     10.93      3.28         2.95          80.0          8   \n",
       "4         11.27      8.89     10.22         1.00           NaN        NaN   \n",
       "...         ...       ...       ...          ...           ...        ...   \n",
       "16710      0.00      0.00      0.01         0.00           NaN        NaN   \n",
       "16711      0.00      0.01      0.00         0.00           NaN        NaN   \n",
       "16712      0.00      0.00      0.01         0.00           NaN        NaN   \n",
       "16713      0.01      0.00      0.00         0.00           NaN        NaN   \n",
       "16714      0.00      0.00      0.01         0.00           NaN        NaN   \n",
       "\n",
       "      Rating  \n",
       "0          E  \n",
       "1        NaN  \n",
       "2          E  \n",
       "3          E  \n",
       "4        NaN  \n",
       "...      ...  \n",
       "16710    NaN  \n",
       "16711    NaN  \n",
       "16712    NaN  \n",
       "16713    NaN  \n",
       "16714    NaN  \n",
       "\n",
       "[16715 rows x 11 columns]"
      ]
     },
     "execution_count": 2,
     "metadata": {},
     "output_type": "execute_result"
    }
   ],
   "source": [
    "games = pd.read_csv('/datasets/games.csv')\n",
    "games"
   ]
  },
  {
   "cell_type": "markdown",
   "metadata": {},
   "source": [
    "**Шаг 2. Подготовьте данные**"
   ]
  },
  {
   "cell_type": "markdown",
   "metadata": {},
   "source": [
    "Посмотрим общую информацию о датасете"
   ]
  },
  {
   "cell_type": "code",
   "execution_count": 3,
   "metadata": {},
   "outputs": [
    {
     "name": "stdout",
     "output_type": "stream",
     "text": [
      "<class 'pandas.core.frame.DataFrame'>\n",
      "RangeIndex: 16715 entries, 0 to 16714\n",
      "Data columns (total 11 columns):\n",
      " #   Column           Non-Null Count  Dtype  \n",
      "---  ------           --------------  -----  \n",
      " 0   Name             16713 non-null  object \n",
      " 1   Platform         16715 non-null  object \n",
      " 2   Year_of_Release  16446 non-null  float64\n",
      " 3   Genre            16713 non-null  object \n",
      " 4   NA_sales         16715 non-null  float64\n",
      " 5   EU_sales         16715 non-null  float64\n",
      " 6   JP_sales         16715 non-null  float64\n",
      " 7   Other_sales      16715 non-null  float64\n",
      " 8   Critic_Score     8137 non-null   float64\n",
      " 9   User_Score       10014 non-null  object \n",
      " 10  Rating           9949 non-null   object \n",
      "dtypes: float64(6), object(5)\n",
      "memory usage: 1.4+ MB\n"
     ]
    }
   ],
   "source": [
    "games.info()"
   ]
  },
  {
   "cell_type": "code",
   "execution_count": 4,
   "metadata": {},
   "outputs": [
    {
     "data": {
      "text/html": [
       "<div>\n",
       "<style scoped>\n",
       "    .dataframe tbody tr th:only-of-type {\n",
       "        vertical-align: middle;\n",
       "    }\n",
       "\n",
       "    .dataframe tbody tr th {\n",
       "        vertical-align: top;\n",
       "    }\n",
       "\n",
       "    .dataframe thead th {\n",
       "        text-align: right;\n",
       "    }\n",
       "</style>\n",
       "<table border=\"1\" class=\"dataframe\">\n",
       "  <thead>\n",
       "    <tr style=\"text-align: right;\">\n",
       "      <th></th>\n",
       "      <th>Year_of_Release</th>\n",
       "      <th>NA_sales</th>\n",
       "      <th>EU_sales</th>\n",
       "      <th>JP_sales</th>\n",
       "      <th>Other_sales</th>\n",
       "      <th>Critic_Score</th>\n",
       "    </tr>\n",
       "  </thead>\n",
       "  <tbody>\n",
       "    <tr>\n",
       "      <th>count</th>\n",
       "      <td>16446.000000</td>\n",
       "      <td>16715.000000</td>\n",
       "      <td>16715.000000</td>\n",
       "      <td>16715.000000</td>\n",
       "      <td>16715.000000</td>\n",
       "      <td>8137.000000</td>\n",
       "    </tr>\n",
       "    <tr>\n",
       "      <th>mean</th>\n",
       "      <td>2006.484616</td>\n",
       "      <td>0.263377</td>\n",
       "      <td>0.145060</td>\n",
       "      <td>0.077617</td>\n",
       "      <td>0.047342</td>\n",
       "      <td>68.967679</td>\n",
       "    </tr>\n",
       "    <tr>\n",
       "      <th>std</th>\n",
       "      <td>5.877050</td>\n",
       "      <td>0.813604</td>\n",
       "      <td>0.503339</td>\n",
       "      <td>0.308853</td>\n",
       "      <td>0.186731</td>\n",
       "      <td>13.938165</td>\n",
       "    </tr>\n",
       "    <tr>\n",
       "      <th>min</th>\n",
       "      <td>1980.000000</td>\n",
       "      <td>0.000000</td>\n",
       "      <td>0.000000</td>\n",
       "      <td>0.000000</td>\n",
       "      <td>0.000000</td>\n",
       "      <td>13.000000</td>\n",
       "    </tr>\n",
       "    <tr>\n",
       "      <th>25%</th>\n",
       "      <td>2003.000000</td>\n",
       "      <td>0.000000</td>\n",
       "      <td>0.000000</td>\n",
       "      <td>0.000000</td>\n",
       "      <td>0.000000</td>\n",
       "      <td>60.000000</td>\n",
       "    </tr>\n",
       "    <tr>\n",
       "      <th>50%</th>\n",
       "      <td>2007.000000</td>\n",
       "      <td>0.080000</td>\n",
       "      <td>0.020000</td>\n",
       "      <td>0.000000</td>\n",
       "      <td>0.010000</td>\n",
       "      <td>71.000000</td>\n",
       "    </tr>\n",
       "    <tr>\n",
       "      <th>75%</th>\n",
       "      <td>2010.000000</td>\n",
       "      <td>0.240000</td>\n",
       "      <td>0.110000</td>\n",
       "      <td>0.040000</td>\n",
       "      <td>0.030000</td>\n",
       "      <td>79.000000</td>\n",
       "    </tr>\n",
       "    <tr>\n",
       "      <th>max</th>\n",
       "      <td>2016.000000</td>\n",
       "      <td>41.360000</td>\n",
       "      <td>28.960000</td>\n",
       "      <td>10.220000</td>\n",
       "      <td>10.570000</td>\n",
       "      <td>98.000000</td>\n",
       "    </tr>\n",
       "  </tbody>\n",
       "</table>\n",
       "</div>"
      ],
      "text/plain": [
       "       Year_of_Release      NA_sales      EU_sales      JP_sales  \\\n",
       "count     16446.000000  16715.000000  16715.000000  16715.000000   \n",
       "mean       2006.484616      0.263377      0.145060      0.077617   \n",
       "std           5.877050      0.813604      0.503339      0.308853   \n",
       "min        1980.000000      0.000000      0.000000      0.000000   \n",
       "25%        2003.000000      0.000000      0.000000      0.000000   \n",
       "50%        2007.000000      0.080000      0.020000      0.000000   \n",
       "75%        2010.000000      0.240000      0.110000      0.040000   \n",
       "max        2016.000000     41.360000     28.960000     10.220000   \n",
       "\n",
       "        Other_sales  Critic_Score  \n",
       "count  16715.000000   8137.000000  \n",
       "mean       0.047342     68.967679  \n",
       "std        0.186731     13.938165  \n",
       "min        0.000000     13.000000  \n",
       "25%        0.000000     60.000000  \n",
       "50%        0.010000     71.000000  \n",
       "75%        0.030000     79.000000  \n",
       "max       10.570000     98.000000  "
      ]
     },
     "execution_count": 4,
     "metadata": {},
     "output_type": "execute_result"
    }
   ],
   "source": [
    "games.describe()"
   ]
  },
  {
   "cell_type": "code",
   "execution_count": 5,
   "metadata": {},
   "outputs": [
    {
     "data": {
      "text/html": [
       "<div>\n",
       "<style scoped>\n",
       "    .dataframe tbody tr th:only-of-type {\n",
       "        vertical-align: middle;\n",
       "    }\n",
       "\n",
       "    .dataframe tbody tr th {\n",
       "        vertical-align: top;\n",
       "    }\n",
       "\n",
       "    .dataframe thead th {\n",
       "        text-align: right;\n",
       "    }\n",
       "</style>\n",
       "<table border=\"1\" class=\"dataframe\">\n",
       "  <thead>\n",
       "    <tr style=\"text-align: right;\">\n",
       "      <th></th>\n",
       "      <th>Name</th>\n",
       "      <th>Platform</th>\n",
       "      <th>Year_of_Release</th>\n",
       "      <th>Genre</th>\n",
       "      <th>NA_sales</th>\n",
       "      <th>EU_sales</th>\n",
       "      <th>JP_sales</th>\n",
       "      <th>Other_sales</th>\n",
       "      <th>Critic_Score</th>\n",
       "      <th>User_Score</th>\n",
       "      <th>Rating</th>\n",
       "    </tr>\n",
       "  </thead>\n",
       "  <tbody>\n",
       "    <tr>\n",
       "      <th>0</th>\n",
       "      <td>Wii Sports</td>\n",
       "      <td>Wii</td>\n",
       "      <td>2006.0</td>\n",
       "      <td>Sports</td>\n",
       "      <td>41.36</td>\n",
       "      <td>28.96</td>\n",
       "      <td>3.77</td>\n",
       "      <td>8.45</td>\n",
       "      <td>76.0</td>\n",
       "      <td>8</td>\n",
       "      <td>E</td>\n",
       "    </tr>\n",
       "    <tr>\n",
       "      <th>1</th>\n",
       "      <td>Super Mario Bros.</td>\n",
       "      <td>NES</td>\n",
       "      <td>1985.0</td>\n",
       "      <td>Platform</td>\n",
       "      <td>29.08</td>\n",
       "      <td>3.58</td>\n",
       "      <td>6.81</td>\n",
       "      <td>0.77</td>\n",
       "      <td>NaN</td>\n",
       "      <td>NaN</td>\n",
       "      <td>NaN</td>\n",
       "    </tr>\n",
       "    <tr>\n",
       "      <th>2</th>\n",
       "      <td>Mario Kart Wii</td>\n",
       "      <td>Wii</td>\n",
       "      <td>2008.0</td>\n",
       "      <td>Racing</td>\n",
       "      <td>15.68</td>\n",
       "      <td>12.76</td>\n",
       "      <td>3.79</td>\n",
       "      <td>3.29</td>\n",
       "      <td>82.0</td>\n",
       "      <td>8.3</td>\n",
       "      <td>E</td>\n",
       "    </tr>\n",
       "    <tr>\n",
       "      <th>3</th>\n",
       "      <td>Wii Sports Resort</td>\n",
       "      <td>Wii</td>\n",
       "      <td>2009.0</td>\n",
       "      <td>Sports</td>\n",
       "      <td>15.61</td>\n",
       "      <td>10.93</td>\n",
       "      <td>3.28</td>\n",
       "      <td>2.95</td>\n",
       "      <td>80.0</td>\n",
       "      <td>8</td>\n",
       "      <td>E</td>\n",
       "    </tr>\n",
       "    <tr>\n",
       "      <th>4</th>\n",
       "      <td>Pokemon Red/Pokemon Blue</td>\n",
       "      <td>GB</td>\n",
       "      <td>1996.0</td>\n",
       "      <td>Role-Playing</td>\n",
       "      <td>11.27</td>\n",
       "      <td>8.89</td>\n",
       "      <td>10.22</td>\n",
       "      <td>1.00</td>\n",
       "      <td>NaN</td>\n",
       "      <td>NaN</td>\n",
       "      <td>NaN</td>\n",
       "    </tr>\n",
       "    <tr>\n",
       "      <th>5</th>\n",
       "      <td>Tetris</td>\n",
       "      <td>GB</td>\n",
       "      <td>1989.0</td>\n",
       "      <td>Puzzle</td>\n",
       "      <td>23.20</td>\n",
       "      <td>2.26</td>\n",
       "      <td>4.22</td>\n",
       "      <td>0.58</td>\n",
       "      <td>NaN</td>\n",
       "      <td>NaN</td>\n",
       "      <td>NaN</td>\n",
       "    </tr>\n",
       "    <tr>\n",
       "      <th>6</th>\n",
       "      <td>New Super Mario Bros.</td>\n",
       "      <td>DS</td>\n",
       "      <td>2006.0</td>\n",
       "      <td>Platform</td>\n",
       "      <td>11.28</td>\n",
       "      <td>9.14</td>\n",
       "      <td>6.50</td>\n",
       "      <td>2.88</td>\n",
       "      <td>89.0</td>\n",
       "      <td>8.5</td>\n",
       "      <td>E</td>\n",
       "    </tr>\n",
       "    <tr>\n",
       "      <th>7</th>\n",
       "      <td>Wii Play</td>\n",
       "      <td>Wii</td>\n",
       "      <td>2006.0</td>\n",
       "      <td>Misc</td>\n",
       "      <td>13.96</td>\n",
       "      <td>9.18</td>\n",
       "      <td>2.93</td>\n",
       "      <td>2.84</td>\n",
       "      <td>58.0</td>\n",
       "      <td>6.6</td>\n",
       "      <td>E</td>\n",
       "    </tr>\n",
       "    <tr>\n",
       "      <th>8</th>\n",
       "      <td>New Super Mario Bros. Wii</td>\n",
       "      <td>Wii</td>\n",
       "      <td>2009.0</td>\n",
       "      <td>Platform</td>\n",
       "      <td>14.44</td>\n",
       "      <td>6.94</td>\n",
       "      <td>4.70</td>\n",
       "      <td>2.24</td>\n",
       "      <td>87.0</td>\n",
       "      <td>8.4</td>\n",
       "      <td>E</td>\n",
       "    </tr>\n",
       "    <tr>\n",
       "      <th>9</th>\n",
       "      <td>Duck Hunt</td>\n",
       "      <td>NES</td>\n",
       "      <td>1984.0</td>\n",
       "      <td>Shooter</td>\n",
       "      <td>26.93</td>\n",
       "      <td>0.63</td>\n",
       "      <td>0.28</td>\n",
       "      <td>0.47</td>\n",
       "      <td>NaN</td>\n",
       "      <td>NaN</td>\n",
       "      <td>NaN</td>\n",
       "    </tr>\n",
       "  </tbody>\n",
       "</table>\n",
       "</div>"
      ],
      "text/plain": [
       "                        Name Platform  Year_of_Release         Genre  \\\n",
       "0                 Wii Sports      Wii           2006.0        Sports   \n",
       "1          Super Mario Bros.      NES           1985.0      Platform   \n",
       "2             Mario Kart Wii      Wii           2008.0        Racing   \n",
       "3          Wii Sports Resort      Wii           2009.0        Sports   \n",
       "4   Pokemon Red/Pokemon Blue       GB           1996.0  Role-Playing   \n",
       "5                     Tetris       GB           1989.0        Puzzle   \n",
       "6      New Super Mario Bros.       DS           2006.0      Platform   \n",
       "7                   Wii Play      Wii           2006.0          Misc   \n",
       "8  New Super Mario Bros. Wii      Wii           2009.0      Platform   \n",
       "9                  Duck Hunt      NES           1984.0       Shooter   \n",
       "\n",
       "   NA_sales  EU_sales  JP_sales  Other_sales  Critic_Score User_Score Rating  \n",
       "0     41.36     28.96      3.77         8.45          76.0          8      E  \n",
       "1     29.08      3.58      6.81         0.77           NaN        NaN    NaN  \n",
       "2     15.68     12.76      3.79         3.29          82.0        8.3      E  \n",
       "3     15.61     10.93      3.28         2.95          80.0          8      E  \n",
       "4     11.27      8.89     10.22         1.00           NaN        NaN    NaN  \n",
       "5     23.20      2.26      4.22         0.58           NaN        NaN    NaN  \n",
       "6     11.28      9.14      6.50         2.88          89.0        8.5      E  \n",
       "7     13.96      9.18      2.93         2.84          58.0        6.6      E  \n",
       "8     14.44      6.94      4.70         2.24          87.0        8.4      E  \n",
       "9     26.93      0.63      0.28         0.47           NaN        NaN    NaN  "
      ]
     },
     "execution_count": 5,
     "metadata": {},
     "output_type": "execute_result"
    }
   ],
   "source": [
    "games.head(10)"
   ]
  },
  {
   "cell_type": "markdown",
   "metadata": {},
   "source": [
    "***Описание данных***\n",
    "              \n",
    "Name — название игры                    \n",
    "Platform — платформа                   \n",
    "Year_of_Release — год выпуска                  \n",
    "Genre — жанр игры                       \n",
    "NA_sales — продажи в Северной Америке (миллионы проданных копий)                 \n",
    "EU_sales — продажи в Европе (миллионы проданных копий)                 \n",
    "JP_sales — продажи в Японии (миллионы проданных копий)                   \n",
    "Other_sales — продажи в других странах (миллионы проданных копий)                \n",
    "Critic_Score — оценка критиков (максимум 100)                  \n",
    "User_Score — оценка пользователей (максимум 10)                    \n",
    "Rating — рейтинг от организации ESRB (англ. Entertainment Software Rating Board). Эта ассоциация определяет рейтинг компьютерных игр и присваивает им подходящую возрастную категорию.                 "
   ]
  },
  {
   "cell_type": "markdown",
   "metadata": {},
   "source": [
    "***Вывод:***            \n",
    "При первом взгляде на данные видим пропуски;          \n",
    "Тип данных в столбце **Year_of_Release** с текущего float изменим на int (странно выглядит год, написанных дробным числом);     \n",
    "Изменим тип данных в столбце **User_Score** с object на float. "
   ]
  },
  {
   "cell_type": "markdown",
   "metadata": {},
   "source": [
    "Приведем названия столбцов к нижнему регистру"
   ]
  },
  {
   "cell_type": "code",
   "execution_count": 6,
   "metadata": {},
   "outputs": [
    {
     "data": {
      "text/html": [
       "<div>\n",
       "<style scoped>\n",
       "    .dataframe tbody tr th:only-of-type {\n",
       "        vertical-align: middle;\n",
       "    }\n",
       "\n",
       "    .dataframe tbody tr th {\n",
       "        vertical-align: top;\n",
       "    }\n",
       "\n",
       "    .dataframe thead th {\n",
       "        text-align: right;\n",
       "    }\n",
       "</style>\n",
       "<table border=\"1\" class=\"dataframe\">\n",
       "  <thead>\n",
       "    <tr style=\"text-align: right;\">\n",
       "      <th></th>\n",
       "      <th>name</th>\n",
       "      <th>platform</th>\n",
       "      <th>year_of_release</th>\n",
       "      <th>genre</th>\n",
       "      <th>na_sales</th>\n",
       "      <th>eu_sales</th>\n",
       "      <th>jp_sales</th>\n",
       "      <th>other_sales</th>\n",
       "      <th>critic_score</th>\n",
       "      <th>user_score</th>\n",
       "      <th>rating</th>\n",
       "    </tr>\n",
       "  </thead>\n",
       "  <tbody>\n",
       "    <tr>\n",
       "      <th>0</th>\n",
       "      <td>Wii Sports</td>\n",
       "      <td>Wii</td>\n",
       "      <td>2006.0</td>\n",
       "      <td>Sports</td>\n",
       "      <td>41.36</td>\n",
       "      <td>28.96</td>\n",
       "      <td>3.77</td>\n",
       "      <td>8.45</td>\n",
       "      <td>76.0</td>\n",
       "      <td>8</td>\n",
       "      <td>E</td>\n",
       "    </tr>\n",
       "    <tr>\n",
       "      <th>1</th>\n",
       "      <td>Super Mario Bros.</td>\n",
       "      <td>NES</td>\n",
       "      <td>1985.0</td>\n",
       "      <td>Platform</td>\n",
       "      <td>29.08</td>\n",
       "      <td>3.58</td>\n",
       "      <td>6.81</td>\n",
       "      <td>0.77</td>\n",
       "      <td>NaN</td>\n",
       "      <td>NaN</td>\n",
       "      <td>NaN</td>\n",
       "    </tr>\n",
       "    <tr>\n",
       "      <th>2</th>\n",
       "      <td>Mario Kart Wii</td>\n",
       "      <td>Wii</td>\n",
       "      <td>2008.0</td>\n",
       "      <td>Racing</td>\n",
       "      <td>15.68</td>\n",
       "      <td>12.76</td>\n",
       "      <td>3.79</td>\n",
       "      <td>3.29</td>\n",
       "      <td>82.0</td>\n",
       "      <td>8.3</td>\n",
       "      <td>E</td>\n",
       "    </tr>\n",
       "    <tr>\n",
       "      <th>3</th>\n",
       "      <td>Wii Sports Resort</td>\n",
       "      <td>Wii</td>\n",
       "      <td>2009.0</td>\n",
       "      <td>Sports</td>\n",
       "      <td>15.61</td>\n",
       "      <td>10.93</td>\n",
       "      <td>3.28</td>\n",
       "      <td>2.95</td>\n",
       "      <td>80.0</td>\n",
       "      <td>8</td>\n",
       "      <td>E</td>\n",
       "    </tr>\n",
       "    <tr>\n",
       "      <th>4</th>\n",
       "      <td>Pokemon Red/Pokemon Blue</td>\n",
       "      <td>GB</td>\n",
       "      <td>1996.0</td>\n",
       "      <td>Role-Playing</td>\n",
       "      <td>11.27</td>\n",
       "      <td>8.89</td>\n",
       "      <td>10.22</td>\n",
       "      <td>1.00</td>\n",
       "      <td>NaN</td>\n",
       "      <td>NaN</td>\n",
       "      <td>NaN</td>\n",
       "    </tr>\n",
       "    <tr>\n",
       "      <th>5</th>\n",
       "      <td>Tetris</td>\n",
       "      <td>GB</td>\n",
       "      <td>1989.0</td>\n",
       "      <td>Puzzle</td>\n",
       "      <td>23.20</td>\n",
       "      <td>2.26</td>\n",
       "      <td>4.22</td>\n",
       "      <td>0.58</td>\n",
       "      <td>NaN</td>\n",
       "      <td>NaN</td>\n",
       "      <td>NaN</td>\n",
       "    </tr>\n",
       "    <tr>\n",
       "      <th>6</th>\n",
       "      <td>New Super Mario Bros.</td>\n",
       "      <td>DS</td>\n",
       "      <td>2006.0</td>\n",
       "      <td>Platform</td>\n",
       "      <td>11.28</td>\n",
       "      <td>9.14</td>\n",
       "      <td>6.50</td>\n",
       "      <td>2.88</td>\n",
       "      <td>89.0</td>\n",
       "      <td>8.5</td>\n",
       "      <td>E</td>\n",
       "    </tr>\n",
       "    <tr>\n",
       "      <th>7</th>\n",
       "      <td>Wii Play</td>\n",
       "      <td>Wii</td>\n",
       "      <td>2006.0</td>\n",
       "      <td>Misc</td>\n",
       "      <td>13.96</td>\n",
       "      <td>9.18</td>\n",
       "      <td>2.93</td>\n",
       "      <td>2.84</td>\n",
       "      <td>58.0</td>\n",
       "      <td>6.6</td>\n",
       "      <td>E</td>\n",
       "    </tr>\n",
       "    <tr>\n",
       "      <th>8</th>\n",
       "      <td>New Super Mario Bros. Wii</td>\n",
       "      <td>Wii</td>\n",
       "      <td>2009.0</td>\n",
       "      <td>Platform</td>\n",
       "      <td>14.44</td>\n",
       "      <td>6.94</td>\n",
       "      <td>4.70</td>\n",
       "      <td>2.24</td>\n",
       "      <td>87.0</td>\n",
       "      <td>8.4</td>\n",
       "      <td>E</td>\n",
       "    </tr>\n",
       "    <tr>\n",
       "      <th>9</th>\n",
       "      <td>Duck Hunt</td>\n",
       "      <td>NES</td>\n",
       "      <td>1984.0</td>\n",
       "      <td>Shooter</td>\n",
       "      <td>26.93</td>\n",
       "      <td>0.63</td>\n",
       "      <td>0.28</td>\n",
       "      <td>0.47</td>\n",
       "      <td>NaN</td>\n",
       "      <td>NaN</td>\n",
       "      <td>NaN</td>\n",
       "    </tr>\n",
       "    <tr>\n",
       "      <th>10</th>\n",
       "      <td>Nintendogs</td>\n",
       "      <td>DS</td>\n",
       "      <td>2005.0</td>\n",
       "      <td>Simulation</td>\n",
       "      <td>9.05</td>\n",
       "      <td>10.95</td>\n",
       "      <td>1.93</td>\n",
       "      <td>2.74</td>\n",
       "      <td>NaN</td>\n",
       "      <td>NaN</td>\n",
       "      <td>NaN</td>\n",
       "    </tr>\n",
       "    <tr>\n",
       "      <th>11</th>\n",
       "      <td>Mario Kart DS</td>\n",
       "      <td>DS</td>\n",
       "      <td>2005.0</td>\n",
       "      <td>Racing</td>\n",
       "      <td>9.71</td>\n",
       "      <td>7.47</td>\n",
       "      <td>4.13</td>\n",
       "      <td>1.90</td>\n",
       "      <td>91.0</td>\n",
       "      <td>8.6</td>\n",
       "      <td>E</td>\n",
       "    </tr>\n",
       "    <tr>\n",
       "      <th>12</th>\n",
       "      <td>Pokemon Gold/Pokemon Silver</td>\n",
       "      <td>GB</td>\n",
       "      <td>1999.0</td>\n",
       "      <td>Role-Playing</td>\n",
       "      <td>9.00</td>\n",
       "      <td>6.18</td>\n",
       "      <td>7.20</td>\n",
       "      <td>0.71</td>\n",
       "      <td>NaN</td>\n",
       "      <td>NaN</td>\n",
       "      <td>NaN</td>\n",
       "    </tr>\n",
       "    <tr>\n",
       "      <th>13</th>\n",
       "      <td>Wii Fit</td>\n",
       "      <td>Wii</td>\n",
       "      <td>2007.0</td>\n",
       "      <td>Sports</td>\n",
       "      <td>8.92</td>\n",
       "      <td>8.03</td>\n",
       "      <td>3.60</td>\n",
       "      <td>2.15</td>\n",
       "      <td>80.0</td>\n",
       "      <td>7.7</td>\n",
       "      <td>E</td>\n",
       "    </tr>\n",
       "    <tr>\n",
       "      <th>14</th>\n",
       "      <td>Kinect Adventures!</td>\n",
       "      <td>X360</td>\n",
       "      <td>2010.0</td>\n",
       "      <td>Misc</td>\n",
       "      <td>15.00</td>\n",
       "      <td>4.89</td>\n",
       "      <td>0.24</td>\n",
       "      <td>1.69</td>\n",
       "      <td>61.0</td>\n",
       "      <td>6.3</td>\n",
       "      <td>E</td>\n",
       "    </tr>\n",
       "    <tr>\n",
       "      <th>15</th>\n",
       "      <td>Wii Fit Plus</td>\n",
       "      <td>Wii</td>\n",
       "      <td>2009.0</td>\n",
       "      <td>Sports</td>\n",
       "      <td>9.01</td>\n",
       "      <td>8.49</td>\n",
       "      <td>2.53</td>\n",
       "      <td>1.77</td>\n",
       "      <td>80.0</td>\n",
       "      <td>7.4</td>\n",
       "      <td>E</td>\n",
       "    </tr>\n",
       "    <tr>\n",
       "      <th>16</th>\n",
       "      <td>Grand Theft Auto V</td>\n",
       "      <td>PS3</td>\n",
       "      <td>2013.0</td>\n",
       "      <td>Action</td>\n",
       "      <td>7.02</td>\n",
       "      <td>9.09</td>\n",
       "      <td>0.98</td>\n",
       "      <td>3.96</td>\n",
       "      <td>97.0</td>\n",
       "      <td>8.2</td>\n",
       "      <td>M</td>\n",
       "    </tr>\n",
       "    <tr>\n",
       "      <th>17</th>\n",
       "      <td>Grand Theft Auto: San Andreas</td>\n",
       "      <td>PS2</td>\n",
       "      <td>2004.0</td>\n",
       "      <td>Action</td>\n",
       "      <td>9.43</td>\n",
       "      <td>0.40</td>\n",
       "      <td>0.41</td>\n",
       "      <td>10.57</td>\n",
       "      <td>95.0</td>\n",
       "      <td>9</td>\n",
       "      <td>M</td>\n",
       "    </tr>\n",
       "    <tr>\n",
       "      <th>18</th>\n",
       "      <td>Super Mario World</td>\n",
       "      <td>SNES</td>\n",
       "      <td>1990.0</td>\n",
       "      <td>Platform</td>\n",
       "      <td>12.78</td>\n",
       "      <td>3.75</td>\n",
       "      <td>3.54</td>\n",
       "      <td>0.55</td>\n",
       "      <td>NaN</td>\n",
       "      <td>NaN</td>\n",
       "      <td>NaN</td>\n",
       "    </tr>\n",
       "    <tr>\n",
       "      <th>19</th>\n",
       "      <td>Brain Age: Train Your Brain in Minutes a Day</td>\n",
       "      <td>DS</td>\n",
       "      <td>2005.0</td>\n",
       "      <td>Misc</td>\n",
       "      <td>4.74</td>\n",
       "      <td>9.20</td>\n",
       "      <td>4.16</td>\n",
       "      <td>2.04</td>\n",
       "      <td>77.0</td>\n",
       "      <td>7.9</td>\n",
       "      <td>E</td>\n",
       "    </tr>\n",
       "  </tbody>\n",
       "</table>\n",
       "</div>"
      ],
      "text/plain": [
       "                                            name platform  year_of_release  \\\n",
       "0                                     Wii Sports      Wii           2006.0   \n",
       "1                              Super Mario Bros.      NES           1985.0   \n",
       "2                                 Mario Kart Wii      Wii           2008.0   \n",
       "3                              Wii Sports Resort      Wii           2009.0   \n",
       "4                       Pokemon Red/Pokemon Blue       GB           1996.0   \n",
       "5                                         Tetris       GB           1989.0   \n",
       "6                          New Super Mario Bros.       DS           2006.0   \n",
       "7                                       Wii Play      Wii           2006.0   \n",
       "8                      New Super Mario Bros. Wii      Wii           2009.0   \n",
       "9                                      Duck Hunt      NES           1984.0   \n",
       "10                                    Nintendogs       DS           2005.0   \n",
       "11                                 Mario Kart DS       DS           2005.0   \n",
       "12                   Pokemon Gold/Pokemon Silver       GB           1999.0   \n",
       "13                                       Wii Fit      Wii           2007.0   \n",
       "14                            Kinect Adventures!     X360           2010.0   \n",
       "15                                  Wii Fit Plus      Wii           2009.0   \n",
       "16                            Grand Theft Auto V      PS3           2013.0   \n",
       "17                 Grand Theft Auto: San Andreas      PS2           2004.0   \n",
       "18                             Super Mario World     SNES           1990.0   \n",
       "19  Brain Age: Train Your Brain in Minutes a Day       DS           2005.0   \n",
       "\n",
       "           genre  na_sales  eu_sales  jp_sales  other_sales  critic_score  \\\n",
       "0         Sports     41.36     28.96      3.77         8.45          76.0   \n",
       "1       Platform     29.08      3.58      6.81         0.77           NaN   \n",
       "2         Racing     15.68     12.76      3.79         3.29          82.0   \n",
       "3         Sports     15.61     10.93      3.28         2.95          80.0   \n",
       "4   Role-Playing     11.27      8.89     10.22         1.00           NaN   \n",
       "5         Puzzle     23.20      2.26      4.22         0.58           NaN   \n",
       "6       Platform     11.28      9.14      6.50         2.88          89.0   \n",
       "7           Misc     13.96      9.18      2.93         2.84          58.0   \n",
       "8       Platform     14.44      6.94      4.70         2.24          87.0   \n",
       "9        Shooter     26.93      0.63      0.28         0.47           NaN   \n",
       "10    Simulation      9.05     10.95      1.93         2.74           NaN   \n",
       "11        Racing      9.71      7.47      4.13         1.90          91.0   \n",
       "12  Role-Playing      9.00      6.18      7.20         0.71           NaN   \n",
       "13        Sports      8.92      8.03      3.60         2.15          80.0   \n",
       "14          Misc     15.00      4.89      0.24         1.69          61.0   \n",
       "15        Sports      9.01      8.49      2.53         1.77          80.0   \n",
       "16        Action      7.02      9.09      0.98         3.96          97.0   \n",
       "17        Action      9.43      0.40      0.41        10.57          95.0   \n",
       "18      Platform     12.78      3.75      3.54         0.55           NaN   \n",
       "19          Misc      4.74      9.20      4.16         2.04          77.0   \n",
       "\n",
       "   user_score rating  \n",
       "0           8      E  \n",
       "1         NaN    NaN  \n",
       "2         8.3      E  \n",
       "3           8      E  \n",
       "4         NaN    NaN  \n",
       "5         NaN    NaN  \n",
       "6         8.5      E  \n",
       "7         6.6      E  \n",
       "8         8.4      E  \n",
       "9         NaN    NaN  \n",
       "10        NaN    NaN  \n",
       "11        8.6      E  \n",
       "12        NaN    NaN  \n",
       "13        7.7      E  \n",
       "14        6.3      E  \n",
       "15        7.4      E  \n",
       "16        8.2      M  \n",
       "17          9      M  \n",
       "18        NaN    NaN  \n",
       "19        7.9      E  "
      ]
     },
     "execution_count": 6,
     "metadata": {},
     "output_type": "execute_result"
    }
   ],
   "source": [
    "games.columns = games.columns.str.lower()\n",
    "games.head(20)"
   ]
  },
  {
   "cell_type": "markdown",
   "metadata": {},
   "source": [
    "Теперь разберемся с пропусками в данных"
   ]
  },
  {
   "cell_type": "code",
   "execution_count": 7,
   "metadata": {},
   "outputs": [
    {
     "data": {
      "text/plain": [
       "name                  2\n",
       "platform              0\n",
       "year_of_release     269\n",
       "genre                 2\n",
       "na_sales              0\n",
       "eu_sales              0\n",
       "jp_sales              0\n",
       "other_sales           0\n",
       "critic_score       8578\n",
       "user_score         6701\n",
       "rating             6766\n",
       "dtype: int64"
      ]
     },
     "execution_count": 7,
     "metadata": {},
     "output_type": "execute_result"
    }
   ],
   "source": [
    "games.isna().sum()"
   ]
  },
  {
   "cell_type": "code",
   "execution_count": 8,
   "metadata": {},
   "outputs": [
    {
     "data": {
      "text/html": [
       "<style  type=\"text/css\" >\n",
       "#T_26ffa_row0_col0{\n",
       "            background-color:  #b40426;\n",
       "            color:  #f1f1f1;\n",
       "        }#T_26ffa_row1_col0{\n",
       "            background-color:  #ef886b;\n",
       "            color:  #000000;\n",
       "        }#T_26ffa_row2_col0{\n",
       "            background-color:  #f08b6e;\n",
       "            color:  #000000;\n",
       "        }#T_26ffa_row3_col0{\n",
       "            background-color:  #4358cb;\n",
       "            color:  #f1f1f1;\n",
       "        }#T_26ffa_row4_col0,#T_26ffa_row5_col0,#T_26ffa_row6_col0,#T_26ffa_row7_col0,#T_26ffa_row8_col0,#T_26ffa_row9_col0,#T_26ffa_row10_col0{\n",
       "            background-color:  #3b4cc0;\n",
       "            color:  #f1f1f1;\n",
       "        }</style><table id=\"T_26ffa_\" ><thead>    <tr>        <th class=\"blank level0\" ></th>        <th class=\"col_heading level0 col0\" >0</th>    </tr></thead><tbody>\n",
       "                <tr>\n",
       "                        <th id=\"T_26ffa_level0_row0\" class=\"row_heading level0 row0\" >critic_score</th>\n",
       "                        <td id=\"T_26ffa_row0_col0\" class=\"data row0 col0\" >51.300000</td>\n",
       "            </tr>\n",
       "            <tr>\n",
       "                        <th id=\"T_26ffa_level0_row1\" class=\"row_heading level0 row1\" >rating</th>\n",
       "                        <td id=\"T_26ffa_row1_col0\" class=\"data row1 col0\" >40.500000</td>\n",
       "            </tr>\n",
       "            <tr>\n",
       "                        <th id=\"T_26ffa_level0_row2\" class=\"row_heading level0 row2\" >user_score</th>\n",
       "                        <td id=\"T_26ffa_row2_col0\" class=\"data row2 col0\" >40.100000</td>\n",
       "            </tr>\n",
       "            <tr>\n",
       "                        <th id=\"T_26ffa_level0_row3\" class=\"row_heading level0 row3\" >year_of_release</th>\n",
       "                        <td id=\"T_26ffa_row3_col0\" class=\"data row3 col0\" >1.600000</td>\n",
       "            </tr>\n",
       "            <tr>\n",
       "                        <th id=\"T_26ffa_level0_row4\" class=\"row_heading level0 row4\" >name</th>\n",
       "                        <td id=\"T_26ffa_row4_col0\" class=\"data row4 col0\" >0.000000</td>\n",
       "            </tr>\n",
       "            <tr>\n",
       "                        <th id=\"T_26ffa_level0_row5\" class=\"row_heading level0 row5\" >genre</th>\n",
       "                        <td id=\"T_26ffa_row5_col0\" class=\"data row5 col0\" >0.000000</td>\n",
       "            </tr>\n",
       "            <tr>\n",
       "                        <th id=\"T_26ffa_level0_row6\" class=\"row_heading level0 row6\" >platform</th>\n",
       "                        <td id=\"T_26ffa_row6_col0\" class=\"data row6 col0\" >0.000000</td>\n",
       "            </tr>\n",
       "            <tr>\n",
       "                        <th id=\"T_26ffa_level0_row7\" class=\"row_heading level0 row7\" >na_sales</th>\n",
       "                        <td id=\"T_26ffa_row7_col0\" class=\"data row7 col0\" >0.000000</td>\n",
       "            </tr>\n",
       "            <tr>\n",
       "                        <th id=\"T_26ffa_level0_row8\" class=\"row_heading level0 row8\" >eu_sales</th>\n",
       "                        <td id=\"T_26ffa_row8_col0\" class=\"data row8 col0\" >0.000000</td>\n",
       "            </tr>\n",
       "            <tr>\n",
       "                        <th id=\"T_26ffa_level0_row9\" class=\"row_heading level0 row9\" >jp_sales</th>\n",
       "                        <td id=\"T_26ffa_row9_col0\" class=\"data row9 col0\" >0.000000</td>\n",
       "            </tr>\n",
       "            <tr>\n",
       "                        <th id=\"T_26ffa_level0_row10\" class=\"row_heading level0 row10\" >other_sales</th>\n",
       "                        <td id=\"T_26ffa_row10_col0\" class=\"data row10 col0\" >0.000000</td>\n",
       "            </tr>\n",
       "    </tbody></table>"
      ],
      "text/plain": [
       "<pandas.io.formats.style.Styler at 0x7fc581d434f0>"
      ]
     },
     "execution_count": 8,
     "metadata": {},
     "output_type": "execute_result"
    }
   ],
   "source": [
    "pd.DataFrame(round(games.isna().mean().sort_values(ascending=False)*100,1)).style.background_gradient('coolwarm')"
   ]
  },
  {
   "cell_type": "markdown",
   "metadata": {},
   "source": [
    "Пропуски в столбцах **name**, **genre**, **year_of_release** удалим, корректно заполнить эти пропуски не представляется возможным; <br>Пропусков в столбцах **critic_score**, **user_score**, **rating** слишком много, оставим как есть, заполенение пропусков может оказать влияние на весь анализ;<br>Обратим внимание на значение **tbd** (To Be Determined, то есть \"Будет определено\") заменим его на NaN, чтобы не мешало при дальнейшем анализе.<br> Пропуски в данных могли возникнуть по разным причинам: например, критики могли не успеть оценить недавно вышедшие игры, данные могли быть осознанно не заполнены интервьюируемым, например, не определился с оценкой, также интервьюируемый мог забыть год релиза игры. <br>\n",
    "Заменим пропуски в столбце **rating** на \"Unknown\", чтобы в дальнейшем пропуски не повлияли на результаты расчетов."
   ]
  },
  {
   "cell_type": "code",
   "execution_count": 9,
   "metadata": {},
   "outputs": [
    {
     "data": {
      "text/plain": [
       "0"
      ]
     },
     "execution_count": 9,
     "metadata": {},
     "output_type": "execute_result"
    }
   ],
   "source": [
    "games.dropna(subset=['name'], inplace=True)\n",
    "games['name'].isna().sum()"
   ]
  },
  {
   "cell_type": "code",
   "execution_count": 10,
   "metadata": {},
   "outputs": [
    {
     "data": {
      "text/plain": [
       "0"
      ]
     },
     "execution_count": 10,
     "metadata": {},
     "output_type": "execute_result"
    }
   ],
   "source": [
    "games.dropna(subset=['genre'], inplace=True)\n",
    "games['genre'].isna().sum()"
   ]
  },
  {
   "cell_type": "code",
   "execution_count": 11,
   "metadata": {},
   "outputs": [
    {
     "data": {
      "text/plain": [
       "0"
      ]
     },
     "execution_count": 11,
     "metadata": {},
     "output_type": "execute_result"
    }
   ],
   "source": [
    "games.dropna(subset=['year_of_release'], inplace=True)\n",
    "games['year_of_release'].isna().sum()"
   ]
  },
  {
   "cell_type": "code",
   "execution_count": 12,
   "metadata": {},
   "outputs": [
    {
     "data": {
      "text/plain": [
       "0          8\n",
       "1        NaN\n",
       "2        8.3\n",
       "3          8\n",
       "4        NaN\n",
       "        ... \n",
       "16710    NaN\n",
       "16711    NaN\n",
       "16712    NaN\n",
       "16713    NaN\n",
       "16714    NaN\n",
       "Name: user_score, Length: 16444, dtype: object"
      ]
     },
     "execution_count": 12,
     "metadata": {},
     "output_type": "execute_result"
    }
   ],
   "source": [
    "games['user_score'] = games['user_score'].replace('tbd', np.NaN)\n",
    "games['user_score']"
   ]
  },
  {
   "cell_type": "markdown",
   "metadata": {},
   "source": [
    "Изменим тип данных в столбце user_score с object на float"
   ]
  },
  {
   "cell_type": "code",
   "execution_count": 13,
   "metadata": {},
   "outputs": [
    {
     "data": {
      "text/plain": [
       "0        8.0\n",
       "1        NaN\n",
       "2        8.3\n",
       "3        8.0\n",
       "4        NaN\n",
       "        ... \n",
       "16710    NaN\n",
       "16711    NaN\n",
       "16712    NaN\n",
       "16713    NaN\n",
       "16714    NaN\n",
       "Name: user_score, Length: 16444, dtype: float64"
      ]
     },
     "execution_count": 13,
     "metadata": {},
     "output_type": "execute_result"
    }
   ],
   "source": [
    "games['user_score'] = games['user_score'].astype('float')\n",
    "games['user_score'] "
   ]
  },
  {
   "cell_type": "markdown",
   "metadata": {},
   "source": [
    "Изменим тип данных в столбце year_of_release с float на int"
   ]
  },
  {
   "cell_type": "code",
   "execution_count": 14,
   "metadata": {},
   "outputs": [
    {
     "data": {
      "text/plain": [
       "0        2006\n",
       "1        1985\n",
       "2        2008\n",
       "3        2009\n",
       "4        1996\n",
       "         ... \n",
       "16710    2016\n",
       "16711    2006\n",
       "16712    2016\n",
       "16713    2003\n",
       "16714    2016\n",
       "Name: year_of_release, Length: 16444, dtype: int64"
      ]
     },
     "execution_count": 14,
     "metadata": {},
     "output_type": "execute_result"
    }
   ],
   "source": [
    "games['year_of_release'] = games['year_of_release'].astype('int')\n",
    "games['year_of_release'] "
   ]
  },
  {
   "cell_type": "markdown",
   "metadata": {},
   "source": [
    "Создадим столбец **total_sale**, чтобы посчитать суммарные продажи во всех регионах"
   ]
  },
  {
   "cell_type": "code",
   "execution_count": 15,
   "metadata": {},
   "outputs": [
    {
     "data": {
      "text/plain": [
       "0        82.54\n",
       "1        40.24\n",
       "2        35.52\n",
       "3        32.77\n",
       "4        31.38\n",
       "         ...  \n",
       "16710     0.01\n",
       "16711     0.01\n",
       "16712     0.01\n",
       "16713     0.01\n",
       "16714     0.01\n",
       "Name: total_sales, Length: 16444, dtype: float64"
      ]
     },
     "execution_count": 15,
     "metadata": {},
     "output_type": "execute_result"
    }
   ],
   "source": [
    "games['total_sales'] = games['na_sales'] + games['eu_sales'] + games['jp_sales'] + games['other_sales']\n",
    "games['total_sales']"
   ]
  },
  {
   "cell_type": "code",
   "execution_count": 16,
   "metadata": {},
   "outputs": [
    {
     "data": {
      "text/plain": [
       "0"
      ]
     },
     "execution_count": 16,
     "metadata": {},
     "output_type": "execute_result"
    }
   ],
   "source": [
    "games.duplicated().sum()"
   ]
  },
  {
   "cell_type": "code",
   "execution_count": 17,
   "metadata": {},
   "outputs": [
    {
     "data": {
      "text/html": [
       "<div>\n",
       "<style scoped>\n",
       "    .dataframe tbody tr th:only-of-type {\n",
       "        vertical-align: middle;\n",
       "    }\n",
       "\n",
       "    .dataframe tbody tr th {\n",
       "        vertical-align: top;\n",
       "    }\n",
       "\n",
       "    .dataframe thead th {\n",
       "        text-align: right;\n",
       "    }\n",
       "</style>\n",
       "<table border=\"1\" class=\"dataframe\">\n",
       "  <thead>\n",
       "    <tr style=\"text-align: right;\">\n",
       "      <th></th>\n",
       "      <th>name</th>\n",
       "      <th>platform</th>\n",
       "      <th>year_of_release</th>\n",
       "      <th>genre</th>\n",
       "      <th>na_sales</th>\n",
       "      <th>eu_sales</th>\n",
       "      <th>jp_sales</th>\n",
       "      <th>other_sales</th>\n",
       "      <th>critic_score</th>\n",
       "      <th>user_score</th>\n",
       "      <th>rating</th>\n",
       "      <th>total_sales</th>\n",
       "    </tr>\n",
       "  </thead>\n",
       "  <tbody>\n",
       "    <tr>\n",
       "      <th>604</th>\n",
       "      <td>Madden NFL 13</td>\n",
       "      <td>PS3</td>\n",
       "      <td>2012</td>\n",
       "      <td>Sports</td>\n",
       "      <td>2.11</td>\n",
       "      <td>0.22</td>\n",
       "      <td>0.0</td>\n",
       "      <td>0.23</td>\n",
       "      <td>83.0</td>\n",
       "      <td>5.5</td>\n",
       "      <td>E</td>\n",
       "      <td>2.56</td>\n",
       "    </tr>\n",
       "    <tr>\n",
       "      <th>16230</th>\n",
       "      <td>Madden NFL 13</td>\n",
       "      <td>PS3</td>\n",
       "      <td>2012</td>\n",
       "      <td>Sports</td>\n",
       "      <td>0.00</td>\n",
       "      <td>0.01</td>\n",
       "      <td>0.0</td>\n",
       "      <td>0.00</td>\n",
       "      <td>83.0</td>\n",
       "      <td>5.5</td>\n",
       "      <td>E</td>\n",
       "      <td>0.01</td>\n",
       "    </tr>\n",
       "  </tbody>\n",
       "</table>\n",
       "</div>"
      ],
      "text/plain": [
       "                name platform  year_of_release   genre  na_sales  eu_sales  \\\n",
       "604    Madden NFL 13      PS3             2012  Sports      2.11      0.22   \n",
       "16230  Madden NFL 13      PS3             2012  Sports      0.00      0.01   \n",
       "\n",
       "       jp_sales  other_sales  critic_score  user_score rating  total_sales  \n",
       "604         0.0         0.23          83.0         5.5      E         2.56  \n",
       "16230       0.0         0.00          83.0         5.5      E         0.01  "
      ]
     },
     "execution_count": 17,
     "metadata": {},
     "output_type": "execute_result"
    }
   ],
   "source": [
    "games[games[['name', 'platform','year_of_release']].duplicated(keep=False)]"
   ]
  },
  {
   "cell_type": "markdown",
   "metadata": {},
   "source": [
    "Обнаружены повторяющиеся строки, несовсем понятно почему данные в них значительно отличаются, возможно, произошла ошибка при их выгрузке, удалим нижнюю строку, это не повлияет на общий результат. "
   ]
  },
  {
   "cell_type": "code",
   "execution_count": 18,
   "metadata": {},
   "outputs": [
    {
     "data": {
      "text/html": [
       "<div>\n",
       "<style scoped>\n",
       "    .dataframe tbody tr th:only-of-type {\n",
       "        vertical-align: middle;\n",
       "    }\n",
       "\n",
       "    .dataframe tbody tr th {\n",
       "        vertical-align: top;\n",
       "    }\n",
       "\n",
       "    .dataframe thead th {\n",
       "        text-align: right;\n",
       "    }\n",
       "</style>\n",
       "<table border=\"1\" class=\"dataframe\">\n",
       "  <thead>\n",
       "    <tr style=\"text-align: right;\">\n",
       "      <th></th>\n",
       "      <th>name</th>\n",
       "      <th>platform</th>\n",
       "      <th>year_of_release</th>\n",
       "      <th>genre</th>\n",
       "      <th>na_sales</th>\n",
       "      <th>eu_sales</th>\n",
       "      <th>jp_sales</th>\n",
       "      <th>other_sales</th>\n",
       "      <th>critic_score</th>\n",
       "      <th>user_score</th>\n",
       "      <th>rating</th>\n",
       "      <th>total_sales</th>\n",
       "    </tr>\n",
       "  </thead>\n",
       "  <tbody>\n",
       "  </tbody>\n",
       "</table>\n",
       "</div>"
      ],
      "text/plain": [
       "Empty DataFrame\n",
       "Columns: [name, platform, year_of_release, genre, na_sales, eu_sales, jp_sales, other_sales, critic_score, user_score, rating, total_sales]\n",
       "Index: []"
      ]
     },
     "execution_count": 18,
     "metadata": {},
     "output_type": "execute_result"
    }
   ],
   "source": [
    "games.drop_duplicates(subset = ['name', 'platform','year_of_release'], inplace = True)\n",
    "games[games[['name', 'platform','year_of_release']].duplicated(keep=False)]"
   ]
  },
  {
   "cell_type": "markdown",
   "metadata": {},
   "source": [
    "Заменим пропуски в столбце **rating** на \"Unknown\", чтобы в дальнейшем пропуски не повлияли на результаты расчетов."
   ]
  },
  {
   "cell_type": "code",
   "execution_count": 19,
   "metadata": {},
   "outputs": [
    {
     "data": {
      "text/plain": [
       "0              E\n",
       "1        unknown\n",
       "2              E\n",
       "3              E\n",
       "4        unknown\n",
       "          ...   \n",
       "16710    unknown\n",
       "16711    unknown\n",
       "16712    unknown\n",
       "16713    unknown\n",
       "16714    unknown\n",
       "Name: rating, Length: 16443, dtype: object"
      ]
     },
     "execution_count": 19,
     "metadata": {},
     "output_type": "execute_result"
    }
   ],
   "source": [
    "games['rating'] = games['rating'].fillna('unknown')\n",
    "games['rating']"
   ]
  },
  {
   "cell_type": "markdown",
   "metadata": {},
   "source": [
    "**Вывод**\n",
    "<br>Получили общую информацию о датасете.\n",
    "<br>Привели названия столбцов к нижнему регистру.\n",
    "<br>Преобразовали типы данных в столбцах **user_score**, **year_of_release**.\n",
    "<br>Пропуски в столбцах **name**, **genre**, **year_of_release** удалили.\n",
    "<br>Пропусков в столбцах **critic_score**, **user_score**, **rating** оставили без изменений, значения **tbd** заменили на NaN.\n",
    "<br>Явных дубликатов нет, неявные дубликаты удалены.\n",
    "<br>Заменили пропуски в столбце **rating** на \"Unknown\", чтобы в дальнейшем пропуски не повлияли на результаты расчетов."
   ]
  },
  {
   "cell_type": "markdown",
   "metadata": {},
   "source": [
    "**Шаг 3. Проведите исследовательский анализ данных**"
   ]
  },
  {
   "cell_type": "markdown",
   "metadata": {},
   "source": [
    "Посмотрим, сколько игр выпускалось в разные годы"
   ]
  },
  {
   "cell_type": "code",
   "execution_count": 20,
   "metadata": {},
   "outputs": [
    {
     "data": {
      "image/png": "[encoded data removed]",
      "text/plain": [
       "<Figure size 864x432 with 1 Axes>"
      ]
     },
     "metadata": {
      "needs_background": "light"
     },
     "output_type": "display_data"
    }
   ],
   "source": [
    "games_of_year = games.pivot_table(index='year_of_release', values='name', aggfunc='count')\n",
    "plt.figure(figsize=(12,6))\n",
    "sns.lineplot(data=games_of_year)\n",
    "plt.title(\"Количество игр по годам\")\n",
    "plt.xlabel(\"Год\")\n",
    "plt.ylabel(\"Количество игр\")\n",
    "plt.legend('');\n"
   ]
  },
  {
   "cell_type": "markdown",
   "metadata": {},
   "source": [
    "Первые игры были выпущены в 1980 году. Из графика видим, что с 1991 года есть начинается рост в количестве выпущенных игр, связанный с доступностью персональных компьютеров.\n",
    "C 2010 идёт спад продаж, возможно вызванный распространением мобильных устройств.<br />\n",
    "Период 2011-2016гг. отображает текущий тренд к снижению продаж."
   ]
  },
  {
   "cell_type": "markdown",
   "metadata": {},
   "source": [
    "Посмотрим как менялись продажи по платформам."
   ]
  },
  {
   "cell_type": "code",
   "execution_count": 21,
   "metadata": {
    "scrolled": false
   },
   "outputs": [
    {
     "data": {
      "text/html": [
       "<div>\n",
       "<style scoped>\n",
       "    .dataframe tbody tr th:only-of-type {\n",
       "        vertical-align: middle;\n",
       "    }\n",
       "\n",
       "    .dataframe tbody tr th {\n",
       "        vertical-align: top;\n",
       "    }\n",
       "\n",
       "    .dataframe thead th {\n",
       "        text-align: right;\n",
       "    }\n",
       "</style>\n",
       "<table border=\"1\" class=\"dataframe\">\n",
       "  <thead>\n",
       "    <tr style=\"text-align: right;\">\n",
       "      <th></th>\n",
       "      <th>total_sales</th>\n",
       "      <th>year_of_release</th>\n",
       "    </tr>\n",
       "    <tr>\n",
       "      <th>platform</th>\n",
       "      <th></th>\n",
       "      <th></th>\n",
       "    </tr>\n",
       "  </thead>\n",
       "  <tbody>\n",
       "    <tr>\n",
       "      <th>PS2</th>\n",
       "      <td>1233.56</td>\n",
       "      <td>2000</td>\n",
       "    </tr>\n",
       "    <tr>\n",
       "      <th>X360</th>\n",
       "      <td>961.24</td>\n",
       "      <td>2005</td>\n",
       "    </tr>\n",
       "    <tr>\n",
       "      <th>PS3</th>\n",
       "      <td>931.33</td>\n",
       "      <td>2006</td>\n",
       "    </tr>\n",
       "    <tr>\n",
       "      <th>Wii</th>\n",
       "      <td>891.18</td>\n",
       "      <td>2006</td>\n",
       "    </tr>\n",
       "    <tr>\n",
       "      <th>DS</th>\n",
       "      <td>802.78</td>\n",
       "      <td>1985</td>\n",
       "    </tr>\n",
       "    <tr>\n",
       "      <th>PS</th>\n",
       "      <td>727.58</td>\n",
       "      <td>1994</td>\n",
       "    </tr>\n",
       "    <tr>\n",
       "      <th>PS4</th>\n",
       "      <td>314.14</td>\n",
       "      <td>2013</td>\n",
       "    </tr>\n",
       "    <tr>\n",
       "      <th>GBA</th>\n",
       "      <td>312.88</td>\n",
       "      <td>2000</td>\n",
       "    </tr>\n",
       "    <tr>\n",
       "      <th>PSP</th>\n",
       "      <td>289.53</td>\n",
       "      <td>2004</td>\n",
       "    </tr>\n",
       "    <tr>\n",
       "      <th>3DS</th>\n",
       "      <td>257.81</td>\n",
       "      <td>2011</td>\n",
       "    </tr>\n",
       "    <tr>\n",
       "      <th>PC</th>\n",
       "      <td>255.76</td>\n",
       "      <td>1985</td>\n",
       "    </tr>\n",
       "    <tr>\n",
       "      <th>GB</th>\n",
       "      <td>254.43</td>\n",
       "      <td>1988</td>\n",
       "    </tr>\n",
       "    <tr>\n",
       "      <th>XB</th>\n",
       "      <td>251.57</td>\n",
       "      <td>2000</td>\n",
       "    </tr>\n",
       "    <tr>\n",
       "      <th>NES</th>\n",
       "      <td>251.05</td>\n",
       "      <td>1983</td>\n",
       "    </tr>\n",
       "    <tr>\n",
       "      <th>N64</th>\n",
       "      <td>218.01</td>\n",
       "      <td>1996</td>\n",
       "    </tr>\n",
       "    <tr>\n",
       "      <th>SNES</th>\n",
       "      <td>200.04</td>\n",
       "      <td>1990</td>\n",
       "    </tr>\n",
       "    <tr>\n",
       "      <th>GC</th>\n",
       "      <td>196.73</td>\n",
       "      <td>2001</td>\n",
       "    </tr>\n",
       "    <tr>\n",
       "      <th>XOne</th>\n",
       "      <td>159.32</td>\n",
       "      <td>2013</td>\n",
       "    </tr>\n",
       "    <tr>\n",
       "      <th>2600</th>\n",
       "      <td>86.48</td>\n",
       "      <td>1980</td>\n",
       "    </tr>\n",
       "    <tr>\n",
       "      <th>WiiU</th>\n",
       "      <td>82.19</td>\n",
       "      <td>2012</td>\n",
       "    </tr>\n",
       "    <tr>\n",
       "      <th>PSV</th>\n",
       "      <td>53.81</td>\n",
       "      <td>2011</td>\n",
       "    </tr>\n",
       "    <tr>\n",
       "      <th>SAT</th>\n",
       "      <td>33.59</td>\n",
       "      <td>1994</td>\n",
       "    </tr>\n",
       "    <tr>\n",
       "      <th>GEN</th>\n",
       "      <td>28.35</td>\n",
       "      <td>1990</td>\n",
       "    </tr>\n",
       "    <tr>\n",
       "      <th>DC</th>\n",
       "      <td>15.95</td>\n",
       "      <td>1998</td>\n",
       "    </tr>\n",
       "    <tr>\n",
       "      <th>SCD</th>\n",
       "      <td>1.86</td>\n",
       "      <td>1993</td>\n",
       "    </tr>\n",
       "    <tr>\n",
       "      <th>NG</th>\n",
       "      <td>1.44</td>\n",
       "      <td>1993</td>\n",
       "    </tr>\n",
       "    <tr>\n",
       "      <th>WS</th>\n",
       "      <td>1.42</td>\n",
       "      <td>1999</td>\n",
       "    </tr>\n",
       "    <tr>\n",
       "      <th>TG16</th>\n",
       "      <td>0.16</td>\n",
       "      <td>1995</td>\n",
       "    </tr>\n",
       "    <tr>\n",
       "      <th>3DO</th>\n",
       "      <td>0.10</td>\n",
       "      <td>1994</td>\n",
       "    </tr>\n",
       "    <tr>\n",
       "      <th>GG</th>\n",
       "      <td>0.04</td>\n",
       "      <td>1992</td>\n",
       "    </tr>\n",
       "    <tr>\n",
       "      <th>PCFX</th>\n",
       "      <td>0.03</td>\n",
       "      <td>1996</td>\n",
       "    </tr>\n",
       "  </tbody>\n",
       "</table>\n",
       "</div>"
      ],
      "text/plain": [
       "          total_sales  year_of_release\n",
       "platform                              \n",
       "PS2           1233.56             2000\n",
       "X360           961.24             2005\n",
       "PS3            931.33             2006\n",
       "Wii            891.18             2006\n",
       "DS             802.78             1985\n",
       "PS             727.58             1994\n",
       "PS4            314.14             2013\n",
       "GBA            312.88             2000\n",
       "PSP            289.53             2004\n",
       "3DS            257.81             2011\n",
       "PC             255.76             1985\n",
       "GB             254.43             1988\n",
       "XB             251.57             2000\n",
       "NES            251.05             1983\n",
       "N64            218.01             1996\n",
       "SNES           200.04             1990\n",
       "GC             196.73             2001\n",
       "XOne           159.32             2013\n",
       "2600            86.48             1980\n",
       "WiiU            82.19             2012\n",
       "PSV             53.81             2011\n",
       "SAT             33.59             1994\n",
       "GEN             28.35             1990\n",
       "DC              15.95             1998\n",
       "SCD              1.86             1993\n",
       "NG               1.44             1993\n",
       "WS               1.42             1999\n",
       "TG16             0.16             1995\n",
       "3DO              0.10             1994\n",
       "GG               0.04             1992\n",
       "PCFX             0.03             1996"
      ]
     },
     "execution_count": 21,
     "metadata": {},
     "output_type": "execute_result"
    }
   ],
   "source": [
    "platforms_top = pd.pivot_table(games,\n",
    "                                  index = 'platform',\n",
    "                                  values = ['total_sales', 'year_of_release'],\n",
    "                                  aggfunc = {'total_sales': 'sum', 'year_of_release': 'min'}).sort_values(by = 'total_sales', ascending = False)\n",
    "\n",
    "platforms_top"
   ]
  },
  {
   "cell_type": "code",
   "execution_count": 22,
   "metadata": {},
   "outputs": [
    {
     "data": {
      "image/png": "[encoded data removed]",
      "text/plain": [
       "<Figure size 1080x360 with 1 Axes>"
      ]
     },
     "metadata": {
      "needs_background": "light"
     },
     "output_type": "display_data"
    }
   ],
   "source": [
    "plt.figure(figsize=(15,5))\n",
    "sns.barplot(x=platforms_top.index, y=platforms_top['total_sales'])\n",
    "plt.title(\"Продажи по платформам\")\n",
    "plt.xlabel(\"Платформа\")\n",
    "plt.ylabel(\"Продажи\");"
   ]
  },
  {
   "cell_type": "markdown",
   "metadata": {},
   "source": [
    "Наибольшие суммарные продажи у 6-ти платформ: PS2, X360, PS3, Wii, DS, PS.<br />\n",
    "Построим распределение по годам."
   ]
  },
  {
   "cell_type": "code",
   "execution_count": 23,
   "metadata": {},
   "outputs": [
    {
     "data": {
      "image/png": "[encoded data removed]",
      "text/plain": [
       "<Figure size 1080x360 with 1 Axes>"
      ]
     },
     "metadata": {
      "needs_background": "light"
     },
     "output_type": "display_data"
    }
   ],
   "source": [
    "plt.figure(figsize=(15,5))\n",
    "plt.title('Распределение продаж по годам')\n",
    "plt.xlabel('Год')\n",
    "plt.ylabel('Продажи')\n",
    "\n",
    "for name in platforms_top.index.values[:6]:\n",
    "    games_by_platform = games[(games['platform'] == name)]\n",
    "    total_sale_by_year = games_by_platform.pivot_table(index='year_of_release', values='total_sales', aggfunc='sum').sort_values('year_of_release', ascending=False)\n",
    "    sns.lineplot(data=total_sale_by_year['total_sales'], label=name)\n",
    "    plt.legend()"
   ]
  },
  {
   "cell_type": "markdown",
   "metadata": {},
   "source": [
    "Продолжительность \"жизни платформ\" распределена следующим образом:<br />\n",
    "PS2 - 2000 - 2011 годы (12 лет), <br />X360 - 2005 - 2016 (12 лет), <br /> PS3 - 2006 - 2016 (11 лет),<br /> Wii - 2006 - 2016 (11 лет),<br /> DS - 1985 - 2013 (29 лет),<br /> PS - 1994 - 2003 (9 лет).<br />\n",
    "Таким образом, не реже, чем 1 раз в  9 лет появляется новая платформа и исчезает старая."
   ]
  },
  {
   "cell_type": "markdown",
   "metadata": {},
   "source": [
    "Для дальнейшей работы будем использовать данные за 2014-2016гг., т.к. за 2016 год некоторые колонки не могут быть адекватно заполнены, а для прогнозирования берем период не менее 2х лет."
   ]
  },
  {
   "cell_type": "code",
   "execution_count": 24,
   "metadata": {},
   "outputs": [
    {
     "data": {
      "image/png": "[encoded data removed]",
      "text/plain": [
       "<Figure size 1080x360 with 1 Axes>"
      ]
     },
     "metadata": {
      "needs_background": "light"
     },
     "output_type": "display_data"
    }
   ],
   "source": [
    "games_current_period = games.query('2014 <= year_of_release <= 2016')\n",
    "games_current_period.pivot_table(index='year_of_release', columns = 'platform', values='total_sales', aggfunc='sum').plot(grid=True, figsize=(15, 5))\n",
    "plt.title('Распределение продаж 2014-2016')\n",
    "plt.xlabel('Год')\n",
    "plt.ylabel('Продажи')\n",
    "plt.show()"
   ]
  },
  {
   "cell_type": "markdown",
   "metadata": {},
   "source": [
    "По продажам лидируют платформы PS4, XOne, 3DS поэтому они являются потенциально прибыльными. <br />\n",
    "Продажи всех платформ падают. <br />"
   ]
  },
  {
   "cell_type": "markdown",
   "metadata": {},
   "source": [
    "Построим график «ящик с усами» по глобальным продажам игр в разбивке по платформам"
   ]
  },
  {
   "cell_type": "code",
   "execution_count": 25,
   "metadata": {},
   "outputs": [
    {
     "data": {
      "image/png": "[encoded data removed]",
      "text/plain": [
       "<Figure size 1080x360 with 1 Axes>"
      ]
     },
     "metadata": {
      "needs_background": "light"
     },
     "output_type": "display_data"
    }
   ],
   "source": [
    "plot = games_current_period.pivot_table(index='name', columns='platform', values='total_sales', aggfunc='sum').boxplot(grid=True, figsize=(15, 5))\n",
    "plot.set(ylim=(0, 1.6));\n"
   ]
  },
  {
   "cell_type": "markdown",
   "metadata": {},
   "source": [
    "В период с 2014 по 2016 самые высокие средние продажи были у игр, произведенных для платформ:<br />\n",
    "PS4 (max продажи - 15, медиана 0.2),<br />\n",
    "XOne (max продажи - 7, медиана 0.2),<br />\n",
    "X360 (max продажи -4.5, медиана 0.2),<br />\n",
    "3DS (max продажи - 7, медиана 0.2),<br />\n",
    "WiiU (max продажи - 7, медиана 0.2).\n",
    "\n",
    "PS4 - самая популярная и успешная платформа: игры, созданные для нее, продавались большими тиражами. <br />\n",
    "Аутсайдер по продажам PSP. <br />\n",
    "По выбросам видно что популярной игра может быть и на менее популярных платформах таких так 3DS."
   ]
  },
  {
   "cell_type": "markdown",
   "metadata": {},
   "source": [
    "Посмотрим, как влияют на продажи внутри одной популярной платформы отзывы пользователей и критиков. \n",
    "Построим диаграмму рассеяния и посчитаем корреляцию между отзывами и продажами."
   ]
  },
  {
   "cell_type": "code",
   "execution_count": 26,
   "metadata": {
    "scrolled": false
   },
   "outputs": [
    {
     "data": {
      "image/png": "[encoded data removed]",
      "text/plain": [
       "<Figure size 432x288 with 1 Axes>"
      ]
     },
     "metadata": {
      "needs_background": "light"
     },
     "output_type": "display_data"
    },
    {
     "name": "stdout",
     "output_type": "stream",
     "text": [
      "Корреляция между отзывами пользователей и продажами: -0.040131589472697356\n"
     ]
    },
    {
     "data": {
      "image/png": "[encoded data removed]",
      "text/plain": [
       "<Figure size 432x288 with 1 Axes>"
      ]
     },
     "metadata": {
      "needs_background": "light"
     },
     "output_type": "display_data"
    },
    {
     "name": "stdout",
     "output_type": "stream",
     "text": [
      "Корреляция между отзывами критиков и продажами: 0.40266141068104083\n"
     ]
    },
    {
     "data": {
      "image/png": "[encoded data removed]",
      "text/plain": [
       "<Figure size 432x288 with 1 Axes>"
      ]
     },
     "metadata": {
      "needs_background": "light"
     },
     "output_type": "display_data"
    },
    {
     "name": "stdout",
     "output_type": "stream",
     "text": [
      "Корреляция между отзывами пользователей и продажами: -0.0703839280647581\n"
     ]
    },
    {
     "data": {
      "image/png": "[encoded data removed]",
      "text/plain": [
       "<Figure size 432x288 with 1 Axes>"
      ]
     },
     "metadata": {
      "needs_background": "light"
     },
     "output_type": "display_data"
    },
    {
     "name": "stdout",
     "output_type": "stream",
     "text": [
      "Корреляция между отзывами критиков и продажами: 0.42867694370333226\n"
     ]
    },
    {
     "data": {
      "image/png": "[encoded data removed]",
      "text/plain": [
       "<Figure size 432x288 with 1 Axes>"
      ]
     },
     "metadata": {
      "needs_background": "light"
     },
     "output_type": "display_data"
    },
    {
     "name": "stdout",
     "output_type": "stream",
     "text": [
      "Корреляция между отзывами пользователей и продажами: -0.138444570945665\n"
     ]
    },
    {
     "data": {
      "image/png": "[encoded data removed]",
      "text/plain": [
       "<Figure size 432x288 with 1 Axes>"
      ]
     },
     "metadata": {
      "needs_background": "light"
     },
     "output_type": "display_data"
    },
    {
     "name": "stdout",
     "output_type": "stream",
     "text": [
      "Корреляция между отзывами критиков и продажами: 0.5257228356581523\n"
     ]
    },
    {
     "data": {
      "image/png": "[encoded data removed]",
      "text/plain": [
       "<Figure size 432x288 with 1 Axes>"
      ]
     },
     "metadata": {
      "needs_background": "light"
     },
     "output_type": "display_data"
    },
    {
     "name": "stdout",
     "output_type": "stream",
     "text": [
      "Корреляция между отзывами пользователей и продажами: 0.2151932718527028\n"
     ]
    },
    {
     "data": {
      "image/png": "[encoded data removed]",
      "text/plain": [
       "<Figure size 432x288 with 1 Axes>"
      ]
     },
     "metadata": {
      "needs_background": "light"
     },
     "output_type": "display_data"
    },
    {
     "name": "stdout",
     "output_type": "stream",
     "text": [
      "Корреляция между отзывами критиков и продажами: 0.314117492869051\n"
     ]
    },
    {
     "data": {
      "image/png": "[encoded data removed]",
      "text/plain": [
       "<Figure size 432x288 with 1 Axes>"
      ]
     },
     "metadata": {
      "needs_background": "light"
     },
     "output_type": "display_data"
    },
    {
     "name": "stdout",
     "output_type": "stream",
     "text": [
      "Корреляция между отзывами пользователей и продажами: 0.4079264579217078\n"
     ]
    },
    {
     "data": {
      "image/png": "[encoded data removed]",
      "text/plain": [
       "<Figure size 432x288 with 1 Axes>"
      ]
     },
     "metadata": {
      "needs_background": "light"
     },
     "output_type": "display_data"
    },
    {
     "name": "stdout",
     "output_type": "stream",
     "text": [
      "Корреляция между отзывами критиков и продажами: 0.370201412480884\n"
     ]
    }
   ],
   "source": [
    "for name in ['PS4', 'XOne','X360', '3DS', 'WiiU']:\n",
    "    games_by_platform = games_current_period.query(f\"platform == '{name}'\")\n",
    "    games_by_platform.plot(x='user_score', y='total_sales', kind='scatter', alpha=0.3)\n",
    "    plt.title(f\"Влияние отзывов пользователей на продажи внутри платформы {name}\")\n",
    "    plt.show()\n",
    "    print('Корреляция между отзывами пользователей и продажами:', games_by_platform['total_sales'].corr(games_by_platform['user_score']))\n",
    "    games_by_platform.plot(x='critic_score', y='total_sales', kind='scatter', alpha=0.3)\n",
    "    plt.title(f\"Влияние отзывов критиков на продажи внутри платформы {name}\")\n",
    "    plt.show()\n",
    "    print('Корреляция между отзывами критиков и продажами:',games_by_platform['critic_score'].corr(games_by_platform['total_sales']))"
   ]
  },
  {
   "cell_type": "markdown",
   "metadata": {},
   "source": [
    "Для всех платформ оценки критиков оказывают слабое влияние на уровень продаж, оценка пользователей не влияет на продажи для PS4, XOne, X360.\n",
    "Для WiiU и 3DS слабо влияют и оценки критиков, и оценки пользователей."
   ]
  },
  {
   "cell_type": "markdown",
   "metadata": {},
   "source": [
    "Посмотрим на общее распределение игр по жанрам. "
   ]
  },
  {
   "cell_type": "code",
   "execution_count": 27,
   "metadata": {},
   "outputs": [
    {
     "data": {
      "image/png": "[encoded data removed]",
      "text/plain": [
       "<Figure size 1080x360 with 1 Axes>"
      ]
     },
     "metadata": {
      "needs_background": "light"
     },
     "output_type": "display_data"
    }
   ],
   "source": [
    "plot = games_current_period.pivot_table(index='name', columns='genre', values='total_sales', aggfunc='sum').boxplot(grid=True, figsize=(15, 5))\n",
    "plot.set(ylim=(0, 28));"
   ]
  },
  {
   "cell_type": "markdown",
   "metadata": {},
   "source": [
    "Явный лидер среди жанров - shooter. Медиана - 1.5, max - 25, небольшое количество выбросов и большинство значений входят в межквартильный размах."
   ]
  },
  {
   "cell_type": "markdown",
   "metadata": {},
   "source": [
    "**Вывод:**<br />\n",
    "<br>Первые игры были выпущены в 1980 году. Из графика видим, что с 1991 года есть начинается рост в количестве выпущенных игр, связанный с доступностью персональных компьютеров. C 2010 идёт спад продаж, возможно вызванный распространением мобильных устройств.\n",
    "<br>Для дальнейшей работы использовали данные за 2014-2016гг., т.к. за 2016 год некоторые колонки не могут быть адекватно заполнены, а для прогнозирования берем период не менее 2х лет.<br />\n",
    "<br>Наибольшие суммарные продажи у 6-ти платформ: PS2, X360, PS3, Wii, DS, PS.<br />\n",
    "<br>Не реже, чем 1 раз в  9 лет появляется новая платформа и исчезает старая.\n",
    "<br>По продажам лидируют платформы PS4, XOne, 3DS поэтому они являются потенциально прибыльными.\n",
    "<br>Продажи всех платформ падают.<br />\n",
    "<br>В период с 2014 по 2016 самые высокие средние продажи были у игр, произведенных для платформ:\n",
    "<br>PS4 (max продажи - 15, медиана 0.2),\n",
    "<br>XOne (max продажи - 7, медиана 0.2),\n",
    "<br>X360 (max продажи -4.5, медиана 0.2),\n",
    "<br>3DS (max продажи - 7, медиана 0.2),\n",
    "<br>WiiU (max продажи - 7, медиана 0.2).\n",
    "\n",
    "<br>PS4 - самая популярная и успешная платформа: игры, созданные для нее, продавались большими тиражами.\n",
    "Аутсайдер по продажам PSP.\n",
    "По выбросам видно что популярной игра может быть и на менее популярных платформах таких так 3DS.\n",
    "<br>Для всех платформ оценки критиков оказывают слабое влияние на уровень продаж, оценка пользователей не влияет на продажи для PS4, XOne, X360. Для WiiU и 3DS слабо влияют и оценки критиков, и оценки пользователей.<br />\n",
    "<br>Явный лидер среди жанров - shooter."
   ]
  },
  {
   "cell_type": "markdown",
   "metadata": {},
   "source": [
    "**Шаг 4. Составьте портрет пользователя каждого региона**"
   ]
  },
  {
   "cell_type": "markdown",
   "metadata": {},
   "source": [
    "Определим самые популярные платформы для региона Северная Америка."
   ]
  },
  {
   "cell_type": "code",
   "execution_count": 28,
   "metadata": {},
   "outputs": [
    {
     "data": {
      "image/png": "[encoded data removed]",
      "text/plain": [
       "<Figure size 1080x360 with 1 Axes>"
      ]
     },
     "metadata": {
      "needs_background": "light"
     },
     "output_type": "display_data"
    }
   ],
   "source": [
    "games_current_period.pivot_table(index = 'platform', values = 'na_sales', aggfunc = 'sum').sort_values(ascending=False, by = 'na_sales').plot(kind = 'bar', figsize=(15,5));"
   ]
  },
  {
   "cell_type": "code",
   "execution_count": 29,
   "metadata": {},
   "outputs": [
    {
     "name": "stdout",
     "output_type": "stream",
     "text": [
      "AxesSubplot(0.125,0.125;0.775x0.755)\n"
     ]
    },
    {
     "data": {
      "image/png": "[encoded data removed]",
      "text/plain": [
       "<Figure size 360x360 with 1 Axes>"
      ]
     },
     "metadata": {
      "needs_background": "light"
     },
     "output_type": "display_data"
    }
   ],
   "source": [
    "games_current_period_part_na = games_current_period.groupby('platform')['na_sales'].sum() / games_current_period['na_sales'].sum() * 100\n",
    "print(games_current_period_part_na.sort_values(ascending=False)[:5].plot(kind = 'bar', figsize=(5,5)));"
   ]
  },
  {
   "cell_type": "markdown",
   "metadata": {},
   "source": [
    "На графике видны значительные различия в долях продаж.\n",
    "Максимальный уровень продаж для региона Северная Америка приходится на платформу PS4 и составляет 35% от общего числа продаж в регионе. Минимальный уровень - 8% (3DS, PS3)."
   ]
  },
  {
   "cell_type": "markdown",
   "metadata": {},
   "source": [
    "Выявим самые популярные жанры для региона Свереная Америка."
   ]
  },
  {
   "cell_type": "code",
   "execution_count": 30,
   "metadata": {},
   "outputs": [
    {
     "data": {
      "image/png": "[encoded data removed]",
      "text/plain": [
       "<Figure size 1080x360 with 1 Axes>"
      ]
     },
     "metadata": {
      "needs_background": "light"
     },
     "output_type": "display_data"
    }
   ],
   "source": [
    "games_current_period.pivot_table(index = 'genre', values = 'na_sales', aggfunc = 'sum').sort_values(ascending=False, by = 'na_sales').plot(kind = 'bar', figsize=(15,5));"
   ]
  },
  {
   "cell_type": "markdown",
   "metadata": {},
   "source": [
    "Самые популярные жанры в Северной Америке shooter, action, sports, role-playing, misc."
   ]
  },
  {
   "cell_type": "markdown",
   "metadata": {},
   "source": [
    "Влияет ли рейтинг ESRB на продажи в отдельном регионе?"
   ]
  },
  {
   "cell_type": "code",
   "execution_count": 31,
   "metadata": {},
   "outputs": [
    {
     "data": {
      "text/html": [
       "<div>\n",
       "<style scoped>\n",
       "    .dataframe tbody tr th:only-of-type {\n",
       "        vertical-align: middle;\n",
       "    }\n",
       "\n",
       "    .dataframe tbody tr th {\n",
       "        vertical-align: top;\n",
       "    }\n",
       "\n",
       "    .dataframe thead th {\n",
       "        text-align: right;\n",
       "    }\n",
       "</style>\n",
       "<table border=\"1\" class=\"dataframe\">\n",
       "  <thead>\n",
       "    <tr style=\"text-align: right;\">\n",
       "      <th></th>\n",
       "      <th>eu_sales</th>\n",
       "      <th>jp_sales</th>\n",
       "      <th>na_sales</th>\n",
       "    </tr>\n",
       "    <tr>\n",
       "      <th>rating</th>\n",
       "      <th></th>\n",
       "      <th></th>\n",
       "      <th></th>\n",
       "    </tr>\n",
       "  </thead>\n",
       "  <tbody>\n",
       "    <tr>\n",
       "      <th>E</th>\n",
       "      <td>58.06</td>\n",
       "      <td>8.94</td>\n",
       "      <td>50.74</td>\n",
       "    </tr>\n",
       "    <tr>\n",
       "      <th>E10+</th>\n",
       "      <td>26.16</td>\n",
       "      <td>4.46</td>\n",
       "      <td>33.23</td>\n",
       "    </tr>\n",
       "    <tr>\n",
       "      <th>M</th>\n",
       "      <td>93.44</td>\n",
       "      <td>8.01</td>\n",
       "      <td>96.42</td>\n",
       "    </tr>\n",
       "    <tr>\n",
       "      <th>T</th>\n",
       "      <td>34.07</td>\n",
       "      <td>14.78</td>\n",
       "      <td>38.95</td>\n",
       "    </tr>\n",
       "    <tr>\n",
       "      <th>unknown</th>\n",
       "      <td>58.95</td>\n",
       "      <td>56.90</td>\n",
       "      <td>64.72</td>\n",
       "    </tr>\n",
       "  </tbody>\n",
       "</table>\n",
       "</div>"
      ],
      "text/plain": [
       "         eu_sales  jp_sales  na_sales\n",
       "rating                               \n",
       "E           58.06      8.94     50.74\n",
       "E10+        26.16      4.46     33.23\n",
       "M           93.44      8.01     96.42\n",
       "T           34.07     14.78     38.95\n",
       "unknown     58.95     56.90     64.72"
      ]
     },
     "execution_count": 31,
     "metadata": {},
     "output_type": "execute_result"
    }
   ],
   "source": [
    "ESRB = games_current_period.pivot_table(index = 'rating', values = ['eu_sales','jp_sales','na_sales'], aggfunc = 'sum')\n",
    "ESRB"
   ]
  },
  {
   "cell_type": "markdown",
   "metadata": {},
   "source": [
    "Рейтинг влияет на продажи в отдельных регионах. Игры с рейтингом М продавались в Европе и Северной Америке. В Японии самые продаваемые игры с рейтингом Т. "
   ]
  },
  {
   "cell_type": "markdown",
   "metadata": {},
   "source": [
    "Определим самые популярные платформы для региона Европа."
   ]
  },
  {
   "cell_type": "code",
   "execution_count": 32,
   "metadata": {},
   "outputs": [
    {
     "data": {
      "image/png": "[encoded data removed]",
      "text/plain": [
       "<Figure size 1080x360 with 1 Axes>"
      ]
     },
     "metadata": {
      "needs_background": "light"
     },
     "output_type": "display_data"
    }
   ],
   "source": [
    "games_current_period.pivot_table(index = 'platform', values = 'eu_sales', aggfunc = 'sum').sort_values(ascending=False, by = 'eu_sales').plot(kind = 'bar', figsize=(15,5));"
   ]
  },
  {
   "cell_type": "markdown",
   "metadata": {},
   "source": [
    "Топ-5 платформ в Европе: PS4, XOne, PS3, PC, 3DS."
   ]
  },
  {
   "cell_type": "code",
   "execution_count": 33,
   "metadata": {},
   "outputs": [
    {
     "data": {
      "text/plain": [
       "platform\n",
       "3DS      5.955372\n",
       "PC       6.638836\n",
       "PS3      9.435496\n",
       "PS4     48.041968\n",
       "PSP      0.000000\n",
       "PSV      1.304123\n",
       "Wii      0.956849\n",
       "WiiU     4.858135\n",
       "X360     5.722625\n",
       "XOne    17.086597\n",
       "Name: eu_sales, dtype: float64"
      ]
     },
     "execution_count": 33,
     "metadata": {},
     "output_type": "execute_result"
    },
    {
     "data": {
      "image/png": "[encoded data removed]",
      "text/plain": [
       "<Figure size 360x360 with 1 Axes>"
      ]
     },
     "metadata": {
      "needs_background": "light"
     },
     "output_type": "display_data"
    }
   ],
   "source": [
    "games_current_period_part_eu = games_current_period.groupby('platform')['eu_sales'].sum() / games_current_period['eu_sales'].sum() * 100\n",
    "games_current_period_part_eu.sort_values(ascending=False)[:5].plot(kind = 'bar', figsize=(5,5));\n",
    "games_current_period_part_eu"
   ]
  },
  {
   "cell_type": "markdown",
   "metadata": {},
   "source": [
    "На графикео очевидны различия в долях продаж.\n",
    "Максимальный уровень продаж для региона Европа приходится на платформу PS4 и составляет практически 50% от общего числа продаж в регионе. Минимальный уровень -5% (PC)."
   ]
  },
  {
   "cell_type": "markdown",
   "metadata": {},
   "source": [
    "Выявим самые популярные жанры для региона Европа."
   ]
  },
  {
   "cell_type": "code",
   "execution_count": 34,
   "metadata": {},
   "outputs": [
    {
     "data": {
      "image/png": "[encoded data removed]",
      "text/plain": [
       "<Figure size 1080x360 with 1 Axes>"
      ]
     },
     "metadata": {
      "needs_background": "light"
     },
     "output_type": "display_data"
    }
   ],
   "source": [
    "games_current_period.pivot_table(index = 'genre', values = 'eu_sales', aggfunc = 'sum').sort_values(ascending=False, by = 'eu_sales').plot(kind = 'bar', figsize=(15,5));"
   ]
  },
  {
   "cell_type": "markdown",
   "metadata": {},
   "source": [
    "Топ-5 жанров в Европе: action, shooter, sports, role-playing, racing."
   ]
  },
  {
   "cell_type": "markdown",
   "metadata": {},
   "source": [
    "Определим самые популярные платформы для региона Япония."
   ]
  },
  {
   "cell_type": "code",
   "execution_count": 35,
   "metadata": {},
   "outputs": [
    {
     "data": {
      "image/png": "[encoded data removed]",
      "text/plain": [
       "<Figure size 1080x360 with 1 Axes>"
      ]
     },
     "metadata": {
      "needs_background": "light"
     },
     "output_type": "display_data"
    }
   ],
   "source": [
    "games_current_period.pivot_table(index = 'platform', values = 'jp_sales', aggfunc = 'sum').sort_values(ascending=False, by = 'jp_sales').plot(kind = 'bar', figsize=(15,5));"
   ]
  },
  {
   "cell_type": "code",
   "execution_count": 36,
   "metadata": {},
   "outputs": [
    {
     "data": {
      "text/plain": [
       "platform\n",
       "3DS     47.523902\n",
       "PC       0.000000\n",
       "PS3     12.052852\n",
       "PS4     16.134923\n",
       "PSP      0.386723\n",
       "PSV     15.619293\n",
       "Wii      0.000000\n",
       "WiiU     7.852616\n",
       "X360     0.085938\n",
       "XOne     0.343753\n",
       "Name: jp_sales, dtype: float64"
      ]
     },
     "execution_count": 36,
     "metadata": {},
     "output_type": "execute_result"
    },
    {
     "data": {
      "image/png": "[encoded data removed]",
      "text/plain": [
       "<Figure size 360x360 with 1 Axes>"
      ]
     },
     "metadata": {
      "needs_background": "light"
     },
     "output_type": "display_data"
    }
   ],
   "source": [
    "games_current_period_part_jp = games_current_period.groupby('platform')['jp_sales'].sum() / games_current_period['jp_sales'].sum() * 100\n",
    "games_current_period_part_jp.sort_values(ascending=False)[:5].plot(kind = 'bar', figsize=(5,5));\n",
    "games_current_period_part_jp"
   ]
  },
  {
   "cell_type": "markdown",
   "metadata": {},
   "source": [
    "В Японии наибольшей популярностью пользуется 3DS (45%), остальное - play station разных версий. Скорее всего это вызвано тем, что консоли производятся в самой Японии."
   ]
  },
  {
   "cell_type": "markdown",
   "metadata": {},
   "source": [
    "Выявим самые популярные жанры для региона Япония."
   ]
  },
  {
   "cell_type": "code",
   "execution_count": 37,
   "metadata": {},
   "outputs": [
    {
     "data": {
      "image/png": "[encoded data removed]",
      "text/plain": [
       "<Figure size 1080x360 with 1 Axes>"
      ]
     },
     "metadata": {
      "needs_background": "light"
     },
     "output_type": "display_data"
    }
   ],
   "source": [
    "games_current_period.pivot_table(index = 'genre', values = 'jp_sales', aggfunc = 'sum').sort_values(ascending=False, by = 'jp_sales').plot(kind = 'bar', figsize=(15,5));"
   ]
  },
  {
   "cell_type": "markdown",
   "metadata": {},
   "source": [
    "Самые популярные жанры в Японии: role-playing, action, fighting,  misc, shooter."
   ]
  },
  {
   "cell_type": "markdown",
   "metadata": {},
   "source": [
    "**Вывод:**<br />\n",
    "Максимальный уровень продаж для региона Северная Америка приходится на платформу PS4 и составляет 35% от общего числа продаж в регионе. Минимальный уровень - 8% (3DS, PS3)..<br />\n",
    "Максимальный уровень продаж для региона Европа приходится на платформу PS4 и составляет практически 50% от общего числа продаж в регионе. Минимальный уровень -5% (PC).<br />\n",
    "В Японии наибольшей популярностью пользуется 3DS (45%), остальное - play station разных версий. Скорее всего это вызвано тем, что консоли производятся в самой Японии.<br />\n",
    "Топ-5 жанров в Северной Америке: shooter, action, sports, role-playing, misc.<br />\n",
    "Топ-5 жанров в Европе: action, shooter, sports, role-playing, racing.<br />\n",
    "Топ-5 жанров в Японии: role-playing, action, fighting,  misc, shooter. <br />\n",
    "Рейтинг влияет на продажи в отдельных регионах. Игры с рейтингом М продавались в Европе и Северной Америке, в то время как в Японии игры с этим рейтингом, наименее популярны. Игры с рейтингом ЕС, RP не пользуются спросом во всех регионах."
   ]
  },
  {
   "cell_type": "markdown",
   "metadata": {},
   "source": [
    "**Шаг 5. Проверьте гипотезы**"
   ]
  },
  {
   "cell_type": "markdown",
   "metadata": {},
   "source": [
    "***Гипотеза №1***<br />\n",
    "Средние пользовательские рейтинги платформ Xbox One и PC одинаковые\n",
    "\n",
    "H_0: Средние пользовательские рейтинги платформ Xbox One и PC одинаковые<br />\n",
    "Н_1: Средние пользовательские рейтинги платформ Xbox One и PC разные"
   ]
  },
  {
   "cell_type": "code",
   "execution_count": 38,
   "metadata": {},
   "outputs": [
    {
     "name": "stdout",
     "output_type": "stream",
     "text": [
      "6.594545454545456\n",
      "6.298360655737705\n",
      "0.11601398086668832\n",
      "Не удалось отвергнуть нулевую гипотезу\n"
     ]
    }
   ],
   "source": [
    "Xbox_user_score = games_current_period.query(\"platform == 'XOne' and user_score > 0\")['user_score']\n",
    "PC_user_score = games_current_period.query(\"platform == 'PC' and user_score > 0\")['user_score']\n",
    "print(Xbox_user_score.mean())\n",
    "print(PC_user_score.mean())\n",
    "\n",
    "\n",
    "results = st.ttest_ind(Xbox_user_score, PC_user_score, equal_var=False)\n",
    "\n",
    "alpha = .05\n",
    "\n",
    "print(results.pvalue)\n",
    "\n",
    "if results.pvalue < alpha:\n",
    "    print('Отвергаем нулевую гипотезу')\n",
    "else:\n",
    "    print('Не удалось отвергнуть нулевую гипотезу')"
   ]
  },
  {
   "cell_type": "markdown",
   "metadata": {},
   "source": [
    "Значение p-value равно 11%. Не получилось опровергнуть нулевую гипотезу, значит средние пользовательские рейтинги платформ Xbox One и PC одинаковые."
   ]
  },
  {
   "cell_type": "markdown",
   "metadata": {},
   "source": [
    "***Гипотеза №2***<br />\n",
    "\n",
    "Н_0: Средние пользовательские рейтинги жанров Action (англ. «действие», экшен-игры) и Sports (англ. «спортивные соревнования») равны<br />\n",
    "Н_1: Средние пользовательские рейтинги жанров Action (англ. «действие», экшен-игры) и Sports (англ. «спортивные соревнования») разные"
   ]
  },
  {
   "cell_type": "code",
   "execution_count": 39,
   "metadata": {},
   "outputs": [
    {
     "name": "stdout",
     "output_type": "stream",
     "text": [
      "6.760606060606061\n",
      "5.2251968503937\n",
      "1.1825550382644557e-14\n",
      "Отвергаем нулевую гипотезу\n"
     ]
    }
   ],
   "source": [
    "Action_genre = games_current_period.query(\"genre == 'Action' and user_score > 0\")['user_score']\n",
    "Sports_genre = games_current_period.query(\"genre == 'Sports' and user_score > 0\")['user_score']\n",
    "print(Action_genre.mean())\n",
    "print(Sports_genre.mean())\n",
    "\n",
    "\n",
    "results = st.ttest_ind(Action_genre, Sports_genre, equal_var=False)\n",
    "\n",
    "alpha = .05\n",
    "\n",
    "print(results.pvalue)\n",
    "\n",
    "if results.pvalue < alpha:\n",
    "    print('Отвергаем нулевую гипотезу')\n",
    "else:\n",
    "    print('Не удалось отвергнуть нулевую гипотезу')"
   ]
  },
  {
   "cell_type": "markdown",
   "metadata": {},
   "source": [
    "Отвергаем нулевую гипотезу, это значит, что средние пользовательские рейтинги жанров Action (англ. «действие», экшен-игры) и Sports (англ. «спортивные соревнования») разные."
   ]
  },
  {
   "cell_type": "markdown",
   "metadata": {},
   "source": [
    "**Шаг 6. Напишите общий вывод**"
   ]
  },
  {
   "cell_type": "markdown",
   "metadata": {},
   "source": [
    "# Общий вывод:\n",
    "<br>Получили общую информацию о датасете.\n",
    "<br>Привели названия столбцов к нижнему регистру.\n",
    "<br>Преобразовали типы данных в столбцах **user_score**, **year_of_release**.\n",
    "<br>Пропуски в столбцах **name**, **genre**, **year_of_release** удалили.\n",
    "<br>Пропусков в столбцах **critic_score**, **user_score**, **rating** оставили без изменений, значения **tbd** заменили на NaN.\n",
    "<br>Явных дубликатов нет, неявные дубликаты удалены.\n",
    "<br>Заменили пропуски в столбце **rating** на \"Unknown\", чтобы в дальнейшем пропуски не повлияли на результаты расчетов.\n",
    "<br>Первые игры были выпущены в 1980 году. Из графика видим, что с 1991 года есть начинается рост в количестве выпущенных игр, связанный с доступностью персональных компьютеров. C 2010 идёт спад продаж, возможно вызванный распространением мобильных устройств.\n",
    "<br>Для дальнейшей работы использовали данные за 2014-2016гг., т.к. за 2016 год некоторые колонки не могут быть адекватно заполнены, а для прогнозирования берем период не менее 2х лет.<br />\n",
    "<br>Наибольшие суммарные продажи у 6-ти платформ: PS2, X360, PS3, Wii, DS, PS.<br />\n",
    "<br>Не реже, чем 1 раз в  9 лет появляется новая платформа и исчезает старая.\n",
    "<br>По продажам лидируют платформы PS4, XOne, 3DS поэтому они являются потенциально прибыльными.\n",
    "<br>Продажи всех платформ падают.<br />\n",
    "<br>В период с 2014 по 2016 самые высокие средние продажи были у игр, произведенных для платформ:\n",
    "<br>PS4 (max продажи - 15, медиана 0.2),\n",
    "<br>XOne (max продажи - 7, медиана 0.2),\n",
    "<br>X360 (max продажи -4.5, медиана 0.2),\n",
    "<br>3DS (max продажи - 7, медиана 0.2),\n",
    "<br>WiiU (max продажи - 7, медиана 0.2).\n",
    "<br>PS4 - самая популярная и успешная платформа: игры, созданные для нее, продавались большими тиражами.\n",
    "Аутсайдер по продажам PSP.\n",
    "По выбросам видно что популярной игра может быть и на менее популярных платформах таких так 3DS.\n",
    "<br>Для всех платформ оценки критиков оказывают слабое влияние на уровень продаж, оценка пользователей не влияет на продажи для PS4, XOne, X360. Для WiiU и 3DS слабо влияют и оценки критиков, и оценки пользователей.<br />\n",
    "<br>Явный лидер среди жанров за этот период- shooter.\n",
    "Максимальный уровень продаж для региона Северная Америка приходится на платформу PS4 и составляет 35% от общего числа продаж в регионе. Минимальный уровень - 8% (3DS, PS3)..<br />\n",
    "Максимальный уровень продаж для региона Европа приходится на платформу PS4 и составляет практически 50% от общего числа продаж в регионе. Минимальный уровень -5% (PC).<br />\n",
    "В Японии наибольшей популярностью пользуется 3DS (45%), остальное - play station разных версий. Скорее всего это вызвано тем, что консоли производятся в самой Японии.<br />\n",
    "Топ-5 жанров в Северной Америке: shooter, action, sports, role-playing, misc.<br />\n",
    "Топ-5 жанров в Европе: action, shooter, sports, role-playing, racing.<br />\n",
    "Топ-5 жанров в Японии: role-playing, action, fighting,  misc, shooter. <br />\n",
    "Рейтинг влияет на продажи в отдельных регионах. Игры с рейтингом М продавались в Европе и Северной Америке, в то время как в Японии игры с этим рейтингом, наименее популярны. Игры с рейтингом ЕС, RP не пользуются спросом во всех регионах.\n",
    "Средние пользовательские рейтинги платформ Xbox One и PC разные.<br />\n",
    "средние пользовательские рейтинги жанров Action (англ. «действие», экшен-игры) и Sports (англ. «спортивные соревнования») разные."
   ]
  }
 ],
 "metadata": {
  "ExecuteTimeLog": [
   {
    "duration": 429,
    "start_time": "2023-07-05T15:10:13.157Z"
   },
   {
    "duration": 178,
    "start_time": "2023-07-05T15:10:15.685Z"
   },
   {
    "duration": 14,
    "start_time": "2023-07-05T15:11:52.894Z"
   },
   {
    "duration": 53,
    "start_time": "2023-07-05T15:13:18.875Z"
   },
   {
    "duration": 14,
    "start_time": "2023-07-05T15:13:25.127Z"
   },
   {
    "duration": 37,
    "start_time": "2023-07-05T15:13:32.640Z"
   },
   {
    "duration": 25,
    "start_time": "2023-07-05T15:13:38.959Z"
   },
   {
    "duration": 68,
    "start_time": "2023-07-05T15:29:51.579Z"
   },
   {
    "duration": 384,
    "start_time": "2023-07-05T17:52:36.201Z"
   },
   {
    "duration": 118,
    "start_time": "2023-07-05T17:52:36.587Z"
   },
   {
    "duration": 13,
    "start_time": "2023-07-05T17:52:36.707Z"
   },
   {
    "duration": 45,
    "start_time": "2023-07-05T17:52:36.722Z"
   },
   {
    "duration": 18,
    "start_time": "2023-07-05T17:52:36.769Z"
   },
   {
    "duration": 440,
    "start_time": "2023-07-05T18:07:05.656Z"
   },
   {
    "duration": 89,
    "start_time": "2023-07-05T18:07:06.098Z"
   },
   {
    "duration": 15,
    "start_time": "2023-07-05T18:07:06.191Z"
   },
   {
    "duration": 63,
    "start_time": "2023-07-05T18:07:06.208Z"
   },
   {
    "duration": 18,
    "start_time": "2023-07-05T18:07:06.280Z"
   },
   {
    "duration": 85,
    "start_time": "2023-07-05T18:07:06.299Z"
   },
   {
    "duration": 15,
    "start_time": "2023-07-05T18:07:26.988Z"
   },
   {
    "duration": 4,
    "start_time": "2023-07-05T18:09:53.573Z"
   },
   {
    "duration": 23,
    "start_time": "2023-07-05T18:10:01.008Z"
   },
   {
    "duration": 23,
    "start_time": "2023-07-05T18:12:39.550Z"
   },
   {
    "duration": 10,
    "start_time": "2023-07-05T18:13:37.580Z"
   },
   {
    "duration": 33,
    "start_time": "2023-07-05T18:34:33.774Z"
   },
   {
    "duration": 57,
    "start_time": "2023-07-05T18:34:46.048Z"
   },
   {
    "duration": 31,
    "start_time": "2023-07-05T18:34:58.484Z"
   },
   {
    "duration": 29,
    "start_time": "2023-07-05T18:35:05.581Z"
   },
   {
    "duration": 1134,
    "start_time": "2023-07-05T18:43:58.288Z"
   },
   {
    "duration": 1260,
    "start_time": "2023-07-05T18:51:52.848Z"
   },
   {
    "duration": 83,
    "start_time": "2023-07-05T18:51:54.110Z"
   },
   {
    "duration": 23,
    "start_time": "2023-07-05T18:51:54.195Z"
   },
   {
    "duration": 55,
    "start_time": "2023-07-05T18:51:54.220Z"
   },
   {
    "duration": 24,
    "start_time": "2023-07-05T18:51:54.279Z"
   },
   {
    "duration": 24,
    "start_time": "2023-07-05T18:51:54.305Z"
   },
   {
    "duration": 38,
    "start_time": "2023-07-05T18:51:54.331Z"
   },
   {
    "duration": 5,
    "start_time": "2023-07-05T18:53:17.685Z"
   },
   {
    "duration": 8,
    "start_time": "2023-07-05T18:53:24.813Z"
   },
   {
    "duration": 7,
    "start_time": "2023-07-05T18:53:56.895Z"
   },
   {
    "duration": 119,
    "start_time": "2023-07-05T18:54:34.806Z"
   },
   {
    "duration": 26,
    "start_time": "2023-07-05T18:55:12.747Z"
   },
   {
    "duration": 17,
    "start_time": "2023-07-05T18:55:33.315Z"
   },
   {
    "duration": 26,
    "start_time": "2023-07-05T18:55:37.997Z"
   },
   {
    "duration": 18,
    "start_time": "2023-07-05T18:55:56.897Z"
   },
   {
    "duration": 15,
    "start_time": "2023-07-05T18:56:09.513Z"
   },
   {
    "duration": 1221,
    "start_time": "2023-07-05T18:56:31.219Z"
   },
   {
    "duration": 95,
    "start_time": "2023-07-05T18:56:32.444Z"
   },
   {
    "duration": 27,
    "start_time": "2023-07-05T18:56:32.544Z"
   },
   {
    "duration": 47,
    "start_time": "2023-07-05T18:56:32.579Z"
   },
   {
    "duration": 16,
    "start_time": "2023-07-05T18:56:32.628Z"
   },
   {
    "duration": 1880,
    "start_time": "2023-07-05T18:56:32.645Z"
   },
   {
    "duration": 0,
    "start_time": "2023-07-05T18:56:34.527Z"
   },
   {
    "duration": 0,
    "start_time": "2023-07-05T18:56:34.528Z"
   },
   {
    "duration": 0,
    "start_time": "2023-07-05T18:56:34.529Z"
   },
   {
    "duration": 17,
    "start_time": "2023-07-05T18:57:18.134Z"
   },
   {
    "duration": 1919,
    "start_time": "2023-07-05T18:57:42.523Z"
   },
   {
    "duration": 10,
    "start_time": "2023-07-05T19:07:56.100Z"
   },
   {
    "duration": 1198,
    "start_time": "2023-07-05T19:08:12.031Z"
   },
   {
    "duration": 100,
    "start_time": "2023-07-05T19:08:13.231Z"
   },
   {
    "duration": 15,
    "start_time": "2023-07-05T19:08:13.332Z"
   },
   {
    "duration": 46,
    "start_time": "2023-07-05T19:08:13.349Z"
   },
   {
    "duration": 17,
    "start_time": "2023-07-05T19:08:13.402Z"
   },
   {
    "duration": 22,
    "start_time": "2023-07-05T19:08:13.421Z"
   },
   {
    "duration": 49,
    "start_time": "2023-07-05T19:08:13.445Z"
   },
   {
    "duration": 15,
    "start_time": "2023-07-05T19:08:13.495Z"
   },
   {
    "duration": 121,
    "start_time": "2023-07-05T19:08:13.511Z"
   },
   {
    "duration": 0,
    "start_time": "2023-07-05T19:08:13.634Z"
   },
   {
    "duration": 12,
    "start_time": "2023-07-05T19:08:31.495Z"
   },
   {
    "duration": 21,
    "start_time": "2023-07-05T19:09:00.470Z"
   },
   {
    "duration": 19,
    "start_time": "2023-07-05T19:09:22.139Z"
   },
   {
    "duration": 13,
    "start_time": "2023-07-05T19:14:52.922Z"
   },
   {
    "duration": 557,
    "start_time": "2023-07-05T19:15:07.414Z"
   },
   {
    "duration": 281,
    "start_time": "2023-07-05T19:15:35.609Z"
   },
   {
    "duration": 363,
    "start_time": "2023-07-05T19:15:53.175Z"
   },
   {
    "duration": 12,
    "start_time": "2023-07-05T19:16:14.300Z"
   },
   {
    "duration": 13,
    "start_time": "2023-07-05T19:16:25.452Z"
   },
   {
    "duration": 11,
    "start_time": "2023-07-05T19:16:28.213Z"
   },
   {
    "duration": 15,
    "start_time": "2023-07-05T19:17:23.370Z"
   },
   {
    "duration": 10,
    "start_time": "2023-07-05T19:18:49.386Z"
   },
   {
    "duration": 14,
    "start_time": "2023-07-05T19:19:07.447Z"
   },
   {
    "duration": 11,
    "start_time": "2023-07-05T19:19:19.644Z"
   },
   {
    "duration": 8,
    "start_time": "2023-07-05T19:19:42.032Z"
   },
   {
    "duration": 10,
    "start_time": "2023-07-05T19:23:56.089Z"
   },
   {
    "duration": 1923,
    "start_time": "2023-07-05T19:35:04.007Z"
   },
   {
    "duration": 221,
    "start_time": "2023-07-05T19:35:19.275Z"
   },
   {
    "duration": 202,
    "start_time": "2023-07-05T19:35:24.947Z"
   },
   {
    "duration": 211,
    "start_time": "2023-07-05T19:35:32.599Z"
   },
   {
    "duration": 9,
    "start_time": "2023-07-05T19:37:49.233Z"
   },
   {
    "duration": 144,
    "start_time": "2023-07-05T19:39:01.101Z"
   },
   {
    "duration": 205,
    "start_time": "2023-07-05T19:41:13.132Z"
   },
   {
    "duration": 226,
    "start_time": "2023-07-05T19:41:21.444Z"
   },
   {
    "duration": 195,
    "start_time": "2023-07-05T19:41:36.010Z"
   },
   {
    "duration": 154,
    "start_time": "2023-07-05T19:41:51.475Z"
   },
   {
    "duration": 190,
    "start_time": "2023-07-05T19:42:02.929Z"
   },
   {
    "duration": 310,
    "start_time": "2023-07-05T19:42:32.919Z"
   },
   {
    "duration": 300,
    "start_time": "2023-07-05T19:42:58.445Z"
   },
   {
    "duration": 232,
    "start_time": "2023-07-05T19:44:18.116Z"
   },
   {
    "duration": 15,
    "start_time": "2023-07-05T19:46:35.307Z"
   },
   {
    "duration": 30,
    "start_time": "2023-07-05T19:46:49.606Z"
   },
   {
    "duration": 1738,
    "start_time": "2023-07-05T19:48:19.502Z"
   },
   {
    "duration": 17,
    "start_time": "2023-07-05T19:48:34.540Z"
   },
   {
    "duration": 30,
    "start_time": "2023-07-05T19:48:48.647Z"
   },
   {
    "duration": 11,
    "start_time": "2023-07-05T19:48:54.699Z"
   },
   {
    "duration": 1864,
    "start_time": "2023-07-05T19:49:10.401Z"
   },
   {
    "duration": 1801,
    "start_time": "2023-07-05T19:49:18.517Z"
   },
   {
    "duration": 15,
    "start_time": "2023-07-05T19:49:25.701Z"
   },
   {
    "duration": 13,
    "start_time": "2023-07-05T19:52:02.198Z"
   },
   {
    "duration": 12,
    "start_time": "2023-07-05T19:52:54.989Z"
   },
   {
    "duration": 10,
    "start_time": "2023-07-05T19:53:00.631Z"
   },
   {
    "duration": 232,
    "start_time": "2023-07-05T19:53:28.187Z"
   },
   {
    "duration": 194,
    "start_time": "2023-07-05T19:53:33.231Z"
   },
   {
    "duration": 198,
    "start_time": "2023-07-05T19:54:25.125Z"
   },
   {
    "duration": 193,
    "start_time": "2023-07-05T19:54:48.588Z"
   },
   {
    "duration": 22,
    "start_time": "2023-07-05T19:56:12.708Z"
   },
   {
    "duration": 24,
    "start_time": "2023-07-05T19:57:13.874Z"
   },
   {
    "duration": 22,
    "start_time": "2023-07-05T19:59:40.117Z"
   },
   {
    "duration": 2088,
    "start_time": "2023-07-05T20:03:52.139Z"
   },
   {
    "duration": 22,
    "start_time": "2023-07-05T20:04:45.906Z"
   },
   {
    "duration": 17,
    "start_time": "2023-07-05T20:05:23.308Z"
   },
   {
    "duration": 202,
    "start_time": "2023-07-05T20:05:59.907Z"
   },
   {
    "duration": 26,
    "start_time": "2023-07-05T20:06:48.794Z"
   },
   {
    "duration": 16,
    "start_time": "2023-07-05T20:06:51.292Z"
   },
   {
    "duration": 1131,
    "start_time": "2023-07-05T20:08:15.153Z"
   },
   {
    "duration": 100,
    "start_time": "2023-07-05T20:08:46.227Z"
   },
   {
    "duration": 10,
    "start_time": "2023-07-05T20:08:58.189Z"
   },
   {
    "duration": 1204,
    "start_time": "2023-07-05T20:10:38.131Z"
   },
   {
    "duration": 1273,
    "start_time": "2023-07-05T20:10:47.878Z"
   },
   {
    "duration": 1135,
    "start_time": "2023-07-05T20:11:35.189Z"
   },
   {
    "duration": 1191,
    "start_time": "2023-07-05T20:11:48.999Z"
   },
   {
    "duration": 147,
    "start_time": "2023-07-05T20:12:12.646Z"
   },
   {
    "duration": 9,
    "start_time": "2023-07-05T20:13:17.076Z"
   },
   {
    "duration": 116,
    "start_time": "2023-07-05T20:13:41.894Z"
   },
   {
    "duration": 209,
    "start_time": "2023-07-05T20:13:48.387Z"
   },
   {
    "duration": 147,
    "start_time": "2023-07-05T20:14:11.669Z"
   },
   {
    "duration": 1299,
    "start_time": "2023-07-05T20:17:41.471Z"
   },
   {
    "duration": 1434,
    "start_time": "2023-07-05T20:17:54.693Z"
   },
   {
    "duration": 1162,
    "start_time": "2023-07-05T20:18:45.252Z"
   },
   {
    "duration": 1002,
    "start_time": "2023-07-05T20:18:56.145Z"
   },
   {
    "duration": 1027,
    "start_time": "2023-07-05T20:19:06.897Z"
   },
   {
    "duration": 1412,
    "start_time": "2023-07-05T20:19:27.994Z"
   },
   {
    "duration": 1269,
    "start_time": "2023-07-05T20:19:42.099Z"
   },
   {
    "duration": 1214,
    "start_time": "2023-07-05T20:19:52.308Z"
   },
   {
    "duration": 22,
    "start_time": "2023-07-05T20:23:02.521Z"
   },
   {
    "duration": 21,
    "start_time": "2023-07-05T20:23:06.614Z"
   },
   {
    "duration": 24,
    "start_time": "2023-07-05T20:23:38.604Z"
   },
   {
    "duration": 20,
    "start_time": "2023-07-05T20:28:39.053Z"
   },
   {
    "duration": 31,
    "start_time": "2023-07-05T20:29:19.046Z"
   },
   {
    "duration": 28,
    "start_time": "2023-07-05T20:30:21.045Z"
   },
   {
    "duration": 21,
    "start_time": "2023-07-05T20:30:34.986Z"
   },
   {
    "duration": 22,
    "start_time": "2023-07-05T20:30:45.773Z"
   },
   {
    "duration": 1266,
    "start_time": "2023-07-05T20:30:57.550Z"
   },
   {
    "duration": 82,
    "start_time": "2023-07-05T20:30:58.818Z"
   },
   {
    "duration": 18,
    "start_time": "2023-07-05T20:30:58.903Z"
   },
   {
    "duration": 52,
    "start_time": "2023-07-05T20:30:58.924Z"
   },
   {
    "duration": 40,
    "start_time": "2023-07-05T20:30:58.977Z"
   },
   {
    "duration": 24,
    "start_time": "2023-07-05T20:30:59.018Z"
   },
   {
    "duration": 17,
    "start_time": "2023-07-05T20:30:59.043Z"
   },
   {
    "duration": 26,
    "start_time": "2023-07-05T20:30:59.062Z"
   },
   {
    "duration": 15,
    "start_time": "2023-07-05T20:30:59.090Z"
   },
   {
    "duration": 485,
    "start_time": "2023-07-05T20:30:59.108Z"
   },
   {
    "duration": 7,
    "start_time": "2023-07-05T20:30:59.595Z"
   },
   {
    "duration": 17,
    "start_time": "2023-07-05T20:30:59.603Z"
   },
   {
    "duration": 142,
    "start_time": "2023-07-05T20:30:59.622Z"
   },
   {
    "duration": 0,
    "start_time": "2023-07-05T20:30:59.770Z"
   },
   {
    "duration": 0,
    "start_time": "2023-07-05T20:30:59.771Z"
   },
   {
    "duration": 0,
    "start_time": "2023-07-05T20:30:59.772Z"
   },
   {
    "duration": 0,
    "start_time": "2023-07-05T20:30:59.774Z"
   },
   {
    "duration": 0,
    "start_time": "2023-07-05T20:30:59.778Z"
   },
   {
    "duration": 0,
    "start_time": "2023-07-05T20:30:59.779Z"
   },
   {
    "duration": 0,
    "start_time": "2023-07-05T20:30:59.781Z"
   },
   {
    "duration": 0,
    "start_time": "2023-07-05T20:30:59.782Z"
   },
   {
    "duration": 0,
    "start_time": "2023-07-05T20:30:59.783Z"
   },
   {
    "duration": 0,
    "start_time": "2023-07-05T20:30:59.784Z"
   },
   {
    "duration": 0,
    "start_time": "2023-07-05T20:30:59.785Z"
   },
   {
    "duration": 0,
    "start_time": "2023-07-05T20:30:59.786Z"
   },
   {
    "duration": 322,
    "start_time": "2023-07-05T20:31:18.786Z"
   },
   {
    "duration": 270,
    "start_time": "2023-07-05T20:32:03.013Z"
   },
   {
    "duration": 1303,
    "start_time": "2023-07-05T20:33:54.432Z"
   },
   {
    "duration": 90,
    "start_time": "2023-07-05T20:33:55.737Z"
   },
   {
    "duration": 15,
    "start_time": "2023-07-05T20:33:55.828Z"
   },
   {
    "duration": 46,
    "start_time": "2023-07-05T20:33:55.845Z"
   },
   {
    "duration": 20,
    "start_time": "2023-07-05T20:33:55.894Z"
   },
   {
    "duration": 37,
    "start_time": "2023-07-05T20:33:55.916Z"
   },
   {
    "duration": 54,
    "start_time": "2023-07-05T20:33:55.954Z"
   },
   {
    "duration": 20,
    "start_time": "2023-07-05T20:33:56.010Z"
   },
   {
    "duration": 15,
    "start_time": "2023-07-05T20:33:56.032Z"
   },
   {
    "duration": 545,
    "start_time": "2023-07-05T20:33:56.048Z"
   },
   {
    "duration": 10,
    "start_time": "2023-07-05T20:33:56.594Z"
   },
   {
    "duration": 12,
    "start_time": "2023-07-05T20:33:56.606Z"
   },
   {
    "duration": 157,
    "start_time": "2023-07-05T20:33:56.620Z"
   },
   {
    "duration": 0,
    "start_time": "2023-07-05T20:33:56.782Z"
   },
   {
    "duration": 0,
    "start_time": "2023-07-05T20:33:56.783Z"
   },
   {
    "duration": 0,
    "start_time": "2023-07-05T20:33:56.789Z"
   },
   {
    "duration": 0,
    "start_time": "2023-07-05T20:33:56.790Z"
   },
   {
    "duration": 0,
    "start_time": "2023-07-05T20:33:56.791Z"
   },
   {
    "duration": 0,
    "start_time": "2023-07-05T20:33:56.792Z"
   },
   {
    "duration": 0,
    "start_time": "2023-07-05T20:33:56.793Z"
   },
   {
    "duration": 0,
    "start_time": "2023-07-05T20:33:56.794Z"
   },
   {
    "duration": 0,
    "start_time": "2023-07-05T20:33:56.795Z"
   },
   {
    "duration": 0,
    "start_time": "2023-07-05T20:33:56.797Z"
   },
   {
    "duration": 0,
    "start_time": "2023-07-05T20:33:56.798Z"
   },
   {
    "duration": 0,
    "start_time": "2023-07-05T20:33:56.799Z"
   },
   {
    "duration": 10,
    "start_time": "2023-07-05T20:34:24.588Z"
   },
   {
    "duration": 1362,
    "start_time": "2023-07-05T20:34:33.215Z"
   },
   {
    "duration": 95,
    "start_time": "2023-07-05T20:34:34.585Z"
   },
   {
    "duration": 20,
    "start_time": "2023-07-05T20:34:34.682Z"
   },
   {
    "duration": 40,
    "start_time": "2023-07-05T20:34:34.704Z"
   },
   {
    "duration": 29,
    "start_time": "2023-07-05T20:34:34.756Z"
   },
   {
    "duration": 34,
    "start_time": "2023-07-05T20:34:34.788Z"
   },
   {
    "duration": 13,
    "start_time": "2023-07-05T20:34:34.824Z"
   },
   {
    "duration": 20,
    "start_time": "2023-07-05T20:34:34.839Z"
   },
   {
    "duration": 39,
    "start_time": "2023-07-05T20:34:34.861Z"
   },
   {
    "duration": 10,
    "start_time": "2023-07-05T20:34:34.902Z"
   },
   {
    "duration": 10,
    "start_time": "2023-07-05T20:34:34.915Z"
   },
   {
    "duration": 9,
    "start_time": "2023-07-05T20:34:34.927Z"
   },
   {
    "duration": 11,
    "start_time": "2023-07-05T20:34:34.938Z"
   },
   {
    "duration": 20,
    "start_time": "2023-07-05T20:34:34.952Z"
   },
   {
    "duration": 230,
    "start_time": "2023-07-05T20:34:34.974Z"
   },
   {
    "duration": 206,
    "start_time": "2023-07-05T20:34:35.206Z"
   },
   {
    "duration": 210,
    "start_time": "2023-07-05T20:34:35.414Z"
   },
   {
    "duration": 1070,
    "start_time": "2023-07-05T20:34:35.626Z"
   },
   {
    "duration": 1295,
    "start_time": "2023-07-05T20:34:36.699Z"
   },
   {
    "duration": 131,
    "start_time": "2023-07-05T20:34:37.996Z"
   },
   {
    "duration": 0,
    "start_time": "2023-07-05T20:34:38.129Z"
   },
   {
    "duration": 1,
    "start_time": "2023-07-05T20:34:38.130Z"
   },
   {
    "duration": 0,
    "start_time": "2023-07-05T20:34:38.132Z"
   },
   {
    "duration": 0,
    "start_time": "2023-07-05T20:34:38.133Z"
   },
   {
    "duration": 0,
    "start_time": "2023-07-05T20:34:38.134Z"
   },
   {
    "duration": 1403,
    "start_time": "2023-07-05T20:35:41.540Z"
   },
   {
    "duration": 135,
    "start_time": "2023-07-05T20:35:42.946Z"
   },
   {
    "duration": 21,
    "start_time": "2023-07-05T20:35:43.087Z"
   },
   {
    "duration": 61,
    "start_time": "2023-07-05T20:35:43.111Z"
   },
   {
    "duration": 25,
    "start_time": "2023-07-05T20:35:43.174Z"
   },
   {
    "duration": 26,
    "start_time": "2023-07-05T20:35:43.202Z"
   },
   {
    "duration": 43,
    "start_time": "2023-07-05T20:35:43.230Z"
   },
   {
    "duration": 31,
    "start_time": "2023-07-05T20:35:43.278Z"
   },
   {
    "duration": 17,
    "start_time": "2023-07-05T20:35:43.311Z"
   },
   {
    "duration": 17,
    "start_time": "2023-07-05T20:35:43.330Z"
   },
   {
    "duration": 22,
    "start_time": "2023-07-05T20:35:43.349Z"
   },
   {
    "duration": 40,
    "start_time": "2023-07-05T20:35:43.374Z"
   },
   {
    "duration": 11,
    "start_time": "2023-07-05T20:35:43.416Z"
   },
   {
    "duration": 8,
    "start_time": "2023-07-05T20:35:43.430Z"
   },
   {
    "duration": 251,
    "start_time": "2023-07-05T20:35:43.440Z"
   },
   {
    "duration": 166,
    "start_time": "2023-07-05T20:35:43.693Z"
   },
   {
    "duration": 225,
    "start_time": "2023-07-05T20:35:43.862Z"
   },
   {
    "duration": 1235,
    "start_time": "2023-07-05T20:35:44.090Z"
   },
   {
    "duration": 1689,
    "start_time": "2023-07-05T20:35:45.331Z"
   },
   {
    "duration": 177,
    "start_time": "2023-07-05T20:35:47.023Z"
   },
   {
    "duration": 0,
    "start_time": "2023-07-05T20:35:47.202Z"
   },
   {
    "duration": 0,
    "start_time": "2023-07-05T20:35:47.203Z"
   },
   {
    "duration": 0,
    "start_time": "2023-07-05T20:35:47.205Z"
   },
   {
    "duration": 0,
    "start_time": "2023-07-05T20:35:47.206Z"
   },
   {
    "duration": 0,
    "start_time": "2023-07-05T20:35:47.208Z"
   },
   {
    "duration": 18,
    "start_time": "2023-07-05T20:36:13.410Z"
   },
   {
    "duration": 254,
    "start_time": "2023-07-05T20:36:47.007Z"
   },
   {
    "duration": 230,
    "start_time": "2023-07-05T20:36:51.916Z"
   },
   {
    "duration": 99,
    "start_time": "2023-07-05T20:41:11.578Z"
   },
   {
    "duration": 100,
    "start_time": "2023-07-05T20:41:27.581Z"
   },
   {
    "duration": 1090,
    "start_time": "2023-07-05T20:42:26.023Z"
   },
   {
    "duration": 1089,
    "start_time": "2023-07-05T20:42:52.031Z"
   },
   {
    "duration": 898,
    "start_time": "2023-07-05T20:43:14.620Z"
   },
   {
    "duration": 16,
    "start_time": "2023-07-05T20:45:06.010Z"
   },
   {
    "duration": 18,
    "start_time": "2023-07-05T20:45:37.507Z"
   },
   {
    "duration": 35,
    "start_time": "2023-07-05T20:45:53.734Z"
   },
   {
    "duration": 2003,
    "start_time": "2023-07-05T20:46:30.510Z"
   },
   {
    "duration": 1975,
    "start_time": "2023-07-05T20:46:58.309Z"
   },
   {
    "duration": 1804,
    "start_time": "2023-07-05T20:47:31.227Z"
   },
   {
    "duration": 28,
    "start_time": "2023-07-05T20:47:38.396Z"
   },
   {
    "duration": 32,
    "start_time": "2023-07-05T20:50:24.085Z"
   },
   {
    "duration": 5347,
    "start_time": "2023-07-05T20:50:55.271Z"
   },
   {
    "duration": 42,
    "start_time": "2023-07-05T20:51:09.867Z"
   },
   {
    "duration": 29,
    "start_time": "2023-07-05T20:51:33.120Z"
   },
   {
    "duration": 23,
    "start_time": "2023-07-05T20:52:16.286Z"
   },
   {
    "duration": 42,
    "start_time": "2023-07-05T20:52:55.539Z"
   },
   {
    "duration": 1818,
    "start_time": "2023-07-05T20:54:29.203Z"
   },
   {
    "duration": 38,
    "start_time": "2023-07-05T20:55:45.749Z"
   },
   {
    "duration": 6,
    "start_time": "2023-07-05T20:55:56.100Z"
   },
   {
    "duration": 1580,
    "start_time": "2023-07-05T20:56:29.843Z"
   },
   {
    "duration": 1302,
    "start_time": "2023-07-05T20:56:46.112Z"
   },
   {
    "duration": 88,
    "start_time": "2023-07-05T20:56:47.416Z"
   },
   {
    "duration": 16,
    "start_time": "2023-07-05T20:56:47.507Z"
   },
   {
    "duration": 54,
    "start_time": "2023-07-05T20:56:47.524Z"
   },
   {
    "duration": 18,
    "start_time": "2023-07-05T20:56:47.582Z"
   },
   {
    "duration": 32,
    "start_time": "2023-07-05T20:56:47.602Z"
   },
   {
    "duration": 14,
    "start_time": "2023-07-05T20:56:47.636Z"
   },
   {
    "duration": 26,
    "start_time": "2023-07-05T20:56:47.662Z"
   },
   {
    "duration": 18,
    "start_time": "2023-07-05T20:56:47.691Z"
   },
   {
    "duration": 13,
    "start_time": "2023-07-05T20:56:47.711Z"
   },
   {
    "duration": 17,
    "start_time": "2023-07-05T20:56:47.727Z"
   },
   {
    "duration": 34,
    "start_time": "2023-07-05T20:56:47.746Z"
   },
   {
    "duration": 12,
    "start_time": "2023-07-05T20:56:47.782Z"
   },
   {
    "duration": 14,
    "start_time": "2023-07-05T20:56:47.796Z"
   },
   {
    "duration": 190,
    "start_time": "2023-07-05T20:56:47.812Z"
   },
   {
    "duration": 187,
    "start_time": "2023-07-05T20:56:48.003Z"
   },
   {
    "duration": 255,
    "start_time": "2023-07-05T20:56:48.192Z"
   },
   {
    "duration": 1823,
    "start_time": "2023-07-05T20:56:48.450Z"
   },
   {
    "duration": 0,
    "start_time": "2023-07-05T20:56:50.276Z"
   },
   {
    "duration": 0,
    "start_time": "2023-07-05T20:56:50.278Z"
   },
   {
    "duration": 0,
    "start_time": "2023-07-05T20:56:50.279Z"
   },
   {
    "duration": 0,
    "start_time": "2023-07-05T20:56:50.280Z"
   },
   {
    "duration": 0,
    "start_time": "2023-07-05T20:56:50.282Z"
   },
   {
    "duration": 0,
    "start_time": "2023-07-05T20:56:50.283Z"
   },
   {
    "duration": 0,
    "start_time": "2023-07-05T20:56:50.285Z"
   },
   {
    "duration": 0,
    "start_time": "2023-07-05T20:56:50.286Z"
   },
   {
    "duration": 1707,
    "start_time": "2023-07-05T20:57:04.743Z"
   },
   {
    "duration": 42,
    "start_time": "2023-07-05T20:57:18.679Z"
   },
   {
    "duration": 29,
    "start_time": "2023-07-05T20:57:33.108Z"
   },
   {
    "duration": 1091,
    "start_time": "2023-07-05T20:57:46.610Z"
   },
   {
    "duration": 119,
    "start_time": "2023-07-05T20:57:54.386Z"
   },
   {
    "duration": 107,
    "start_time": "2023-07-05T20:58:21.990Z"
   },
   {
    "duration": 3504,
    "start_time": "2023-07-05T20:58:58.036Z"
   },
   {
    "duration": 99,
    "start_time": "2023-07-05T20:59:01.543Z"
   },
   {
    "duration": 37,
    "start_time": "2023-07-05T20:59:01.644Z"
   },
   {
    "duration": 75,
    "start_time": "2023-07-05T20:59:01.686Z"
   },
   {
    "duration": 28,
    "start_time": "2023-07-05T20:59:01.783Z"
   },
   {
    "duration": 73,
    "start_time": "2023-07-05T20:59:01.813Z"
   },
   {
    "duration": 36,
    "start_time": "2023-07-05T20:59:01.888Z"
   },
   {
    "duration": 78,
    "start_time": "2023-07-05T20:59:01.926Z"
   },
   {
    "duration": 37,
    "start_time": "2023-07-05T20:59:02.006Z"
   },
   {
    "duration": 57,
    "start_time": "2023-07-05T20:59:02.045Z"
   },
   {
    "duration": 69,
    "start_time": "2023-07-05T20:59:02.104Z"
   },
   {
    "duration": 25,
    "start_time": "2023-07-05T20:59:02.186Z"
   },
   {
    "duration": 21,
    "start_time": "2023-07-05T20:59:02.214Z"
   },
   {
    "duration": 11,
    "start_time": "2023-07-05T20:59:02.239Z"
   },
   {
    "duration": 271,
    "start_time": "2023-07-05T20:59:02.252Z"
   },
   {
    "duration": 194,
    "start_time": "2023-07-05T20:59:02.526Z"
   },
   {
    "duration": 270,
    "start_time": "2023-07-05T20:59:02.722Z"
   },
   {
    "duration": 120,
    "start_time": "2023-07-05T20:59:02.995Z"
   },
   {
    "duration": 0,
    "start_time": "2023-07-05T20:59:03.117Z"
   },
   {
    "duration": 0,
    "start_time": "2023-07-05T20:59:03.120Z"
   },
   {
    "duration": 0,
    "start_time": "2023-07-05T20:59:03.121Z"
   },
   {
    "duration": 0,
    "start_time": "2023-07-05T20:59:03.122Z"
   },
   {
    "duration": 0,
    "start_time": "2023-07-05T20:59:03.124Z"
   },
   {
    "duration": 0,
    "start_time": "2023-07-05T20:59:03.125Z"
   },
   {
    "duration": 0,
    "start_time": "2023-07-05T20:59:03.127Z"
   },
   {
    "duration": 0,
    "start_time": "2023-07-05T20:59:03.128Z"
   },
   {
    "duration": 22,
    "start_time": "2023-07-05T20:59:52.007Z"
   },
   {
    "duration": 25,
    "start_time": "2023-07-05T21:00:11.811Z"
   },
   {
    "duration": 44,
    "start_time": "2023-07-05T21:00:28.571Z"
   },
   {
    "duration": 13,
    "start_time": "2023-07-05T21:05:11.225Z"
   },
   {
    "duration": 2051,
    "start_time": "2023-07-05T21:05:21.025Z"
   },
   {
    "duration": 87,
    "start_time": "2023-07-05T21:05:23.079Z"
   },
   {
    "duration": 19,
    "start_time": "2023-07-05T21:05:23.168Z"
   },
   {
    "duration": 35,
    "start_time": "2023-07-05T21:05:23.189Z"
   },
   {
    "duration": 38,
    "start_time": "2023-07-05T21:05:23.228Z"
   },
   {
    "duration": 39,
    "start_time": "2023-07-05T21:05:23.268Z"
   },
   {
    "duration": 26,
    "start_time": "2023-07-05T21:05:23.310Z"
   },
   {
    "duration": 47,
    "start_time": "2023-07-05T21:05:23.339Z"
   },
   {
    "duration": 27,
    "start_time": "2023-07-05T21:05:23.389Z"
   },
   {
    "duration": 11,
    "start_time": "2023-07-05T21:05:23.418Z"
   },
   {
    "duration": 11,
    "start_time": "2023-07-05T21:05:23.431Z"
   },
   {
    "duration": 17,
    "start_time": "2023-07-05T21:05:23.444Z"
   },
   {
    "duration": 26,
    "start_time": "2023-07-05T21:05:23.464Z"
   },
   {
    "duration": 12,
    "start_time": "2023-07-05T21:05:23.494Z"
   },
   {
    "duration": 210,
    "start_time": "2023-07-05T21:05:23.508Z"
   },
   {
    "duration": 179,
    "start_time": "2023-07-05T21:05:23.720Z"
   },
   {
    "duration": 230,
    "start_time": "2023-07-05T21:05:23.901Z"
   },
   {
    "duration": 38,
    "start_time": "2023-07-05T21:05:24.134Z"
   },
   {
    "duration": 1336,
    "start_time": "2023-07-05T21:05:24.174Z"
   },
   {
    "duration": 0,
    "start_time": "2023-07-05T21:05:25.512Z"
   },
   {
    "duration": 0,
    "start_time": "2023-07-05T21:05:25.514Z"
   },
   {
    "duration": 0,
    "start_time": "2023-07-05T21:05:25.515Z"
   },
   {
    "duration": 0,
    "start_time": "2023-07-05T21:05:25.516Z"
   },
   {
    "duration": 0,
    "start_time": "2023-07-05T21:05:25.517Z"
   },
   {
    "duration": 0,
    "start_time": "2023-07-05T21:05:25.518Z"
   },
   {
    "duration": 0,
    "start_time": "2023-07-05T21:05:25.519Z"
   },
   {
    "duration": 21,
    "start_time": "2023-07-05T21:06:36.491Z"
   },
   {
    "duration": 25,
    "start_time": "2023-07-05T21:07:09.592Z"
   },
   {
    "duration": 27,
    "start_time": "2023-07-05T21:07:40.426Z"
   },
   {
    "duration": 96,
    "start_time": "2023-07-05T21:08:35.028Z"
   },
   {
    "duration": 59,
    "start_time": "2023-07-05T21:08:55.702Z"
   },
   {
    "duration": 19,
    "start_time": "2023-07-05T21:09:55.138Z"
   },
   {
    "duration": 17,
    "start_time": "2023-07-05T21:11:15.671Z"
   },
   {
    "duration": 18,
    "start_time": "2023-07-05T21:11:27.985Z"
   },
   {
    "duration": 1454,
    "start_time": "2023-07-05T21:12:27.695Z"
   },
   {
    "duration": 1122,
    "start_time": "2023-07-05T21:12:50.911Z"
   },
   {
    "duration": 1077,
    "start_time": "2023-07-05T21:13:31.429Z"
   },
   {
    "duration": 1033,
    "start_time": "2023-07-05T21:13:58.347Z"
   },
   {
    "duration": 1000,
    "start_time": "2023-07-05T21:14:22.331Z"
   },
   {
    "duration": 15,
    "start_time": "2023-07-05T21:15:18.539Z"
   },
   {
    "duration": 21,
    "start_time": "2023-07-05T21:17:52.009Z"
   },
   {
    "duration": 176,
    "start_time": "2023-07-05T21:23:20.053Z"
   },
   {
    "duration": 29,
    "start_time": "2023-07-05T21:24:14.598Z"
   },
   {
    "duration": 21,
    "start_time": "2023-07-05T21:29:51.567Z"
   },
   {
    "duration": 286,
    "start_time": "2023-07-05T21:30:25.699Z"
   },
   {
    "duration": 20,
    "start_time": "2023-07-05T21:31:38.369Z"
   },
   {
    "duration": 20,
    "start_time": "2023-07-05T21:32:32.253Z"
   },
   {
    "duration": 20,
    "start_time": "2023-07-05T21:36:00.327Z"
   },
   {
    "duration": 23,
    "start_time": "2023-07-05T21:42:18.763Z"
   },
   {
    "duration": 195,
    "start_time": "2023-07-05T21:44:13.236Z"
   },
   {
    "duration": 175,
    "start_time": "2023-07-05T21:44:59.819Z"
   },
   {
    "duration": 124,
    "start_time": "2023-07-05T21:52:54.377Z"
   },
   {
    "duration": 198,
    "start_time": "2023-07-05T21:53:33.313Z"
   },
   {
    "duration": 16,
    "start_time": "2023-07-05T21:56:12.276Z"
   },
   {
    "duration": 168,
    "start_time": "2023-07-05T21:56:19.480Z"
   },
   {
    "duration": 169,
    "start_time": "2023-07-05T21:57:42.971Z"
   },
   {
    "duration": 139,
    "start_time": "2023-07-05T22:06:24.755Z"
   },
   {
    "duration": 186,
    "start_time": "2023-07-05T22:06:42.997Z"
   },
   {
    "duration": 136,
    "start_time": "2023-07-05T22:07:06.615Z"
   },
   {
    "duration": 320,
    "start_time": "2023-07-05T22:08:21.122Z"
   },
   {
    "duration": 191,
    "start_time": "2023-07-05T22:09:01.480Z"
   },
   {
    "duration": 196,
    "start_time": "2023-07-05T22:09:49.984Z"
   },
   {
    "duration": 25,
    "start_time": "2023-07-05T22:28:58.484Z"
   },
   {
    "duration": 20,
    "start_time": "2023-07-05T22:29:02.888Z"
   },
   {
    "duration": 31,
    "start_time": "2023-07-05T22:29:10.347Z"
   },
   {
    "duration": 28,
    "start_time": "2023-07-05T22:30:05.684Z"
   },
   {
    "duration": 28,
    "start_time": "2023-07-05T22:32:53.500Z"
   },
   {
    "duration": 21,
    "start_time": "2023-07-05T22:33:03.371Z"
   },
   {
    "duration": 19,
    "start_time": "2023-07-05T22:34:09.895Z"
   },
   {
    "duration": 260,
    "start_time": "2023-07-05T22:34:31.403Z"
   },
   {
    "duration": 27,
    "start_time": "2023-07-05T22:34:45.676Z"
   },
   {
    "duration": 276,
    "start_time": "2023-07-05T22:34:50.801Z"
   },
   {
    "duration": 194,
    "start_time": "2023-07-05T22:35:08.607Z"
   },
   {
    "duration": 18,
    "start_time": "2023-07-05T22:40:22.555Z"
   },
   {
    "duration": 18,
    "start_time": "2023-07-05T22:40:37.414Z"
   },
   {
    "duration": 193,
    "start_time": "2023-07-05T22:42:09.910Z"
   },
   {
    "duration": 239,
    "start_time": "2023-07-05T22:46:46.752Z"
   },
   {
    "duration": 127,
    "start_time": "2023-07-05T22:51:37.414Z"
   },
   {
    "duration": 183,
    "start_time": "2023-07-05T22:51:49.499Z"
   },
   {
    "duration": 141,
    "start_time": "2023-07-05T22:54:31.550Z"
   },
   {
    "duration": 129,
    "start_time": "2023-07-05T22:54:40.003Z"
   },
   {
    "duration": 131,
    "start_time": "2023-07-05T22:54:47.286Z"
   },
   {
    "duration": 153,
    "start_time": "2023-07-05T22:54:58.269Z"
   },
   {
    "duration": 191,
    "start_time": "2023-07-05T22:55:24.406Z"
   },
   {
    "duration": 183,
    "start_time": "2023-07-05T22:55:55.805Z"
   },
   {
    "duration": 172,
    "start_time": "2023-07-05T22:56:01.080Z"
   },
   {
    "duration": 174,
    "start_time": "2023-07-05T22:56:06.406Z"
   },
   {
    "duration": 16,
    "start_time": "2023-07-05T22:56:46.441Z"
   },
   {
    "duration": 275,
    "start_time": "2023-07-05T22:56:53.465Z"
   },
   {
    "duration": 191,
    "start_time": "2023-07-05T22:59:10.611Z"
   },
   {
    "duration": 188,
    "start_time": "2023-07-05T22:59:26.418Z"
   },
   {
    "duration": 186,
    "start_time": "2023-07-05T22:59:42.389Z"
   },
   {
    "duration": 212,
    "start_time": "2023-07-05T22:59:45.328Z"
   },
   {
    "duration": 173,
    "start_time": "2023-07-05T23:00:17.580Z"
   },
   {
    "duration": 200,
    "start_time": "2023-07-05T23:00:21.768Z"
   },
   {
    "duration": 138,
    "start_time": "2023-07-05T23:00:27.984Z"
   },
   {
    "duration": 169,
    "start_time": "2023-07-05T23:00:31.739Z"
   },
   {
    "duration": 163,
    "start_time": "2023-07-05T23:00:35.775Z"
   },
   {
    "duration": 162,
    "start_time": "2023-07-05T23:01:20.984Z"
   },
   {
    "duration": 1357,
    "start_time": "2023-07-05T23:02:50.167Z"
   },
   {
    "duration": 142,
    "start_time": "2023-07-05T23:02:51.527Z"
   },
   {
    "duration": 20,
    "start_time": "2023-07-05T23:02:51.671Z"
   },
   {
    "duration": 30,
    "start_time": "2023-07-05T23:02:51.694Z"
   },
   {
    "duration": 48,
    "start_time": "2023-07-05T23:02:51.727Z"
   },
   {
    "duration": 19,
    "start_time": "2023-07-05T23:02:51.777Z"
   },
   {
    "duration": 10,
    "start_time": "2023-07-05T23:02:51.798Z"
   },
   {
    "duration": 16,
    "start_time": "2023-07-05T23:02:51.810Z"
   },
   {
    "duration": 37,
    "start_time": "2023-07-05T23:02:51.828Z"
   },
   {
    "duration": 9,
    "start_time": "2023-07-05T23:02:51.867Z"
   },
   {
    "duration": 10,
    "start_time": "2023-07-05T23:02:51.878Z"
   },
   {
    "duration": 11,
    "start_time": "2023-07-05T23:02:51.890Z"
   },
   {
    "duration": 8,
    "start_time": "2023-07-05T23:02:51.903Z"
   },
   {
    "duration": 10,
    "start_time": "2023-07-05T23:02:51.914Z"
   },
   {
    "duration": 46,
    "start_time": "2023-07-05T23:02:51.925Z"
   },
   {
    "duration": 207,
    "start_time": "2023-07-05T23:02:51.972Z"
   },
   {
    "duration": 1217,
    "start_time": "2023-07-05T23:03:38.411Z"
   },
   {
    "duration": 99,
    "start_time": "2023-07-05T23:03:39.632Z"
   },
   {
    "duration": 15,
    "start_time": "2023-07-05T23:03:39.734Z"
   },
   {
    "duration": 57,
    "start_time": "2023-07-05T23:03:39.751Z"
   },
   {
    "duration": 18,
    "start_time": "2023-07-05T23:03:39.811Z"
   },
   {
    "duration": 40,
    "start_time": "2023-07-05T23:03:39.832Z"
   },
   {
    "duration": 16,
    "start_time": "2023-07-05T23:03:39.874Z"
   },
   {
    "duration": 13,
    "start_time": "2023-07-05T23:03:39.891Z"
   },
   {
    "duration": 13,
    "start_time": "2023-07-05T23:03:39.907Z"
   },
   {
    "duration": 37,
    "start_time": "2023-07-05T23:03:39.922Z"
   },
   {
    "duration": 8,
    "start_time": "2023-07-05T23:03:39.961Z"
   },
   {
    "duration": 13,
    "start_time": "2023-07-05T23:03:39.972Z"
   },
   {
    "duration": 11,
    "start_time": "2023-07-05T23:03:39.986Z"
   },
   {
    "duration": 8,
    "start_time": "2023-07-05T23:03:40.000Z"
   },
   {
    "duration": 25,
    "start_time": "2023-07-05T23:03:40.009Z"
   },
   {
    "duration": 212,
    "start_time": "2023-07-05T23:03:40.053Z"
   },
   {
    "duration": 216617,
    "start_time": "2023-07-05T23:03:40.266Z"
   },
   {
    "duration": 19,
    "start_time": "2023-07-05T23:07:16.885Z"
   },
   {
    "duration": 208,
    "start_time": "2023-07-05T23:07:16.906Z"
   },
   {
    "duration": 264,
    "start_time": "2023-07-05T23:10:03.327Z"
   },
   {
    "duration": 288,
    "start_time": "2023-07-05T23:12:46.440Z"
   },
   {
    "duration": 212,
    "start_time": "2023-07-05T23:12:59.382Z"
   },
   {
    "duration": 273,
    "start_time": "2023-07-05T23:13:04.278Z"
   },
   {
    "duration": 172,
    "start_time": "2023-07-05T23:13:22.731Z"
   },
   {
    "duration": 230,
    "start_time": "2023-07-05T23:14:58.677Z"
   },
   {
    "duration": 121,
    "start_time": "2023-07-05T23:15:47.817Z"
   },
   {
    "duration": 148,
    "start_time": "2023-07-05T23:15:57.765Z"
   },
   {
    "duration": 163,
    "start_time": "2023-07-05T23:17:03.844Z"
   },
   {
    "duration": 162,
    "start_time": "2023-07-05T23:17:15.963Z"
   },
   {
    "duration": 174,
    "start_time": "2023-07-05T23:17:33.894Z"
   },
   {
    "duration": 225,
    "start_time": "2023-07-05T23:17:41.796Z"
   },
   {
    "duration": 281,
    "start_time": "2023-07-05T23:17:53.088Z"
   },
   {
    "duration": 260,
    "start_time": "2023-07-05T23:42:47.069Z"
   },
   {
    "duration": 243,
    "start_time": "2023-07-05T23:43:02.034Z"
   },
   {
    "duration": 312,
    "start_time": "2023-07-05T23:43:08.177Z"
   },
   {
    "duration": 23,
    "start_time": "2023-07-05T23:55:37.795Z"
   },
   {
    "duration": 19,
    "start_time": "2023-07-05T23:55:53.882Z"
   },
   {
    "duration": 31,
    "start_time": "2023-07-05T23:56:53.000Z"
   },
   {
    "duration": 24,
    "start_time": "2023-07-05T23:57:31.657Z"
   },
   {
    "duration": 385,
    "start_time": "2023-07-05T23:57:48.280Z"
   },
   {
    "duration": 14,
    "start_time": "2023-07-05T23:58:41.496Z"
   },
   {
    "duration": 21,
    "start_time": "2023-07-06T00:01:14.858Z"
   },
   {
    "duration": 403,
    "start_time": "2023-07-06T00:01:32.365Z"
   },
   {
    "duration": 438,
    "start_time": "2023-07-06T00:01:44.529Z"
   },
   {
    "duration": 391,
    "start_time": "2023-07-06T00:01:53.115Z"
   },
   {
    "duration": 431,
    "start_time": "2023-07-06T00:02:24.624Z"
   },
   {
    "duration": 18,
    "start_time": "2023-07-06T00:02:50.492Z"
   },
   {
    "duration": 16,
    "start_time": "2023-07-06T00:03:12.009Z"
   },
   {
    "duration": 22,
    "start_time": "2023-07-06T00:03:48.143Z"
   },
   {
    "duration": 26,
    "start_time": "2023-07-06T00:03:58.338Z"
   },
   {
    "duration": 16,
    "start_time": "2023-07-06T00:04:17.179Z"
   },
   {
    "duration": 901,
    "start_time": "2023-07-06T00:05:19.896Z"
   },
   {
    "duration": 15,
    "start_time": "2023-07-06T00:05:42.915Z"
   },
   {
    "duration": 875,
    "start_time": "2023-07-06T00:05:57.440Z"
   },
   {
    "duration": 39,
    "start_time": "2023-07-06T00:07:02.252Z"
   },
   {
    "duration": 15,
    "start_time": "2023-07-06T00:07:12.500Z"
   },
   {
    "duration": 1123,
    "start_time": "2023-07-06T00:09:26.380Z"
   },
   {
    "duration": 82,
    "start_time": "2023-07-06T00:09:27.505Z"
   },
   {
    "duration": 14,
    "start_time": "2023-07-06T00:09:27.589Z"
   },
   {
    "duration": 29,
    "start_time": "2023-07-06T00:09:27.604Z"
   },
   {
    "duration": 31,
    "start_time": "2023-07-06T00:09:27.635Z"
   },
   {
    "duration": 24,
    "start_time": "2023-07-06T00:09:27.668Z"
   },
   {
    "duration": 14,
    "start_time": "2023-07-06T00:09:27.694Z"
   },
   {
    "duration": 14,
    "start_time": "2023-07-06T00:09:27.709Z"
   },
   {
    "duration": 39,
    "start_time": "2023-07-06T00:09:27.725Z"
   },
   {
    "duration": 10,
    "start_time": "2023-07-06T00:09:27.765Z"
   },
   {
    "duration": 7,
    "start_time": "2023-07-06T00:09:27.776Z"
   },
   {
    "duration": 10,
    "start_time": "2023-07-06T00:09:27.785Z"
   },
   {
    "duration": 12,
    "start_time": "2023-07-06T00:09:27.796Z"
   },
   {
    "duration": 12,
    "start_time": "2023-07-06T00:09:27.810Z"
   },
   {
    "duration": 22,
    "start_time": "2023-07-06T00:09:27.823Z"
   },
   {
    "duration": 275,
    "start_time": "2023-07-06T00:09:27.862Z"
   },
   {
    "duration": 47,
    "start_time": "2023-07-06T00:09:28.138Z"
   },
   {
    "duration": 130,
    "start_time": "2023-07-06T00:09:28.186Z"
   },
   {
    "duration": 0,
    "start_time": "2023-07-06T00:09:28.318Z"
   },
   {
    "duration": 38,
    "start_time": "2023-07-06T00:10:28.402Z"
   },
   {
    "duration": 914,
    "start_time": "2023-07-06T00:10:48.497Z"
   },
   {
    "duration": 941,
    "start_time": "2023-07-06T00:10:57.586Z"
   },
   {
    "duration": 25,
    "start_time": "2023-07-06T00:17:03.042Z"
   },
   {
    "duration": 16,
    "start_time": "2023-07-06T00:18:12.286Z"
   },
   {
    "duration": 12,
    "start_time": "2023-07-06T00:18:17.409Z"
   },
   {
    "duration": 311,
    "start_time": "2023-07-06T00:19:42.984Z"
   },
   {
    "duration": 16,
    "start_time": "2023-07-06T00:20:08.349Z"
   },
   {
    "duration": 421,
    "start_time": "2023-07-06T00:20:21.695Z"
   },
   {
    "duration": 340,
    "start_time": "2023-07-06T00:20:27.906Z"
   },
   {
    "duration": 347,
    "start_time": "2023-07-06T00:20:50.424Z"
   },
   {
    "duration": 20,
    "start_time": "2023-07-06T00:25:19.819Z"
   },
   {
    "duration": 21,
    "start_time": "2023-07-06T00:26:38.282Z"
   },
   {
    "duration": 321,
    "start_time": "2023-07-06T00:27:53.611Z"
   },
   {
    "duration": 315,
    "start_time": "2023-07-06T00:30:16.435Z"
   },
   {
    "duration": 316,
    "start_time": "2023-07-06T00:35:37.918Z"
   },
   {
    "duration": 1695,
    "start_time": "2023-07-06T00:43:59.802Z"
   },
   {
    "duration": 1750,
    "start_time": "2023-07-06T00:44:21.414Z"
   },
   {
    "duration": 1480,
    "start_time": "2023-07-06T00:45:47.095Z"
   },
   {
    "duration": 3,
    "start_time": "2023-07-06T00:48:00.899Z"
   },
   {
    "duration": 4,
    "start_time": "2023-07-06T00:48:13.290Z"
   },
   {
    "duration": 10,
    "start_time": "2023-07-06T00:48:55.047Z"
   },
   {
    "duration": 138,
    "start_time": "2023-07-06T00:49:12.465Z"
   },
   {
    "duration": 138,
    "start_time": "2023-07-06T00:49:48.066Z"
   },
   {
    "duration": 134,
    "start_time": "2023-07-06T00:50:05.004Z"
   },
   {
    "duration": 139,
    "start_time": "2023-07-06T00:51:16.910Z"
   },
   {
    "duration": 166,
    "start_time": "2023-07-06T00:52:25.108Z"
   },
   {
    "duration": 147,
    "start_time": "2023-07-06T00:53:07.115Z"
   },
   {
    "duration": 101,
    "start_time": "2023-07-06T00:53:16.916Z"
   },
   {
    "duration": 1472,
    "start_time": "2023-07-06T00:58:09.722Z"
   },
   {
    "duration": 134,
    "start_time": "2023-07-06T00:58:48.613Z"
   },
   {
    "duration": 131,
    "start_time": "2023-07-06T00:59:02.418Z"
   },
   {
    "duration": 143,
    "start_time": "2023-07-06T00:59:23.564Z"
   },
   {
    "duration": 149,
    "start_time": "2023-07-06T00:59:52.049Z"
   },
   {
    "duration": 266,
    "start_time": "2023-07-06T01:00:10.524Z"
   },
   {
    "duration": 148,
    "start_time": "2023-07-06T01:00:34.574Z"
   },
   {
    "duration": 151,
    "start_time": "2023-07-06T01:01:06.530Z"
   },
   {
    "duration": 179,
    "start_time": "2023-07-06T01:03:02.196Z"
   },
   {
    "duration": 172,
    "start_time": "2023-07-06T01:04:40.227Z"
   },
   {
    "duration": 1558,
    "start_time": "2023-07-06T01:05:55.789Z"
   },
   {
    "duration": 132,
    "start_time": "2023-07-06T01:06:16.303Z"
   },
   {
    "duration": 4,
    "start_time": "2023-07-06T01:07:38.147Z"
   },
   {
    "duration": 5,
    "start_time": "2023-07-06T01:08:56.282Z"
   },
   {
    "duration": 525,
    "start_time": "2023-07-06T01:09:18.050Z"
   },
   {
    "duration": 18,
    "start_time": "2023-07-06T01:11:03.787Z"
   },
   {
    "duration": 14,
    "start_time": "2023-07-06T01:11:15.569Z"
   },
   {
    "duration": 16,
    "start_time": "2023-07-06T01:11:30.045Z"
   },
   {
    "duration": 134,
    "start_time": "2023-07-06T01:11:39.320Z"
   },
   {
    "duration": 135,
    "start_time": "2023-07-06T01:11:52.874Z"
   },
   {
    "duration": 13,
    "start_time": "2023-07-06T01:13:56.302Z"
   },
   {
    "duration": 6,
    "start_time": "2023-07-06T01:14:20.363Z"
   },
   {
    "duration": 328,
    "start_time": "2023-07-06T01:22:26.695Z"
   },
   {
    "duration": 307,
    "start_time": "2023-07-06T01:24:08.539Z"
   },
   {
    "duration": 335,
    "start_time": "2023-07-06T01:24:52.102Z"
   },
   {
    "duration": 307,
    "start_time": "2023-07-06T01:25:05.381Z"
   },
   {
    "duration": 330,
    "start_time": "2023-07-06T01:25:39.950Z"
   },
   {
    "duration": 130,
    "start_time": "2023-07-06T01:46:18.503Z"
   },
   {
    "duration": 23,
    "start_time": "2023-07-06T01:46:36.440Z"
   },
   {
    "duration": 296,
    "start_time": "2023-07-06T01:46:54.970Z"
   },
   {
    "duration": 15,
    "start_time": "2023-07-06T01:49:03.157Z"
   },
   {
    "duration": 312,
    "start_time": "2023-07-06T01:50:01.460Z"
   },
   {
    "duration": 119,
    "start_time": "2023-07-06T01:57:43.220Z"
   },
   {
    "duration": 105,
    "start_time": "2023-07-06T01:57:55.690Z"
   },
   {
    "duration": 255,
    "start_time": "2023-07-06T02:02:07.621Z"
   },
   {
    "duration": 238,
    "start_time": "2023-07-06T02:02:31.202Z"
   },
   {
    "duration": 133,
    "start_time": "2023-07-06T02:05:59.073Z"
   },
   {
    "duration": 402,
    "start_time": "2023-07-06T02:06:52.972Z"
   },
   {
    "duration": 268,
    "start_time": "2023-07-06T02:07:25.802Z"
   },
   {
    "duration": 36,
    "start_time": "2023-07-06T02:09:05.272Z"
   },
   {
    "duration": 18,
    "start_time": "2023-07-06T02:09:57.156Z"
   },
   {
    "duration": 198,
    "start_time": "2023-07-06T02:13:00.027Z"
   },
   {
    "duration": 149,
    "start_time": "2023-07-06T02:13:20.413Z"
   },
   {
    "duration": 250,
    "start_time": "2023-07-06T02:13:55.325Z"
   },
   {
    "duration": 246,
    "start_time": "2023-07-06T02:14:10.297Z"
   },
   {
    "duration": 235,
    "start_time": "2023-07-06T02:14:16.956Z"
   },
   {
    "duration": 393,
    "start_time": "2023-07-06T02:14:23.521Z"
   },
   {
    "duration": 1140,
    "start_time": "2023-07-06T02:14:43.151Z"
   },
   {
    "duration": 81,
    "start_time": "2023-07-06T02:14:44.293Z"
   },
   {
    "duration": 14,
    "start_time": "2023-07-06T02:14:44.376Z"
   },
   {
    "duration": 29,
    "start_time": "2023-07-06T02:14:44.392Z"
   },
   {
    "duration": 29,
    "start_time": "2023-07-06T02:14:44.423Z"
   },
   {
    "duration": 28,
    "start_time": "2023-07-06T02:14:44.460Z"
   },
   {
    "duration": 11,
    "start_time": "2023-07-06T02:14:44.490Z"
   },
   {
    "duration": 12,
    "start_time": "2023-07-06T02:14:44.502Z"
   },
   {
    "duration": 9,
    "start_time": "2023-07-06T02:14:44.515Z"
   },
   {
    "duration": 29,
    "start_time": "2023-07-06T02:14:44.526Z"
   },
   {
    "duration": 13,
    "start_time": "2023-07-06T02:14:44.556Z"
   },
   {
    "duration": 8,
    "start_time": "2023-07-06T02:14:44.570Z"
   },
   {
    "duration": 10,
    "start_time": "2023-07-06T02:14:44.580Z"
   },
   {
    "duration": 8,
    "start_time": "2023-07-06T02:14:44.593Z"
   },
   {
    "duration": 15,
    "start_time": "2023-07-06T02:14:44.602Z"
   },
   {
    "duration": 313,
    "start_time": "2023-07-06T02:14:44.618Z"
   },
   {
    "duration": 38,
    "start_time": "2023-07-06T02:14:44.932Z"
   },
   {
    "duration": 342,
    "start_time": "2023-07-06T02:14:44.973Z"
   },
   {
    "duration": 363,
    "start_time": "2023-07-06T02:14:45.317Z"
   },
   {
    "duration": 348,
    "start_time": "2023-07-06T02:14:45.682Z"
   },
   {
    "duration": 336,
    "start_time": "2023-07-06T02:14:46.032Z"
   },
   {
    "duration": 337,
    "start_time": "2023-07-06T02:15:13.486Z"
   },
   {
    "duration": 3,
    "start_time": "2023-07-06T02:17:12.482Z"
   },
   {
    "duration": 274,
    "start_time": "2023-07-06T02:17:24.315Z"
   },
   {
    "duration": 3,
    "start_time": "2023-07-06T02:17:51.873Z"
   },
   {
    "duration": 303,
    "start_time": "2023-07-06T02:18:04.818Z"
   },
   {
    "duration": 269,
    "start_time": "2023-07-06T02:18:18.918Z"
   },
   {
    "duration": 13,
    "start_time": "2023-07-06T02:18:32.247Z"
   },
   {
    "duration": 112,
    "start_time": "2023-07-06T02:18:56.373Z"
   },
   {
    "duration": 361,
    "start_time": "2023-07-06T02:19:18.635Z"
   },
   {
    "duration": 31,
    "start_time": "2023-07-06T02:20:03.694Z"
   },
   {
    "duration": 22,
    "start_time": "2023-07-06T02:21:16.490Z"
   },
   {
    "duration": 9,
    "start_time": "2023-07-06T02:22:30.076Z"
   },
   {
    "duration": 19,
    "start_time": "2023-07-06T02:23:17.081Z"
   },
   {
    "duration": 21,
    "start_time": "2023-07-06T02:23:46.601Z"
   },
   {
    "duration": 17,
    "start_time": "2023-07-06T02:24:32.896Z"
   },
   {
    "duration": 22,
    "start_time": "2023-07-06T02:25:25.694Z"
   },
   {
    "duration": 23,
    "start_time": "2023-07-06T02:26:37.334Z"
   },
   {
    "duration": 127,
    "start_time": "2023-07-06T02:27:00.108Z"
   },
   {
    "duration": 13,
    "start_time": "2023-07-06T02:27:12.458Z"
   },
   {
    "duration": 103,
    "start_time": "2023-07-06T02:27:26.105Z"
   },
   {
    "duration": 103,
    "start_time": "2023-07-06T02:27:55.670Z"
   },
   {
    "duration": 112,
    "start_time": "2023-07-06T02:28:00.317Z"
   },
   {
    "duration": 108,
    "start_time": "2023-07-06T02:28:10.838Z"
   },
   {
    "duration": 111,
    "start_time": "2023-07-06T02:28:29.163Z"
   },
   {
    "duration": 105,
    "start_time": "2023-07-06T02:29:36.667Z"
   },
   {
    "duration": 89,
    "start_time": "2023-07-06T02:30:41.334Z"
   },
   {
    "duration": 107,
    "start_time": "2023-07-06T02:30:55.676Z"
   },
   {
    "duration": 108,
    "start_time": "2023-07-06T02:31:07.968Z"
   },
   {
    "duration": 112,
    "start_time": "2023-07-06T02:32:48.464Z"
   },
   {
    "duration": 109,
    "start_time": "2023-07-06T02:32:58.666Z"
   },
   {
    "duration": 118,
    "start_time": "2023-07-06T02:33:18.492Z"
   },
   {
    "duration": 117,
    "start_time": "2023-07-06T02:33:36.885Z"
   },
   {
    "duration": 220,
    "start_time": "2023-07-06T02:33:42.318Z"
   },
   {
    "duration": 10,
    "start_time": "2023-07-06T02:34:02.680Z"
   },
   {
    "duration": 246,
    "start_time": "2023-07-06T02:34:13.480Z"
   },
   {
    "duration": 241,
    "start_time": "2023-07-06T02:34:43.300Z"
   },
   {
    "duration": 234,
    "start_time": "2023-07-06T02:35:02.831Z"
   },
   {
    "duration": 241,
    "start_time": "2023-07-06T02:35:21.958Z"
   },
   {
    "duration": 234,
    "start_time": "2023-07-06T02:35:33.042Z"
   },
   {
    "duration": 341,
    "start_time": "2023-07-06T02:35:38.398Z"
   },
   {
    "duration": 231,
    "start_time": "2023-07-06T02:35:46.307Z"
   },
   {
    "duration": 245,
    "start_time": "2023-07-06T02:36:17.566Z"
   },
   {
    "duration": 269,
    "start_time": "2023-07-06T02:36:30.397Z"
   },
   {
    "duration": 246,
    "start_time": "2023-07-06T02:36:39.296Z"
   },
   {
    "duration": 370,
    "start_time": "2023-07-06T02:38:12.470Z"
   },
   {
    "duration": 270,
    "start_time": "2023-07-06T02:38:19.233Z"
   },
   {
    "duration": 264,
    "start_time": "2023-07-06T02:38:34.458Z"
   },
   {
    "duration": 9,
    "start_time": "2023-07-06T02:39:02.859Z"
   },
   {
    "duration": 251,
    "start_time": "2023-07-06T02:40:18.284Z"
   },
   {
    "duration": 313,
    "start_time": "2023-07-06T02:49:50.604Z"
   },
   {
    "duration": 260,
    "start_time": "2023-07-06T02:49:57.365Z"
   },
   {
    "duration": 143,
    "start_time": "2023-07-06T02:51:47.345Z"
   },
   {
    "duration": 245,
    "start_time": "2023-07-06T02:52:00.457Z"
   },
   {
    "duration": 121,
    "start_time": "2023-07-06T02:52:31.668Z"
   },
   {
    "duration": 15,
    "start_time": "2023-07-06T02:56:08.267Z"
   },
   {
    "duration": 39,
    "start_time": "2023-07-06T02:56:36.325Z"
   },
   {
    "duration": 7,
    "start_time": "2023-07-06T02:56:58.630Z"
   },
   {
    "duration": 139,
    "start_time": "2023-07-06T02:57:05.881Z"
   },
   {
    "duration": 152,
    "start_time": "2023-07-06T02:58:02.918Z"
   },
   {
    "duration": 135,
    "start_time": "2023-07-06T03:00:54.480Z"
   },
   {
    "duration": 132,
    "start_time": "2023-07-06T03:01:01.140Z"
   },
   {
    "duration": 148,
    "start_time": "2023-07-06T03:01:45.293Z"
   },
   {
    "duration": 144,
    "start_time": "2023-07-06T03:01:56.878Z"
   },
   {
    "duration": 151,
    "start_time": "2023-07-06T03:02:34.270Z"
   },
   {
    "duration": 149,
    "start_time": "2023-07-06T03:03:03.163Z"
   },
   {
    "duration": 149,
    "start_time": "2023-07-06T03:03:36.090Z"
   },
   {
    "duration": 154,
    "start_time": "2023-07-06T03:04:28.607Z"
   },
   {
    "duration": 141,
    "start_time": "2023-07-06T03:04:43.916Z"
   },
   {
    "duration": 145,
    "start_time": "2023-07-06T03:05:36.073Z"
   },
   {
    "duration": 24,
    "start_time": "2023-07-06T03:06:21.407Z"
   },
   {
    "duration": 142,
    "start_time": "2023-07-06T03:08:01.828Z"
   },
   {
    "duration": 269,
    "start_time": "2023-07-06T03:09:35.773Z"
   },
   {
    "duration": 26,
    "start_time": "2023-07-06T03:10:13.162Z"
   },
   {
    "duration": 33,
    "start_time": "2023-07-06T03:10:35.931Z"
   },
   {
    "duration": 145,
    "start_time": "2023-07-06T03:10:46.493Z"
   },
   {
    "duration": 143,
    "start_time": "2023-07-06T03:10:51.163Z"
   },
   {
    "duration": 138,
    "start_time": "2023-07-06T03:11:27.846Z"
   },
   {
    "duration": 154,
    "start_time": "2023-07-06T03:11:33.147Z"
   },
   {
    "duration": 150,
    "start_time": "2023-07-06T03:12:05.418Z"
   },
   {
    "duration": 118,
    "start_time": "2023-07-06T03:12:44.726Z"
   },
   {
    "duration": 184,
    "start_time": "2023-07-06T03:13:55.286Z"
   },
   {
    "duration": 141,
    "start_time": "2023-07-06T03:14:04.609Z"
   },
   {
    "duration": 27,
    "start_time": "2023-07-06T03:14:14.950Z"
   },
   {
    "duration": 10,
    "start_time": "2023-07-06T03:14:46.013Z"
   },
   {
    "duration": 10,
    "start_time": "2023-07-06T03:15:14.886Z"
   },
   {
    "duration": 10,
    "start_time": "2023-07-06T03:15:41.915Z"
   },
   {
    "duration": 154,
    "start_time": "2023-07-06T03:16:08.746Z"
   },
   {
    "duration": 135,
    "start_time": "2023-07-06T03:18:31.874Z"
   },
   {
    "duration": 128,
    "start_time": "2023-07-06T03:19:02.441Z"
   },
   {
    "duration": 129,
    "start_time": "2023-07-06T03:22:43.669Z"
   },
   {
    "duration": 138,
    "start_time": "2023-07-06T03:22:53.402Z"
   },
   {
    "duration": 134,
    "start_time": "2023-07-06T03:23:19.131Z"
   },
   {
    "duration": 118,
    "start_time": "2023-07-06T03:23:33.997Z"
   },
   {
    "duration": 254,
    "start_time": "2023-07-06T03:24:22.089Z"
   },
   {
    "duration": 129,
    "start_time": "2023-07-06T03:24:33.686Z"
   },
   {
    "duration": 306,
    "start_time": "2023-07-06T03:24:57.714Z"
   },
   {
    "duration": 170,
    "start_time": "2023-07-06T03:25:05.292Z"
   },
   {
    "duration": 140,
    "start_time": "2023-07-06T03:25:33.699Z"
   },
   {
    "duration": 7,
    "start_time": "2023-07-06T03:27:03.395Z"
   },
   {
    "duration": 13,
    "start_time": "2023-07-06T03:27:34.137Z"
   },
   {
    "duration": 163,
    "start_time": "2023-07-06T03:28:30.449Z"
   },
   {
    "duration": 14,
    "start_time": "2023-07-06T03:30:21.388Z"
   },
   {
    "duration": 12,
    "start_time": "2023-07-06T03:30:48.130Z"
   },
   {
    "duration": 4041,
    "start_time": "2023-07-06T03:31:10.529Z"
   },
   {
    "duration": 15,
    "start_time": "2023-07-06T03:31:59.948Z"
   },
   {
    "duration": 15,
    "start_time": "2023-07-06T03:32:10.564Z"
   },
   {
    "duration": 9,
    "start_time": "2023-07-06T03:32:53.615Z"
   },
   {
    "duration": 10,
    "start_time": "2023-07-06T03:33:11.500Z"
   },
   {
    "duration": 9,
    "start_time": "2023-07-06T03:33:27.103Z"
   },
   {
    "duration": 13,
    "start_time": "2023-07-06T03:33:41.643Z"
   },
   {
    "duration": 7,
    "start_time": "2023-07-06T03:36:14.811Z"
   },
   {
    "duration": 8,
    "start_time": "2023-07-06T03:37:03.226Z"
   },
   {
    "duration": 7,
    "start_time": "2023-07-06T03:37:40.343Z"
   },
   {
    "duration": 139,
    "start_time": "2023-07-06T03:37:53.505Z"
   },
   {
    "duration": 10,
    "start_time": "2023-07-06T03:38:53.557Z"
   },
   {
    "duration": 10,
    "start_time": "2023-07-06T03:39:02.118Z"
   },
   {
    "duration": 9,
    "start_time": "2023-07-06T03:39:18.104Z"
   },
   {
    "duration": 8,
    "start_time": "2023-07-06T03:39:44.147Z"
   },
   {
    "duration": 9,
    "start_time": "2023-07-06T03:39:57.539Z"
   },
   {
    "duration": 9,
    "start_time": "2023-07-06T03:40:14.340Z"
   },
   {
    "duration": 290,
    "start_time": "2023-07-06T03:41:00.665Z"
   },
   {
    "duration": 9,
    "start_time": "2023-07-06T03:41:14.174Z"
   },
   {
    "duration": 22,
    "start_time": "2023-07-06T03:41:57.870Z"
   },
   {
    "duration": 24,
    "start_time": "2023-07-06T03:42:12.863Z"
   },
   {
    "duration": 26,
    "start_time": "2023-07-06T03:42:45.798Z"
   },
   {
    "duration": 27,
    "start_time": "2023-07-06T03:42:59.889Z"
   },
   {
    "duration": 24,
    "start_time": "2023-07-06T03:43:16.961Z"
   },
   {
    "duration": 114,
    "start_time": "2023-07-06T03:47:08.072Z"
   },
   {
    "duration": 143,
    "start_time": "2023-07-06T03:47:32.602Z"
   },
   {
    "duration": 144,
    "start_time": "2023-07-06T03:48:17.588Z"
   },
   {
    "duration": 148,
    "start_time": "2023-07-06T03:48:26.782Z"
   },
   {
    "duration": 150,
    "start_time": "2023-07-06T03:48:46.826Z"
   },
   {
    "duration": 152,
    "start_time": "2023-07-06T03:48:54.451Z"
   },
   {
    "duration": 132,
    "start_time": "2023-07-06T03:49:51.538Z"
   },
   {
    "duration": 15,
    "start_time": "2023-07-06T03:50:28.505Z"
   },
   {
    "duration": 14,
    "start_time": "2023-07-06T03:51:23.534Z"
   },
   {
    "duration": 142,
    "start_time": "2023-07-06T03:52:22.278Z"
   },
   {
    "duration": 268,
    "start_time": "2023-07-06T03:53:01.356Z"
   },
   {
    "duration": 317,
    "start_time": "2023-07-06T03:59:32.950Z"
   },
   {
    "duration": 34,
    "start_time": "2023-07-06T04:05:44.964Z"
   },
   {
    "duration": 34,
    "start_time": "2023-07-06T04:06:53.819Z"
   },
   {
    "duration": 9,
    "start_time": "2023-07-06T04:07:03.330Z"
   },
   {
    "duration": 7,
    "start_time": "2023-07-06T04:07:07.909Z"
   },
   {
    "duration": 15,
    "start_time": "2023-07-06T04:07:20.951Z"
   },
   {
    "duration": 15,
    "start_time": "2023-07-06T04:07:33.252Z"
   },
   {
    "duration": 26,
    "start_time": "2023-07-06T04:07:50.485Z"
   },
   {
    "duration": 253,
    "start_time": "2023-07-06T04:08:33.319Z"
   },
   {
    "duration": 308,
    "start_time": "2023-07-06T04:09:30.848Z"
   },
   {
    "duration": 269,
    "start_time": "2023-07-06T04:10:16.128Z"
   },
   {
    "duration": 576,
    "start_time": "2023-07-06T04:15:20.554Z"
   },
   {
    "duration": 612,
    "start_time": "2023-07-06T04:15:55.561Z"
   },
   {
    "duration": 675,
    "start_time": "2023-07-06T04:16:48.494Z"
   },
   {
    "duration": 455,
    "start_time": "2023-07-06T04:18:29.162Z"
   },
   {
    "duration": 565,
    "start_time": "2023-07-06T04:18:42.706Z"
   },
   {
    "duration": 357,
    "start_time": "2023-07-06T04:20:25.946Z"
   },
   {
    "duration": 415,
    "start_time": "2023-07-06T04:20:43.500Z"
   },
   {
    "duration": 789,
    "start_time": "2023-07-06T04:20:55.315Z"
   },
   {
    "duration": 551,
    "start_time": "2023-07-06T04:21:05.070Z"
   },
   {
    "duration": 590,
    "start_time": "2023-07-06T04:21:19.811Z"
   },
   {
    "duration": 169,
    "start_time": "2023-07-06T04:22:45.971Z"
   },
   {
    "duration": 163,
    "start_time": "2023-07-06T04:22:51.650Z"
   },
   {
    "duration": 153,
    "start_time": "2023-07-06T04:22:59.334Z"
   },
   {
    "duration": 550,
    "start_time": "2023-07-06T04:23:09.318Z"
   },
   {
    "duration": 712,
    "start_time": "2023-07-06T04:23:35.466Z"
   },
   {
    "duration": 1388,
    "start_time": "2023-07-06T04:24:39.027Z"
   },
   {
    "duration": 131,
    "start_time": "2023-07-06T04:34:01.821Z"
   },
   {
    "duration": 1541,
    "start_time": "2023-07-06T04:34:12.933Z"
   },
   {
    "duration": 1626,
    "start_time": "2023-07-06T04:34:39.865Z"
   },
   {
    "duration": 1432,
    "start_time": "2023-07-06T04:36:08.260Z"
   },
   {
    "duration": 1527,
    "start_time": "2023-07-06T04:36:22.075Z"
   },
   {
    "duration": 334,
    "start_time": "2023-07-06T04:36:57.171Z"
   },
   {
    "duration": 312,
    "start_time": "2023-07-06T04:37:06.318Z"
   },
   {
    "duration": 10,
    "start_time": "2023-07-06T04:40:50.850Z"
   },
   {
    "duration": 30,
    "start_time": "2023-07-06T04:41:12.644Z"
   },
   {
    "duration": 29,
    "start_time": "2023-07-06T04:42:34.853Z"
   },
   {
    "duration": 2861,
    "start_time": "2023-07-06T04:43:34.621Z"
   },
   {
    "duration": 1364,
    "start_time": "2023-07-06T04:43:58.535Z"
   },
   {
    "duration": 1627,
    "start_time": "2023-07-06T04:44:08.380Z"
   },
   {
    "duration": 43,
    "start_time": "2023-07-06T04:44:47.839Z"
   },
   {
    "duration": 29,
    "start_time": "2023-07-06T04:46:35.648Z"
   },
   {
    "duration": 16,
    "start_time": "2023-07-06T04:46:58.109Z"
   },
   {
    "duration": 3,
    "start_time": "2023-07-06T04:49:31.270Z"
   },
   {
    "duration": 13,
    "start_time": "2023-07-06T04:51:15.596Z"
   },
   {
    "duration": 100,
    "start_time": "2023-07-06T04:52:21.667Z"
   },
   {
    "duration": 107,
    "start_time": "2023-07-06T04:52:38.323Z"
   },
   {
    "duration": 17,
    "start_time": "2023-07-06T04:53:36.987Z"
   },
   {
    "duration": 17,
    "start_time": "2023-07-06T04:54:15.700Z"
   },
   {
    "duration": 186,
    "start_time": "2023-07-06T04:58:25.548Z"
   },
   {
    "duration": 203,
    "start_time": "2023-07-06T05:04:24.949Z"
   },
   {
    "duration": 118,
    "start_time": "2023-07-06T05:04:42.799Z"
   },
   {
    "duration": 11,
    "start_time": "2023-07-06T05:06:57.934Z"
   },
   {
    "duration": 10,
    "start_time": "2023-07-06T05:07:23.838Z"
   },
   {
    "duration": 166,
    "start_time": "2023-07-06T05:09:10.895Z"
   },
   {
    "duration": 159,
    "start_time": "2023-07-06T05:09:18.568Z"
   },
   {
    "duration": 203,
    "start_time": "2023-07-06T05:10:30.313Z"
   },
   {
    "duration": 172,
    "start_time": "2023-07-06T05:10:40.137Z"
   },
   {
    "duration": 172,
    "start_time": "2023-07-06T05:13:14.485Z"
   },
   {
    "duration": 289,
    "start_time": "2023-07-06T05:18:13.510Z"
   },
   {
    "duration": 182,
    "start_time": "2023-07-06T05:18:56.177Z"
   },
   {
    "duration": 168,
    "start_time": "2023-07-06T05:19:02.706Z"
   },
   {
    "duration": 8,
    "start_time": "2023-07-06T05:20:48.442Z"
   },
   {
    "duration": 9,
    "start_time": "2023-07-06T05:21:14.986Z"
   },
   {
    "duration": 8,
    "start_time": "2023-07-06T05:22:34.696Z"
   },
   {
    "duration": 20,
    "start_time": "2023-07-06T05:25:19.047Z"
   },
   {
    "duration": 31,
    "start_time": "2023-07-06T05:25:35.743Z"
   },
   {
    "duration": 7,
    "start_time": "2023-07-06T05:28:13.372Z"
   },
   {
    "duration": 8,
    "start_time": "2023-07-06T05:29:05.642Z"
   },
   {
    "duration": 8,
    "start_time": "2023-07-06T05:29:22.896Z"
   },
   {
    "duration": 7,
    "start_time": "2023-07-06T05:29:28.993Z"
   },
   {
    "duration": 132,
    "start_time": "2023-07-06T05:30:50.854Z"
   },
   {
    "duration": 150,
    "start_time": "2023-07-06T05:31:40.192Z"
   },
   {
    "duration": 8,
    "start_time": "2023-07-06T05:32:18.337Z"
   },
   {
    "duration": 16,
    "start_time": "2023-07-06T05:32:47.717Z"
   },
   {
    "duration": 14,
    "start_time": "2023-07-06T05:33:05.711Z"
   },
   {
    "duration": 142,
    "start_time": "2023-07-06T05:33:34.312Z"
   },
   {
    "duration": 124,
    "start_time": "2023-07-06T05:34:04.778Z"
   },
   {
    "duration": 13,
    "start_time": "2023-07-06T05:34:16.162Z"
   },
   {
    "duration": 132,
    "start_time": "2023-07-06T05:34:28.072Z"
   },
   {
    "duration": 152,
    "start_time": "2023-07-06T05:34:39.720Z"
   },
   {
    "duration": 142,
    "start_time": "2023-07-06T05:34:54.491Z"
   },
   {
    "duration": 117,
    "start_time": "2023-07-06T05:35:14.021Z"
   },
   {
    "duration": 124,
    "start_time": "2023-07-06T05:35:22.941Z"
   },
   {
    "duration": 113,
    "start_time": "2023-07-06T05:35:28.273Z"
   },
   {
    "duration": 117,
    "start_time": "2023-07-06T05:36:20.540Z"
   },
   {
    "duration": 173,
    "start_time": "2023-07-06T05:45:37.415Z"
   },
   {
    "duration": 12,
    "start_time": "2023-07-06T05:51:24.186Z"
   },
   {
    "duration": 15,
    "start_time": "2023-07-06T05:51:43.191Z"
   },
   {
    "duration": 315,
    "start_time": "2023-07-06T05:57:05.707Z"
   },
   {
    "duration": 182,
    "start_time": "2023-07-06T05:59:06.340Z"
   },
   {
    "duration": 186,
    "start_time": "2023-07-06T06:00:39.201Z"
   },
   {
    "duration": 181,
    "start_time": "2023-07-06T06:04:45.097Z"
   },
   {
    "duration": 110,
    "start_time": "2023-07-06T06:06:27.832Z"
   },
   {
    "duration": 107,
    "start_time": "2023-07-06T06:06:57.464Z"
   },
   {
    "duration": 121,
    "start_time": "2023-07-06T06:10:45.708Z"
   },
   {
    "duration": 88,
    "start_time": "2023-07-06T06:13:31.178Z"
   },
   {
    "duration": 181,
    "start_time": "2023-07-06T06:14:09.761Z"
   },
   {
    "duration": 94,
    "start_time": "2023-07-06T06:15:37.286Z"
   },
   {
    "duration": 8,
    "start_time": "2023-07-06T06:30:56.926Z"
   },
   {
    "duration": 8,
    "start_time": "2023-07-06T06:31:05.393Z"
   },
   {
    "duration": 10,
    "start_time": "2023-07-06T06:32:09.080Z"
   },
   {
    "duration": 8,
    "start_time": "2023-07-06T06:32:21.397Z"
   },
   {
    "duration": 11,
    "start_time": "2023-07-06T06:33:05.747Z"
   },
   {
    "duration": 17,
    "start_time": "2023-07-06T06:33:27.483Z"
   },
   {
    "duration": 15,
    "start_time": "2023-07-06T06:35:13.191Z"
   },
   {
    "duration": 3,
    "start_time": "2023-07-06T06:36:04.856Z"
   },
   {
    "duration": 20,
    "start_time": "2023-07-06T06:36:10.434Z"
   },
   {
    "duration": 12,
    "start_time": "2023-07-06T06:36:31.034Z"
   },
   {
    "duration": 11,
    "start_time": "2023-07-06T06:36:38.886Z"
   },
   {
    "duration": 13,
    "start_time": "2023-07-06T06:37:26.675Z"
   },
   {
    "duration": 12,
    "start_time": "2023-07-06T06:37:50.475Z"
   },
   {
    "duration": 10,
    "start_time": "2023-07-06T06:38:06.601Z"
   },
   {
    "duration": 9,
    "start_time": "2023-07-06T06:38:19.061Z"
   },
   {
    "duration": 11,
    "start_time": "2023-07-06T06:38:27.555Z"
   },
   {
    "duration": 10,
    "start_time": "2023-07-06T06:38:35.916Z"
   },
   {
    "duration": 12,
    "start_time": "2023-07-06T06:38:50.397Z"
   },
   {
    "duration": 10,
    "start_time": "2023-07-06T06:39:01.027Z"
   },
   {
    "duration": 12,
    "start_time": "2023-07-06T06:39:12.286Z"
   },
   {
    "duration": 10,
    "start_time": "2023-07-06T06:39:29.811Z"
   },
   {
    "duration": 12,
    "start_time": "2023-07-06T06:41:01.855Z"
   },
   {
    "duration": 16,
    "start_time": "2023-07-06T06:41:57.680Z"
   },
   {
    "duration": 12,
    "start_time": "2023-07-06T06:42:10.101Z"
   },
   {
    "duration": 12,
    "start_time": "2023-07-06T06:42:27.489Z"
   },
   {
    "duration": 11,
    "start_time": "2023-07-06T06:44:26.479Z"
   },
   {
    "duration": 15,
    "start_time": "2023-07-06T06:45:04.102Z"
   },
   {
    "duration": 17,
    "start_time": "2023-07-06T06:45:21.121Z"
   },
   {
    "duration": 22,
    "start_time": "2023-07-06T06:45:40.387Z"
   },
   {
    "duration": 11,
    "start_time": "2023-07-06T06:46:12.756Z"
   },
   {
    "duration": 5,
    "start_time": "2023-07-06T06:48:38.680Z"
   },
   {
    "duration": 5,
    "start_time": "2023-07-06T06:48:43.346Z"
   },
   {
    "duration": 4,
    "start_time": "2023-07-06T06:48:48.339Z"
   },
   {
    "duration": 5,
    "start_time": "2023-07-06T06:49:00.776Z"
   },
   {
    "duration": 5,
    "start_time": "2023-07-06T06:49:09.043Z"
   },
   {
    "duration": 1200,
    "start_time": "2023-07-06T06:49:50.194Z"
   },
   {
    "duration": 72,
    "start_time": "2023-07-06T06:49:51.395Z"
   },
   {
    "duration": 14,
    "start_time": "2023-07-06T06:49:51.468Z"
   },
   {
    "duration": 52,
    "start_time": "2023-07-06T06:49:51.484Z"
   },
   {
    "duration": 15,
    "start_time": "2023-07-06T06:49:51.538Z"
   },
   {
    "duration": 24,
    "start_time": "2023-07-06T06:49:51.555Z"
   },
   {
    "duration": 34,
    "start_time": "2023-07-06T06:49:51.581Z"
   },
   {
    "duration": 32,
    "start_time": "2023-07-06T06:49:51.616Z"
   },
   {
    "duration": 34,
    "start_time": "2023-07-06T06:49:51.649Z"
   },
   {
    "duration": 10,
    "start_time": "2023-07-06T06:49:51.686Z"
   },
   {
    "duration": 28,
    "start_time": "2023-07-06T06:49:51.698Z"
   },
   {
    "duration": 17,
    "start_time": "2023-07-06T06:49:51.727Z"
   },
   {
    "duration": 9,
    "start_time": "2023-07-06T06:49:51.746Z"
   },
   {
    "duration": 17,
    "start_time": "2023-07-06T06:49:51.756Z"
   },
   {
    "duration": 32,
    "start_time": "2023-07-06T06:49:51.775Z"
   },
   {
    "duration": 281,
    "start_time": "2023-07-06T06:49:51.809Z"
   },
   {
    "duration": 21,
    "start_time": "2023-07-06T06:49:52.092Z"
   },
   {
    "duration": 326,
    "start_time": "2023-07-06T06:49:52.115Z"
   },
   {
    "duration": 355,
    "start_time": "2023-07-06T06:49:52.444Z"
   },
   {
    "duration": 349,
    "start_time": "2023-07-06T06:49:52.802Z"
   },
   {
    "duration": 347,
    "start_time": "2023-07-06T06:49:53.153Z"
   },
   {
    "duration": 1391,
    "start_time": "2023-07-06T06:49:53.502Z"
   },
   {
    "duration": 191,
    "start_time": "2023-07-06T06:49:54.894Z"
   },
   {
    "duration": 260,
    "start_time": "2023-07-06T06:49:55.087Z"
   },
   {
    "duration": 122,
    "start_time": "2023-07-06T06:49:55.352Z"
   },
   {
    "duration": 177,
    "start_time": "2023-07-06T06:49:55.475Z"
   },
   {
    "duration": 103,
    "start_time": "2023-07-06T06:49:55.653Z"
   },
   {
    "duration": 0,
    "start_time": "2023-07-06T06:49:55.758Z"
   },
   {
    "duration": 0,
    "start_time": "2023-07-06T06:49:55.760Z"
   },
   {
    "duration": 0,
    "start_time": "2023-07-06T06:49:55.761Z"
   },
   {
    "duration": 0,
    "start_time": "2023-07-06T06:49:55.762Z"
   },
   {
    "duration": 0,
    "start_time": "2023-07-06T06:49:55.763Z"
   },
   {
    "duration": 0,
    "start_time": "2023-07-06T06:49:55.765Z"
   },
   {
    "duration": 1,
    "start_time": "2023-07-06T06:49:55.766Z"
   },
   {
    "duration": 16,
    "start_time": "2023-07-06T06:50:11.478Z"
   },
   {
    "duration": 7,
    "start_time": "2023-07-06T06:50:43.632Z"
   },
   {
    "duration": 3,
    "start_time": "2023-07-06T06:55:08.187Z"
   },
   {
    "duration": 5,
    "start_time": "2023-07-06T06:55:18.414Z"
   },
   {
    "duration": 5,
    "start_time": "2023-07-06T06:56:07.757Z"
   },
   {
    "duration": 103,
    "start_time": "2023-07-06T06:58:19.190Z"
   },
   {
    "duration": 22,
    "start_time": "2023-07-06T06:58:48.826Z"
   },
   {
    "duration": 11,
    "start_time": "2023-07-06T06:59:05.155Z"
   },
   {
    "duration": 13,
    "start_time": "2023-07-06T06:59:50.422Z"
   },
   {
    "duration": 11,
    "start_time": "2023-07-06T07:01:37.546Z"
   },
   {
    "duration": 12,
    "start_time": "2023-07-06T07:01:56.503Z"
   },
   {
    "duration": 12,
    "start_time": "2023-07-06T07:02:39.465Z"
   },
   {
    "duration": 12,
    "start_time": "2023-07-06T07:03:12.898Z"
   },
   {
    "duration": 11,
    "start_time": "2023-07-06T07:03:27.086Z"
   },
   {
    "duration": 11,
    "start_time": "2023-07-06T07:04:59.727Z"
   },
   {
    "duration": 14,
    "start_time": "2023-07-06T07:05:15.235Z"
   },
   {
    "duration": 13,
    "start_time": "2023-07-06T07:05:40.298Z"
   },
   {
    "duration": 12,
    "start_time": "2023-07-06T07:06:17.284Z"
   },
   {
    "duration": 12,
    "start_time": "2023-07-06T07:06:44.901Z"
   },
   {
    "duration": 86,
    "start_time": "2023-07-06T07:06:55.662Z"
   },
   {
    "duration": 13,
    "start_time": "2023-07-06T07:07:01.491Z"
   },
   {
    "duration": 13,
    "start_time": "2023-07-06T07:08:48.683Z"
   },
   {
    "duration": 13,
    "start_time": "2023-07-06T07:09:04.864Z"
   },
   {
    "duration": 13,
    "start_time": "2023-07-06T07:11:23.346Z"
   },
   {
    "duration": 12,
    "start_time": "2023-07-06T07:11:26.640Z"
   },
   {
    "duration": 12,
    "start_time": "2023-07-06T07:12:59.087Z"
   },
   {
    "duration": 12,
    "start_time": "2023-07-06T07:13:56.607Z"
   },
   {
    "duration": 12,
    "start_time": "2023-07-06T07:14:14.780Z"
   },
   {
    "duration": 14,
    "start_time": "2023-07-06T07:15:02.153Z"
   },
   {
    "duration": 12,
    "start_time": "2023-07-06T07:15:15.520Z"
   },
   {
    "duration": 11,
    "start_time": "2023-07-06T07:18:54.700Z"
   },
   {
    "duration": 11,
    "start_time": "2023-07-06T07:19:09.941Z"
   },
   {
    "duration": 14,
    "start_time": "2023-07-06T07:19:20.432Z"
   },
   {
    "duration": 1254,
    "start_time": "2023-07-06T07:25:25.133Z"
   },
   {
    "duration": 71,
    "start_time": "2023-07-06T07:25:26.389Z"
   },
   {
    "duration": 13,
    "start_time": "2023-07-06T07:25:26.461Z"
   },
   {
    "duration": 27,
    "start_time": "2023-07-06T07:25:26.475Z"
   },
   {
    "duration": 14,
    "start_time": "2023-07-06T07:25:26.504Z"
   },
   {
    "duration": 36,
    "start_time": "2023-07-06T07:25:26.519Z"
   },
   {
    "duration": 10,
    "start_time": "2023-07-06T07:25:26.557Z"
   },
   {
    "duration": 19,
    "start_time": "2023-07-06T07:25:26.568Z"
   },
   {
    "duration": 9,
    "start_time": "2023-07-06T07:25:26.589Z"
   },
   {
    "duration": 8,
    "start_time": "2023-07-06T07:25:26.600Z"
   },
   {
    "duration": 10,
    "start_time": "2023-07-06T07:25:26.609Z"
   },
   {
    "duration": 13,
    "start_time": "2023-07-06T07:25:26.620Z"
   },
   {
    "duration": 7,
    "start_time": "2023-07-06T07:25:26.651Z"
   },
   {
    "duration": 7,
    "start_time": "2023-07-06T07:25:26.662Z"
   },
   {
    "duration": 18,
    "start_time": "2023-07-06T07:25:26.671Z"
   },
   {
    "duration": 295,
    "start_time": "2023-07-06T07:25:26.691Z"
   },
   {
    "duration": 19,
    "start_time": "2023-07-06T07:25:26.988Z"
   },
   {
    "duration": 314,
    "start_time": "2023-07-06T07:25:27.009Z"
   },
   {
    "duration": 330,
    "start_time": "2023-07-06T07:25:27.326Z"
   },
   {
    "duration": 349,
    "start_time": "2023-07-06T07:25:27.658Z"
   },
   {
    "duration": 416,
    "start_time": "2023-07-06T07:25:28.009Z"
   },
   {
    "duration": 1472,
    "start_time": "2023-07-06T07:25:28.427Z"
   },
   {
    "duration": 207,
    "start_time": "2023-07-06T07:25:29.901Z"
   },
   {
    "duration": 288,
    "start_time": "2023-07-06T07:25:30.110Z"
   },
   {
    "duration": 139,
    "start_time": "2023-07-06T07:25:30.400Z"
   },
   {
    "duration": 189,
    "start_time": "2023-07-06T07:25:30.540Z"
   },
   {
    "duration": 367,
    "start_time": "2023-07-06T07:25:30.731Z"
   },
   {
    "duration": 233,
    "start_time": "2023-07-06T07:25:31.100Z"
   },
   {
    "duration": 127,
    "start_time": "2023-07-06T07:25:31.335Z"
   },
   {
    "duration": 214,
    "start_time": "2023-07-06T07:25:31.463Z"
   },
   {
    "duration": 184,
    "start_time": "2023-07-06T07:25:31.678Z"
   },
   {
    "duration": 130,
    "start_time": "2023-07-06T07:25:31.864Z"
   },
   {
    "duration": 200,
    "start_time": "2023-07-06T07:25:31.996Z"
   },
   {
    "duration": 11,
    "start_time": "2023-07-06T07:25:32.198Z"
   },
   {
    "duration": 13,
    "start_time": "2023-07-06T07:25:32.211Z"
   },
   {
    "duration": 1135,
    "start_time": "2023-07-06T07:31:44.096Z"
   },
   {
    "duration": 128,
    "start_time": "2023-07-06T07:31:45.233Z"
   },
   {
    "duration": 20,
    "start_time": "2023-07-06T07:31:45.364Z"
   },
   {
    "duration": 43,
    "start_time": "2023-07-06T07:31:45.387Z"
   },
   {
    "duration": 21,
    "start_time": "2023-07-06T07:31:45.431Z"
   },
   {
    "duration": 21,
    "start_time": "2023-07-06T07:31:45.454Z"
   },
   {
    "duration": 10,
    "start_time": "2023-07-06T07:31:45.477Z"
   },
   {
    "duration": 11,
    "start_time": "2023-07-06T07:31:45.489Z"
   },
   {
    "duration": 11,
    "start_time": "2023-07-06T07:31:45.502Z"
   },
   {
    "duration": 38,
    "start_time": "2023-07-06T07:31:45.515Z"
   },
   {
    "duration": 9,
    "start_time": "2023-07-06T07:31:45.554Z"
   },
   {
    "duration": 10,
    "start_time": "2023-07-06T07:31:45.564Z"
   },
   {
    "duration": 9,
    "start_time": "2023-07-06T07:31:45.575Z"
   },
   {
    "duration": 9,
    "start_time": "2023-07-06T07:31:45.586Z"
   },
   {
    "duration": 16,
    "start_time": "2023-07-06T07:31:45.596Z"
   },
   {
    "duration": 308,
    "start_time": "2023-07-06T07:31:45.614Z"
   },
   {
    "duration": 18,
    "start_time": "2023-07-06T07:31:45.924Z"
   },
   {
    "duration": 318,
    "start_time": "2023-07-06T07:31:45.952Z"
   },
   {
    "duration": 332,
    "start_time": "2023-07-06T07:31:46.272Z"
   },
   {
    "duration": 345,
    "start_time": "2023-07-06T07:31:46.605Z"
   },
   {
    "duration": 355,
    "start_time": "2023-07-06T07:31:46.952Z"
   },
   {
    "duration": 2156,
    "start_time": "2023-07-06T07:31:47.308Z"
   },
   {
    "duration": 491,
    "start_time": "2023-07-06T07:31:49.466Z"
   },
   {
    "duration": 614,
    "start_time": "2023-07-06T07:31:49.959Z"
   },
   {
    "duration": 135,
    "start_time": "2023-07-06T07:31:50.575Z"
   },
   {
    "duration": 201,
    "start_time": "2023-07-06T07:31:50.712Z"
   },
   {
    "duration": 15,
    "start_time": "2023-07-06T07:31:50.914Z"
   },
   {
    "duration": 210,
    "start_time": "2023-07-06T07:31:50.932Z"
   },
   {
    "duration": 123,
    "start_time": "2023-07-06T07:31:51.144Z"
   },
   {
    "duration": 213,
    "start_time": "2023-07-06T07:31:51.269Z"
   },
   {
    "duration": 199,
    "start_time": "2023-07-06T07:31:51.483Z"
   },
   {
    "duration": 144,
    "start_time": "2023-07-06T07:31:51.684Z"
   },
   {
    "duration": 216,
    "start_time": "2023-07-06T07:31:51.831Z"
   },
   {
    "duration": 12,
    "start_time": "2023-07-06T07:31:52.051Z"
   },
   {
    "duration": 63,
    "start_time": "2023-07-06T07:31:52.064Z"
   },
   {
    "duration": 1432,
    "start_time": "2023-07-06T11:10:59.644Z"
   },
   {
    "duration": 114,
    "start_time": "2023-07-06T11:11:01.078Z"
   },
   {
    "duration": 13,
    "start_time": "2023-07-06T11:11:01.193Z"
   },
   {
    "duration": 46,
    "start_time": "2023-07-06T11:11:01.208Z"
   },
   {
    "duration": 25,
    "start_time": "2023-07-06T11:11:01.256Z"
   },
   {
    "duration": 71,
    "start_time": "2023-07-06T11:11:01.282Z"
   },
   {
    "duration": 57,
    "start_time": "2023-07-06T11:11:01.355Z"
   },
   {
    "duration": 101,
    "start_time": "2023-07-06T11:11:01.414Z"
   },
   {
    "duration": 43,
    "start_time": "2023-07-06T11:11:01.516Z"
   },
   {
    "duration": 55,
    "start_time": "2023-07-06T11:11:01.560Z"
   },
   {
    "duration": 33,
    "start_time": "2023-07-06T11:11:01.616Z"
   },
   {
    "duration": 41,
    "start_time": "2023-07-06T11:11:01.650Z"
   },
   {
    "duration": 47,
    "start_time": "2023-07-06T11:11:01.692Z"
   },
   {
    "duration": 25,
    "start_time": "2023-07-06T11:11:01.742Z"
   },
   {
    "duration": 67,
    "start_time": "2023-07-06T11:11:01.768Z"
   },
   {
    "duration": 32,
    "start_time": "2023-07-06T11:11:01.836Z"
   },
   {
    "duration": 234,
    "start_time": "2023-07-06T11:11:01.869Z"
   },
   {
    "duration": 24,
    "start_time": "2023-07-06T11:11:02.104Z"
   },
   {
    "duration": 295,
    "start_time": "2023-07-06T11:11:02.129Z"
   },
   {
    "duration": 299,
    "start_time": "2023-07-06T11:11:02.425Z"
   },
   {
    "duration": 300,
    "start_time": "2023-07-06T11:11:02.726Z"
   },
   {
    "duration": 305,
    "start_time": "2023-07-06T11:11:03.028Z"
   },
   {
    "duration": 1267,
    "start_time": "2023-07-06T11:11:03.334Z"
   },
   {
    "duration": 178,
    "start_time": "2023-07-06T11:11:04.602Z"
   },
   {
    "duration": 219,
    "start_time": "2023-07-06T11:11:04.781Z"
   },
   {
    "duration": 101,
    "start_time": "2023-07-06T11:11:05.002Z"
   },
   {
    "duration": 171,
    "start_time": "2023-07-06T11:11:05.105Z"
   },
   {
    "duration": 22,
    "start_time": "2023-07-06T11:11:05.278Z"
   },
   {
    "duration": 179,
    "start_time": "2023-07-06T11:11:05.302Z"
   },
   {
    "duration": 102,
    "start_time": "2023-07-06T11:11:05.483Z"
   },
   {
    "duration": 182,
    "start_time": "2023-07-06T11:11:05.586Z"
   },
   {
    "duration": 161,
    "start_time": "2023-07-06T11:11:05.769Z"
   },
   {
    "duration": 113,
    "start_time": "2023-07-06T11:11:05.932Z"
   },
   {
    "duration": 201,
    "start_time": "2023-07-06T11:11:06.046Z"
   },
   {
    "duration": 13,
    "start_time": "2023-07-06T11:11:06.249Z"
   },
   {
    "duration": 30,
    "start_time": "2023-07-06T11:11:06.264Z"
   },
   {
    "duration": 100,
    "start_time": "2023-07-06T11:17:34.065Z"
   },
   {
    "duration": 34,
    "start_time": "2023-07-06T11:18:27.151Z"
   },
   {
    "duration": 31,
    "start_time": "2023-07-06T11:18:35.290Z"
   },
   {
    "duration": 168,
    "start_time": "2023-07-06T11:19:33.770Z"
   },
   {
    "duration": 16,
    "start_time": "2023-07-06T11:20:04.196Z"
   },
   {
    "duration": 95,
    "start_time": "2023-07-06T12:23:08.968Z"
   },
   {
    "duration": 98,
    "start_time": "2023-07-06T12:23:12.114Z"
   },
   {
    "duration": 161,
    "start_time": "2023-07-06T12:23:20.798Z"
   },
   {
    "duration": 117,
    "start_time": "2023-07-06T12:25:26.426Z"
   },
   {
    "duration": 7,
    "start_time": "2023-07-06T12:25:31.498Z"
   },
   {
    "duration": 3,
    "start_time": "2023-07-06T12:25:58.048Z"
   },
   {
    "duration": 2415,
    "start_time": "2023-07-06T12:26:11.430Z"
   },
   {
    "duration": 1793,
    "start_time": "2023-07-06T12:26:40.022Z"
   },
   {
    "duration": 1780,
    "start_time": "2023-07-06T12:26:50.056Z"
   },
   {
    "duration": 17,
    "start_time": "2023-07-06T12:27:07.640Z"
   },
   {
    "duration": 101,
    "start_time": "2023-07-06T12:27:46.655Z"
   },
   {
    "duration": 105,
    "start_time": "2023-07-06T12:28:05.985Z"
   },
   {
    "duration": 14,
    "start_time": "2023-07-06T12:29:30.423Z"
   },
   {
    "duration": 20,
    "start_time": "2023-07-06T12:29:42.737Z"
   },
   {
    "duration": 12,
    "start_time": "2023-07-06T12:30:36.357Z"
   },
   {
    "duration": 12,
    "start_time": "2023-07-06T12:30:41.211Z"
   },
   {
    "duration": 1142,
    "start_time": "2023-07-06T12:34:43.646Z"
   },
   {
    "duration": 91,
    "start_time": "2023-07-06T12:34:44.789Z"
   },
   {
    "duration": 12,
    "start_time": "2023-07-06T12:34:44.881Z"
   },
   {
    "duration": 29,
    "start_time": "2023-07-06T12:34:44.895Z"
   },
   {
    "duration": 26,
    "start_time": "2023-07-06T12:34:44.925Z"
   },
   {
    "duration": 40,
    "start_time": "2023-07-06T12:34:44.952Z"
   },
   {
    "duration": 62,
    "start_time": "2023-07-06T12:34:44.993Z"
   },
   {
    "duration": 51,
    "start_time": "2023-07-06T12:34:45.057Z"
   },
   {
    "duration": 48,
    "start_time": "2023-07-06T12:34:45.109Z"
   },
   {
    "duration": 19,
    "start_time": "2023-07-06T12:34:45.160Z"
   },
   {
    "duration": 7,
    "start_time": "2023-07-06T12:34:45.180Z"
   },
   {
    "duration": 40,
    "start_time": "2023-07-06T12:34:45.189Z"
   },
   {
    "duration": 12,
    "start_time": "2023-07-06T12:34:45.230Z"
   },
   {
    "duration": 27,
    "start_time": "2023-07-06T12:34:45.243Z"
   },
   {
    "duration": 45,
    "start_time": "2023-07-06T12:34:45.271Z"
   },
   {
    "duration": 37,
    "start_time": "2023-07-06T12:34:45.322Z"
   },
   {
    "duration": 258,
    "start_time": "2023-07-06T12:34:45.361Z"
   },
   {
    "duration": 19,
    "start_time": "2023-07-06T12:34:45.621Z"
   },
   {
    "duration": 289,
    "start_time": "2023-07-06T12:34:45.642Z"
   },
   {
    "duration": 331,
    "start_time": "2023-07-06T12:34:45.932Z"
   },
   {
    "duration": 358,
    "start_time": "2023-07-06T12:34:46.265Z"
   },
   {
    "duration": 286,
    "start_time": "2023-07-06T12:34:46.625Z"
   },
   {
    "duration": 1336,
    "start_time": "2023-07-06T12:34:46.913Z"
   },
   {
    "duration": 186,
    "start_time": "2023-07-06T12:34:48.251Z"
   },
   {
    "duration": 215,
    "start_time": "2023-07-06T12:34:48.438Z"
   },
   {
    "duration": 97,
    "start_time": "2023-07-06T12:34:48.654Z"
   },
   {
    "duration": 178,
    "start_time": "2023-07-06T12:34:48.753Z"
   },
   {
    "duration": 13,
    "start_time": "2023-07-06T12:34:48.934Z"
   },
   {
    "duration": 178,
    "start_time": "2023-07-06T12:34:48.948Z"
   },
   {
    "duration": 109,
    "start_time": "2023-07-06T12:34:49.128Z"
   },
   {
    "duration": 188,
    "start_time": "2023-07-06T12:34:49.239Z"
   },
   {
    "duration": 167,
    "start_time": "2023-07-06T12:34:49.429Z"
   },
   {
    "duration": 124,
    "start_time": "2023-07-06T12:34:49.603Z"
   },
   {
    "duration": 197,
    "start_time": "2023-07-06T12:34:49.728Z"
   },
   {
    "duration": 12,
    "start_time": "2023-07-06T12:34:49.926Z"
   },
   {
    "duration": 15,
    "start_time": "2023-07-06T12:34:49.939Z"
   },
   {
    "duration": 108,
    "start_time": "2023-07-06T12:35:26.563Z"
   },
   {
    "duration": 11,
    "start_time": "2023-07-06T12:35:59.823Z"
   },
   {
    "duration": 10,
    "start_time": "2023-07-06T12:36:06.161Z"
   },
   {
    "duration": 103,
    "start_time": "2023-07-06T12:36:23.543Z"
   },
   {
    "duration": 27,
    "start_time": "2023-07-06T12:39:32.748Z"
   },
   {
    "duration": 7,
    "start_time": "2023-07-06T12:45:33.463Z"
   },
   {
    "duration": 2670,
    "start_time": "2023-07-06T12:45:49.668Z"
   },
   {
    "duration": 3581,
    "start_time": "2023-07-06T12:46:11.728Z"
   },
   {
    "duration": 1716,
    "start_time": "2023-07-06T14:58:08.122Z"
   },
   {
    "duration": 7,
    "start_time": "2023-07-06T15:57:03.609Z"
   },
   {
    "duration": 15,
    "start_time": "2023-07-06T15:57:16.359Z"
   },
   {
    "duration": 8,
    "start_time": "2023-07-06T16:10:13.108Z"
   },
   {
    "duration": 156,
    "start_time": "2023-07-06T16:10:50.211Z"
   },
   {
    "duration": 218,
    "start_time": "2023-07-06T16:11:25.225Z"
   },
   {
    "duration": 1109,
    "start_time": "2023-07-06T16:11:37.769Z"
   },
   {
    "duration": 66,
    "start_time": "2023-07-06T16:11:38.879Z"
   },
   {
    "duration": 12,
    "start_time": "2023-07-06T16:11:38.946Z"
   },
   {
    "duration": 26,
    "start_time": "2023-07-06T16:11:38.959Z"
   },
   {
    "duration": 14,
    "start_time": "2023-07-06T16:11:38.986Z"
   },
   {
    "duration": 18,
    "start_time": "2023-07-06T16:11:39.002Z"
   },
   {
    "duration": 17,
    "start_time": "2023-07-06T16:11:39.021Z"
   },
   {
    "duration": 48,
    "start_time": "2023-07-06T16:11:39.039Z"
   },
   {
    "duration": 18,
    "start_time": "2023-07-06T16:11:39.088Z"
   },
   {
    "duration": 15,
    "start_time": "2023-07-06T16:11:39.108Z"
   },
   {
    "duration": 8,
    "start_time": "2023-07-06T16:11:39.124Z"
   },
   {
    "duration": 7,
    "start_time": "2023-07-06T16:11:39.133Z"
   },
   {
    "duration": 7,
    "start_time": "2023-07-06T16:11:39.142Z"
   },
   {
    "duration": 9,
    "start_time": "2023-07-06T16:11:39.150Z"
   },
   {
    "duration": 13,
    "start_time": "2023-07-06T16:11:39.161Z"
   },
   {
    "duration": 23,
    "start_time": "2023-07-06T16:11:39.176Z"
   },
   {
    "duration": 16,
    "start_time": "2023-07-06T16:11:39.201Z"
   },
   {
    "duration": 15,
    "start_time": "2023-07-06T16:11:39.218Z"
   },
   {
    "duration": 232,
    "start_time": "2023-07-06T16:11:39.234Z"
   },
   {
    "duration": 146,
    "start_time": "2023-07-06T16:11:39.468Z"
   },
   {
    "duration": 17,
    "start_time": "2023-07-06T16:11:39.616Z"
   },
   {
    "duration": 275,
    "start_time": "2023-07-06T16:11:39.634Z"
   },
   {
    "duration": 281,
    "start_time": "2023-07-06T16:11:39.911Z"
   },
   {
    "duration": 279,
    "start_time": "2023-07-06T16:11:40.199Z"
   },
   {
    "duration": 278,
    "start_time": "2023-07-06T16:11:40.479Z"
   },
   {
    "duration": 1300,
    "start_time": "2023-07-06T16:11:40.759Z"
   },
   {
    "duration": 173,
    "start_time": "2023-07-06T16:11:42.061Z"
   },
   {
    "duration": 166,
    "start_time": "2023-07-06T16:11:42.238Z"
   },
   {
    "duration": 116,
    "start_time": "2023-07-06T16:11:42.406Z"
   },
   {
    "duration": 165,
    "start_time": "2023-07-06T16:11:42.524Z"
   },
   {
    "duration": 20,
    "start_time": "2023-07-06T16:11:42.691Z"
   },
   {
    "duration": 174,
    "start_time": "2023-07-06T16:11:42.713Z"
   },
   {
    "duration": 95,
    "start_time": "2023-07-06T16:11:42.889Z"
   },
   {
    "duration": 181,
    "start_time": "2023-07-06T16:11:42.999Z"
   },
   {
    "duration": 159,
    "start_time": "2023-07-06T16:11:43.183Z"
   },
   {
    "duration": 118,
    "start_time": "2023-07-06T16:11:43.343Z"
   },
   {
    "duration": 193,
    "start_time": "2023-07-06T16:11:43.462Z"
   },
   {
    "duration": 10,
    "start_time": "2023-07-06T16:11:43.657Z"
   },
   {
    "duration": 13,
    "start_time": "2023-07-06T16:11:43.668Z"
   },
   {
    "duration": 434,
    "start_time": "2023-07-06T16:17:56.667Z"
   },
   {
    "duration": 183,
    "start_time": "2023-07-06T16:19:26.009Z"
   },
   {
    "duration": 135,
    "start_time": "2023-07-06T16:19:38.560Z"
   },
   {
    "duration": 664,
    "start_time": "2023-07-06T16:19:56.221Z"
   },
   {
    "duration": 103,
    "start_time": "2023-07-06T16:20:05.713Z"
   },
   {
    "duration": 16,
    "start_time": "2023-07-06T16:20:14.098Z"
   },
   {
    "duration": 11,
    "start_time": "2023-07-06T16:20:47.003Z"
   },
   {
    "duration": 8,
    "start_time": "2023-07-06T16:25:08.962Z"
   },
   {
    "duration": 16,
    "start_time": "2023-07-06T16:25:26.854Z"
   },
   {
    "duration": 163,
    "start_time": "2023-07-06T16:25:38.509Z"
   },
   {
    "duration": 163,
    "start_time": "2023-07-06T16:25:46.034Z"
   },
   {
    "duration": 178,
    "start_time": "2023-07-06T16:26:09.861Z"
   },
   {
    "duration": 18,
    "start_time": "2023-07-06T16:28:10.748Z"
   },
   {
    "duration": 237,
    "start_time": "2023-07-06T16:30:46.530Z"
   },
   {
    "duration": 255,
    "start_time": "2023-07-06T16:32:04.408Z"
   },
   {
    "duration": 258,
    "start_time": "2023-07-06T16:33:59.370Z"
   },
   {
    "duration": 252,
    "start_time": "2023-07-06T16:35:23.535Z"
   },
   {
    "duration": 242,
    "start_time": "2023-07-06T16:35:33.193Z"
   },
   {
    "duration": 203,
    "start_time": "2023-07-06T16:37:01.245Z"
   },
   {
    "duration": 188,
    "start_time": "2023-07-06T16:39:40.401Z"
   },
   {
    "duration": 209,
    "start_time": "2023-07-06T16:55:55.399Z"
   },
   {
    "duration": 265,
    "start_time": "2023-07-06T16:56:22.800Z"
   },
   {
    "duration": 195,
    "start_time": "2023-07-06T16:56:28.457Z"
   },
   {
    "duration": 189,
    "start_time": "2023-07-06T16:57:28.443Z"
   },
   {
    "duration": 216,
    "start_time": "2023-07-06T16:57:39.855Z"
   },
   {
    "duration": 227,
    "start_time": "2023-07-06T17:01:02.039Z"
   },
   {
    "duration": 280,
    "start_time": "2023-07-06T17:02:01.046Z"
   },
   {
    "duration": 188,
    "start_time": "2023-07-06T17:02:42.051Z"
   },
   {
    "duration": 25,
    "start_time": "2023-07-06T17:04:24.252Z"
   },
   {
    "duration": 9,
    "start_time": "2023-07-06T17:05:04.321Z"
   },
   {
    "duration": 11,
    "start_time": "2023-07-06T17:06:23.015Z"
   },
   {
    "duration": 9,
    "start_time": "2023-07-06T17:06:28.128Z"
   },
   {
    "duration": 1602,
    "start_time": "2023-07-06T17:06:59.452Z"
   },
   {
    "duration": 191,
    "start_time": "2023-07-06T17:10:10.590Z"
   },
   {
    "duration": 189,
    "start_time": "2023-07-06T17:10:28.599Z"
   },
   {
    "duration": 197,
    "start_time": "2023-07-06T17:12:45.281Z"
   },
   {
    "duration": 190,
    "start_time": "2023-07-06T17:13:28.213Z"
   },
   {
    "duration": 1604,
    "start_time": "2023-07-06T17:16:22.556Z"
   },
   {
    "duration": 1607,
    "start_time": "2023-07-06T17:19:01.414Z"
   },
   {
    "duration": 1331,
    "start_time": "2023-07-06T17:19:20.559Z"
   },
   {
    "duration": 1528,
    "start_time": "2023-07-06T17:21:22.494Z"
   },
   {
    "duration": 118,
    "start_time": "2023-07-06T17:28:17.235Z"
   },
   {
    "duration": 148,
    "start_time": "2023-07-06T17:30:36.893Z"
   },
   {
    "duration": 108,
    "start_time": "2023-07-06T17:30:45.584Z"
   },
   {
    "duration": 103,
    "start_time": "2023-07-06T17:31:23.314Z"
   },
   {
    "duration": 103,
    "start_time": "2023-07-06T17:31:31.569Z"
   },
   {
    "duration": 100,
    "start_time": "2023-07-06T17:31:52.686Z"
   },
   {
    "duration": 100,
    "start_time": "2023-07-06T17:32:07.159Z"
   },
   {
    "duration": 198,
    "start_time": "2023-07-06T17:32:15.286Z"
   },
   {
    "duration": 12,
    "start_time": "2023-07-06T17:37:04.401Z"
   },
   {
    "duration": 180,
    "start_time": "2023-07-06T17:40:34.811Z"
   },
   {
    "duration": 254,
    "start_time": "2023-07-06T17:41:08.699Z"
   },
   {
    "duration": 15,
    "start_time": "2023-07-06T17:42:29.998Z"
   },
   {
    "duration": 151,
    "start_time": "2023-07-06T17:44:04.198Z"
   },
   {
    "duration": 102,
    "start_time": "2023-07-06T17:45:20.455Z"
   },
   {
    "duration": 176,
    "start_time": "2023-07-06T17:46:10.043Z"
   },
   {
    "duration": 146,
    "start_time": "2023-07-06T17:46:26.811Z"
   },
   {
    "duration": 12,
    "start_time": "2023-07-06T17:47:49.813Z"
   },
   {
    "duration": 13,
    "start_time": "2023-07-06T17:47:54.233Z"
   },
   {
    "duration": 479,
    "start_time": "2023-07-06T17:59:11.535Z"
   },
   {
    "duration": 261,
    "start_time": "2023-07-06T18:00:21.012Z"
   },
   {
    "duration": 273,
    "start_time": "2023-07-06T18:01:21.213Z"
   },
   {
    "duration": 1131,
    "start_time": "2023-07-06T18:01:48.222Z"
   },
   {
    "duration": 71,
    "start_time": "2023-07-06T18:01:49.355Z"
   },
   {
    "duration": 12,
    "start_time": "2023-07-06T18:01:49.427Z"
   },
   {
    "duration": 23,
    "start_time": "2023-07-06T18:01:49.441Z"
   },
   {
    "duration": 13,
    "start_time": "2023-07-06T18:01:49.465Z"
   },
   {
    "duration": 43,
    "start_time": "2023-07-06T18:01:49.479Z"
   },
   {
    "duration": 9,
    "start_time": "2023-07-06T18:01:49.523Z"
   },
   {
    "duration": 55,
    "start_time": "2023-07-06T18:01:49.533Z"
   },
   {
    "duration": 25,
    "start_time": "2023-07-06T18:01:49.589Z"
   },
   {
    "duration": 15,
    "start_time": "2023-07-06T18:01:49.616Z"
   },
   {
    "duration": 7,
    "start_time": "2023-07-06T18:01:49.632Z"
   },
   {
    "duration": 9,
    "start_time": "2023-07-06T18:01:49.640Z"
   },
   {
    "duration": 11,
    "start_time": "2023-07-06T18:01:49.650Z"
   },
   {
    "duration": 6,
    "start_time": "2023-07-06T18:01:49.662Z"
   },
   {
    "duration": 8,
    "start_time": "2023-07-06T18:01:49.669Z"
   },
   {
    "duration": 38,
    "start_time": "2023-07-06T18:01:49.679Z"
   },
   {
    "duration": 31,
    "start_time": "2023-07-06T18:01:49.722Z"
   },
   {
    "duration": 18,
    "start_time": "2023-07-06T18:01:49.754Z"
   },
   {
    "duration": 6,
    "start_time": "2023-07-06T18:01:49.774Z"
   },
   {
    "duration": 336,
    "start_time": "2023-07-06T18:01:49.781Z"
   },
   {
    "duration": 18,
    "start_time": "2023-07-06T18:01:50.118Z"
   },
   {
    "duration": 297,
    "start_time": "2023-07-06T18:01:50.137Z"
   },
   {
    "duration": 307,
    "start_time": "2023-07-06T18:01:50.436Z"
   },
   {
    "duration": 282,
    "start_time": "2023-07-06T18:01:50.745Z"
   },
   {
    "duration": 261,
    "start_time": "2023-07-06T18:01:51.029Z"
   },
   {
    "duration": 1354,
    "start_time": "2023-07-06T18:01:51.292Z"
   },
   {
    "duration": 110,
    "start_time": "2023-07-06T18:01:52.648Z"
   },
   {
    "duration": 0,
    "start_time": "2023-07-06T18:01:52.760Z"
   },
   {
    "duration": 0,
    "start_time": "2023-07-06T18:01:52.761Z"
   },
   {
    "duration": 0,
    "start_time": "2023-07-06T18:01:52.762Z"
   },
   {
    "duration": 0,
    "start_time": "2023-07-06T18:01:52.762Z"
   },
   {
    "duration": 0,
    "start_time": "2023-07-06T18:01:52.763Z"
   },
   {
    "duration": 0,
    "start_time": "2023-07-06T18:01:52.764Z"
   },
   {
    "duration": 0,
    "start_time": "2023-07-06T18:01:52.765Z"
   },
   {
    "duration": 0,
    "start_time": "2023-07-06T18:01:52.765Z"
   },
   {
    "duration": 0,
    "start_time": "2023-07-06T18:01:52.766Z"
   },
   {
    "duration": 0,
    "start_time": "2023-07-06T18:01:52.767Z"
   },
   {
    "duration": 0,
    "start_time": "2023-07-06T18:01:52.767Z"
   },
   {
    "duration": 0,
    "start_time": "2023-07-06T18:01:52.769Z"
   },
   {
    "duration": 241,
    "start_time": "2023-07-06T18:02:36.316Z"
   },
   {
    "duration": 298,
    "start_time": "2023-07-06T18:02:53.225Z"
   },
   {
    "duration": 18,
    "start_time": "2023-07-06T18:04:00.313Z"
   },
   {
    "duration": 362,
    "start_time": "2023-07-06T18:04:05.355Z"
   },
   {
    "duration": 269,
    "start_time": "2023-07-06T18:04:15.647Z"
   },
   {
    "duration": 285,
    "start_time": "2023-07-06T18:04:33.991Z"
   },
   {
    "duration": 249,
    "start_time": "2023-07-06T18:04:42.424Z"
   },
   {
    "duration": 198,
    "start_time": "2023-07-06T18:04:54.330Z"
   },
   {
    "duration": 1393,
    "start_time": "2023-07-06T18:05:00.845Z"
   },
   {
    "duration": 151,
    "start_time": "2023-07-06T18:05:33.438Z"
   },
   {
    "duration": 151,
    "start_time": "2023-07-06T18:08:13.324Z"
   },
   {
    "duration": 96,
    "start_time": "2023-07-06T18:08:16.237Z"
   },
   {
    "duration": 166,
    "start_time": "2023-07-06T18:09:12.105Z"
   },
   {
    "duration": 147,
    "start_time": "2023-07-06T18:09:15.367Z"
   },
   {
    "duration": 176,
    "start_time": "2023-07-06T18:10:04.470Z"
   },
   {
    "duration": 237,
    "start_time": "2023-07-06T18:10:30.693Z"
   },
   {
    "duration": 200,
    "start_time": "2023-07-06T18:12:50.950Z"
   },
   {
    "duration": 220,
    "start_time": "2023-07-06T18:13:14.379Z"
   },
   {
    "duration": 222,
    "start_time": "2023-07-06T18:13:50.331Z"
   },
   {
    "duration": 163,
    "start_time": "2023-07-06T18:16:21.792Z"
   },
   {
    "duration": 1141,
    "start_time": "2023-07-06T18:19:26.839Z"
   },
   {
    "duration": 98,
    "start_time": "2023-07-06T18:19:27.982Z"
   },
   {
    "duration": 13,
    "start_time": "2023-07-06T18:19:28.081Z"
   },
   {
    "duration": 47,
    "start_time": "2023-07-06T18:19:28.095Z"
   },
   {
    "duration": 23,
    "start_time": "2023-07-06T18:19:28.144Z"
   },
   {
    "duration": 27,
    "start_time": "2023-07-06T18:19:28.169Z"
   },
   {
    "duration": 23,
    "start_time": "2023-07-06T18:19:28.205Z"
   },
   {
    "duration": 49,
    "start_time": "2023-07-06T18:19:28.230Z"
   },
   {
    "duration": 9,
    "start_time": "2023-07-06T18:19:28.280Z"
   },
   {
    "duration": 23,
    "start_time": "2023-07-06T18:19:28.290Z"
   },
   {
    "duration": 10,
    "start_time": "2023-07-06T18:19:28.316Z"
   },
   {
    "duration": 11,
    "start_time": "2023-07-06T18:19:28.328Z"
   },
   {
    "duration": 13,
    "start_time": "2023-07-06T18:19:28.341Z"
   },
   {
    "duration": 7,
    "start_time": "2023-07-06T18:19:28.357Z"
   },
   {
    "duration": 8,
    "start_time": "2023-07-06T18:19:28.365Z"
   },
   {
    "duration": 17,
    "start_time": "2023-07-06T18:19:28.375Z"
   },
   {
    "duration": 27,
    "start_time": "2023-07-06T18:19:28.405Z"
   },
   {
    "duration": 18,
    "start_time": "2023-07-06T18:19:28.434Z"
   },
   {
    "duration": 9,
    "start_time": "2023-07-06T18:19:28.453Z"
   },
   {
    "duration": 202,
    "start_time": "2023-07-06T18:19:28.464Z"
   },
   {
    "duration": 17,
    "start_time": "2023-07-06T18:19:28.667Z"
   },
   {
    "duration": 295,
    "start_time": "2023-07-06T18:19:28.685Z"
   },
   {
    "duration": 293,
    "start_time": "2023-07-06T18:19:28.981Z"
   },
   {
    "duration": 277,
    "start_time": "2023-07-06T18:19:29.275Z"
   },
   {
    "duration": 282,
    "start_time": "2023-07-06T18:19:29.554Z"
   },
   {
    "duration": 1383,
    "start_time": "2023-07-06T18:19:29.838Z"
   },
   {
    "duration": 294,
    "start_time": "2023-07-06T18:19:31.223Z"
   },
   {
    "duration": 158,
    "start_time": "2023-07-06T18:19:31.522Z"
   },
   {
    "duration": 124,
    "start_time": "2023-07-06T18:19:31.682Z"
   },
   {
    "duration": 182,
    "start_time": "2023-07-06T18:19:31.812Z"
   },
   {
    "duration": 24,
    "start_time": "2023-07-06T18:19:31.995Z"
   },
   {
    "duration": 197,
    "start_time": "2023-07-06T18:19:32.021Z"
   },
   {
    "duration": 107,
    "start_time": "2023-07-06T18:19:32.219Z"
   },
   {
    "duration": 207,
    "start_time": "2023-07-06T18:19:32.328Z"
   },
   {
    "duration": 147,
    "start_time": "2023-07-06T18:19:32.536Z"
   },
   {
    "duration": 112,
    "start_time": "2023-07-06T18:19:32.685Z"
   },
   {
    "duration": 182,
    "start_time": "2023-07-06T18:19:32.798Z"
   },
   {
    "duration": 10,
    "start_time": "2023-07-06T18:19:32.982Z"
   },
   {
    "duration": 34,
    "start_time": "2023-07-06T18:19:32.993Z"
   },
   {
    "duration": 363,
    "start_time": "2023-07-06T18:26:38.970Z"
   },
   {
    "duration": 220,
    "start_time": "2023-07-06T18:26:49.118Z"
   },
   {
    "duration": 231,
    "start_time": "2023-07-06T18:26:53.326Z"
   },
   {
    "duration": 228,
    "start_time": "2023-07-06T18:26:57.198Z"
   },
   {
    "duration": 219,
    "start_time": "2023-07-06T18:27:48.900Z"
   },
   {
    "duration": 210,
    "start_time": "2023-07-06T18:27:53.147Z"
   },
   {
    "duration": 294,
    "start_time": "2023-07-06T18:28:06.428Z"
   },
   {
    "duration": 1111,
    "start_time": "2023-07-07T04:09:44.034Z"
   },
   {
    "duration": 110,
    "start_time": "2023-07-07T04:09:45.147Z"
   },
   {
    "duration": 13,
    "start_time": "2023-07-07T04:09:45.259Z"
   },
   {
    "duration": 25,
    "start_time": "2023-07-07T04:09:45.274Z"
   },
   {
    "duration": 13,
    "start_time": "2023-07-07T04:09:45.300Z"
   },
   {
    "duration": 31,
    "start_time": "2023-07-07T04:09:45.314Z"
   },
   {
    "duration": 17,
    "start_time": "2023-07-07T04:09:45.347Z"
   },
   {
    "duration": 53,
    "start_time": "2023-07-07T04:09:45.365Z"
   },
   {
    "duration": 12,
    "start_time": "2023-07-07T04:09:45.420Z"
   },
   {
    "duration": 9,
    "start_time": "2023-07-07T04:09:45.434Z"
   },
   {
    "duration": 7,
    "start_time": "2023-07-07T04:09:45.444Z"
   },
   {
    "duration": 13,
    "start_time": "2023-07-07T04:09:45.453Z"
   },
   {
    "duration": 9,
    "start_time": "2023-07-07T04:09:45.468Z"
   },
   {
    "duration": 11,
    "start_time": "2023-07-07T04:09:45.478Z"
   },
   {
    "duration": 7,
    "start_time": "2023-07-07T04:09:45.491Z"
   },
   {
    "duration": 37,
    "start_time": "2023-07-07T04:09:45.499Z"
   },
   {
    "duration": 18,
    "start_time": "2023-07-07T04:09:45.537Z"
   },
   {
    "duration": 18,
    "start_time": "2023-07-07T04:09:45.556Z"
   },
   {
    "duration": 6,
    "start_time": "2023-07-07T04:09:45.575Z"
   },
   {
    "duration": 209,
    "start_time": "2023-07-07T04:09:45.582Z"
   },
   {
    "duration": 18,
    "start_time": "2023-07-07T04:09:45.792Z"
   },
   {
    "duration": 304,
    "start_time": "2023-07-07T04:09:45.811Z"
   },
   {
    "duration": 308,
    "start_time": "2023-07-07T04:09:46.116Z"
   },
   {
    "duration": 272,
    "start_time": "2023-07-07T04:09:46.431Z"
   },
   {
    "duration": 292,
    "start_time": "2023-07-07T04:09:46.705Z"
   },
   {
    "duration": 1373,
    "start_time": "2023-07-07T04:09:46.998Z"
   },
   {
    "duration": 305,
    "start_time": "2023-07-07T04:09:48.373Z"
   },
   {
    "duration": 163,
    "start_time": "2023-07-07T04:09:48.681Z"
   },
   {
    "duration": 116,
    "start_time": "2023-07-07T04:09:48.846Z"
   },
   {
    "duration": 192,
    "start_time": "2023-07-07T04:09:48.964Z"
   },
   {
    "duration": 13,
    "start_time": "2023-07-07T04:09:49.158Z"
   },
   {
    "duration": 165,
    "start_time": "2023-07-07T04:09:49.172Z"
   },
   {
    "duration": 103,
    "start_time": "2023-07-07T04:09:49.339Z"
   },
   {
    "duration": 183,
    "start_time": "2023-07-07T04:09:49.443Z"
   },
   {
    "duration": 159,
    "start_time": "2023-07-07T04:09:49.632Z"
   },
   {
    "duration": 110,
    "start_time": "2023-07-07T04:09:49.793Z"
   },
   {
    "duration": 186,
    "start_time": "2023-07-07T04:09:49.904Z"
   },
   {
    "duration": 10,
    "start_time": "2023-07-07T04:09:50.092Z"
   },
   {
    "duration": 17,
    "start_time": "2023-07-07T04:09:50.103Z"
   }
  ],
  "kernelspec": {
   "display_name": "Python 3 (ipykernel)",
   "language": "python",
   "name": "python3"
  },
  "language_info": {
   "codemirror_mode": {
    "name": "ipython",
    "version": 3
   },
   "file_extension": ".py",
   "mimetype": "text/x-python",
   "name": "python",
   "nbconvert_exporter": "python",
   "pygments_lexer": "ipython3",
   "version": "3.10.9"
  },
  "toc": {
   "base_numbering": 1,
   "nav_menu": {},
   "number_sections": true,
   "sideBar": true,
   "skip_h1_title": true,
   "title_cell": "Table of Contents",
   "title_sidebar": "Contents",
   "toc_cell": false,
   "toc_position": {},
   "toc_section_display": true,
   "toc_window_display": false
  }
 },
 "nbformat": 4,
 "nbformat_minor": 2
}
